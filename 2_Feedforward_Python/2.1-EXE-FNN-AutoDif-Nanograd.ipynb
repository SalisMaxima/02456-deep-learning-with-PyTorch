{
 "cells": [
  {
   "cell_type": "markdown",
   "metadata": {
    "id": "HAva8TnYFtFu"
   },
   "source": [
    "# Contents and why we need this lab\n",
    "\n",
    "This lab is about implementing neural networks yourself before we start using other frameworks that hide some of the computation from you. It builds on the first lab, where you derived the equations for neural network forward and backward propagation and gradient descent parameter updates. \n",
    "\n",
    "All the frameworks for deep learning you will meet from now on use automatic differentiation (autodiff), so you do not have to code the backward step yourself. In this version of this lab, you will develop your own autodif implementation. We also have an optional [version](https://github.com/DeepLearningDTU/02456-deep-learning-with-PyTorch/blob/master/2_Feedforward_Python/2.2-FNN-NumPy.ipynb) of this lab where you have to code the backward pass explicitly in Numpy."
   ]
  },
  {
   "cell_type": "markdown",
   "metadata": {
    "id": "sCa7HzwpFtFy"
   },
   "source": [
    "# External sources of information\n",
    "\n",
    "1. Jupyter notebook. You can find more information about Jupyter notebooks [here](https://jupyter.org/). It will come as part of the [Anaconda](https://www.anaconda.com/) Python installation. \n",
    "2. [NumPy](https://numpy.org/). Part of Anaconda distribution.  If you already know how to program, most things about Python and NumPy can be found with Google searches.\n",
    "3. [Nanograd](https://github.com/rasmusbergpalm/nanograd) is a minimalistic version of autodiff developed by Rasmus Berg Palm that we use for our framework.\n"
   ]
  },
  {
   "cell_type": "markdown",
   "metadata": {
    "id": "1SjiIp-TFtF0"
   },
   "source": [
    "# This notebook will follow the next steps:\n",
    "\n",
    "1. Nanograd automatic differentiation framework\n",
    "2. Finite difference method\n",
    "3. Data generation\n",
    "4. Defining and initializing the network\n",
    "5. Forward pass\n",
    "6. Training loop \n",
    "7. Testing your model\n",
    "8. Further extensions"
   ]
  },
  {
   "cell_type": "markdown",
   "metadata": {
    "id": "OyXeAA-HuT7s"
   },
   "source": [
    "# Nanograd automatic differention framework"
   ]
  },
  {
   "cell_type": "markdown",
   "metadata": {
    "id": "k6UWKCLKubgA"
   },
   "source": [
    "The [Nanograd](https://github.com/rasmusbergpalm/nanograd) framework defines a class Var which both holds a value and gradient value that we can use to store the intermediate values when we apply the chain rule of differentiation."
   ]
  },
  {
   "cell_type": "code",
   "execution_count": 60,
   "metadata": {
    "id": "Jd4CoEBNzNWS"
   },
   "outputs": [],
   "source": [
    "# Copy and pasted from https://github.com/rasmusbergpalm/nanograd/blob/3a1bf9e9e724da813bfccf91a6f309abdade9f39/nanograd.py\n",
    "\n",
    "from math import exp, log\n",
    "\n",
    "class Var:\n",
    "    \"\"\"\n",
    "    A variable which holds a float and enables gradient computations.\n",
    "    \"\"\"\n",
    "\n",
    "    def __init__(self, val: float, grad_fn=lambda: []):\n",
    "        assert type(val) == float\n",
    "        self.v = val\n",
    "        self.grad_fn = grad_fn\n",
    "        self.grad = 0.0\n",
    "\n",
    "    def backprop(self, bp):\n",
    "        self.grad += bp\n",
    "        for input, grad in self.grad_fn():\n",
    "            input.backprop(grad * bp)\n",
    "\n",
    "    def backward(self):\n",
    "        self.backprop(1.0)\n",
    "\n",
    "    def __add__(self: 'Var', other: 'Var') -> 'Var':\n",
    "        return Var(self.v + other.v, lambda: [(self, 1.0), (other, 1.0)])\n",
    "\n",
    "    def __mul__(self: 'Var', other: 'Var') -> 'Var':\n",
    "        return Var(self.v * other.v, lambda: [(self, other.v), (other, self.v)])\n",
    "\n",
    "    def __pow__(self, power):\n",
    "        assert type(power) in {float, int}, \"power must be float or int\"\n",
    "        return Var(self.v ** power, lambda: [(self, power * self.v ** (power - 1))])\n",
    "\n",
    "    def __neg__(self: 'Var') -> 'Var':\n",
    "        return Var(-1.0) * self\n",
    "\n",
    "    def __sub__(self: 'Var', other: 'Var') -> 'Var':\n",
    "        return self + (-other)\n",
    "\n",
    "    def __truediv__(self: 'Var', other: 'Var') -> 'Var':\n",
    "        return self * other ** -1\n",
    "\n",
    "    def __repr__(self):\n",
    "        return \"Var(v=%.4f, grad=%.4f)\" % (self.v, self.grad)\n",
    "\n",
    "    def relu(self):\n",
    "        return Var(self.v if self.v > 0.0 else 0.0, lambda: [(self, 1.0 if self.v > 0.0 else 0.0)])"
   ]
  },
  {
   "cell_type": "markdown",
   "metadata": {
    "id": "yDX67D6jzcte"
   },
   "source": [
    "A few examples illustrate how we can use this:"
   ]
  },
  {
   "cell_type": "code",
   "execution_count": 61,
   "metadata": {
    "colab": {
     "base_uri": "https://localhost:8080/"
    },
    "id": "xk6PeLc3zwPT",
    "outputId": "47e431b2-07ba-4cb1-ea21-997769641c67"
   },
   "outputs": [
    {
     "name": "stdout",
     "output_type": "stream",
     "text": [
      "Var(v=3.0000, grad=5.0000)\n",
      "Var(v=5.0000, grad=3.0000)\n",
      "Var(v=15.0000, grad=1.0000)\n"
     ]
    }
   ],
   "source": [
    "a = Var(3.0)\n",
    "b = Var(5.0)\n",
    "f = a * b\n",
    "\n",
    "f.backward()\n",
    "\n",
    "for v in [a, b, f]:\n",
    "    print(v)"
   ]
  },
  {
   "cell_type": "code",
   "execution_count": 62,
   "metadata": {
    "colab": {
     "base_uri": "https://localhost:8080/"
    },
    "id": "JmKhYgsY0g_o",
    "outputId": "06c1b1df-c33c-40d3-922a-624612a591c7"
   },
   "outputs": [
    {
     "name": "stdout",
     "output_type": "stream",
     "text": [
      "Var(v=3.0000, grad=14.0000)\n",
      "Var(v=5.0000, grad=3.0000)\n",
      "Var(v=15.0000, grad=1.0000)\n",
      "Var(v=9.0000, grad=3.0000)\n",
      "Var(v=27.0000, grad=1.0000)\n",
      "Var(v=42.0000, grad=1.0000)\n"
     ]
    }
   ],
   "source": [
    "a = Var(3.0)\n",
    "b = Var(5.0)\n",
    "c = a * b\n",
    "d = Var(9.0)\n",
    "e = a * d\n",
    "f = c + e\n",
    "\n",
    "f.backward()\n",
    "\n",
    "for v in [a, b, c, d, e, f]:\n",
    "    print(v)"
   ]
  },
  {
   "cell_type": "markdown",
   "metadata": {
    "id": "Fe3B6uEH140p"
   },
   "source": [
    "## Exercise a) What is being calculated?\n",
    "\n",
    "Explain briefly the output of the code? What is the expression we differentiate and with respect to what variables?"
   ]
  },
  {
   "cell_type": "markdown",
   "metadata": {},
   "source": [
    "In the first example we have that $a = 3, b = 5$. We calculate:\n",
    "$$\n",
    "f = a \\cdot b = 3\\cdot 5 = 15 \n",
    "$$\n",
    "When backpropagation is called it then computes the partial derivatives with regards to the different variables and when the variabel is printed it will be returned along the partial derivative.\n",
    "The partial derivatives are computed as:\n",
    "$$\n",
    "\\begin{align}\n",
    "\n",
    "&a: \\frac{d f}{d a}=b=5.0 \\newline\n",
    "&b: \\frac{d f}{d b}=a=3.0 \\newline\n",
    "&f: \\frac{d f}{d f}= 1 \n",
    "\\end{align}\n",
    "$$\n",
    "\n"
   ]
  },
  {
   "cell_type": "markdown",
   "metadata": {},
   "source": [
    "For the second example it is a bit more complex. Here we have: \n",
    "$$\n",
    "\\begin{align}\n",
    "&a = 3 \\newline\n",
    "&b = 5 \\newline \n",
    "&c = a \\cdot b = 3\\cdot 5 = 15  \\newline\n",
    "&d = 9 \\newline \n",
    "&e = a \\cdot d = 3 \\cdot 9 = 27 \\newline \n",
    "&f = c + e = a \\cdot b + a\\cdot d = a \\cdot (b + d) = 3 \\cdot (5 + 9)= 3 \\cdot 14 = 15 + 27 = 42 \n",
    "\\end{align}\n",
    "$$\n"
   ]
  },
  {
   "cell_type": "markdown",
   "metadata": {},
   "source": [
    "The partial derivatives can then be computed as:\n",
    "$$\n",
    "\\begin{align}\n",
    "&a: \\frac{d f}{d a} =\\frac{d c}{d a} + \\frac{d e}{d a} = b + d = 5 + 9 = 14 \\newline\n",
    "&b: \\frac{d f}{d b} = \\frac{d c}{d b} = a = 3 \\newline\n",
    "&c: \\frac{d f}{d c} = 1 \\newline\n",
    "&d: \\frac{d f}{d d} = \\frac{d e}{d d} = a = 3 \\newline\n",
    "&e:  \\frac{d f}{d e} = 1 \\newline \n",
    "&f: \\frac{d f}{d f} = 1\n",
    "\\end{align}\n",
    "$$"
   ]
  },
  {
   "cell_type": "markdown",
   "metadata": {},
   "source": [
    "So to sum it up. Running f.backward() computes the partial derivatives for all defined variables in regards to f"
   ]
  },
  {
   "cell_type": "markdown",
   "metadata": {
    "id": "q8_Q0t2I3Ruj"
   },
   "source": [
    "## Exercise b) How does the backward function work?\n",
    "\n",
    "You need to understand how the backward function calculates the gradients. We can use the two examples above to help with that.\n",
    "\n",
    "Go through the following four steps and answer the questions on the way:\n",
    "\n",
    "1. We represent the two expressions as graphs as shown below. Fill in the missing expressions for the different derivatives.\n",
    "\n",
    "2. In the remainder consider the first expression. Make a schematic of the data structure which is generated when we define the expression for f. \n",
    "\n",
    "3. Then execute the backward function by hand to convince yourself that it indeed calculates the gradients with respect to the variables. \n",
    "\n",
    "4. Write down the sequence of calls to backprop."
   ]
  },
  {
   "cell_type": "code",
   "execution_count": 63,
   "metadata": {
    "id": "idGr71jYXl26"
   },
   "outputs": [
    {
     "name": "stdout",
     "output_type": "stream",
     "text": [
      "Requirement already satisfied: graphviz in c:\\users\\mathi\\.conda\\envs\\deeplearning\\lib\\site-packages (0.20.1)\n"
     ]
    },
    {
     "name": "stderr",
     "output_type": "stream",
     "text": [
      "\n",
      "[notice] A new release of pip is available: 24.0 -> 24.2\n",
      "[notice] To update, run: python.exe -m pip install --upgrade pip\n"
     ]
    }
   ],
   "source": [
    "# import logging\n",
    "!pip install graphviz\n",
    "import graphviz\n",
    "# configure graphviz \n",
    "\n",
    "\n",
    "#logging.basicConfig(format='[%(levelname)s@%(name)s] %(message)s', level=logging.DEBUG)\n",
    "\n",
    "#graphviz.__version__, graphviz.version()"
   ]
  },
  {
   "cell_type": "code",
   "execution_count": 64,
   "metadata": {
    "colab": {
     "base_uri": "https://localhost:8080/",
     "height": 152
    },
    "id": "KPe30Q2QXzeG",
    "outputId": "7fa002cd-a018-4dbb-ddf1-28ed5e99ee19"
   },
   "outputs": [
    {
     "data": {
      "image/svg+xml": [
       "<?xml version=\"1.0\" encoding=\"UTF-8\" standalone=\"no\"?>\n",
       "<!DOCTYPE svg PUBLIC \"-//W3C//DTD SVG 1.1//EN\"\n",
       " \"http://www.w3.org/Graphics/SVG/1.1/DTD/svg11.dtd\">\n",
       "<!-- Generated by graphviz version 2.50.0 (0)\n",
       " -->\n",
       "<!-- Title: first expression Pages: 1 -->\n",
       "<svg width=\"164pt\" height=\"98pt\"\n",
       " viewBox=\"0.00 0.00 164.00 98.00\" xmlns=\"http://www.w3.org/2000/svg\" xmlns:xlink=\"http://www.w3.org/1999/xlink\">\n",
       "<g id=\"graph0\" class=\"graph\" transform=\"scale(1 1) rotate(0) translate(4 94)\">\n",
       "<title>first expression</title>\n",
       "<polygon fill=\"white\" stroke=\"transparent\" points=\"-4,4 -4,-94 160,-94 160,4 -4,4\"/>\n",
       "<!-- a -->\n",
       "<g id=\"node1\" class=\"node\">\n",
       "<title>a</title>\n",
       "<ellipse fill=\"none\" stroke=\"black\" cx=\"18\" cy=\"-72\" rx=\"18\" ry=\"18\"/>\n",
       "<text text-anchor=\"middle\" x=\"18\" y=\"-68.3\" font-family=\"Times New Roman,serif\" font-size=\"14.00\">a</text>\n",
       "</g>\n",
       "<!-- f -->\n",
       "<g id=\"node2\" class=\"node\">\n",
       "<title>f</title>\n",
       "<ellipse fill=\"none\" stroke=\"black\" cx=\"138\" cy=\"-45\" rx=\"18\" ry=\"18\"/>\n",
       "<text text-anchor=\"middle\" x=\"138\" y=\"-41.3\" font-family=\"Times New Roman,serif\" font-size=\"14.00\">f</text>\n",
       "</g>\n",
       "<!-- a&#45;&gt;f -->\n",
       "<g id=\"edge1\" class=\"edge\">\n",
       "<title>a&#45;&gt;f</title>\n",
       "<path fill=\"none\" stroke=\"black\" d=\"M35.66,-68.19C55.05,-63.75 87.34,-56.36 110.26,-51.12\"/>\n",
       "<polygon fill=\"black\" stroke=\"black\" points=\"111.08,-54.52 120.05,-48.88 109.52,-47.7 111.08,-54.52\"/>\n",
       "<text text-anchor=\"middle\" x=\"78\" y=\"-66.8\" font-family=\"Times New Roman,serif\" font-size=\"14.00\">df/da= 5</text>\n",
       "</g>\n",
       "<!-- b -->\n",
       "<g id=\"node3\" class=\"node\">\n",
       "<title>b</title>\n",
       "<ellipse fill=\"none\" stroke=\"black\" cx=\"18\" cy=\"-18\" rx=\"18\" ry=\"18\"/>\n",
       "<text text-anchor=\"middle\" x=\"18\" y=\"-14.3\" font-family=\"Times New Roman,serif\" font-size=\"14.00\">b</text>\n",
       "</g>\n",
       "<!-- b&#45;&gt;f -->\n",
       "<g id=\"edge2\" class=\"edge\">\n",
       "<title>b&#45;&gt;f</title>\n",
       "<path fill=\"none\" stroke=\"black\" d=\"M35.97,-20.69C52.84,-23.5 79.38,-28.28 102,-34 104.89,-34.73 107.9,-35.56 110.89,-36.44\"/>\n",
       "<polygon fill=\"black\" stroke=\"black\" points=\"110.14,-39.87 120.73,-39.46 112.2,-33.18 110.14,-39.87\"/>\n",
       "<text text-anchor=\"middle\" x=\"78\" y=\"-37.8\" font-family=\"Times New Roman,serif\" font-size=\"14.00\">df/db= 3</text>\n",
       "</g>\n",
       "</g>\n",
       "</svg>\n"
      ],
      "text/plain": [
       "<graphviz.graphs.Digraph at 0x29738181c10>"
      ]
     },
     "execution_count": 64,
     "metadata": {},
     "output_type": "execute_result"
    }
   ],
   "source": [
    "e1 = graphviz.Digraph('first expression', filename='fsm.gv')\n",
    "\n",
    "e1.attr(rankdir='LR', size='8,5')\n",
    "\n",
    "e1.attr('node', shape='circle')\n",
    "# Adding nodes\n",
    "e1.edge('a', 'f', label='df/da= 5') # including df/da as computed above df/da=5\n",
    "e1.edge('b', 'f', label='df/db= 3')\n",
    "\n",
    "e1"
   ]
  },
  {
   "cell_type": "code",
   "execution_count": 65,
   "metadata": {
    "colab": {
     "base_uri": "https://localhost:8080/",
     "height": 232
    },
    "id": "0nittR-mZFeX",
    "outputId": "fa3656a3-732c-4abe-8084-98a492b0d6be"
   },
   "outputs": [
    {
     "data": {
      "image/svg+xml": [
       "<?xml version=\"1.0\" encoding=\"UTF-8\" standalone=\"no\"?>\n",
       "<!DOCTYPE svg PUBLIC \"-//W3C//DTD SVG 1.1//EN\"\n",
       " \"http://www.w3.org/Graphics/SVG/1.1/DTD/svg11.dtd\">\n",
       "<!-- Generated by graphviz version 2.50.0 (0)\n",
       " -->\n",
       "<!-- Title: second expression Pages: 1 -->\n",
       "<svg width=\"280pt\" height=\"158pt\"\n",
       " viewBox=\"0.00 0.00 280.00 158.00\" xmlns=\"http://www.w3.org/2000/svg\" xmlns:xlink=\"http://www.w3.org/1999/xlink\">\n",
       "<g id=\"graph0\" class=\"graph\" transform=\"scale(1 1) rotate(0) translate(4 154)\">\n",
       "<title>second expression</title>\n",
       "<polygon fill=\"white\" stroke=\"transparent\" points=\"-4,4 -4,-154 276,-154 276,4 -4,4\"/>\n",
       "<!-- a -->\n",
       "<g id=\"node1\" class=\"node\">\n",
       "<title>a</title>\n",
       "<ellipse fill=\"none\" stroke=\"black\" cx=\"18\" cy=\"-75\" rx=\"18\" ry=\"18\"/>\n",
       "<text text-anchor=\"middle\" x=\"18\" y=\"-71.3\" font-family=\"Times New Roman,serif\" font-size=\"14.00\">a</text>\n",
       "</g>\n",
       "<!-- c -->\n",
       "<g id=\"node2\" class=\"node\">\n",
       "<title>c</title>\n",
       "<ellipse fill=\"none\" stroke=\"black\" cx=\"139\" cy=\"-102\" rx=\"18\" ry=\"18\"/>\n",
       "<text text-anchor=\"middle\" x=\"139\" y=\"-98.3\" font-family=\"Times New Roman,serif\" font-size=\"14.00\">c</text>\n",
       "</g>\n",
       "<!-- a&#45;&gt;c -->\n",
       "<g id=\"edge1\" class=\"edge\">\n",
       "<title>a&#45;&gt;c</title>\n",
       "<path fill=\"none\" stroke=\"black\" d=\"M35.8,-78.81C55.47,-83.27 88.29,-90.72 111.42,-95.97\"/>\n",
       "<polygon fill=\"black\" stroke=\"black\" points=\"110.76,-99.41 121.29,-98.21 112.31,-92.58 110.76,-99.41\"/>\n",
       "<text text-anchor=\"middle\" x=\"78.5\" y=\"-97.8\" font-family=\"Times New Roman,serif\" font-size=\"14.00\">dc/da= 5</text>\n",
       "</g>\n",
       "<!-- e -->\n",
       "<g id=\"node4\" class=\"node\">\n",
       "<title>e</title>\n",
       "<ellipse fill=\"none\" stroke=\"black\" cx=\"139\" cy=\"-48\" rx=\"18\" ry=\"18\"/>\n",
       "<text text-anchor=\"middle\" x=\"139\" y=\"-44.3\" font-family=\"Times New Roman,serif\" font-size=\"14.00\">e</text>\n",
       "</g>\n",
       "<!-- a&#45;&gt;e -->\n",
       "<g id=\"edge3\" class=\"edge\">\n",
       "<title>a&#45;&gt;e</title>\n",
       "<path fill=\"none\" stroke=\"black\" d=\"M35.22,-68.86C41.08,-66.79 47.78,-64.61 54,-63 72.82,-58.12 94.42,-54.3 111.01,-51.74\"/>\n",
       "<polygon fill=\"black\" stroke=\"black\" points=\"111.73,-55.17 121.1,-50.24 110.7,-48.25 111.73,-55.17\"/>\n",
       "<text text-anchor=\"middle\" x=\"78.5\" y=\"-66.8\" font-family=\"Times New Roman,serif\" font-size=\"14.00\">de/da=9</text>\n",
       "</g>\n",
       "<!-- f -->\n",
       "<g id=\"node6\" class=\"node\">\n",
       "<title>f</title>\n",
       "<ellipse fill=\"none\" stroke=\"black\" cx=\"254\" cy=\"-75\" rx=\"18\" ry=\"18\"/>\n",
       "<text text-anchor=\"middle\" x=\"254\" y=\"-71.3\" font-family=\"Times New Roman,serif\" font-size=\"14.00\">f</text>\n",
       "</g>\n",
       "<!-- c&#45;&gt;f -->\n",
       "<g id=\"edge5\" class=\"edge\">\n",
       "<title>c&#45;&gt;f</title>\n",
       "<path fill=\"none\" stroke=\"black\" d=\"M156.67,-98.02C175.03,-93.63 204.81,-86.51 226.4,-81.36\"/>\n",
       "<polygon fill=\"black\" stroke=\"black\" points=\"227.35,-84.73 236.26,-79 225.72,-77.92 227.35,-84.73\"/>\n",
       "<text text-anchor=\"middle\" x=\"196.5\" y=\"-96.8\" font-family=\"Times New Roman,serif\" font-size=\"14.00\">df/dc=1</text>\n",
       "</g>\n",
       "<!-- b -->\n",
       "<g id=\"node3\" class=\"node\">\n",
       "<title>b</title>\n",
       "<ellipse fill=\"none\" stroke=\"black\" cx=\"18\" cy=\"-132\" rx=\"18\" ry=\"18\"/>\n",
       "<text text-anchor=\"middle\" x=\"18\" y=\"-128.3\" font-family=\"Times New Roman,serif\" font-size=\"14.00\">b</text>\n",
       "</g>\n",
       "<!-- b&#45;&gt;c -->\n",
       "<g id=\"edge2\" class=\"edge\">\n",
       "<title>b&#45;&gt;c</title>\n",
       "<path fill=\"none\" stroke=\"black\" d=\"M35.55,-127.83C55.15,-122.89 88.08,-114.59 111.3,-108.73\"/>\n",
       "<polygon fill=\"black\" stroke=\"black\" points=\"112.37,-112.07 121.21,-106.23 110.66,-105.28 112.37,-112.07\"/>\n",
       "<text text-anchor=\"middle\" x=\"78.5\" y=\"-126.8\" font-family=\"Times New Roman,serif\" font-size=\"14.00\">dc/db=3</text>\n",
       "</g>\n",
       "<!-- e&#45;&gt;f -->\n",
       "<g id=\"edge6\" class=\"edge\">\n",
       "<title>e&#45;&gt;f</title>\n",
       "<path fill=\"none\" stroke=\"black\" d=\"M156.85,-50.94C172.73,-53.83 197.12,-58.59 218,-64 220.89,-64.75 223.9,-65.59 226.88,-66.47\"/>\n",
       "<polygon fill=\"black\" stroke=\"black\" points=\"226.13,-69.9 236.72,-69.5 228.19,-63.21 226.13,-69.9\"/>\n",
       "<text text-anchor=\"middle\" x=\"196.5\" y=\"-67.8\" font-family=\"Times New Roman,serif\" font-size=\"14.00\">df/de=1</text>\n",
       "</g>\n",
       "<!-- d -->\n",
       "<g id=\"node5\" class=\"node\">\n",
       "<title>d</title>\n",
       "<ellipse fill=\"none\" stroke=\"black\" cx=\"18\" cy=\"-18\" rx=\"18\" ry=\"18\"/>\n",
       "<text text-anchor=\"middle\" x=\"18\" y=\"-14.3\" font-family=\"Times New Roman,serif\" font-size=\"14.00\">d</text>\n",
       "</g>\n",
       "<!-- d&#45;&gt;e -->\n",
       "<g id=\"edge4\" class=\"edge\">\n",
       "<title>d&#45;&gt;e</title>\n",
       "<path fill=\"none\" stroke=\"black\" d=\"M35.96,-20.25C53.09,-22.75 80.2,-27.34 103,-34 106.2,-34.94 109.52,-36.06 112.78,-37.25\"/>\n",
       "<polygon fill=\"black\" stroke=\"black\" points=\"111.61,-40.55 122.2,-40.93 114.16,-34.03 111.61,-40.55\"/>\n",
       "<text text-anchor=\"middle\" x=\"78.5\" y=\"-37.8\" font-family=\"Times New Roman,serif\" font-size=\"14.00\">de/dd=3</text>\n",
       "</g>\n",
       "</g>\n",
       "</svg>\n"
      ],
      "text/plain": [
       "<graphviz.graphs.Digraph at 0x29734e69050>"
      ]
     },
     "execution_count": 65,
     "metadata": {},
     "output_type": "execute_result"
    }
   ],
   "source": [
    "e2 = graphviz.Digraph('second expression', filename='fsm.gv')\n",
    "\n",
    "e2.attr(rankdir='LR', size='8,5')\n",
    "\n",
    "e2.attr('node', shape='circle')\n",
    "e2.edge('a', 'c', label='dc/da= 5') # dc/da=5\n",
    "e2.edge('b', 'c', label='dc/db=3') # dc/db = 3\n",
    "e2.edge('a', 'e', label='de/da=9') # de/da=9\n",
    "e2.edge('d', 'e', label='de/dd=3') # de/dd=3\n",
    "e2.edge('c', 'f', label='df/dc=1') # df/dc=1\n",
    "e2.edge('e', 'f', label='df/de=1') # df/de=1\n",
    "\n",
    "e2"
   ]
  },
  {
   "cell_type": "markdown",
   "metadata": {},
   "source": [
    "### Schematic of the Data Structure for the First Expression\n",
    "\n",
    "When defining the expression $f = a \\cdot b$, the underlying data structure is a computational graph, where:\n",
    "\n",
    "- $a$ and $b$ are the **input variables** (leaf nodes).\n",
    "- $f = a \\cdot b$ is the **result node** that computes the product of $a$ and $b$.\n",
    "\n",
    "This structure is typically represented as a Directed Acyclic Graph (DAG), where nodes represent variables or operations, and edges represent dependencies.\n",
    "\n",
    "In this case, the graph looks like:\n",
    "\n",
    "$$\n",
    "a \\longrightarrow f\n",
    "$$\n",
    "$$\n",
    "b \\longrightarrow f\n",
    "$$\n",
    "\n",
    "- The input variables $a$ and $b$ are connected to the output $f$.\n",
    "- When the `backward()` function is called, gradients flow backward along the edges to compute the derivative of $f$ with respect to $a$ and $b$.\n",
    "\n",
    "The key information stored in this data structure includes:\n",
    "1. The **values** of the variables $a$, $b$, and $f$.\n",
    "2. The **operations** performed (in this case, multiplication).\n",
    "3. The **gradients** for each variable, which are used in the backward pass to calculate partial derivatives.\n"
   ]
  },
  {
   "cell_type": "markdown",
   "metadata": {},
   "source": [
    "### Manual Execution of the Backward Function\n",
    "\n",
    "Let's manually execute the `backward()` function for both examples to compute the gradients by hand.\n",
    "\n",
    "### First Example: $f = a \\cdot b$\n",
    "\n",
    "Given:\n",
    "- $a = 3$\n",
    "- $b = 5$\n",
    "\n",
    "We first compute the value of $f$:\n",
    "$$\n",
    "f = a \\cdot b = 3 \\cdot 5 = 15\n",
    "$$\n",
    "\n",
    "Now, let’s manually compute the partial derivatives using backpropagation:\n",
    "\n",
    "- The derivative of $f$ with respect to $a$ is:\n",
    "  $$\n",
    "  \\frac{\\partial f}{\\partial a} = b = 5\n",
    "  $$\n",
    "\n",
    "- The derivative of $f$ with respect to $b$ is:\n",
    "  $$\n",
    "  \\frac{\\partial f}{\\partial b} = a = 3\n",
    "  $$\n",
    "\n",
    "- Since $f$ is the output, its derivative with respect to itself is:\n",
    "  $$\n",
    "  \\frac{\\partial f}{\\partial f} = 1\n",
    "  $$\n",
    "\n",
    "Thus, the gradients are:\n",
    "- $\\frac{\\partial f}{\\partial a} = 5$\n",
    "- $\\frac{\\partial f}{\\partial b} = 3$\n",
    "\n",
    "These gradients will be stored in the respective variables $a$ and $b$ after calling `f.backward()`.\n",
    "\n",
    "### Second Example: $f = a \\cdot b + a \\cdot d$\n",
    "\n",
    "Given:\n",
    "- $a = 3$\n",
    "- $b = 5$\n",
    "- $d = 9$\n",
    "\n",
    "We first compute the intermediate results:\n",
    "- Compute $c$:\n",
    "  $$\n",
    "  c = a \\cdot b = 3 \\cdot 5 = 15\n",
    "  $$\n",
    "\n",
    "- Compute $e$:\n",
    "  $$\n",
    "  e = a \\cdot d = 3 \\cdot 9 = 27\n",
    "  $$\n",
    "\n",
    "- Finally, compute $f$:\n",
    "  $$\n",
    "  f = c + e = 15 + 27 = 42\n",
    "  $$\n",
    "\n",
    "Now, we calculate the partial derivatives using backpropagation:\n",
    "\n",
    "- The derivative of $f$ with respect to $a$ is:\n",
    "  $$\n",
    "  \\frac{\\partial f}{\\partial a} = \\frac{\\partial c}{\\partial a} + \\frac{\\partial e}{\\partial a} = b + d = 5 + 9 = 14\n",
    "  $$\n",
    "\n",
    "- The derivative of $f$ with respect to $b$ is:\n",
    "  $$\n",
    "  \\frac{\\partial f}{\\partial b} = \\frac{\\partial c}{\\partial b} = a = 3\n",
    "  $$\n",
    "\n",
    "- The derivative of $f$ with respect to $d$ is:\n",
    "  $$\n",
    "  \\frac{\\partial f}{\\partial d} = \\frac{\\partial e}{\\partial d} = a = 3\n",
    "  $$\n",
    "\n",
    "Thus, the gradients are:\n",
    "- $\\frac{\\partial f}{\\partial a} = 14$\n",
    "- $\\frac{\\partial f}{\\partial b} = 3$\n",
    "- $\\frac{\\partial f}{\\partial d} = 3$\n",
    "\n",
    "These gradients will be stored in the respective variables $a$, $b$, and $d$ after calling `f.backward()`.\n"
   ]
  },
  {
   "cell_type": "markdown",
   "metadata": {},
   "source": [
    "### Sequence of Calls to Backpropagation\n",
    "\n",
    "The `backward()` function works by applying the chain rule to compute the gradients for each variable in the computational graph. Below is the sequence of operations that occur during backpropagation for both examples.\n",
    "\n",
    "#### First Example: $f = a \\cdot b$\n",
    "\n",
    "In this case, the sequence of calls during backpropagation is as follows:\n",
    "\n",
    "1. **Start at $f$**: Since $f$ is the output of the computation, its derivative with respect to itself is:\n",
    "   $$\n",
    "   \\frac{\\partial f}{\\partial f} = 1\n",
    "   $$\n",
    "\n",
    "2. **Compute $\\frac{\\partial f}{\\partial a}$**: The partial derivative of $f$ with respect to $a$ is:\n",
    "   $$\n",
    "   \\frac{\\partial f}{\\partial a} = b = 5\n",
    "   $$\n",
    "   This value is propagated back to $a$.\n",
    "\n",
    "3. **Compute $\\frac{\\partial f}{\\partial b}$**: The partial derivative of $f$ with respect to $b$ is:\n",
    "   $$\n",
    "   \\frac{\\partial f}{\\partial b} = a = 3\n",
    "   $$\n",
    "   This value is propagated back to $b$.\n",
    "\n",
    "4. **Store the gradients**: The gradients are now stored in $a$ and $b$.\n",
    "\n",
    "#### Second Example: $f = a \\cdot b + a \\cdot d$\n",
    "\n",
    "The sequence of calls during backpropagation for this expression is more complex due to the presence of intermediate variables.\n",
    "\n",
    "1. **Start at $f$**: Since $f$ is the output, its derivative with respect to itself is:\n",
    "   $$\n",
    "   \\frac{\\partial f}{\\partial f} = 1\n",
    "   $$\n",
    "\n",
    "2. **Compute $\\frac{\\partial f}{\\partial c}$ and $\\frac{\\partial f}{\\partial e}$**: Since $f = c + e$, we compute the partial derivatives:\n",
    "   $$\n",
    "   \\frac{\\partial f}{\\partial c} = 1 \\quad \\text{and} \\quad \\frac{\\partial f}{\\partial e} = 1\n",
    "   $$\n",
    "\n",
    "3. **Compute $\\frac{\\partial c}{\\partial a}$ and $\\frac{\\partial c}{\\partial b}$**: Since $c = a \\cdot b$, we apply the chain rule:\n",
    "   $$\n",
    "   \\frac{\\partial c}{\\partial a} = b = 5 \\quad \\text{and} \\quad \\frac{\\partial c}{\\partial b} = a = 3\n",
    "   $$\n",
    "   These values are propagated back to $a$ and $b$.\n",
    "\n",
    "4. **Compute $\\frac{\\partial e}{\\partial a}$ and $\\frac{\\partial e}{\\partial d}$**: Since $e = a \\cdot d$, we compute:\n",
    "   $$\n",
    "   \\frac{\\partial e}{\\partial a} = d = 9 \\quad \\text{and} \\quad \\frac{\\partial e}{\\partial d} = a = 3\n",
    "   $$\n",
    "   These values are propagated back to $a$ and $d$.\n",
    "\n",
    "5. **Sum the contributions to $a$**: Since $a$ appears in both $c$ and $e$, the total gradient with respect to $a$ is:\n",
    "   $$\n",
    "   \\frac{\\partial f}{\\partial a} = \\frac{\\partial c}{\\partial a} + \\frac{\\partial e}{\\partial a} = b + d = 5 + 9 = 14\n",
    "   $$\n",
    "\n",
    "6. **Store the gradients**: The gradients are now stored in $a$, $b$, and $d$.\n",
    "\n",
    "### Summary of Gradients\n",
    "\n",
    "- In the first example, the gradients are $\\frac{\\partial f}{\\partial a} = 5$ and $\\frac{\\partial f}{\\partial b} = 3$.\n",
    "- In the second example, the gradients are $\\frac{\\partial f}{\\partial a} = 14$, $\\frac{\\partial f}{\\partial b} = 3$, and $\\frac{\\partial f}{\\partial d} = 3$.\n"
   ]
  },
  {
   "cell_type": "markdown",
   "metadata": {
    "id": "A5oi21W4gpeM"
   },
   "source": [
    "## Exercise c) What happens if we run backward again?\n",
    "\n",
    "Try to execute the code below. Explain what happens."
   ]
  },
  {
   "cell_type": "code",
   "execution_count": 66,
   "metadata": {
    "colab": {
     "base_uri": "https://localhost:8080/"
    },
    "id": "DCtpJyr-gyX1",
    "outputId": "d014bcfa-c9ae-49c3-d268-91cc6ca94ea5"
   },
   "outputs": [
    {
     "name": "stdout",
     "output_type": "stream",
     "text": [
      "Var(v=3.0000, grad=28.0000)\n",
      "Var(v=5.0000, grad=6.0000)\n",
      "Var(v=15.0000, grad=2.0000)\n",
      "Var(v=9.0000, grad=6.0000)\n",
      "Var(v=27.0000, grad=2.0000)\n",
      "Var(v=42.0000, grad=2.0000)\n"
     ]
    }
   ],
   "source": [
    "f.backward()\n",
    "\n",
    "for v in [a, b, c, d, e, f]:\n",
    "    print(v)"
   ]
  },
  {
   "cell_type": "markdown",
   "metadata": {},
   "source": [
    "When `f.backward()` is run a second time, the gradients accumulate. This means the new gradients are added to the already computed gradients from the first backward pass. Since no reset occurs between passes, calling `f.backward()` two times will double the gradient.\n",
    "\n",
    "#### Detailed Explanation:\n",
    "- After the first `f.backward()`:\n",
    "  - `a.grad = 14.0`\n",
    "  - `b.grad = 3.0`\n",
    "  - `c.grad = 2.0`\n",
    "  - `d.grad = 9.0`\n",
    "  - `e.grad = 2.0`\n",
    "  - `f.grad = 1.0`\n",
    "\n",
    "- After the second `f.backward()`:\n",
    "  - `a.grad = 28.0` (doubled)\n",
    "  - `b.grad = 6.0` (doubled)\n",
    "  - `c.grad = 4.0` (doubled)\n",
    "  - `d.grad = 18.0` (doubled)\n",
    "  - `e.grad = 4.0` (doubled)\n",
    "  - `f.grad = 2.0` (doubled)\n",
    "\n",
    "Thus I conclude that running `f.backward()` two times will cause the gradients calculated by f.backward() to double"
   ]
  },
  {
   "cell_type": "markdown",
   "metadata": {
    "id": "e8bPVq2VhsP-"
   },
   "source": [
    "## Exercise d) Zero gradient\n",
    "\n",
    "We can zero the gradient by backpropagating a -1.0 as is shown in the example below. (If you have run backward multiple time then you also have to run the cell below an equal amount of times.) Explain what is going on."
   ]
  },
  {
   "cell_type": "code",
   "execution_count": 67,
   "metadata": {
    "colab": {
     "base_uri": "https://localhost:8080/"
    },
    "id": "OnyPDQx9lJe0",
    "outputId": "7a125fdc-60c4-4340-a580-8b82aea5b0db"
   },
   "outputs": [
    {
     "name": "stdout",
     "output_type": "stream",
     "text": [
      "Var(v=2.0000, grad=0.0000)\n",
      "Var(v=5.0000, grad=6.0000)\n",
      "Var(v=15.0000, grad=2.0000)\n",
      "Var(v=9.0000, grad=6.0000)\n",
      "Var(v=27.0000, grad=2.0000)\n",
      "Var(v=42.0000, grad=2.0000)\n",
      "Var(v=2.0000, grad=0.0000)\n",
      "Var(v=5.0000, grad=3.0000)\n",
      "Var(v=15.0000, grad=1.0000)\n",
      "Var(v=9.0000, grad=3.0000)\n",
      "Var(v=27.0000, grad=1.0000)\n",
      "Var(v=42.0000, grad=1.0000)\n"
     ]
    }
   ],
   "source": [
    "a = Var(2.0)\n",
    "\n",
    "for v in [a, b, c, d, e, f]:\n",
    "    print(v)\n",
    "\n",
    "f.backprop(-1.0)\n",
    "\n",
    "for v in [a, b, c, d, e, f]:\n",
    "    print(v)"
   ]
  },
  {
   "cell_type": "markdown",
   "metadata": {},
   "source": [
    "When you call `f.backprop(-1.0)`, it propagates a negative value through the computational graph, effectively subtracting the previously accumulated gradients.\n",
    "\n",
    "### What happens:\n",
    "- Initially, when you run `f.backward()` it is equivalent to running `f.backward(1)` , it accumulates gradients in all the variables according to an input of 1.\n",
    "- By running `f.backprop(-1.0)`, you're applying the reverse operation, reducing the gradients by the same amount they were originally increased by.\n",
    "- If you've run `f.backward()` multiple times, you must run `f.backprop(-1.0)` the same number of times to bring the gradients back to zero.\n"
   ]
  },
  {
   "cell_type": "markdown",
   "metadata": {
    "id": "U4057_ljNvWB"
   },
   "source": [
    "## Exercise e) Test correctness of derivatives with the finite difference method\n",
    "\n",
    "Write a small function that uses [the finite difference method](https://en.wikipedia.org/wiki/Finite_difference_method) to numerically test that backpropation implementation is working. In short we will use\n",
    "$$\n",
    "\\frac{\\partial f(a)}{\\partial a} \\approx \\frac{f(a+da)-f(a)}{da}\n",
    "$$\n",
    "for $da \\ll 1$.\n",
    "\n",
    "As an example, we could approximate the derivative of the function $f(a)=a^2$ in e.g. the value $a=4$ using the finite difference method. This amounts to inserting the relevant values and approximating the gradient $f'(4)$ with the fraction above. \n"
   ]
  },
  {
   "cell_type": "code",
   "execution_count": 68,
   "metadata": {
    "colab": {
     "base_uri": "https://localhost:8080/"
    },
    "id": "9TGil92lSXDN",
    "outputId": "7ef5489b-b525-4132-ab08-0b1109c07f4d"
   },
   "outputs": [
    {
     "name": "stdout",
     "output_type": "stream",
     "text": [
      "Var(v=4.0000, grad=4.0000)\n",
      "Var(v=4.0000, grad=4.0000)\n",
      "Var(v=16.0000, grad=1.0000)\n",
      "4.000000330961484\n",
      "Var(v=4.0000, grad=14.0000)\n",
      "Var(v=5.0000, grad=4.0000)\n",
      "Var(v=20.0000, grad=1.0000)\n",
      "Var(v=9.0000, grad=4.0000)\n",
      "Var(v=36.0000, grad=1.0000)\n",
      "Var(v=56.0000, grad=1.0000)\n",
      "14.000036685501982\n"
     ]
    }
   ],
   "source": [
    "# f function - try to change the code to test other types of functions as well (such as different polynomials etc.)\n",
    "def f_function(a):\n",
    "  a = Var(a)\n",
    "  b = Var(4.0)\n",
    "  f = a * b\n",
    "  f.backward()\n",
    "  return a,b,f\n",
    "\n",
    "for v in f_function(4.0):\n",
    "  print(v)\n",
    "\n",
    "# Insert your finite difference code here\n",
    "def finite_difference(da=1e-10 , a=4.0, f_function=f_function):\n",
    "    \"\"\"\n",
    "    This function compute the finite difference between\n",
    "    \n",
    "    Input:\n",
    "    da:          The finite difference                           (float)\n",
    "    \n",
    "    Output:\n",
    "    finite_difference: numerical approximation to the derivative (float) \n",
    "    \"\"\"\n",
    "    # Compute the finite difference here\n",
    "    fa_da = f_function(a + da)[-1].v\n",
    "    fa = f_function(a)[-1].v  \n",
    "\n",
    "    finite_difference = (fa_da - fa) / da\n",
    "    \n",
    "    return finite_difference\n",
    "  \n",
    "print(finite_difference())\n",
    "\n",
    "# Trying the finite difference on a different function\n",
    "def g_function(a):\n",
    "  a = Var(a)\n",
    "  b = Var(5.0)\n",
    "  c = a * b\n",
    "  d = Var(9.0)\n",
    "  e = a * d\n",
    "  f = c + e\n",
    "  f.backward()\n",
    "  return a,b,c,d,e,f\n",
    "\n",
    "for v in g_function(4.0):\n",
    "  print(v)\n",
    "\n",
    "print(finite_difference(da=1e-10, a=4.0, f_function=g_function))"
   ]
  },
  {
   "cell_type": "markdown",
   "metadata": {},
   "source": [
    "After comparing the finite difference derivatives with the backpropagation derivatives, it can be concluded that they agree up to the 5th decimal place when using a finite difference step size (da) of 10^-10. This indicates that the backpropagation implementation is correct and accurately computes the gradients."
   ]
  },
  {
   "cell_type": "markdown",
   "metadata": {
    "id": "6pZar5RKaUkg"
   },
   "source": [
    "# Create an artificial dataset to play with\n",
    "\n",
    "We create a non-linear 1d regression task. The generator supports various noise levels and it creates train, validation and test sets. You can modify it yourself if you want more or less challenging tasks."
   ]
  },
  {
   "cell_type": "code",
   "execution_count": 69,
   "metadata": {
    "id": "Y6yfMAQ8aduj"
   },
   "outputs": [
    {
     "name": "stdout",
     "output_type": "stream",
     "text": [
      "Requirement already satisfied: numpy in c:\\users\\mathi\\appdata\\roaming\\python\\python311\\site-packages (1.25.0)\n",
      "Requirement already satisfied: matplotlib in c:\\users\\mathi\\appdata\\roaming\\python\\python311\\site-packages (3.6.3)\n",
      "Requirement already satisfied: contourpy>=1.0.1 in c:\\users\\mathi\\appdata\\roaming\\python\\python311\\site-packages (from matplotlib) (1.1.0)\n",
      "Requirement already satisfied: cycler>=0.10 in c:\\users\\mathi\\appdata\\roaming\\python\\python311\\site-packages (from matplotlib) (0.11.0)\n",
      "Requirement already satisfied: fonttools>=4.22.0 in c:\\users\\mathi\\appdata\\roaming\\python\\python311\\site-packages (from matplotlib) (4.40.0)\n",
      "Requirement already satisfied: kiwisolver>=1.0.1 in c:\\users\\mathi\\appdata\\roaming\\python\\python311\\site-packages (from matplotlib) (1.4.4)\n",
      "Requirement already satisfied: packaging>=20.0 in c:\\users\\mathi\\appdata\\roaming\\python\\python311\\site-packages (from matplotlib) (23.1)\n",
      "Requirement already satisfied: pillow>=6.2.0 in c:\\users\\mathi\\appdata\\roaming\\python\\python311\\site-packages (from matplotlib) (9.5.0)\n",
      "Requirement already satisfied: pyparsing>=2.2.1 in c:\\users\\mathi\\appdata\\roaming\\python\\python311\\site-packages (from matplotlib) (3.1.0)\n",
      "Requirement already satisfied: python-dateutil>=2.7 in c:\\users\\mathi\\appdata\\roaming\\python\\python311\\site-packages (from matplotlib) (2.8.2)\n",
      "Requirement already satisfied: six>=1.5 in c:\\users\\mathi\\appdata\\roaming\\python\\python311\\site-packages (from python-dateutil>=2.7->matplotlib) (1.16.0)\n"
     ]
    },
    {
     "name": "stderr",
     "output_type": "stream",
     "text": [
      "\n",
      "[notice] A new release of pip is available: 24.0 -> 24.2\n",
      "[notice] To update, run: python.exe -m pip install --upgrade pip\n"
     ]
    }
   ],
   "source": [
    "!pip install numpy matplotlib\n",
    "import numpy as np\n",
    "import matplotlib.pyplot as plt\n",
    "\n",
    "np.random.seed(42)"
   ]
  },
  {
   "cell_type": "code",
   "execution_count": 70,
   "metadata": {
    "id": "4YabfD43ajNh"
   },
   "outputs": [],
   "source": [
    "def data_generator(noise=0.1, n_samples=300, D1=True):\n",
    "    # Create covariates and response variable\n",
    "    if D1:\n",
    "        X = np.linspace(-3, 3, num=n_samples).reshape(-1,1) # 1-D\n",
    "        np.random.shuffle(X)\n",
    "        y = np.random.normal((0.5*np.sin(X[:,0]*3) + X[:,0]), noise) # 1-D with trend\n",
    "    else:\n",
    "        X = np.random.multivariate_normal(np.zeros(3), noise*np.eye(3), size = n_samples) # 3-D\n",
    "        np.random.shuffle(X)    \n",
    "        y = np.sin(X[:,0]) - 5*(X[:,1]**2) + 0.5*X[:,2] # 3-D\n",
    "\n",
    "    # Stack them together vertically to split data set\n",
    "    data_set = np.vstack((X.T,y)).T\n",
    "    \n",
    "    train, validation, test = np.split(data_set, [int(0.35*n_samples), int(0.7*n_samples)], axis=0)\n",
    "    \n",
    "    # Standardization of the data, remember we do the standardization with the training set mean and standard deviation\n",
    "    train_mu = np.mean(train, axis=0)\n",
    "    train_sigma = np.std(train, axis=0)\n",
    "    \n",
    "    train = (train-train_mu)/train_sigma\n",
    "    validation = (validation-train_mu)/train_sigma\n",
    "    test = (test-train_mu)/train_sigma\n",
    "    \n",
    "    x_train, x_validation, x_test = train[:,:-1], validation[:,:-1], test[:,:-1]\n",
    "    y_train, y_validation, y_test = train[:,-1], validation[:,-1], test[:,-1]\n",
    "\n",
    "    return x_train, y_train,  x_validation, y_validation, x_test, y_test"
   ]
  },
  {
   "cell_type": "code",
   "execution_count": 71,
   "metadata": {
    "id": "u1oDngHLapIz"
   },
   "outputs": [],
   "source": [
    "D1 = True\n",
    "x_train, y_train,  x_validation, y_validation, x_test, y_test = data_generator(noise=0.5, D1=D1)"
   ]
  },
  {
   "cell_type": "code",
   "execution_count": 72,
   "metadata": {
    "colab": {
     "base_uri": "https://localhost:8080/",
     "height": 265
    },
    "id": "Ysfa3FsBavlm",
    "outputId": "399e5382-ae7d-48f6-9774-7ea4c73e7d95"
   },
   "outputs": [
    {
     "data": {
      "image/png": "[encoded data removed]",
      "text/plain": [
       "<Figure size 640x480 with 1 Axes>"
      ]
     },
     "metadata": {},
     "output_type": "display_data"
    }
   ],
   "source": [
    "if D1:\n",
    "    plt.scatter(x_train[:,0], y_train);\n",
    "    plt.scatter(x_validation[:,0], y_validation);\n",
    "    plt.scatter(x_test[:,0], y_test);\n",
    "else:\n",
    "    plt.scatter(x_train[:,1], y_train);\n",
    "    plt.scatter(x_validation[:,1], y_validation);\n",
    "    plt.scatter(x_test[:,1], y_test);\n",
    "plt.show()"
   ]
  },
  {
   "cell_type": "code",
   "execution_count": 73,
   "metadata": {
    "id": "zac2HHNlgbpm"
   },
   "outputs": [],
   "source": [
    "# convert from nparray to Var\n",
    "def nparray_to_Var(x):\n",
    "  if x.ndim==1:\n",
    "    y = [[Var(float(x[i]))] for i in range(x.shape[0])] # always work with list of list\n",
    "  else:\n",
    "    y = [[Var(float(x[i,j])) for j in range(x.shape[1])] for i in range(x.shape[0])]\n",
    "  return y\n",
    "   \n",
    "x_train = nparray_to_Var(x_train)\n",
    "y_train = nparray_to_Var(y_train)\n",
    "x_validation = nparray_to_Var(x_validation)\n",
    "y_validation = nparray_to_Var(y_validation)\n",
    "x_test = nparray_to_Var(x_test)\n",
    "y_test = nparray_to_Var(y_test)\n"
   ]
  },
  {
   "cell_type": "markdown",
   "metadata": {
    "id": "VbjrqcpVFtGe"
   },
   "source": [
    "# Defining and initializing the network\n",
    "\n",
    "The steps to create a feed forward neural network are the following:\n",
    "\n",
    "1. **Number of hidden layer and hidden units**. We have to define the number of hidden units in each layer. The number of features in X and the output dimensionality (the size of Y) are given but the numbers in between are set by the researcher. Remember that for each unit in each layer beside in the input has a bias term.\n",
    "2. **Activation functions** for each hidden layer. Each hidden layer in your list must have an activation function (it can also be the linear activation which is equivalent to identity function). The power of neural networks comes from non-linear activation functions that learn representations (features) from the data allowing us to learn from it. \n",
    "3. **Parameter initialization**. We will initialize the weights to have random values. This is done in practice by drawing pseudo random numbers from a Gaussian or uniform distribution. It turns out that for deeper models we have to be careful about how we scale the random numbers. This will be the topic of the exercise below. For now we will just use unit variance Gaussians.  \n",
    "\n",
    "In order to make life easier for ourselves we define a DenseLayer class that takes care of initialization and the forward pass. We can also extend it later with print and advanced initialization capabilities. For the latter we have introduced a Initializer class.\n",
    "\n",
    "Note that we use Sequence in the code below. A Sequence is an ordered list. This means the order we insert and access items are the same."
   ]
  },
  {
   "cell_type": "code",
   "execution_count": 74,
   "metadata": {
    "id": "ij_ieRsAt7Xt"
   },
   "outputs": [],
   "source": [
    "class Initializer:\n",
    "\n",
    "  def init_weights(self, n_in, n_out):\n",
    "    raise NotImplementedError\n",
    "\n",
    "  def init_bias(self, n_out):\n",
    "    raise NotImplementedError"
   ]
  },
  {
   "cell_type": "code",
   "execution_count": 75,
   "metadata": {
    "id": "eb18N5phuIha"
   },
   "outputs": [],
   "source": [
    "import random\n",
    "\n",
    "class NormalInitializer(Initializer):\n",
    "\n",
    "  def __init__(self, mean=0, std=0.1):\n",
    "    self.mean = mean\n",
    "    self.std = std\n",
    "\n",
    "  def init_weights(self, n_in, n_out):\n",
    "    return [[Var(random.gauss(self.mean, self.std)) for _ in range(n_out)] for _ in range(n_in)]\n",
    "\n",
    "  def init_bias(self, n_out):\n",
    "    return [Var(0.0) for _ in range(n_out)]\n",
    "\n",
    "class ConstantInitializer(Initializer):\n",
    "\n",
    "  def __init__(self, weight=1.0, bias=0.0):\n",
    "    self.weight = weight\n",
    "    self.bias = bias\n",
    "\n",
    "  def init_weights(self, n_in, n_out):\n",
    "    return [[Var(self.weight) for _ in range(n_out)] for _ in range(n_in)]\n",
    "\n",
    "  def init_bias(self, n_out):\n",
    "    return [Var(self.bias) for _ in range(n_out)]"
   ]
  },
  {
   "cell_type": "code",
   "execution_count": 76,
   "metadata": {
    "id": "jOLYGnZKuM6W"
   },
   "outputs": [],
   "source": [
    "from typing import Sequence\n",
    "\n",
    "class DenseLayer:\n",
    "    def __init__(self, n_in: int, n_out: int, act_fn, initializer = NormalInitializer()):\n",
    "        self.weights = initializer.init_weights(n_in, n_out)\n",
    "        self.bias = initializer.init_bias(n_out)\n",
    "        self.act_fn = act_fn\n",
    "    \n",
    "    def __repr__(self):    \n",
    "        return 'Weights: ' + repr(self.weights) + ' Biases: ' + repr(self.bias)\n",
    "\n",
    "    def parameters(self) -> Sequence[Var]:\n",
    "      params = []\n",
    "      for r in self.weights:\n",
    "        params += r\n",
    "\n",
    "      return params + self.bias\n",
    "\n",
    "    def forward(self, single_input: Sequence[Var]) -> Sequence[Var]:\n",
    "        # self.weights is a matrix with dimension n_in x n_out. We check that the dimensionality of the input \n",
    "        # to the current layer matches the number of nodes in the current layer\n",
    "        assert len(self.weights) == len(single_input), \"weights and single_input must match in first dimension\"\n",
    "        weights = self.weights\n",
    "        out = []\n",
    "        # For some given data point single_input, we now want to calculate the resulting value in each node in the current layer\n",
    "        # We therefore loop over the (number of) nodes in the current layer:\n",
    "        for j in range(len(weights[0])): \n",
    "            # Initialize the node value depending on its corresponding parameters.\n",
    "            node = Var(0.0) # <- Insert code\n",
    "            # We now finish the linear transformation corresponding to the parameters of the currently considered node.\n",
    "            for i in range(len(single_input)):\n",
    "                node += Var(0.0)  # <- Insert code\n",
    "            node = self.act_fn(node)\n",
    "            out.append(node)\n",
    "\n",
    "        return out"
   ]
  },
  {
   "cell_type": "markdown",
   "metadata": {
    "id": "jpIZPBpNI0pO"
   },
   "source": [
    "## Exercise f) Add more activation functions\n",
    "\n",
    "To have a full definition of the neural network, we must define an activation function for every layer. Several activation functions have been proposed and have different characteristics. In the Var class we have already defined the rectified linear init (relu). \n",
    " \n",
    "Implement the following activation functions in the Var class:\n",
    "\n",
    "* Identity: $$\\mathrm{identity}(x) = x$$\n",
    "* Hyperbolic tangent: $$\\tanh(x)$$\n",
    "* Sigmoid (or logistic function): $$\\mathrm{sigmoid}(x) = \\frac{1}{1.0 + \\exp(-x ) }$$  Hint: $\\mathrm{sigmoid}'(x)= \\mathrm{sigmoid}(x)(1-\\mathrm{sigmoid}(x))$.  \n",
    "\n",
    "Hint: You can seek inspiration in the relu method in the Var class."
   ]
  },
  {
   "cell_type": "markdown",
   "metadata": {},
   "source": [
    "I add the three activation functions to the class"
   ]
  },
  {
   "cell_type": "code",
   "execution_count": 77,
   "metadata": {},
   "outputs": [],
   "source": [
    "# Copy and pasted from https://github.com/rasmusbergpalm/nanograd/blob/3a1bf9e9e724da813bfccf91a6f309abdade9f39/nanograd.py\n",
    "\n",
    "from math import exp, log\n",
    "\n",
    "class Var:\n",
    "    \"\"\"\n",
    "    A variable which holds a float and enables gradient computations.\n",
    "    \"\"\"\n",
    "\n",
    "    def __init__(self, val: float, grad_fn=lambda: []):\n",
    "        assert type(val) == float\n",
    "        self.v = val\n",
    "        self.grad_fn = grad_fn\n",
    "        self.grad = 0.0\n",
    "\n",
    "    def backprop(self, bp):\n",
    "        self.grad += bp\n",
    "        for input, grad in self.grad_fn():\n",
    "            input.backprop(grad * bp)\n",
    "\n",
    "    def backward(self):\n",
    "        self.backprop(1.0)\n",
    "\n",
    "    def __add__(self: 'Var', other: 'Var') -> 'Var':\n",
    "        return Var(self.v + other.v, lambda: [(self, 1.0), (other, 1.0)])\n",
    "\n",
    "    def __mul__(self: 'Var', other: 'Var') -> 'Var':\n",
    "        return Var(self.v * other.v, lambda: [(self, other.v), (other, self.v)])\n",
    "\n",
    "    def __pow__(self, power):\n",
    "        assert type(power) in {float, int}, \"power must be float or int\"\n",
    "        return Var(self.v ** power, lambda: [(self, power * self.v ** (power - 1))])\n",
    "\n",
    "    def __neg__(self: 'Var') -> 'Var':\n",
    "        return Var(-1.0) * self\n",
    "\n",
    "    def __sub__(self: 'Var', other: 'Var') -> 'Var':\n",
    "        return self + (-other)\n",
    "\n",
    "    def __truediv__(self: 'Var', other: 'Var') -> 'Var':\n",
    "        return self * other ** -1\n",
    "\n",
    "    def __repr__(self):\n",
    "        return \"Var(v=%.4f, grad=%.4f)\" % (self.v, self.grad)\n",
    "\n",
    "    def relu(self):\n",
    "        return Var(self.v if self.v > 0.0 else 0.0, lambda: [(self, 1.0 if self.v > 0.0 else 0.0)]) \n",
    "    \n",
    "    # Sigmoid activation function\n",
    "    def sigmoid(self):\n",
    "        return Var(1/(1+exp(-self.v)), lambda: [(self, 1/(1+exp(-self.v))*(1-1/(1+exp(-self.v))))]) # Here is the implementation of the sigmoid activation function\n",
    "    \n",
    "    # Tanh activation function\n",
    "    def tanh(self):\n",
    "        return Var((exp(self.v)-exp(-self.v))/(exp(self.v)+exp(-self.v)), lambda: [(self, 4/(exp(self.v)+exp(-self.v))**2)]) # Here is the implementation of the tanh activation function\n",
    "    \n",
    "    # Identity activation function\n",
    "    def identity(self):\n",
    "        return Var(self.v, lambda: [(self, 1.0)]) # Here is the implementation of the identity activation function"
   ]
  },
  {
   "cell_type": "markdown",
   "metadata": {},
   "source": [
    " ### The newly implemented function are the bottom three definitions "
   ]
  },
  {
   "cell_type": "markdown",
   "metadata": {
    "id": "p_8n_SKnIW2F"
   },
   "source": [
    "## Exercise g) Complete the forward pass\n",
    "\n",
    "In the code below we initialize a 1-5-1 network and pass the training set through it. *The forward method in DenseLayer is **not** complete*. It just outputs zeros right now. The method forward should perform an [affine transformation](https://en.wikipedia.org/wiki/Affine_transformation) on the input followed by an application of the activation function."
   ]
  },
  {
   "cell_type": "markdown",
   "metadata": {},
   "source": [
    "To do this I need to change the DenseLayer Class. I change the node initiliazation with the bias. And I add the affine transformation in the nodes by multiplying the input by weight and sum the contributions. \n",
    "All theese changes can be found in the forward method."
   ]
  },
  {
   "cell_type": "code",
   "execution_count": 78,
   "metadata": {},
   "outputs": [],
   "source": [
    "from typing import Sequence\n",
    "\n",
    "class DenseLayer:\n",
    "    def __init__(self, n_in: int, n_out: int, act_fn, initializer = NormalInitializer()):\n",
    "        self.weights = initializer.init_weights(n_in, n_out)\n",
    "        self.bias = initializer.init_bias(n_out)\n",
    "        self.act_fn = act_fn\n",
    "    \n",
    "    def __repr__(self):    \n",
    "        return 'Weights: ' + repr(self.weights) + ' Biases: ' + repr(self.bias)\n",
    "\n",
    "    def parameters(self) -> Sequence[Var]:\n",
    "      params = []\n",
    "      for r in self.weights:\n",
    "        params += r\n",
    "\n",
    "      return params + self.bias\n",
    "\n",
    "    def forward(self, single_input: Sequence[Var]) -> Sequence[Var]:\n",
    "        # self.weights is a matrix with dimension n_in x n_out. We check that the dimensionality of the input \n",
    "        # to the current layer matches the number of nodes in the current layer\n",
    "        assert len(self.weights) == len(single_input), \"weights and single_input must match in first dimension\"\n",
    "        weights = self.weights\n",
    "        out = []\n",
    "        # For some given data point single_input, we now want to calculate the resulting value in each node in the current layer\n",
    "        # We therefore loop over the (number of) nodes in the current layer:\n",
    "        for j in range(len(weights[0])): \n",
    "            # Initialize the node value depending on its corresponding parameters.\n",
    "            node = self.bias[j]  # <-- Initialize node with bias\n",
    "\n",
    "            # We now finish the linear transformation corresponding to the parameters of the currently considered node.\n",
    "            for i in range(len(single_input)):\n",
    "                node += single_input[i] * self.weights[i][j]  # <-- Multiply input by weight and sum\n",
    "            \n",
    "            node = self.act_fn(node) # <-- Apply activation function\n",
    "            \n",
    "            out.append(node) # <-- Append node to the output list\n",
    "\n",
    "        return out"
   ]
  },
  {
   "cell_type": "code",
   "execution_count": 79,
   "metadata": {
    "colab": {
     "base_uri": "https://localhost:8080/",
     "height": 337
    },
    "id": "xDEjtePxE7Mv",
    "outputId": "753406cd-d8a1-4282-ce03-25ad959b0e11"
   },
   "outputs": [
    {
     "name": "stdout",
     "output_type": "stream",
     "text": [
      "[[Var(v=0.0051, grad=0.0000)], [Var(v=0.0102, grad=0.0000)], [Var(v=0.0009, grad=0.0000)], [Var(v=0.0200, grad=0.0000)], [Var(v=0.0075, grad=0.0000)], [Var(v=0.0069, grad=0.0000)], [Var(v=0.0045, grad=0.0000)], [Var(v=0.0048, grad=0.0000)], [Var(v=0.0206, grad=0.0000)], [Var(v=0.0028, grad=0.0000)], [Var(v=0.0078, grad=0.0000)], [Var(v=0.0127, grad=0.0000)], [Var(v=0.0063, grad=0.0000)], [Var(v=0.0145, grad=0.0000)], [Var(v=0.0034, grad=0.0000)], [Var(v=0.0065, grad=0.0000)], [Var(v=0.0121, grad=0.0000)], [Var(v=0.0057, grad=0.0000)], [Var(v=0.0006, grad=0.0000)], [Var(v=0.0020, grad=0.0000)], [Var(v=0.0095, grad=0.0000)], [Var(v=0.0042, grad=0.0000)], [Var(v=0.0088, grad=0.0000)], [Var(v=0.0089, grad=0.0000)], [Var(v=0.0056, grad=0.0000)], [Var(v=0.0150, grad=0.0000)], [Var(v=0.0114, grad=0.0000)], [Var(v=0.0126, grad=0.0000)], [Var(v=0.0013, grad=0.0000)], [Var(v=0.0079, grad=0.0000)], [Var(v=0.0188, grad=0.0000)], [Var(v=0.0019, grad=0.0000)], [Var(v=0.0164, grad=0.0000)], [Var(v=0.0177, grad=0.0000)], [Var(v=0.0060, grad=0.0000)], [Var(v=0.0033, grad=0.0000)], [Var(v=0.0203, grad=0.0000)], [Var(v=0.0077, grad=0.0000)], [Var(v=0.0144, grad=0.0000)], [Var(v=0.0103, grad=0.0000)], [Var(v=0.0072, grad=0.0000)], [Var(v=0.0098, grad=0.0000)], [Var(v=0.0118, grad=0.0000)], [Var(v=0.0123, grad=0.0000)], [Var(v=0.0097, grad=0.0000)], [Var(v=0.0118, grad=0.0000)], [Var(v=0.0076, grad=0.0000)], [Var(v=0.0072, grad=0.0000)], [Var(v=0.0045, grad=0.0000)], [Var(v=0.0074, grad=0.0000)], [Var(v=0.0032, grad=0.0000)], [Var(v=0.0003, grad=0.0000)], [Var(v=0.0080, grad=0.0000)], [Var(v=0.0100, grad=0.0000)], [Var(v=0.0127, grad=0.0000)], [Var(v=0.0112, grad=0.0000)], [Var(v=0.0066, grad=0.0000)], [Var(v=0.0074, grad=0.0000)], [Var(v=0.0042, grad=0.0000)], [Var(v=0.0176, grad=0.0000)], [Var(v=0.0074, grad=0.0000)], [Var(v=0.0124, grad=0.0000)], [Var(v=0.0205, grad=0.0000)], [Var(v=0.0036, grad=0.0000)], [Var(v=0.0026, grad=0.0000)], [Var(v=0.0168, grad=0.0000)], [Var(v=0.0180, grad=0.0000)], [Var(v=0.0094, grad=0.0000)], [Var(v=0.0129, grad=0.0000)], [Var(v=0.0037, grad=0.0000)], [Var(v=0.0050, grad=0.0000)], [Var(v=0.0022, grad=0.0000)], [Var(v=0.0073, grad=0.0000)], [Var(v=0.0043, grad=0.0000)], [Var(v=0.0018, grad=0.0000)], [Var(v=0.0115, grad=0.0000)], [Var(v=0.0089, grad=0.0000)], [Var(v=0.0086, grad=0.0000)], [Var(v=0.0113, grad=0.0000)], [Var(v=0.0120, grad=0.0000)], [Var(v=0.0018, grad=0.0000)], [Var(v=0.0011, grad=0.0000)], [Var(v=0.0185, grad=0.0000)], [Var(v=0.0025, grad=0.0000)], [Var(v=0.0094, grad=0.0000)], [Var(v=0.0040, grad=0.0000)], [Var(v=0.0034, grad=0.0000)], [Var(v=0.0104, grad=0.0000)], [Var(v=0.0191, grad=0.0000)], [Var(v=0.0198, grad=0.0000)], [Var(v=0.0043, grad=0.0000)], [Var(v=0.0060, grad=0.0000)], [Var(v=0.0110, grad=0.0000)], [Var(v=0.0068, grad=0.0000)], [Var(v=0.0157, grad=0.0000)], [Var(v=0.0189, grad=0.0000)], [Var(v=0.0031, grad=0.0000)], [Var(v=0.0005, grad=0.0000)], [Var(v=0.0108, grad=0.0000)], [Var(v=0.0112, grad=0.0000)], [Var(v=0.0071, grad=0.0000)], [Var(v=0.0109, grad=0.0000)], [Var(v=0.0167, grad=0.0000)], [Var(v=0.0034, grad=0.0000)], [Var(v=0.0101, grad=0.0000)]]\n"
     ]
    }
   ],
   "source": [
    "NN = [\n",
    "    DenseLayer(1, 5, lambda x: x.relu()),\n",
    "    DenseLayer(5, 1, lambda x: x.identity())\n",
    "]\n",
    "\n",
    "def forward(input, network):\n",
    "\n",
    "  def forward_single(x, network):\n",
    "    for layer in network:\n",
    "        x = layer.forward(x)\n",
    "    return x\n",
    "\n",
    "  output = [ forward_single(input[n], network) for n in range(len(input))]\n",
    "  return output\n",
    "\n",
    "print(forward(x_train, NN))\n"
   ]
  },
  {
   "cell_type": "markdown",
   "metadata": {},
   "source": [
    "I conclude that my implemented changes works for the NN"
   ]
  },
  {
   "cell_type": "markdown",
   "metadata": {
    "id": "oLrGJytZFtGm"
   },
   "source": [
    "## Exercise h) Print all network parameters\n",
    "\n",
    "Make a function that prints all the parameters of the network (weights and biases) with information about in which layer the appear. In the object oriented spirit you should introduce a method in the DenseLayer class to print the parameters of a layer. Hint: You can take inspiration from the corresponding method in Var. "
   ]
  },
  {
   "cell_type": "markdown",
   "metadata": {},
   "source": [
    "I modify the Denselayer class again. I add the print_parameters method to the class as to enable it to printout the biases and weights of the network. "
   ]
  },
  {
   "cell_type": "code",
   "execution_count": 80,
   "metadata": {},
   "outputs": [],
   "source": [
    "from typing import Sequence\n",
    "\n",
    "class DenseLayer:\n",
    "    def __init__(self, n_in: int, n_out: int, act_fn, initializer = NormalInitializer()):\n",
    "        self.weights = initializer.init_weights(n_in, n_out)\n",
    "        self.bias = initializer.init_bias(n_out)\n",
    "        self.act_fn = act_fn\n",
    "    \n",
    "    def __repr__(self):    \n",
    "        return 'Weights: ' + repr(self.weights) + ' Biases: ' + repr(self.bias)\n",
    "\n",
    "    def parameters(self) -> Sequence[Var]:\n",
    "      params = []\n",
    "      for r in self.weights:\n",
    "        params += r\n",
    "\n",
    "      return params + self.bias\n",
    "  \n",
    "    # Method to print parameters of the layer\n",
    "    def print_parameters(self, layer_num: int):\n",
    "        print(f\"Layer {layer_num} - Weights:\")\n",
    "        for i, row in enumerate(self.weights):\n",
    "            print(f\"  Node {i} weights: {[w.v for w in row]}\")  # <-- Access the `v` attribute\n",
    "        print(f\"Layer {layer_num} - Biases:\")\n",
    "        print(f\"  Biases: {[b.v for b in self.bias]}\")  # <-- Access the `v` attribute\n",
    "\n",
    "    def forward(self, single_input: Sequence[Var]) -> Sequence[Var]:\n",
    "        # self.weights is a matrix with dimension n_in x n_out. We check that the dimensionality of the input \n",
    "        # to the current layer matches the number of nodes in the current layer\n",
    "        assert len(self.weights) == len(single_input), \"weights and single_input must match in first dimension\"\n",
    "        weights = self.weights\n",
    "        out = []\n",
    "        # For some given data point single_input, we now want to calculate the resulting value in each node in the current layer\n",
    "        # We therefore loop over the (number of) nodes in the current layer:\n",
    "        for j in range(len(weights[0])): \n",
    "            # Initialize the node value depending on its corresponding parameters.\n",
    "            node = self.bias[j]  # <-- Initialize node with bias\n",
    "\n",
    "            # We now finish the linear transformation corresponding to the parameters of the currently considered node.\n",
    "            for i in range(len(single_input)):\n",
    "                node += single_input[i] * self.weights[i][j]  # <-- Multiply input by weight and sum\n",
    "            \n",
    "            node = self.act_fn(node) # <-- Apply activation function\n",
    "            \n",
    "            out.append(node) # <-- Append node to the output list\n",
    "\n",
    "        return out"
   ]
  },
  {
   "cell_type": "markdown",
   "metadata": {},
   "source": [
    "Then I make a helping function to print all network parameters. This functioun enumerates through the network calling the print_parameters method"
   ]
  },
  {
   "cell_type": "code",
   "execution_count": 81,
   "metadata": {
    "id": "iac-VwYGFtGm"
   },
   "outputs": [],
   "source": [
    "def print_network_parameters(network):\n",
    "    for idx, layer in enumerate(network):\n",
    "        layer.print_parameters(idx + 1)\n"
   ]
  },
  {
   "cell_type": "markdown",
   "metadata": {},
   "source": [
    "I call the function for a new network structure"
   ]
  },
  {
   "cell_type": "code",
   "execution_count": 82,
   "metadata": {},
   "outputs": [
    {
     "name": "stdout",
     "output_type": "stream",
     "text": [
      "Layer 1 - Weights:\n",
      "  Node 0 weights: [0.07565105280753476, 0.1221598154427432, -0.02992603368424436, 0.058653238470548985, -0.04511919006761711]\n",
      "Layer 1 - Biases:\n",
      "  Biases: [0.0, 0.0, 0.0, 0.0, 0.0]\n",
      "Layer 2 - Weights:\n",
      "  Node 0 weights: [-0.1364282022952396]\n",
      "  Node 1 weights: [0.06497243305843113]\n",
      "  Node 2 weights: [-0.03786665173795694]\n",
      "  Node 3 weights: [-0.12651563719567382]\n",
      "  Node 4 weights: [-0.17777752057163776]\n",
      "Layer 2 - Biases:\n",
      "  Biases: [0.0]\n"
     ]
    }
   ],
   "source": [
    "NN = [\n",
    "    DenseLayer(1, 5, lambda x: x.relu()),\n",
    "    DenseLayer(5, 1, lambda x: x.identity())\n",
    "]\n",
    "\n",
    "print_network_parameters(NN)"
   ]
  },
  {
   "cell_type": "markdown",
   "metadata": {},
   "source": [
    "I conclude that it works as intended"
   ]
  },
  {
   "cell_type": "markdown",
   "metadata": {
    "id": "_79HOAXrFtHK"
   },
   "source": [
    "## Visualization\n",
    "\n",
    "Now that we have defined our activation functions we can visualize them to see what they look like:"
   ]
  },
  {
   "cell_type": "code",
   "execution_count": 83,
   "metadata": {
    "id": "1FcylHqLTl-Z"
   },
   "outputs": [
    {
     "data": {
      "text/plain": [
       "[<matplotlib.lines.Line2D at 0x2972bf9cc50>]"
      ]
     },
     "execution_count": 83,
     "metadata": {},
     "output_type": "execute_result"
    },
    {
     "data": {
      "image/png": "[encoded data removed]",
      "text/plain": [
       "<Figure size 640x480 with 1 Axes>"
      ]
     },
     "metadata": {},
     "output_type": "display_data"
    }
   ],
   "source": [
    "x = np.linspace(-6, 6, 100)\n",
    "\n",
    "# convert from Var to ndarray  \n",
    "def Var_to_nparray(x):\n",
    "  y = np.zeros((len(x),len(x[0])))\n",
    "  for i in range(len(x)):\n",
    "    for j in range(len(x[0])):\n",
    "      y[i,j] = x[i][j].v\n",
    "  return y\n",
    "\n",
    "# define 1-1 network with weight = 1 and relu activation \n",
    "NN = [ DenseLayer(1, 1, lambda x: x.relu(), initializer = ConstantInitializer(1.0)) ] \n",
    "y = Var_to_nparray(forward(nparray_to_Var(x), NN))\n",
    "\n",
    "#y = Var_to_nparray(relu(nparray_to_Var(x)))\n",
    "plt.plot(x,y)"
   ]
  },
  {
   "cell_type": "code",
   "execution_count": 84,
   "metadata": {
    "id": "oOL2UolJFtHL"
   },
   "outputs": [
    {
     "data": {
      "image/png": "[encoded data removed]",
      "text/plain": [
       "<Figure size 500x500 with 1 Axes>"
      ]
     },
     "metadata": {},
     "output_type": "display_data"
    }
   ],
   "source": [
    "# Testing all activation layers\n",
    "\n",
    "x = np.linspace(-6, 6, 100)\n",
    "units = {\n",
    "    \"identity\": lambda x: x.identity(),\n",
    "    \"sigmoid\": lambda x: x.sigmoid(),\n",
    "    \"relu\": lambda x: x.relu(),\n",
    "    \"tanh\": lambda x: x.tanh()\n",
    "}\n",
    "\n",
    "plt.figure(figsize=(5, 5))\n",
    "[plt.plot(x, Var_to_nparray(forward(nparray_to_Var(x), [DenseLayer(1, 1, unit, initializer = ConstantInitializer(1.0))]) ), label=unit_name, lw=2) for unit_name, unit in units.items()] # unit(nparray_to_Var(x))), label=unit_name, lw=2) for unit_name, unit in units.items()]\n",
    "plt.legend(loc=2, fontsize=16)\n",
    "plt.title('Our activation functions', fontsize=20)\n",
    "plt.ylim([-2, 5])\n",
    "plt.xlim([-6, 6])\n",
    "plt.show()"
   ]
  },
  {
   "cell_type": "markdown",
   "metadata": {},
   "source": [
    "### I conclude that my implementation of the activation functions works as intended"
   ]
  },
  {
   "cell_type": "markdown",
   "metadata": {
    "id": "b-jdEl-7FtGs"
   },
   "source": [
    "# Advanced initialization schemes\n",
    "\n",
    "If we are not careful with initialization, the signals we propagate forward ($a^{(l)}$, $l=1,\\ldots,L$) and backward ($\\delta^l$, $l=L,L-1,\\ldots,1$) can blow up or shrink to zero. A statistical analysis of the variance of the signals for different activation functions can be found in these two papers: [Glorot initialization](http://proceedings.mlr.press/v9/glorot10a/glorot10a.pdf) and [He initialization](https://arxiv.org/pdf/1502.01852v1.pdf). \n",
    "\n",
    "The result of the analyses are proposals for how to make the initialization such that the variance of the signals (forward and backward) are kept approxmimatly constant when propagating from layer to layer. The exact expressions depend upon the non-linear activation function used. In Glorot initialization, the aim is to keep both the forward and backward variances constant whereas He only aims at keeping the variance in the forward pass constant.\n",
    "\n",
    "We define $n_{in}$ and $n_{out}$ as the number of input units and output units of a particular layer. \n",
    "\n",
    "The Glorot initialization has the form: \n",
    "\n",
    "$$w_{ij} \\sim N \\bigg( 0, \\, \\frac{2 \\alpha }{n_{in} + n_{out}} \\bigg) \\ . $$\n",
    "\n",
    "where $N(\\mu,\\sigma^2)$ is a Gaussian distribution with mean $\\mu$ and variance $\\sigma^2$ and $\\alpha$ is a parameter that depends upon the activation function used. For $\\tanh$, $\\alpha=1$ and for Rectified Linear Unit (ReLU) activations, $\\alpha=2$. (It is also possible to use a uniform distribution for initialization, see [this blog post](https://mmuratarat.github.io/2019-02-25/xavier-glorot-he-weight-init).) \n",
    "\n",
    "The He initialization is very similar\n",
    "\n",
    "$$w_{ij} \\sim N \\bigg( 0, \\, \\frac{\\alpha}{n_{in}} \\bigg) \\ . $$"
   ]
  },
  {
   "cell_type": "markdown",
   "metadata": {
    "id": "mqeyab9qFtGs"
   },
   "source": [
    "## Exercise i) Glorot and He initialization\n",
    " \n",
    "Using the Initializer class, implement functions that implement Glorot and He \n",
    "\n",
    "Explain briefly how you would test numerically that these initializations have the sought after property. Hint: See plots in Glorot paper.\n",
    "\n",
    "Comment: If you want to be more advanced then try to make a universal initializer taking both the activation function and type (Glorot or He) as argument."
   ]
  },
  {
   "cell_type": "markdown",
   "metadata": {},
   "source": [
    "FIrst I implement the glorot tanh initialization method and then the He initialization. "
   ]
  },
  {
   "cell_type": "code",
   "execution_count": 85,
   "metadata": {
    "id": "Qyk01CgaFtGt"
   },
   "outputs": [],
   "source": [
    "import numpy as np\n",
    "## Glorot\n",
    "def DenseLayer_Glorot_tanh(n_in: int, n_out: int, alpha=1):\n",
    "  std = np.sqrt(2 * alpha) / (n_in + n_out)  # α = 1 for tanh in glorot initialization : w_ij ~ N(0, 2 *alpha/(n_in + n_out))\n",
    "  return DenseLayer(n_in, n_out, lambda x: x.tanh(), initializer = NormalInitializer(std))\n",
    "\n",
    "## He\n",
    "def DenseLayer_He_relu(n_in: int, n_out: int,alpha=2):\n",
    "  std = np.sqrt( alpha / n_in)  # α = 2 for ReLU in He initialization : w_ij ~ N(0, alpha/n_in)\n",
    "  return DenseLayer(n_in, n_out, lambda x: x.relu(), initializer = NormalInitializer(std))"
   ]
  },
  {
   "cell_type": "markdown",
   "metadata": {},
   "source": [
    "Making a universal intializer"
   ]
  },
  {
   "cell_type": "code",
   "execution_count": 86,
   "metadata": {},
   "outputs": [],
   "source": [
    "# Making a universal initializer that uses DenseLayer_Glorot_tanh and DenseLayer_He_relu choosing between them based on act = 'Glorot' or act = 'He'\n",
    "def universal_initializer(n_in: int, n_out: int,alpha, act: str):\n",
    "  if act == 'Glorot':\n",
    "    return DenseLayer_Glorot_tanh(n_in, n_out, alpha)\n",
    "  elif act == 'He':\n",
    "    return DenseLayer_He_relu(n_in, n_out,alpha)\n",
    "  else:\n",
    "    raise ValueError(\"act must be 'Glorot' or 'He'\")"
   ]
  },
  {
   "cell_type": "markdown",
   "metadata": {},
   "source": [
    "### To test numerically that the Glorot initialization maintains the desired properties of variance across layers and stable gradient propagation, I would follow these steps:\n",
    "\n",
    "1. **Monitor Activation and Gradient Distributions**: \n",
    "   - Plot histograms of activation values and gradients at initialization for both standard and Glorot initialization methods, as shown in Figures 6, 7, and 8 of the Glorot paper. Check whether the gradients vanish or explode as they propagate through the layers.\n",
    "\n",
    "2. **Track Error Curves**: \n",
    "   - Plot the test error over time during training for different initialization methods, as in Figure 11 in  the paper. Successful initialization should show faster convergence and lower final error.\n",
    "\n",
    "These tests would numerically confirm that the initialization maintains the variance of activations and gradients, which is key for stable deep network training.\n"
   ]
  },
  {
   "cell_type": "markdown",
   "metadata": {
    "id": "-XyXBD37FtHk"
   },
   "source": [
    "## Exercise j) Forward pass unit test\n",
    "\n",
    "Write a bit of code to make a unit test that the forward pass works. This can be done by defining a simple network with for example all weights equal to one (using the ConstantInitializer method) and identity activation functions. \n",
    "\n",
    "Hints: Use the [assert](https://www.w3schools.com/python/ref_keyword_assert.asp), the nparray_to_Var and the Var_to_nparray commands. "
   ]
  },
  {
   "cell_type": "markdown",
   "metadata": {},
   "source": [
    "### Forward Pass Unit Test\n",
    "\n",
    "The forward pass unit test constructs a simple neural network with:\n",
    "\n",
    "- **3 input nodes**\n",
    "- **Identity activation function**\n",
    "- **2 output nodes**\n",
    "\n",
    "The weights are all initialized to 1, and the biases are initialized to 0. Therefore, the expected output for both output nodes can be calculated as follows:\n",
    "\n",
    "$$\n",
    "\\text{output}_0 = 1 \\times 1 + 1 \\times 1 + 1 \\times 1 + 0 = 3\n",
    "$$\n",
    "\n",
    "$$\n",
    "\\text{output}_1 = 1 \\times 1 + 1 \\times 1 + 1 \\times 1 + 0 = 3\n",
    "$$\n",
    "\n",
    "Hence, the expected output for both nodes is `[3, 3]`.\n"
   ]
  },
  {
   "cell_type": "code",
   "execution_count": 87,
   "metadata": {
    "id": "k0miqRUAFtHl"
   },
   "outputs": [
    {
     "name": "stdout",
     "output_type": "stream",
     "text": [
      "3.0 3.0\n",
      "3.0 3.0\n",
      "Forward pass unit test passed!\n"
     ]
    }
   ],
   "source": [
    "def forward_pass_unit_test():\n",
    "    # Create a DenseLayer with ConstantInitializer (all weights = 1, biases = 0)\n",
    "    n_in, n_out = 3, 2  # Example: 3 input nodes, 2 output nodes\n",
    "    layer = DenseLayer(n_in, n_out, lambda x: x.identity(), initializer=ConstantInitializer(weight=1.0, bias=0.0))\n",
    "\n",
    "    # Input: Vector of 1's\n",
    "    input_values = [Var(1.0), Var(1.0), Var(1.0)]  # Input has 3 values all set to 1\n",
    "\n",
    "    # Perform the forward pass\n",
    "    output = layer.forward(input_values)\n",
    "\n",
    "    # Convert the Var objects to their actual values for comparison\n",
    "    output_values = [o.v for o in output]\n",
    "\n",
    "    # Expected output:\n",
    "    # For each output node:\n",
    "    # output_j = sum(input_i * weight_ij) + bias_j\n",
    "    # Since all inputs and weights are 1, and bias is 0:\n",
    "    # output_0 = 1*1 + 1*1 + 1*1 + 0 = 3\n",
    "    # output_1 = 1*1 + 1*1 + 1*1 + 0 = 3\n",
    "    expected_output = [3.0, 3.0]\n",
    "\n",
    "    # Check if the output matches the expected output\n",
    "    for out, expected in zip(output_values, expected_output):\n",
    "        print(out, expected)\n",
    "        assert out == expected, f\"Expected {expected}, but got {out}\"\n",
    "\n",
    "    print(\"Forward pass unit test passed!\")\n",
    "\n",
    "# Run the unit test\n",
    "forward_pass_unit_test()"
   ]
  },
  {
   "cell_type": "markdown",
   "metadata": {},
   "source": [
    "### I conclude my implementation of the forward pass works as intended"
   ]
  },
  {
   "cell_type": "markdown",
   "metadata": {
    "id": "faCxhfFnFtHp"
   },
   "source": [
    "# Loss functions\n",
    "\n",
    "We are only missing a loss function to we need to define a loss function and its derivative with respect to the output of the neural network $y$"
   ]
  },
  {
   "cell_type": "code",
   "execution_count": 88,
   "metadata": {
    "id": "I2eDYKvAFtHq"
   },
   "outputs": [],
   "source": [
    "def squared_loss(t, y):\n",
    "  \n",
    "  # add check that sizes agree \n",
    "  assert len(t) == len(y), \"t and y must have the same length\"\n",
    "    \n",
    "  def squared_loss_single(t, y):\n",
    "    Loss = Var(0.0)\n",
    "    for i in range(len(t)): # sum over outputs\n",
    "      Loss += (t[i]-y[i]) ** 2\n",
    "    return Loss\n",
    "\n",
    "  Loss = Var(0.0)\n",
    "  for n in range(len(t)): # sum over training data\n",
    "    Loss += squared_loss_single(t[n],y[n])\n",
    "  return Loss"
   ]
  },
  {
   "cell_type": "markdown",
   "metadata": {
    "id": "SrwSJ2UWFtHu"
   },
   "source": [
    "## Exercise k) Implement cross entropy loss\n",
    "\n",
    "Insert code below to implement cross-entropy loss for general dimensionality of $t$. Use a logits formulation:\n",
    "$$\n",
    "\\rm{Loss} = - \\sum_i t_i \\, log \\, p_i \n",
    "$$\n",
    "with $p$ given by the the softmax function in terms of the logits $h$:\n",
    "$$\n",
    "p_i = \\frac{\\exp(h_i)}{\\sum_{i'} \\exp(h_{i'})} .\n",
    "$$\n",
    "Inserting $p$ in the expression for the loss gives\n",
    "$$\n",
    "\\rm{Loss} = - \\sum_i t_i h_i + \\rm{LogSumExp}(h) \\ ,\n",
    "$$\n",
    "where \n",
    "$$\n",
    "\\rm{LogSumExp}(h) = \\log \\sum_i \\exp h_i \\ .\n",
    "$$\n",
    "This is true for $t$ being a one-hot vector. \n",
    "\n",
    "Call the function to convince yourself it works. \n",
    "\n",
    "In practice you want to implement a [numerically stable](https://leimao.github.io/blog/LogSumExp/) version of LogSumExp. But we will not bother about that here.\n",
    "\n",
    "Help: You can add these methods in the Var class:\n",
    "\n",
    "    def exp(self):\n",
    "        return Var(exp(self.v), lambda: [(self, exp(self.v))])\n",
    "    \n",
    "    def log(self):\n",
    "        return Var(log(self.v), lambda: [(self, self.v ** -1)])"
   ]
  },
  {
   "cell_type": "markdown",
   "metadata": {},
   "source": [
    "### First I add the exp and log method to var class"
   ]
  },
  {
   "cell_type": "code",
   "execution_count": 89,
   "metadata": {},
   "outputs": [],
   "source": [
    "# Copy and pasted from https://github.com/rasmusbergpalm/nanograd/blob/3a1bf9e9e724da813bfccf91a6f309abdade9f39/nanograd.py\n",
    "\n",
    "from math import exp, log\n",
    "\n",
    "class Var:\n",
    "    \"\"\"\n",
    "    A variable which holds a float and enables gradient computations.\n",
    "    \"\"\"\n",
    "\n",
    "    def __init__(self, val: float, grad_fn=lambda: []):\n",
    "        assert type(val) == float\n",
    "        self.v = val\n",
    "        self.grad_fn = grad_fn\n",
    "        self.grad = 0.0\n",
    "\n",
    "    def backprop(self, bp):\n",
    "        self.grad += bp\n",
    "        for input, grad in self.grad_fn():\n",
    "            input.backprop(grad * bp)\n",
    "\n",
    "    def backward(self):\n",
    "        self.backprop(1.0)\n",
    "\n",
    "    def __add__(self: 'Var', other: 'Var') -> 'Var':\n",
    "        return Var(self.v + other.v, lambda: [(self, 1.0), (other, 1.0)])\n",
    "\n",
    "    def __mul__(self: 'Var', other: 'Var') -> 'Var':\n",
    "        return Var(self.v * other.v, lambda: [(self, other.v), (other, self.v)])\n",
    "\n",
    "    def __pow__(self, power):\n",
    "        assert type(power) in {float, int}, \"power must be float or int\"\n",
    "        return Var(self.v ** power, lambda: [(self, power * self.v ** (power - 1))])\n",
    "\n",
    "    def __neg__(self: 'Var') -> 'Var':\n",
    "        return Var(-1.0) * self\n",
    "\n",
    "    def __sub__(self: 'Var', other: 'Var') -> 'Var':\n",
    "        return self + (-other)\n",
    "\n",
    "    def __truediv__(self: 'Var', other: 'Var') -> 'Var':\n",
    "        return self * other ** -1\n",
    "\n",
    "    def __repr__(self):\n",
    "        return \"Var(v=%.4f, grad=%.4f)\" % (self.v, self.grad)\n",
    "\n",
    "    def relu(self):\n",
    "        return Var(self.v if self.v > 0.0 else 0.0, lambda: [(self, 1.0 if self.v > 0.0 else 0.0)]) \n",
    "    \n",
    "    # Sigmoid activation function\n",
    "    def sigmoid(self):\n",
    "        return Var(1/(1+exp(-self.v)), lambda: [(self, 1/(1+exp(-self.v))*(1-1/(1+exp(-self.v))))]) # Here is the implementation of the sigmoid activation function\n",
    "    \n",
    "    # Tanh activation function\n",
    "    def tanh(self):\n",
    "        return Var((exp(self.v)-exp(-self.v))/(exp(self.v)+exp(-self.v)), lambda: [(self, 4/(exp(self.v)+exp(-self.v))**2)]) # Here is the implementation of the tanh activation function\n",
    "    \n",
    "    # Identity activation function\n",
    "    def identity(self):\n",
    "        return Var(self.v, lambda: [(self, 1.0)]) # Here is the implementation of the identity activation function\n",
    "    # exp\n",
    "    def exp(self):\n",
    "        return Var(exp(self.v), lambda: [(self, exp(self.v))])\n",
    "    # log\n",
    "    def log(self):\n",
    "        return Var(log(self.v), lambda: [(self, self.v ** -1)])"
   ]
  },
  {
   "cell_type": "markdown",
   "metadata": {},
   "source": [
    "### Then I define the LogSumExp function"
   ]
  },
  {
   "cell_type": "code",
   "execution_count": 90,
   "metadata": {},
   "outputs": [],
   "source": [
    "# LogSumExp(h) = log(sum_i' exp(h_i'))\n",
    "def log_sum_exp(h):\n",
    "    log_sum = Var(0.0)\n",
    "    for i in range(len(h)):\n",
    "        log_sum += h[i].exp()\n",
    "    return log_sum.log()\n"
   ]
  },
  {
   "cell_type": "markdown",
   "metadata": {},
   "source": [
    "### Finally I add the Cross entropy loss function "
   ]
  },
  {
   "cell_type": "code",
   "execution_count": 91,
   "metadata": {},
   "outputs": [],
   "source": [
    "def cross_entropy_loss(t_batch, h_batch):\n",
    "    \"\"\"\n",
    "    Cross-entropy loss for batches of data using the logits formulation.\n",
    "    \n",
    "    Args:\n",
    "    t_batch: batch of target vectors (one-hot encoded)\n",
    "    h_batch: batch of logits vectors (pre-softmax)\n",
    "    \n",
    "    Returns:\n",
    "    Cross-entropy loss value for the batch\n",
    "    \"\"\"\n",
    "    # Check that batch sizes agree\n",
    "    assert len(t_batch) == len(h_batch), \"t_batch and h_batch must have the same batch size\"\n",
    "    \n",
    "    # Initialize total loss for the batch\n",
    "    total_loss = Var(0.0)\n",
    "    \n",
    "    # Iterate over each element in the batch\n",
    "    for t, h in zip(t_batch, h_batch):\n",
    "        # Add check that sizes agree within each sample\n",
    "        assert len(t) == len(h), \"Each t and h must have the same length\"\n",
    "        \n",
    "        \n",
    "        # Compute the loss for a single sample: - sum_i t_i h_i + LogSumExp(h)\n",
    "        Loss = Var(0.0)\n",
    "        for i in range(len(t)):\n",
    "            Loss += -t[i] * h[i]  # t_i * h_i term\n",
    "\n",
    "        Loss += log_sum_exp(h)  # LogSumExp term\n",
    "        \n",
    "        # Accumulate the loss for the batch\n",
    "        total_loss += Loss\n",
    "    \n",
    "    # Optionally, return the average loss across the batch\n",
    "    return total_loss / Var(float(len(t_batch)))\n"
   ]
  },
  {
   "cell_type": "markdown",
   "metadata": {},
   "source": [
    "I test the cross entropy function  "
   ]
  },
  {
   "cell_type": "code",
   "execution_count": 92,
   "metadata": {},
   "outputs": [
    {
     "name": "stdout",
     "output_type": "stream",
     "text": [
      "0.3930055758395743 0.3930055758395743\n"
     ]
    }
   ],
   "source": [
    "# Example usage with a batch of Var objects for t_batch and h_batch\n",
    "t_batch = [[Var(1.0), Var(0.0), Var(0.0)], [Var(0.0), Var(1.0), Var(0.0)]]  # Example one-hot target batch\n",
    "h_batch = [[Var(2.0), Var(1.0), Var(0.1)], [Var(0.5), Var(2.0), Var(0.5)]]  # Example logits batch\n",
    "\n",
    "# Compute expected loss\n",
    "expected_loss = Var(0.0)\n",
    "for t, h in zip(t_batch, h_batch):\n",
    "    for i in range(len(t)):\n",
    "        expected_loss += -t[i] * h[i]\n",
    "    expected_loss += log_sum_exp(h)\n",
    "    \n",
    "expected_loss /= Var(float(len(t_batch)))\n",
    "\n",
    "\n",
    "# Compute the cross-entropy loss\n",
    "loss = cross_entropy_loss(t_batch, h_batch)\n",
    "\n",
    "# compare by printing\n",
    "print(loss.v, expected_loss.v)\n"
   ]
  },
  {
   "cell_type": "markdown",
   "metadata": {},
   "source": [
    "### I conclude my implementation of the Cross Entropy loss function works "
   ]
  },
  {
   "cell_type": "markdown",
   "metadata": {
    "id": "8fAF5ew4FtHy"
   },
   "source": [
    "# Backward pass\n",
    "\n",
    "Now the magic happens! We get the calculation of the gradients for free. Just do:"
   ]
  },
  {
   "cell_type": "code",
   "execution_count": 93,
   "metadata": {
    "id": "iHyfPPI9Qqwu"
   },
   "outputs": [],
   "source": [
    "NN = [\n",
    "    DenseLayer(1, 5, lambda x: x.relu()),\n",
    "    DenseLayer(5, 1, lambda x: x.identity())\n",
    "]\n",
    "\n",
    "output = forward(x_train, NN)\n",
    "\n",
    "Loss = squared_loss(y_train,output)\n",
    "Loss.backward()\n"
   ]
  },
  {
   "cell_type": "markdown",
   "metadata": {
    "id": "49biIAYKQ1oG"
   },
   "source": [
    "and the gradients will be calculated:"
   ]
  },
  {
   "cell_type": "code",
   "execution_count": 94,
   "metadata": {
    "id": "_rGt1bq_Q7uk"
   },
   "outputs": [
    {
     "name": "stdout",
     "output_type": "stream",
     "text": [
      "Layer 0 \n",
      " Weights: [[Var(v=0.1123, grad=1.3254), Var(v=-0.0443, grad=-2.4394), Var(v=0.0822, grad=20.5421), Var(v=0.0345, grad=-11.7762), Var(v=-0.1352, grad=3.0101)]] Biases: [Var(v=0.0000, grad=1.1382), Var(v=0.0000, grad=2.2171), Var(v=0.0000, grad=17.6408), Var(v=0.0000, grad=-10.1130), Var(v=0.0000, grad=-2.7359)]\n",
      "Layer 1 \n",
      " Weights: [[Var(v=-0.0129, grad=-11.5755)], [Var(v=0.0255, grad=4.2423)], [Var(v=-0.1992, grad=-8.4723)], [Var(v=0.1142, grad=-3.5589)], [Var(v=-0.0315, grad=12.9394)]] Biases: [Var(v=0.0000, grad=-1.5737)]\n"
     ]
    },
    {
     "data": {
      "text/plain": [
       "[None, None]"
      ]
     },
     "execution_count": 94,
     "metadata": {},
     "output_type": "execute_result"
    }
   ],
   "source": [
    "[print('Layer', i, '\\n', NN[i]) for i in range(len(NN))] "
   ]
  },
  {
   "cell_type": "markdown",
   "metadata": {},
   "source": [
    "I Try with cross Entropy loss "
   ]
  },
  {
   "cell_type": "code",
   "execution_count": 95,
   "metadata": {},
   "outputs": [],
   "source": [
    "NN = [\n",
    "    DenseLayer(1, 5, lambda x: x.relu()),\n",
    "    DenseLayer(5, 1, lambda x: x.identity())\n",
    "]\n",
    "\n",
    "output = forward(x_train, NN)\n",
    "\n",
    "Loss = cross_entropy_loss(y_train,output)\n",
    "Loss.backward()\n"
   ]
  },
  {
   "cell_type": "code",
   "execution_count": 96,
   "metadata": {},
   "outputs": [
    {
     "name": "stdout",
     "output_type": "stream",
     "text": [
      "Layer 0 \n",
      " Weights: [[Var(v=-0.0364, grad=0.0002), Var(v=-0.0965, grad=-0.1331), Var(v=0.0516, grad=-0.0018), Var(v=-0.0653, grad=-0.0709), Var(v=-0.1073, grad=0.0760)]] Biases: [Var(v=0.0000, grad=-0.0003), Var(v=0.0000, grad=0.1363), Var(v=0.0000, grad=0.0034), Var(v=0.0000, grad=0.0727), Var(v=0.0000, grad=-0.0779)]\n",
      "Layer 1 \n",
      " Weights: [[Var(v=-0.0003, grad=0.0327)], [Var(v=0.1481, grad=0.0867)], [Var(v=0.0425, grad=-0.0022)], [Var(v=0.0790, grad=0.0587)], [Var(v=-0.0846, grad=0.0964)]] Biases: [Var(v=0.0000, grad=1.0000)]\n"
     ]
    },
    {
     "data": {
      "text/plain": [
       "[None, None]"
      ]
     },
     "execution_count": 96,
     "metadata": {},
     "output_type": "execute_result"
    }
   ],
   "source": [
    "[print('Layer', i, '\\n', NN[i]) for i in range(len(NN))] "
   ]
  },
  {
   "cell_type": "markdown",
   "metadata": {},
   "source": [
    "Compare squared and Cross Entropy Loss"
   ]
  },
  {
   "cell_type": "code",
   "execution_count": 97,
   "metadata": {},
   "outputs": [
    {
     "name": "stdout",
     "output_type": "stream",
     "text": [
      "106.15083425188958 -0.0015412770228616774\n"
     ]
    }
   ],
   "source": [
    "# Compare squared loss with cross entropy loss\n",
    "# squared loss\n",
    "NN = [\n",
    "    DenseLayer(1, 5, lambda x: x.relu()),\n",
    "    DenseLayer(5, 1, lambda x: x.identity())\n",
    "]\n",
    "\n",
    "output = forward(x_train, NN)\n",
    "\n",
    "sq_loss = squared_loss(y_train,output)\n",
    "\n",
    "# cross entropy loss\n",
    "ce_loss = cross_entropy_loss(y_train,output)\n",
    "\n",
    "print(sq_loss.v, ce_loss.v)"
   ]
  },
  {
   "cell_type": "markdown",
   "metadata": {},
   "source": [
    "### I conclude that for both Squared Error And Cross Entropy loss my neural networks forward pass works"
   ]
  },
  {
   "cell_type": "markdown",
   "metadata": {
    "id": "D7d7qK0uFtH9"
   },
   "source": [
    "# Backward pass unit test\n",
    "\n",
    "Above we used finite differences to test that Nanograd is actually doing what it is supposed to do. We can in principle try the same for the neural network. But we will trust that the test above is enough."
   ]
  },
  {
   "cell_type": "markdown",
   "metadata": {
    "id": "WgBi8GOSFtIN"
   },
   "source": [
    "# Training and validation\n",
    "\n",
    "We are ready to train some neural networks!\n",
    "\n",
    "We initialize again:"
   ]
  },
  {
   "cell_type": "code",
   "execution_count": 98,
   "metadata": {
    "id": "01ePmzBzRtdh"
   },
   "outputs": [],
   "source": [
    "NN = [\n",
    "    DenseLayer(1, 15, lambda x: x.relu()),\n",
    "    DenseLayer(15, 50, lambda x: x.relu()),\n",
    "    DenseLayer(50, 1, lambda x: x.identity())\n",
    "]\n",
    "\n",
    "output = forward(x_train, NN)\n",
    "\n",
    "Loss = squared_loss(y_train,output)\n",
    "Loss.backward()"
   ]
  },
  {
   "cell_type": "markdown",
   "metadata": {
    "id": "10iRPiQ1ISHw"
   },
   "source": [
    "and make an update:\n",
    "\n",
    "We introduce a help function parameters to have a handle in all parameters in the network."
   ]
  },
  {
   "cell_type": "code",
   "execution_count": 99,
   "metadata": {
    "id": "dhAI7eyeznia"
   },
   "outputs": [
    {
     "name": "stdout",
     "output_type": "stream",
     "text": [
      "Network before update:\n",
      "Layer 0 \n",
      " Weights: [[Var(v=0.0261, grad=-4.7674), Var(v=-0.0629, grad=-6.2346), Var(v=0.0665, grad=-2.0322), Var(v=0.0882, grad=-8.0236), Var(v=0.1455, grad=11.8050), Var(v=-0.1538, grad=-1.0669), Var(v=0.1888, grad=2.9012), Var(v=0.1032, grad=2.3578), Var(v=0.0631, grad=-6.6163), Var(v=-0.1022, grad=1.3786), Var(v=0.0051, grad=1.0839), Var(v=-0.0715, grad=2.0440), Var(v=-0.0462, grad=-3.0948), Var(v=-0.0158, grad=1.1669), Var(v=0.1042, grad=3.7795)]] Biases: [Var(v=0.0000, grad=-4.0940), Var(v=0.0000, grad=5.6673), Var(v=0.0000, grad=-1.7451), Var(v=0.0000, grad=-6.8902), Var(v=0.0000, grad=10.1375), Var(v=0.0000, grad=0.9698), Var(v=0.0000, grad=2.4914), Var(v=0.0000, grad=2.0247), Var(v=0.0000, grad=-5.6817), Var(v=0.0000, grad=-1.2531), Var(v=0.0000, grad=0.9308), Var(v=0.0000, grad=-1.8581), Var(v=0.0000, grad=2.8133), Var(v=0.0000, grad=-1.0607), Var(v=0.0000, grad=3.2456)]\n",
      "Layer 1 \n",
      " Weights: [[Var(v=0.2472, grad=0.3820), Var(v=0.1070, grad=0.0000), Var(v=-0.0058, grad=-0.0363), Var(v=0.0499, grad=0.0000), Var(v=0.1386, grad=0.0000), Var(v=0.0043, grad=-0.1530), Var(v=-0.1256, grad=-0.2041), Var(v=-0.0515, grad=0.0993), Var(v=-0.0513, grad=0.0316), Var(v=0.0030, grad=0.4033), Var(v=0.0480, grad=0.0000), Var(v=-0.0144, grad=0.0418), Var(v=0.0096, grad=-0.0594), Var(v=-0.0354, grad=-0.2634), Var(v=0.0194, grad=-0.0273), Var(v=0.2253, grad=-0.0667), Var(v=0.1448, grad=0.0000), Var(v=0.0479, grad=-0.2783), Var(v=0.2703, grad=-0.1882), Var(v=0.1157, grad=0.1870), Var(v=-0.1273, grad=0.0000), Var(v=-0.1390, grad=0.1174), Var(v=0.1968, grad=0.0000), Var(v=0.1928, grad=0.0000), Var(v=-0.0738, grad=-0.0706), Var(v=-0.0222, grad=0.0000), Var(v=0.0846, grad=0.0000), Var(v=-0.1257, grad=0.3490), Var(v=0.0162, grad=0.1659), Var(v=-0.0783, grad=0.4608), Var(v=-0.1282, grad=0.0000), Var(v=0.0630, grad=0.0000), Var(v=0.1426, grad=-0.3299), Var(v=-0.0490, grad=-0.0309), Var(v=-0.0069, grad=0.0000), Var(v=0.0144, grad=0.2999), Var(v=0.0004, grad=0.0235), Var(v=-0.0389, grad=0.0000), Var(v=-0.0560, grad=0.2759), Var(v=-0.1266, grad=0.0000), Var(v=0.0905, grad=-0.1123), Var(v=0.0568, grad=0.0000), Var(v=-0.0086, grad=-0.2437), Var(v=-0.0523, grad=-0.1083), Var(v=-0.0789, grad=0.0101), Var(v=-0.0292, grad=0.0000), Var(v=0.0362, grad=0.0000), Var(v=0.1107, grad=0.0388), Var(v=-0.1045, grad=0.4290), Var(v=-0.0975, grad=0.0000)], [Var(v=-0.0309, grad=-0.8594), Var(v=0.0953, grad=-0.3390), Var(v=-0.0360, grad=0.0817), Var(v=0.0096, grad=0.0000), Var(v=0.0317, grad=0.2760), Var(v=-0.1329, grad=0.3443), Var(v=-0.0872, grad=0.0000), Var(v=-0.0626, grad=-0.2233), Var(v=0.0802, grad=-0.0711), Var(v=-0.0184, grad=-0.9073), Var(v=-0.0164, grad=-0.2803), Var(v=0.1154, grad=-0.0940), Var(v=-0.1125, grad=0.0000), Var(v=0.0737, grad=0.0000), Var(v=0.0268, grad=0.0000), Var(v=0.0524, grad=0.0000), Var(v=0.0731, grad=1.0583), Var(v=0.0466, grad=0.0000), Var(v=0.0858, grad=0.4234), Var(v=-0.0464, grad=0.0000), Var(v=-0.0729, grad=0.0000), Var(v=0.0654, grad=0.0000), Var(v=0.1341, grad=0.0000), Var(v=-0.1574, grad=-0.3535), Var(v=0.0609, grad=0.1588), Var(v=0.0309, grad=0.0000), Var(v=0.0958, grad=0.5431), Var(v=0.0411, grad=0.0000), Var(v=0.0018, grad=0.0000), Var(v=-0.1181, grad=0.0000), Var(v=-0.0598, grad=0.0000), Var(v=-0.0160, grad=0.0000), Var(v=-0.0105, grad=0.7422), Var(v=0.0649, grad=0.0000), Var(v=0.1002, grad=0.0000), Var(v=-0.0799, grad=-0.6746), Var(v=0.0446, grad=-0.0529), Var(v=0.0817, grad=0.3122), Var(v=-0.0048, grad=-0.6206), Var(v=0.0771, grad=0.3622), Var(v=0.0717, grad=0.2526), Var(v=0.1697, grad=0.0000), Var(v=-0.0328, grad=0.0000), Var(v=0.0740, grad=0.2437), Var(v=0.0229, grad=0.0000), Var(v=0.1073, grad=0.5179), Var(v=-0.1053, grad=0.0000), Var(v=0.0425, grad=-0.0874), Var(v=-0.0994, grad=0.0000), Var(v=0.2658, grad=0.0000)], [Var(v=-0.0507, grad=0.9726), Var(v=0.0467, grad=0.0000), Var(v=-0.0238, grad=-0.0925), Var(v=0.0352, grad=0.0000), Var(v=0.0153, grad=0.0000), Var(v=0.0943, grad=-0.3896), Var(v=0.0995, grad=-0.5198), Var(v=-0.0682, grad=0.2527), Var(v=-0.0400, grad=0.0805), Var(v=-0.1506, grad=1.0268), Var(v=-0.0132, grad=0.0000), Var(v=0.0012, grad=0.1064), Var(v=-0.0032, grad=-0.1511), Var(v=-0.0222, grad=-0.6707), Var(v=-0.0668, grad=-0.0694), Var(v=0.1365, grad=-0.1699), Var(v=0.0189, grad=0.0000), Var(v=0.0672, grad=-0.7085), Var(v=-0.1293, grad=-0.4792), Var(v=-0.0185, grad=0.4761), Var(v=-0.2036, grad=0.0000), Var(v=-0.0123, grad=0.2988), Var(v=-0.2657, grad=0.0000), Var(v=-0.0891, grad=0.0000), Var(v=0.1172, grad=-0.1797), Var(v=-0.1071, grad=0.0000), Var(v=-0.3021, grad=0.0000), Var(v=0.0037, grad=0.8886), Var(v=0.1742, grad=0.4225), Var(v=0.0195, grad=1.1733), Var(v=-0.0299, grad=0.0000), Var(v=-0.0265, grad=0.0000), Var(v=-0.1237, grad=-0.8399), Var(v=0.0673, grad=-0.0787), Var(v=-0.0328, grad=0.0000), Var(v=-0.0229, grad=0.7635), Var(v=0.1007, grad=0.0598), Var(v=-0.0269, grad=0.0000), Var(v=-0.0317, grad=0.7024), Var(v=-0.0612, grad=0.0000), Var(v=-0.0429, grad=-0.2858), Var(v=-0.0252, grad=0.0000), Var(v=0.0243, grad=-0.6204), Var(v=0.0185, grad=-0.2758), Var(v=-0.0046, grad=0.0256), Var(v=-0.0668, grad=0.0000), Var(v=0.0204, grad=0.0000), Var(v=0.0877, grad=0.0989), Var(v=0.0299, grad=1.0923), Var(v=0.0368, grad=0.0000)], [Var(v=-0.2577, grad=1.2893), Var(v=-0.0599, grad=0.0000), Var(v=0.1850, grad=-0.1226), Var(v=-0.0625, grad=0.0000), Var(v=0.0005, grad=0.0000), Var(v=0.0177, grad=-0.5165), Var(v=-0.1180, grad=-0.6890), Var(v=0.0180, grad=0.3350), Var(v=0.0070, grad=0.1067), Var(v=-0.0582, grad=1.3611), Var(v=-0.1396, grad=0.0000), Var(v=-0.0112, grad=0.1410), Var(v=0.1268, grad=-0.2003), Var(v=0.1284, grad=-0.8890), Var(v=0.0831, grad=-0.0920), Var(v=-0.0518, grad=-0.2252), Var(v=0.0843, grad=0.0000), Var(v=-0.0183, grad=-0.9391), Var(v=0.0612, grad=-0.6352), Var(v=0.0596, grad=0.6311), Var(v=-0.2127, grad=0.0000), Var(v=-0.1464, grad=0.3961), Var(v=-0.0676, grad=0.0000), Var(v=-0.0312, grad=0.0000), Var(v=0.0163, grad=-0.2383), Var(v=-0.0629, grad=0.0000), Var(v=0.0981, grad=0.0000), Var(v=-0.1002, grad=1.1779), Var(v=-0.0525, grad=0.5601), Var(v=-0.0709, grad=1.5553), Var(v=0.0436, grad=0.0000), Var(v=0.0086, grad=0.0000), Var(v=0.0278, grad=-1.1133), Var(v=-0.2327, grad=-0.1044), Var(v=-0.0067, grad=0.0000), Var(v=0.0214, grad=1.0121), Var(v=-0.1854, grad=0.0793), Var(v=-0.0377, grad=0.0000), Var(v=0.1416, grad=0.9310), Var(v=-0.0393, grad=0.0000), Var(v=0.0112, grad=-0.3789), Var(v=-0.1053, grad=0.0000), Var(v=0.1488, grad=-0.8223), Var(v=0.0134, grad=-0.3656), Var(v=-0.0072, grad=0.0340), Var(v=0.0249, grad=0.0000), Var(v=-0.0343, grad=0.0000), Var(v=0.0797, grad=0.1311), Var(v=0.0537, grad=1.4480), Var(v=-0.0860, grad=0.0000)], [Var(v=0.1022, grad=2.1269), Var(v=-0.0425, grad=0.0000), Var(v=-0.0146, grad=-0.2022), Var(v=0.0260, grad=0.0000), Var(v=-0.0578, grad=0.0000), Var(v=0.0839, grad=-0.8520), Var(v=-0.0478, grad=-1.1366), Var(v=0.0489, grad=0.5526), Var(v=0.1747, grad=0.1760), Var(v=0.1678, grad=2.2455), Var(v=0.0101, grad=0.0000), Var(v=0.2122, grad=0.2326), Var(v=0.0620, grad=-0.3304), Var(v=0.0511, grad=-1.4666), Var(v=0.0955, grad=-0.1518), Var(v=-0.0622, grad=-0.3715), Var(v=-0.1239, grad=0.0000), Var(v=-0.0358, grad=-1.5493), Var(v=-0.0307, grad=-1.0479), Var(v=-0.0585, grad=1.0411), Var(v=0.0322, grad=0.0000), Var(v=0.0213, grad=0.6534), Var(v=0.0287, grad=0.0000), Var(v=-0.1410, grad=0.0000), Var(v=0.0510, grad=-0.3931), Var(v=-0.1155, grad=0.0000), Var(v=0.0248, grad=0.0000), Var(v=0.3712, grad=1.9432), Var(v=-0.0633, grad=0.9239), Var(v=0.0106, grad=2.5657), Var(v=-0.0311, grad=0.0000), Var(v=-0.1163, grad=0.0000), Var(v=-0.0405, grad=-1.8367), Var(v=0.0294, grad=-0.1721), Var(v=-0.1762, grad=0.0000), Var(v=-0.0325, grad=1.6696), Var(v=0.0606, grad=0.1308), Var(v=0.0020, grad=0.0000), Var(v=0.1135, grad=1.5359), Var(v=-0.0628, grad=0.0000), Var(v=-0.0367, grad=-0.6251), Var(v=-0.0345, grad=0.0000), Var(v=-0.0675, grad=-1.3566), Var(v=0.1095, grad=-0.6031), Var(v=0.0468, grad=0.0560), Var(v=-0.0816, grad=0.0000), Var(v=-0.1342, grad=0.0000), Var(v=0.1540, grad=0.2162), Var(v=0.0521, grad=2.3887), Var(v=-0.1336, grad=0.0000)], [Var(v=0.0226, grad=-2.1006), Var(v=0.0005, grad=-0.8287), Var(v=0.1840, grad=0.1997), Var(v=-0.0734, grad=0.0000), Var(v=0.1425, grad=0.6746), Var(v=0.1762, grad=0.8415), Var(v=0.0245, grad=0.0000), Var(v=0.1696, grad=-0.5458), Var(v=0.1062, grad=-0.1739), Var(v=-0.0415, grad=-2.2177), Var(v=-0.0521, grad=-0.6851), Var(v=0.0051, grad=-0.2297), Var(v=0.0090, grad=0.0000), Var(v=0.0126, grad=0.0000), Var(v=0.0061, grad=0.0000), Var(v=-0.0108, grad=0.0000), Var(v=0.1380, grad=2.5868), Var(v=0.0699, grad=0.0000), Var(v=0.1574, grad=1.0349), Var(v=-0.0568, grad=0.0000), Var(v=-0.0157, grad=0.0000), Var(v=-0.0009, grad=0.0000), Var(v=-0.0056, grad=0.0000), Var(v=0.0639, grad=-0.8640), Var(v=0.0512, grad=0.3882), Var(v=-0.0314, grad=0.0000), Var(v=-0.1175, grad=1.3274), Var(v=-0.0359, grad=0.0000), Var(v=-0.1341, grad=0.0000), Var(v=-0.0521, grad=0.0000), Var(v=-0.1027, grad=0.0000), Var(v=0.0144, grad=0.0000), Var(v=0.0482, grad=1.8140), Var(v=-0.0948, grad=0.0000), Var(v=0.0816, grad=0.0000), Var(v=0.1817, grad=-1.6490), Var(v=-0.0587, grad=-0.1292), Var(v=-0.0346, grad=0.7630), Var(v=0.0225, grad=-1.5169), Var(v=0.0668, grad=0.8854), Var(v=0.0650, grad=0.6173), Var(v=-0.0854, grad=0.0000), Var(v=-0.0041, grad=0.0000), Var(v=0.0188, grad=0.5957), Var(v=-0.0290, grad=0.0000), Var(v=-0.2036, grad=1.2659), Var(v=0.0040, grad=0.0000), Var(v=0.0041, grad=-0.2135), Var(v=-0.1626, grad=0.0000), Var(v=-0.1564, grad=0.0000)], [Var(v=0.0667, grad=2.7601), Var(v=-0.1752, grad=0.0000), Var(v=0.2027, grad=-0.2624), Var(v=0.1471, grad=0.0000), Var(v=-0.0045, grad=0.0000), Var(v=0.1262, grad=-1.1057), Var(v=0.0674, grad=-1.4750), Var(v=0.2434, grad=0.7172), Var(v=0.0536, grad=0.2284), Var(v=-0.0465, grad=2.9140), Var(v=-0.0460, grad=0.0000), Var(v=-0.0449, grad=0.3019), Var(v=0.2163, grad=-0.4288), Var(v=-0.0749, grad=-1.9033), Var(v=0.0790, grad=-0.1970), Var(v=0.0131, grad=-0.4821), Var(v=0.0155, grad=0.0000), Var(v=0.0008, grad=-2.0106), Var(v=0.0603, grad=-1.3598), Var(v=0.1239, grad=1.3511), Var(v=-0.1398, grad=0.0000), Var(v=0.0542, grad=0.8480), Var(v=-0.0283, grad=0.0000), Var(v=-0.0742, grad=0.0000), Var(v=-0.0442, grad=-0.5101), Var(v=0.0207, grad=0.0000), Var(v=-0.0680, grad=0.0000), Var(v=0.0069, grad=2.5218), Var(v=0.1309, grad=1.1990), Var(v=0.0030, grad=3.3297), Var(v=-0.1806, grad=0.0000), Var(v=-0.1920, grad=0.0000), Var(v=0.0232, grad=-2.3836), Var(v=0.0886, grad=-0.2234), Var(v=-0.1061, grad=0.0000), Var(v=0.1270, grad=2.1667), Var(v=-0.0053, grad=0.1698), Var(v=-0.2158, grad=0.0000), Var(v=0.0793, grad=1.9932), Var(v=-0.1386, grad=0.0000), Var(v=0.0126, grad=-0.8112), Var(v=0.0267, grad=0.0000), Var(v=0.1573, grad=-1.7605), Var(v=0.1102, grad=-0.7827), Var(v=0.0201, grad=0.0727), Var(v=-0.0481, grad=0.0000), Var(v=-0.0989, grad=0.0000), Var(v=0.0859, grad=0.2806), Var(v=0.0786, grad=3.0999), Var(v=-0.1663, grad=0.0000)], [Var(v=-0.0942, grad=1.5091), Var(v=-0.0688, grad=0.0000), Var(v=-0.2774, grad=-0.1435), Var(v=-0.2894, grad=0.0000), Var(v=-0.0021, grad=0.0000), Var(v=-0.0662, grad=-0.6046), Var(v=0.0383, grad=-0.8065), Var(v=-0.0826, grad=0.3921), Var(v=-0.0050, grad=0.1249), Var(v=0.0401, grad=1.5933), Var(v=0.1166, grad=0.0000), Var(v=-0.0363, grad=0.1650), Var(v=0.0836, grad=-0.2345), Var(v=0.0308, grad=-1.0406), Var(v=-0.0144, grad=-0.1077), Var(v=0.0154, grad=-0.2636), Var(v=-0.0195, grad=0.0000), Var(v=-0.0035, grad=-1.0993), Var(v=-0.1020, grad=-0.7435), Var(v=0.0795, grad=0.7387), Var(v=0.0916, grad=0.0000), Var(v=0.0622, grad=0.4637), Var(v=-0.1685, grad=0.0000), Var(v=0.0048, grad=0.0000), Var(v=-0.0757, grad=-0.2789), Var(v=-0.0411, grad=0.0000), Var(v=-0.0768, grad=0.0000), Var(v=0.0743, grad=1.3788), Var(v=0.0576, grad=0.6556), Var(v=0.1389, grad=1.8205), Var(v=0.1884, grad=0.0000), Var(v=0.0426, grad=0.0000), Var(v=0.0943, grad=-1.3032), Var(v=-0.0078, grad=-0.1221), Var(v=-0.0508, grad=0.0000), Var(v=-0.0015, grad=1.1847), Var(v=0.1145, grad=0.0928), Var(v=0.2442, grad=0.0000), Var(v=0.0576, grad=1.0898), Var(v=0.1586, grad=0.0000), Var(v=0.1594, grad=-0.4435), Var(v=-0.0633, grad=0.0000), Var(v=-0.0303, grad=-0.9626), Var(v=-0.0208, grad=-0.4279), Var(v=0.0279, grad=0.0397), Var(v=0.0066, grad=0.0000), Var(v=-0.0327, grad=0.0000), Var(v=-0.0154, grad=0.1534), Var(v=-0.0777, grad=1.6949), Var(v=-0.0905, grad=0.0000)], [Var(v=0.0676, grad=0.9223), Var(v=-0.1213, grad=0.0000), Var(v=0.1657, grad=-0.0877), Var(v=0.0131, grad=0.0000), Var(v=-0.0395, grad=0.0000), Var(v=-0.0020, grad=-0.3694), Var(v=0.1642, grad=-0.4929), Var(v=0.1675, grad=0.2396), Var(v=0.0860, grad=0.0763), Var(v=-0.1297, grad=0.9737), Var(v=0.1703, grad=0.0000), Var(v=0.0412, grad=0.1009), Var(v=-0.0096, grad=-0.1433), Var(v=0.0104, grad=-0.6359), Var(v=0.1419, grad=-0.0658), Var(v=-0.0277, grad=-0.1611), Var(v=-0.0325, grad=0.0000), Var(v=0.1381, grad=-0.6718), Var(v=0.0877, grad=-0.4544), Var(v=0.1441, grad=0.4514), Var(v=0.0040, grad=0.0000), Var(v=0.0170, grad=0.2833), Var(v=0.0494, grad=0.0000), Var(v=-0.0479, grad=0.0000), Var(v=0.1103, grad=-0.1704), Var(v=-0.0422, grad=0.0000), Var(v=-0.2755, grad=0.0000), Var(v=-0.0091, grad=0.8426), Var(v=0.0614, grad=0.4006), Var(v=0.0123, grad=1.1126), Var(v=0.0512, grad=0.0000), Var(v=-0.0229, grad=0.0000), Var(v=0.1334, grad=-0.7964), Var(v=-0.0389, grad=-0.0746), Var(v=-0.0177, grad=0.0000), Var(v=-0.2149, grad=0.7240), Var(v=0.0131, grad=0.0567), Var(v=-0.0286, grad=0.0000), Var(v=0.1036, grad=0.6660), Var(v=-0.0938, grad=0.0000), Var(v=0.1465, grad=-0.2710), Var(v=-0.1869, grad=0.0000), Var(v=-0.0895, grad=-0.5882), Var(v=0.0459, grad=-0.2615), Var(v=0.1384, grad=0.0243), Var(v=0.2463, grad=0.0000), Var(v=0.0447, grad=0.0000), Var(v=0.0421, grad=0.0938), Var(v=-0.0651, grad=1.0358), Var(v=0.0280, grad=0.0000)], [Var(v=-0.0076, grad=-1.3957), Var(v=-0.0075, grad=-0.5506), Var(v=0.1042, grad=0.1327), Var(v=0.1298, grad=0.0000), Var(v=0.1693, grad=0.4483), Var(v=-0.1045, grad=0.5591), Var(v=-0.0503, grad=0.0000), Var(v=0.1919, grad=-0.3626), Var(v=-0.0318, grad=-0.1155), Var(v=-0.0286, grad=-1.4736), Var(v=0.1439, grad=-0.4552), Var(v=-0.0235, grad=-0.1526), Var(v=-0.0713, grad=0.0000), Var(v=-0.1305, grad=0.0000), Var(v=0.0115, grad=0.0000), Var(v=-0.0115, grad=0.0000), Var(v=-0.1645, grad=1.7188), Var(v=-0.1058, grad=0.0000), Var(v=-0.0940, grad=0.6876), Var(v=0.0043, grad=0.0000), Var(v=-0.1842, grad=0.0000), Var(v=-0.1988, grad=0.0000), Var(v=-0.0669, grad=0.0000), Var(v=0.0522, grad=-0.5741), Var(v=0.1368, grad=0.2579), Var(v=-0.0775, grad=0.0000), Var(v=0.1108, grad=0.8820), Var(v=0.0165, grad=0.0000), Var(v=-0.0117, grad=0.0000), Var(v=-0.0034, grad=0.0000), Var(v=-0.0533, grad=0.0000), Var(v=-0.1895, grad=0.0000), Var(v=0.0135, grad=1.2053), Var(v=-0.1409, grad=0.0000), Var(v=-0.1967, grad=0.0000), Var(v=-0.0458, grad=-1.0957), Var(v=0.0390, grad=-0.0859), Var(v=0.0395, grad=0.5070), Var(v=0.1073, grad=-1.0079), Var(v=-0.0824, grad=0.5883), Var(v=0.0042, grad=0.4102), Var(v=-0.0191, grad=0.0000), Var(v=0.0081, grad=0.0000), Var(v=0.0501, grad=0.3958), Var(v=-0.0364, grad=0.0000), Var(v=0.2316, grad=0.8411), Var(v=-0.0086, grad=0.0000), Var(v=-0.0012, grad=-0.1419), Var(v=0.0210, grad=0.0000), Var(v=-0.1037, grad=0.0000)], [Var(v=-0.0735, grad=0.0747), Var(v=0.0788, grad=0.0000), Var(v=0.0865, grad=-0.0071), Var(v=-0.1543, grad=0.0000), Var(v=-0.1655, grad=0.0000), Var(v=-0.1362, grad=-0.0299), Var(v=0.1252, grad=-0.0399), Var(v=0.1197, grad=0.0194), Var(v=-0.1561, grad=0.0062), Var(v=0.0794, grad=0.0788), Var(v=0.0384, grad=0.0000), Var(v=0.1796, grad=0.0082), Var(v=-0.0836, grad=-0.0116), Var(v=0.0170, grad=-0.0515), Var(v=-0.2536, grad=-0.0053), Var(v=0.0188, grad=-0.0130), Var(v=-0.0612, grad=0.0000), Var(v=-0.0513, grad=-0.0544), Var(v=0.0557, grad=-0.0368), Var(v=-0.1590, grad=0.0365), Var(v=-0.2095, grad=0.0000), Var(v=0.1523, grad=0.0229), Var(v=-0.0758, grad=0.0000), Var(v=-0.0213, grad=0.0000), Var(v=0.0106, grad=-0.0138), Var(v=-0.0774, grad=0.0000), Var(v=0.1269, grad=0.0000), Var(v=0.0947, grad=0.0682), Var(v=-0.0484, grad=0.0324), Var(v=0.0216, grad=0.0901), Var(v=-0.0689, grad=0.0000), Var(v=-0.0018, grad=0.0000), Var(v=0.0158, grad=-0.0645), Var(v=0.0686, grad=-0.0060), Var(v=-0.0662, grad=0.0000), Var(v=0.1075, grad=0.0586), Var(v=0.0205, grad=0.0046), Var(v=0.0395, grad=0.0000), Var(v=0.0413, grad=0.0539), Var(v=0.0977, grad=0.0000), Var(v=-0.1270, grad=-0.0219), Var(v=0.1429, grad=0.0000), Var(v=0.1215, grad=-0.0476), Var(v=0.2237, grad=-0.0212), Var(v=-0.1094, grad=0.0020), Var(v=-0.0070, grad=0.0000), Var(v=0.0694, grad=0.0000), Var(v=0.0532, grad=0.0076), Var(v=-0.0295, grad=0.0838), Var(v=0.0881, grad=0.0000)], [Var(v=0.0296, grad=-0.9761), Var(v=0.1189, grad=-0.3851), Var(v=-0.1164, grad=0.0928), Var(v=-0.1529, grad=0.0000), Var(v=0.1532, grad=0.3135), Var(v=0.0179, grad=0.3910), Var(v=-0.1133, grad=0.0000), Var(v=-0.2639, grad=-0.2536), Var(v=0.0769, grad=-0.0808), Var(v=0.0733, grad=-1.0305), Var(v=-0.0158, grad=-0.3184), Var(v=0.0200, grad=-0.1067), Var(v=-0.2404, grad=0.0000), Var(v=-0.0343, grad=0.0000), Var(v=-0.0610, grad=0.0000), Var(v=-0.0643, grad=0.0000), Var(v=-0.1441, grad=1.2020), Var(v=-0.1765, grad=0.0000), Var(v=-0.3058, grad=0.4809), Var(v=-0.1117, grad=0.0000), Var(v=0.0570, grad=0.0000), Var(v=0.0223, grad=0.0000), Var(v=-0.0177, grad=0.0000), Var(v=0.0328, grad=-0.4015), Var(v=0.0333, grad=0.1804), Var(v=0.1358, grad=0.0000), Var(v=0.1116, grad=0.6168), Var(v=-0.0621, grad=0.0000), Var(v=-0.0795, grad=0.0000), Var(v=0.0395, grad=0.0000), Var(v=0.2288, grad=0.0000), Var(v=0.0775, grad=0.0000), Var(v=-0.0569, grad=0.8429), Var(v=0.1052, grad=0.0000), Var(v=0.0297, grad=0.0000), Var(v=-0.0408, grad=-0.7662), Var(v=-0.0102, grad=-0.0600), Var(v=0.1026, grad=0.3545), Var(v=-0.0844, grad=-0.7049), Var(v=-0.0545, grad=0.4114), Var(v=0.0266, grad=0.2869), Var(v=-0.0052, grad=0.0000), Var(v=-0.0164, grad=0.0000), Var(v=0.1147, grad=0.2768), Var(v=0.0050, grad=0.0000), Var(v=0.1125, grad=0.5882), Var(v=0.0336, grad=0.0000), Var(v=0.0817, grad=-0.0992), Var(v=0.0095, grad=0.0000), Var(v=-0.0164, grad=0.0000)], [Var(v=0.0077, grad=-0.6306), Var(v=0.0908, grad=-0.2488), Var(v=0.0513, grad=0.0599), Var(v=0.0424, grad=0.0000), Var(v=0.0983, grad=0.2025), Var(v=-0.0585, grad=0.2526), Var(v=-0.0189, grad=0.0000), Var(v=0.0497, grad=-0.1638), Var(v=0.0992, grad=-0.0522), Var(v=0.1763, grad=-0.6657), Var(v=0.0175, grad=-0.2057), Var(v=0.1022, grad=-0.0690), Var(v=0.0392, grad=0.0000), Var(v=-0.0176, grad=0.0000), Var(v=-0.0523, grad=0.0000), Var(v=0.0198, grad=0.0000), Var(v=0.2269, grad=0.7765), Var(v=0.0922, grad=0.0000), Var(v=0.0509, grad=0.3107), Var(v=-0.0415, grad=0.0000), Var(v=-0.0221, grad=0.0000), Var(v=0.0045, grad=0.0000), Var(v=-0.0662, grad=0.0000), Var(v=0.0471, grad=-0.2594), Var(v=0.0010, grad=0.1165), Var(v=0.0536, grad=0.0000), Var(v=0.1706, grad=0.3985), Var(v=-0.1840, grad=0.0000), Var(v=0.1454, grad=0.0000), Var(v=0.1325, grad=0.0000), Var(v=0.0588, grad=0.0000), Var(v=-0.0187, grad=0.0000), Var(v=0.0866, grad=0.5446), Var(v=0.0283, grad=0.0000), Var(v=-0.0464, grad=0.0000), Var(v=-0.0952, grad=-0.4950), Var(v=0.1023, grad=-0.0388), Var(v=0.0533, grad=0.2290), Var(v=0.0077, grad=-0.4554), Var(v=0.0630, grad=0.2658), Var(v=0.0577, grad=0.1853), Var(v=-0.0047, grad=0.0000), Var(v=-0.1752, grad=0.0000), Var(v=-0.0893, grad=0.1788), Var(v=-0.1276, grad=0.0000), Var(v=-0.1608, grad=0.3800), Var(v=0.0131, grad=0.0000), Var(v=-0.0947, grad=-0.0641), Var(v=0.0815, grad=0.0000), Var(v=-0.1586, grad=0.0000)], [Var(v=-0.0753, grad=-0.2162), Var(v=-0.0478, grad=-0.0853), Var(v=0.0344, grad=0.0206), Var(v=-0.0163, grad=0.0000), Var(v=-0.0180, grad=0.0694), Var(v=0.1817, grad=0.0866), Var(v=-0.0305, grad=0.0000), Var(v=0.0205, grad=-0.0562), Var(v=-0.0082, grad=-0.0179), Var(v=-0.0068, grad=-0.2283), Var(v=-0.0983, grad=-0.0705), Var(v=0.1457, grad=-0.0236), Var(v=0.0510, grad=0.0000), Var(v=-0.0316, grad=0.0000), Var(v=0.1852, grad=0.0000), Var(v=0.1603, grad=0.0000), Var(v=-0.0963, grad=0.2662), Var(v=0.1462, grad=0.0000), Var(v=-0.0287, grad=0.1065), Var(v=0.1171, grad=0.0000), Var(v=-0.0709, grad=0.0000), Var(v=-0.0321, grad=0.0000), Var(v=-0.0685, grad=0.0000), Var(v=0.1103, grad=-0.0889), Var(v=-0.0077, grad=0.0400), Var(v=-0.1726, grad=0.0000), Var(v=-0.1051, grad=0.1366), Var(v=0.0491, grad=0.0000), Var(v=-0.2394, grad=0.0000), Var(v=0.0770, grad=0.0000), Var(v=-0.0220, grad=0.0000), Var(v=-0.0052, grad=0.0000), Var(v=-0.0714, grad=0.1867), Var(v=0.0721, grad=0.0000), Var(v=-0.0590, grad=0.0000), Var(v=0.0779, grad=-0.1697), Var(v=0.0279, grad=-0.0133), Var(v=-0.0651, grad=0.0785), Var(v=-0.0699, grad=-0.1561), Var(v=0.0974, grad=0.0911), Var(v=0.1231, grad=0.0635), Var(v=0.0866, grad=0.0000), Var(v=0.0300, grad=0.0000), Var(v=-0.0573, grad=0.0613), Var(v=0.0954, grad=0.0000), Var(v=0.0292, grad=0.1303), Var(v=-0.1320, grad=0.0000), Var(v=0.0342, grad=-0.0220), Var(v=-0.0680, grad=0.0000), Var(v=-0.2212, grad=0.0000)], [Var(v=0.1265, grad=1.5231), Var(v=-0.0095, grad=0.0000), Var(v=0.0912, grad=-0.1448), Var(v=-0.0153, grad=0.0000), Var(v=-0.0717, grad=0.0000), Var(v=0.1239, grad=-0.6101), Var(v=-0.0724, grad=-0.8139), Var(v=0.0283, grad=0.3957), Var(v=0.2117, grad=0.1261), Var(v=0.0631, grad=1.6080), Var(v=-0.2134, grad=0.0000), Var(v=-0.0471, grad=0.1666), Var(v=0.1197, grad=-0.2366), Var(v=-0.0171, grad=-1.0502), Var(v=-0.0221, grad=-0.1087), Var(v=0.1208, grad=-0.2660), Var(v=-0.1603, grad=0.0000), Var(v=0.0300, grad=-1.1094), Var(v=0.0184, grad=-0.7504), Var(v=-0.0609, grad=0.7455), Var(v=0.1161, grad=0.0000), Var(v=-0.0001, grad=0.4679), Var(v=-0.1446, grad=0.0000), Var(v=0.0888, grad=0.0000), Var(v=-0.0081, grad=-0.2815), Var(v=0.1030, grad=0.0000), Var(v=-0.0598, grad=0.0000), Var(v=-0.1382, grad=1.3916), Var(v=0.1218, grad=0.6616), Var(v=0.1269, grad=1.8374), Var(v=-0.0002, grad=0.0000), Var(v=-0.1528, grad=0.0000), Var(v=0.1456, grad=-1.3153), Var(v=0.0179, grad=-0.1233), Var(v=-0.0681, grad=0.0000), Var(v=-0.0423, grad=1.1956), Var(v=0.0327, grad=0.0937), Var(v=0.0810, grad=0.0000), Var(v=0.0147, grad=1.0999), Var(v=-0.1526, grad=0.0000), Var(v=-0.0106, grad=-0.4476), Var(v=0.0385, grad=0.0000), Var(v=-0.1131, grad=-0.9715), Var(v=-0.1758, grad=-0.4319), Var(v=0.0259, grad=0.0401), Var(v=-0.1401, grad=0.0000), Var(v=-0.0175, grad=0.0000), Var(v=-0.0617, grad=0.1548), Var(v=0.0883, grad=1.7106), Var(v=0.0478, grad=0.0000)]] Biases: [Var(v=0.0000, grad=0.1400), Var(v=0.0000, grad=-4.8980), Var(v=0.0000, grad=-0.0133), Var(v=0.0000, grad=0.0000), Var(v=0.0000, grad=3.9875), Var(v=0.0000, grad=-0.0561), Var(v=0.0000, grad=-6.7100), Var(v=0.0000, grad=0.0364), Var(v=0.0000, grad=0.0116), Var(v=0.0000, grad=0.1478), Var(v=0.0000, grad=-4.0496), Var(v=0.0000, grad=0.0153), Var(v=0.0000, grad=-1.9508), Var(v=0.0000, grad=-8.6581), Var(v=0.0000, grad=-0.8964), Var(v=0.0000, grad=-2.1929), Var(v=0.0000, grad=15.2897), Var(v=0.0000, grad=-9.1462), Var(v=0.0000, grad=-0.0690), Var(v=0.0000, grad=6.1461), Var(v=0.0000, grad=0.0000), Var(v=0.0000, grad=3.8576), Var(v=0.0000, grad=0.0000), Var(v=0.0000, grad=-5.1068), Var(v=0.0000, grad=-0.0259), Var(v=0.0000, grad=0.0000), Var(v=0.0000, grad=7.8457), Var(v=0.0000, grad=11.4719), Var(v=0.0000, grad=5.4545), Var(v=0.0000, grad=15.1470), Var(v=0.0000, grad=0.0000), Var(v=0.0000, grad=0.0000), Var(v=0.0000, grad=-0.1209), Var(v=0.0000, grad=-1.0163), Var(v=0.0000, grad=0.0000), Var(v=0.0000, grad=0.1099), Var(v=0.0000, grad=0.0086), Var(v=0.0000, grad=4.5097), Var(v=0.0000, grad=0.1011), Var(v=0.0000, grad=5.2335), Var(v=0.0000, grad=-0.0411), Var(v=0.0000, grad=0.0000), Var(v=0.0000, grad=-8.0087), Var(v=0.0000, grad=-0.0397), Var(v=0.0000, grad=0.3307), Var(v=0.0000, grad=7.4822), Var(v=0.0000, grad=0.0000), Var(v=0.0000, grad=0.0142), Var(v=0.0000, grad=14.1019), Var(v=0.0000, grad=0.0000)]\n",
      "Layer 2 \n",
      " Weights: [[Var(v=-0.1417, grad=-1.3709)], [Var(v=-0.0559, grad=1.6615)], [Var(v=0.0135, grad=-1.3688)], [Var(v=-0.0076, grad=0.0000)], [Var(v=0.0455, grad=5.4389)], [Var(v=0.0567, grad=-4.1624)], [Var(v=0.0757, grad=-0.6303)], [Var(v=-0.0368, grad=-3.1511)], [Var(v=-0.0117, grad=-3.3089)], [Var(v=-0.1496, grad=-0.0900)], [Var(v=-0.0462, grad=0.3662)], [Var(v=-0.0155, grad=-0.2897)], [Var(v=0.0220, grad=-8.3749)], [Var(v=0.0977, grad=-0.4480)], [Var(v=0.0101, grad=-3.7215)], [Var(v=0.0247, grad=-1.6869)], [Var(v=0.1744, grad=0.7394)], [Var(v=0.1032, grad=-1.0574)], [Var(v=0.0698, grad=-0.8187)], [Var(v=-0.0693, grad=-3.3091)], [Var(v=-0.2144, grad=0.0000)], [Var(v=-0.0435, grad=-0.4373)], [Var(v=0.0042, grad=0.0000)], [Var(v=-0.0583, grad=1.1113)], [Var(v=0.0262, grad=2.2118)], [Var(v=0.0436, grad=0.0000)], [Var(v=0.0895, grad=1.2982)], [Var(v=-0.1294, grad=-3.7774)], [Var(v=-0.0615, grad=-4.6585)], [Var(v=-0.1709, grad=-2.4310)], [Var(v=0.0710, grad=0.0000)], [Var(v=0.0134, grad=0.0000)], [Var(v=0.1223, grad=-2.4089)], [Var(v=0.0115, grad=-0.2719)], [Var(v=-0.1405, grad=0.0000)], [Var(v=-0.1112, grad=0.9203)], [Var(v=-0.0087, grad=-1.2682)], [Var(v=0.0515, grad=1.2171)], [Var(v=-0.1023, grad=-4.9285)], [Var(v=0.0597, grad=0.7008)], [Var(v=0.0416, grad=-0.1480)], [Var(v=0.2377, grad=0.0000)], [Var(v=0.0904, grad=-1.4928)], [Var(v=0.0402, grad=-0.6756)], [Var(v=-0.0037, grad=-2.2024)], [Var(v=0.0854, grad=0.0179)], [Var(v=-0.0198, grad=0.0000)], [Var(v=-0.0144, grad=-4.5897)], [Var(v=-0.1591, grad=-2.4078)], [Var(v=0.0680, grad=0.0000)]] Biases: [Var(v=0.0000, grad=-0.9882)]\n",
      "\n",
      "Network after update:\n",
      "Layer 0 \n",
      " Weights: [[Var(v=0.0738, grad=-4.7674), Var(v=-0.0006, grad=-6.2346), Var(v=0.0868, grad=-2.0322), Var(v=0.1684, grad=-8.0236), Var(v=0.0274, grad=11.8050), Var(v=-0.1431, grad=-1.0669), Var(v=0.1598, grad=2.9012), Var(v=0.0796, grad=2.3578), Var(v=0.1292, grad=-6.6163), Var(v=-0.1160, grad=1.3786), Var(v=-0.0057, grad=1.0839), Var(v=-0.0919, grad=2.0440), Var(v=-0.0152, grad=-3.0948), Var(v=-0.0275, grad=1.1669), Var(v=0.0664, grad=3.7795)]] Biases: [Var(v=0.0409, grad=-4.0940), Var(v=-0.0567, grad=5.6673), Var(v=0.0175, grad=-1.7451), Var(v=0.0689, grad=-6.8902), Var(v=-0.1014, grad=10.1375), Var(v=-0.0097, grad=0.9698), Var(v=-0.0249, grad=2.4914), Var(v=-0.0202, grad=2.0247), Var(v=0.0568, grad=-5.6817), Var(v=0.0125, grad=-1.2531), Var(v=-0.0093, grad=0.9308), Var(v=0.0186, grad=-1.8581), Var(v=-0.0281, grad=2.8133), Var(v=0.0106, grad=-1.0607), Var(v=-0.0325, grad=3.2456)]\n",
      "Layer 1 \n",
      " Weights: [[Var(v=0.2434, grad=0.3820), Var(v=0.1070, grad=0.0000), Var(v=-0.0054, grad=-0.0363), Var(v=0.0499, grad=0.0000), Var(v=0.1386, grad=0.0000), Var(v=0.0059, grad=-0.1530), Var(v=-0.1236, grad=-0.2041), Var(v=-0.0525, grad=0.0993), Var(v=-0.0517, grad=0.0316), Var(v=-0.0010, grad=0.4033), Var(v=0.0480, grad=0.0000), Var(v=-0.0148, grad=0.0418), Var(v=0.0102, grad=-0.0594), Var(v=-0.0328, grad=-0.2634), Var(v=0.0196, grad=-0.0273), Var(v=0.2259, grad=-0.0667), Var(v=0.1448, grad=0.0000), Var(v=0.0507, grad=-0.2783), Var(v=0.2722, grad=-0.1882), Var(v=0.1138, grad=0.1870), Var(v=-0.1273, grad=0.0000), Var(v=-0.1401, grad=0.1174), Var(v=0.1968, grad=0.0000), Var(v=0.1928, grad=0.0000), Var(v=-0.0731, grad=-0.0706), Var(v=-0.0222, grad=0.0000), Var(v=0.0846, grad=0.0000), Var(v=-0.1292, grad=0.3490), Var(v=0.0146, grad=0.1659), Var(v=-0.0829, grad=0.4608), Var(v=-0.1282, grad=0.0000), Var(v=0.0630, grad=0.0000), Var(v=0.1459, grad=-0.3299), Var(v=-0.0487, grad=-0.0309), Var(v=-0.0069, grad=0.0000), Var(v=0.0115, grad=0.2999), Var(v=0.0001, grad=0.0235), Var(v=-0.0389, grad=0.0000), Var(v=-0.0587, grad=0.2759), Var(v=-0.1266, grad=0.0000), Var(v=0.0917, grad=-0.1123), Var(v=0.0568, grad=0.0000), Var(v=-0.0062, grad=-0.2437), Var(v=-0.0513, grad=-0.1083), Var(v=-0.0790, grad=0.0101), Var(v=-0.0292, grad=0.0000), Var(v=0.0362, grad=0.0000), Var(v=0.1103, grad=0.0388), Var(v=-0.1088, grad=0.4290), Var(v=-0.0975, grad=0.0000)], [Var(v=-0.0223, grad=-0.8594), Var(v=0.0986, grad=-0.3390), Var(v=-0.0368, grad=0.0817), Var(v=0.0096, grad=0.0000), Var(v=0.0290, grad=0.2760), Var(v=-0.1363, grad=0.3443), Var(v=-0.0872, grad=0.0000), Var(v=-0.0604, grad=-0.2233), Var(v=0.0809, grad=-0.0711), Var(v=-0.0093, grad=-0.9073), Var(v=-0.0136, grad=-0.2803), Var(v=0.1163, grad=-0.0940), Var(v=-0.1125, grad=0.0000), Var(v=0.0737, grad=0.0000), Var(v=0.0268, grad=0.0000), Var(v=0.0524, grad=0.0000), Var(v=0.0625, grad=1.0583), Var(v=0.0466, grad=0.0000), Var(v=0.0816, grad=0.4234), Var(v=-0.0464, grad=0.0000), Var(v=-0.0729, grad=0.0000), Var(v=0.0654, grad=0.0000), Var(v=0.1341, grad=0.0000), Var(v=-0.1538, grad=-0.3535), Var(v=0.0593, grad=0.1588), Var(v=0.0309, grad=0.0000), Var(v=0.0904, grad=0.5431), Var(v=0.0411, grad=0.0000), Var(v=0.0018, grad=0.0000), Var(v=-0.1181, grad=0.0000), Var(v=-0.0598, grad=0.0000), Var(v=-0.0160, grad=0.0000), Var(v=-0.0179, grad=0.7422), Var(v=0.0649, grad=0.0000), Var(v=0.1002, grad=0.0000), Var(v=-0.0731, grad=-0.6746), Var(v=0.0451, grad=-0.0529), Var(v=0.0786, grad=0.3122), Var(v=0.0014, grad=-0.6206), Var(v=0.0735, grad=0.3622), Var(v=0.0692, grad=0.2526), Var(v=0.1697, grad=0.0000), Var(v=-0.0328, grad=0.0000), Var(v=0.0716, grad=0.2437), Var(v=0.0229, grad=0.0000), Var(v=0.1021, grad=0.5179), Var(v=-0.1053, grad=0.0000), Var(v=0.0434, grad=-0.0874), Var(v=-0.0994, grad=0.0000), Var(v=0.2658, grad=0.0000)], [Var(v=-0.0604, grad=0.9726), Var(v=0.0467, grad=0.0000), Var(v=-0.0229, grad=-0.0925), Var(v=0.0352, grad=0.0000), Var(v=0.0153, grad=0.0000), Var(v=0.0982, grad=-0.3896), Var(v=0.1047, grad=-0.5198), Var(v=-0.0707, grad=0.2527), Var(v=-0.0408, grad=0.0805), Var(v=-0.1609, grad=1.0268), Var(v=-0.0132, grad=0.0000), Var(v=0.0001, grad=0.1064), Var(v=-0.0017, grad=-0.1511), Var(v=-0.0155, grad=-0.6707), Var(v=-0.0661, grad=-0.0694), Var(v=0.1382, grad=-0.1699), Var(v=0.0189, grad=0.0000), Var(v=0.0743, grad=-0.7085), Var(v=-0.1245, grad=-0.4792), Var(v=-0.0233, grad=0.4761), Var(v=-0.2036, grad=0.0000), Var(v=-0.0152, grad=0.2988), Var(v=-0.2657, grad=0.0000), Var(v=-0.0891, grad=0.0000), Var(v=0.1190, grad=-0.1797), Var(v=-0.1071, grad=0.0000), Var(v=-0.3021, grad=0.0000), Var(v=-0.0052, grad=0.8886), Var(v=0.1699, grad=0.4225), Var(v=0.0078, grad=1.1733), Var(v=-0.0299, grad=0.0000), Var(v=-0.0265, grad=0.0000), Var(v=-0.1153, grad=-0.8399), Var(v=0.0681, grad=-0.0787), Var(v=-0.0328, grad=0.0000), Var(v=-0.0305, grad=0.7635), Var(v=0.1001, grad=0.0598), Var(v=-0.0269, grad=0.0000), Var(v=-0.0387, grad=0.7024), Var(v=-0.0612, grad=0.0000), Var(v=-0.0400, grad=-0.2858), Var(v=-0.0252, grad=0.0000), Var(v=0.0305, grad=-0.6204), Var(v=0.0212, grad=-0.2758), Var(v=-0.0048, grad=0.0256), Var(v=-0.0668, grad=0.0000), Var(v=0.0204, grad=0.0000), Var(v=0.0868, grad=0.0989), Var(v=0.0189, grad=1.0923), Var(v=0.0368, grad=0.0000)], [Var(v=-0.2706, grad=1.2893), Var(v=-0.0599, grad=0.0000), Var(v=0.1863, grad=-0.1226), Var(v=-0.0625, grad=0.0000), Var(v=0.0005, grad=0.0000), Var(v=0.0228, grad=-0.5165), Var(v=-0.1111, grad=-0.6890), Var(v=0.0146, grad=0.3350), Var(v=0.0059, grad=0.1067), Var(v=-0.0718, grad=1.3611), Var(v=-0.1396, grad=0.0000), Var(v=-0.0127, grad=0.1410), Var(v=0.1288, grad=-0.2003), Var(v=0.1372, grad=-0.8890), Var(v=0.0840, grad=-0.0920), Var(v=-0.0495, grad=-0.2252), Var(v=0.0843, grad=0.0000), Var(v=-0.0089, grad=-0.9391), Var(v=0.0676, grad=-0.6352), Var(v=0.0533, grad=0.6311), Var(v=-0.2127, grad=0.0000), Var(v=-0.1504, grad=0.3961), Var(v=-0.0676, grad=0.0000), Var(v=-0.0312, grad=0.0000), Var(v=0.0187, grad=-0.2383), Var(v=-0.0629, grad=0.0000), Var(v=0.0981, grad=0.0000), Var(v=-0.1120, grad=1.1779), Var(v=-0.0581, grad=0.5601), Var(v=-0.0865, grad=1.5553), Var(v=0.0436, grad=0.0000), Var(v=0.0086, grad=0.0000), Var(v=0.0389, grad=-1.1133), Var(v=-0.2317, grad=-0.1044), Var(v=-0.0067, grad=0.0000), Var(v=0.0112, grad=1.0121), Var(v=-0.1862, grad=0.0793), Var(v=-0.0377, grad=0.0000), Var(v=0.1323, grad=0.9310), Var(v=-0.0393, grad=0.0000), Var(v=0.0150, grad=-0.3789), Var(v=-0.1053, grad=0.0000), Var(v=0.1570, grad=-0.8223), Var(v=0.0170, grad=-0.3656), Var(v=-0.0076, grad=0.0340), Var(v=0.0249, grad=0.0000), Var(v=-0.0343, grad=0.0000), Var(v=0.0784, grad=0.1311), Var(v=0.0392, grad=1.4480), Var(v=-0.0860, grad=0.0000)], [Var(v=0.0809, grad=2.1269), Var(v=-0.0425, grad=0.0000), Var(v=-0.0125, grad=-0.2022), Var(v=0.0260, grad=0.0000), Var(v=-0.0578, grad=0.0000), Var(v=0.0924, grad=-0.8520), Var(v=-0.0364, grad=-1.1366), Var(v=0.0433, grad=0.5526), Var(v=0.1730, grad=0.1760), Var(v=0.1453, grad=2.2455), Var(v=0.0101, grad=0.0000), Var(v=0.2099, grad=0.2326), Var(v=0.0653, grad=-0.3304), Var(v=0.0658, grad=-1.4666), Var(v=0.0970, grad=-0.1518), Var(v=-0.0585, grad=-0.3715), Var(v=-0.1239, grad=0.0000), Var(v=-0.0203, grad=-1.5493), Var(v=-0.0203, grad=-1.0479), Var(v=-0.0690, grad=1.0411), Var(v=0.0322, grad=0.0000), Var(v=0.0148, grad=0.6534), Var(v=0.0287, grad=0.0000), Var(v=-0.1410, grad=0.0000), Var(v=0.0549, grad=-0.3931), Var(v=-0.1155, grad=0.0000), Var(v=0.0248, grad=0.0000), Var(v=0.3518, grad=1.9432), Var(v=-0.0725, grad=0.9239), Var(v=-0.0150, grad=2.5657), Var(v=-0.0311, grad=0.0000), Var(v=-0.1163, grad=0.0000), Var(v=-0.0221, grad=-1.8367), Var(v=0.0311, grad=-0.1721), Var(v=-0.1762, grad=0.0000), Var(v=-0.0491, grad=1.6696), Var(v=0.0593, grad=0.1308), Var(v=0.0020, grad=0.0000), Var(v=0.0981, grad=1.5359), Var(v=-0.0628, grad=0.0000), Var(v=-0.0305, grad=-0.6251), Var(v=-0.0345, grad=0.0000), Var(v=-0.0539, grad=-1.3566), Var(v=0.1155, grad=-0.6031), Var(v=0.0462, grad=0.0560), Var(v=-0.0816, grad=0.0000), Var(v=-0.1342, grad=0.0000), Var(v=0.1519, grad=0.2162), Var(v=0.0282, grad=2.3887), Var(v=-0.1336, grad=0.0000)], [Var(v=0.0436, grad=-2.1006), Var(v=0.0088, grad=-0.8287), Var(v=0.1820, grad=0.1997), Var(v=-0.0734, grad=0.0000), Var(v=0.1357, grad=0.6746), Var(v=0.1677, grad=0.8415), Var(v=0.0245, grad=0.0000), Var(v=0.1750, grad=-0.5458), Var(v=0.1080, grad=-0.1739), Var(v=-0.0193, grad=-2.2177), Var(v=-0.0452, grad=-0.6851), Var(v=0.0073, grad=-0.2297), Var(v=0.0090, grad=0.0000), Var(v=0.0126, grad=0.0000), Var(v=0.0061, grad=0.0000), Var(v=-0.0108, grad=0.0000), Var(v=0.1121, grad=2.5868), Var(v=0.0699, grad=0.0000), Var(v=0.1471, grad=1.0349), Var(v=-0.0568, grad=0.0000), Var(v=-0.0157, grad=0.0000), Var(v=-0.0009, grad=0.0000), Var(v=-0.0056, grad=0.0000), Var(v=0.0725, grad=-0.8640), Var(v=0.0474, grad=0.3882), Var(v=-0.0314, grad=0.0000), Var(v=-0.1308, grad=1.3274), Var(v=-0.0359, grad=0.0000), Var(v=-0.1341, grad=0.0000), Var(v=-0.0521, grad=0.0000), Var(v=-0.1027, grad=0.0000), Var(v=0.0144, grad=0.0000), Var(v=0.0301, grad=1.8140), Var(v=-0.0948, grad=0.0000), Var(v=0.0816, grad=0.0000), Var(v=0.1982, grad=-1.6490), Var(v=-0.0574, grad=-0.1292), Var(v=-0.0422, grad=0.7630), Var(v=0.0377, grad=-1.5169), Var(v=0.0580, grad=0.8854), Var(v=0.0588, grad=0.6173), Var(v=-0.0854, grad=0.0000), Var(v=-0.0041, grad=0.0000), Var(v=0.0129, grad=0.5957), Var(v=-0.0290, grad=0.0000), Var(v=-0.2162, grad=1.2659), Var(v=0.0040, grad=0.0000), Var(v=0.0062, grad=-0.2135), Var(v=-0.1626, grad=0.0000), Var(v=-0.1564, grad=0.0000)], [Var(v=0.0391, grad=2.7601), Var(v=-0.1752, grad=0.0000), Var(v=0.2053, grad=-0.2624), Var(v=0.1471, grad=0.0000), Var(v=-0.0045, grad=0.0000), Var(v=0.1372, grad=-1.1057), Var(v=0.0821, grad=-1.4750), Var(v=0.2362, grad=0.7172), Var(v=0.0513, grad=0.2284), Var(v=-0.0756, grad=2.9140), Var(v=-0.0460, grad=0.0000), Var(v=-0.0479, grad=0.3019), Var(v=0.2206, grad=-0.4288), Var(v=-0.0559, grad=-1.9033), Var(v=0.0809, grad=-0.1970), Var(v=0.0179, grad=-0.4821), Var(v=0.0155, grad=0.0000), Var(v=0.0209, grad=-2.0106), Var(v=0.0739, grad=-1.3598), Var(v=0.1104, grad=1.3511), Var(v=-0.1398, grad=0.0000), Var(v=0.0457, grad=0.8480), Var(v=-0.0283, grad=0.0000), Var(v=-0.0742, grad=0.0000), Var(v=-0.0391, grad=-0.5101), Var(v=0.0207, grad=0.0000), Var(v=-0.0680, grad=0.0000), Var(v=-0.0183, grad=2.5218), Var(v=0.1189, grad=1.1990), Var(v=-0.0303, grad=3.3297), Var(v=-0.1806, grad=0.0000), Var(v=-0.1920, grad=0.0000), Var(v=0.0470, grad=-2.3836), Var(v=0.0908, grad=-0.2234), Var(v=-0.1061, grad=0.0000), Var(v=0.1054, grad=2.1667), Var(v=-0.0070, grad=0.1698), Var(v=-0.2158, grad=0.0000), Var(v=0.0594, grad=1.9932), Var(v=-0.1386, grad=0.0000), Var(v=0.0207, grad=-0.8112), Var(v=0.0267, grad=0.0000), Var(v=0.1749, grad=-1.7605), Var(v=0.1180, grad=-0.7827), Var(v=0.0193, grad=0.0727), Var(v=-0.0481, grad=0.0000), Var(v=-0.0989, grad=0.0000), Var(v=0.0831, grad=0.2806), Var(v=0.0476, grad=3.0999), Var(v=-0.1663, grad=0.0000)], [Var(v=-0.1093, grad=1.5091), Var(v=-0.0688, grad=0.0000), Var(v=-0.2760, grad=-0.1435), Var(v=-0.2894, grad=0.0000), Var(v=-0.0021, grad=0.0000), Var(v=-0.0602, grad=-0.6046), Var(v=0.0463, grad=-0.8065), Var(v=-0.0865, grad=0.3921), Var(v=-0.0062, grad=0.1249), Var(v=0.0242, grad=1.5933), Var(v=0.1166, grad=0.0000), Var(v=-0.0379, grad=0.1650), Var(v=0.0859, grad=-0.2345), Var(v=0.0412, grad=-1.0406), Var(v=-0.0134, grad=-0.1077), Var(v=0.0180, grad=-0.2636), Var(v=-0.0195, grad=0.0000), Var(v=0.0075, grad=-1.0993), Var(v=-0.0946, grad=-0.7435), Var(v=0.0721, grad=0.7387), Var(v=0.0916, grad=0.0000), Var(v=0.0576, grad=0.4637), Var(v=-0.1685, grad=0.0000), Var(v=0.0048, grad=0.0000), Var(v=-0.0729, grad=-0.2789), Var(v=-0.0411, grad=0.0000), Var(v=-0.0768, grad=0.0000), Var(v=0.0605, grad=1.3788), Var(v=0.0511, grad=0.6556), Var(v=0.1207, grad=1.8205), Var(v=0.1884, grad=0.0000), Var(v=0.0426, grad=0.0000), Var(v=0.1073, grad=-1.3032), Var(v=-0.0066, grad=-0.1221), Var(v=-0.0508, grad=0.0000), Var(v=-0.0133, grad=1.1847), Var(v=0.1135, grad=0.0928), Var(v=0.2442, grad=0.0000), Var(v=0.0467, grad=1.0898), Var(v=0.1586, grad=0.0000), Var(v=0.1638, grad=-0.4435), Var(v=-0.0633, grad=0.0000), Var(v=-0.0207, grad=-0.9626), Var(v=-0.0166, grad=-0.4279), Var(v=0.0275, grad=0.0397), Var(v=0.0066, grad=0.0000), Var(v=-0.0327, grad=0.0000), Var(v=-0.0170, grad=0.1534), Var(v=-0.0946, grad=1.6949), Var(v=-0.0905, grad=0.0000)], [Var(v=0.0584, grad=0.9223), Var(v=-0.1213, grad=0.0000), Var(v=0.1666, grad=-0.0877), Var(v=0.0131, grad=0.0000), Var(v=-0.0395, grad=0.0000), Var(v=0.0017, grad=-0.3694), Var(v=0.1692, grad=-0.4929), Var(v=0.1651, grad=0.2396), Var(v=0.0852, grad=0.0763), Var(v=-0.1395, grad=0.9737), Var(v=0.1703, grad=0.0000), Var(v=0.0402, grad=0.1009), Var(v=-0.0082, grad=-0.1433), Var(v=0.0168, grad=-0.6359), Var(v=0.1426, grad=-0.0658), Var(v=-0.0261, grad=-0.1611), Var(v=-0.0325, grad=0.0000), Var(v=0.1448, grad=-0.6718), Var(v=0.0923, grad=-0.4544), Var(v=0.1396, grad=0.4514), Var(v=0.0040, grad=0.0000), Var(v=0.0141, grad=0.2833), Var(v=0.0494, grad=0.0000), Var(v=-0.0479, grad=0.0000), Var(v=0.1120, grad=-0.1704), Var(v=-0.0422, grad=0.0000), Var(v=-0.2755, grad=0.0000), Var(v=-0.0176, grad=0.8426), Var(v=0.0574, grad=0.4006), Var(v=0.0012, grad=1.1126), Var(v=0.0512, grad=0.0000), Var(v=-0.0229, grad=0.0000), Var(v=0.1414, grad=-0.7964), Var(v=-0.0381, grad=-0.0746), Var(v=-0.0177, grad=0.0000), Var(v=-0.2222, grad=0.7240), Var(v=0.0125, grad=0.0567), Var(v=-0.0286, grad=0.0000), Var(v=0.0969, grad=0.6660), Var(v=-0.0938, grad=0.0000), Var(v=0.1492, grad=-0.2710), Var(v=-0.1869, grad=0.0000), Var(v=-0.0836, grad=-0.5882), Var(v=0.0485, grad=-0.2615), Var(v=0.1382, grad=0.0243), Var(v=0.2463, grad=0.0000), Var(v=0.0447, grad=0.0000), Var(v=0.0412, grad=0.0938), Var(v=-0.0755, grad=1.0358), Var(v=0.0280, grad=0.0000)], [Var(v=0.0064, grad=-1.3957), Var(v=-0.0020, grad=-0.5506), Var(v=0.1029, grad=0.1327), Var(v=0.1298, grad=0.0000), Var(v=0.1648, grad=0.4483), Var(v=-0.1101, grad=0.5591), Var(v=-0.0503, grad=0.0000), Var(v=0.1955, grad=-0.3626), Var(v=-0.0306, grad=-0.1155), Var(v=-0.0139, grad=-1.4736), Var(v=0.1485, grad=-0.4552), Var(v=-0.0219, grad=-0.1526), Var(v=-0.0713, grad=0.0000), Var(v=-0.1305, grad=0.0000), Var(v=0.0115, grad=0.0000), Var(v=-0.0115, grad=0.0000), Var(v=-0.1817, grad=1.7188), Var(v=-0.1058, grad=0.0000), Var(v=-0.1009, grad=0.6876), Var(v=0.0043, grad=0.0000), Var(v=-0.1842, grad=0.0000), Var(v=-0.1988, grad=0.0000), Var(v=-0.0669, grad=0.0000), Var(v=0.0580, grad=-0.5741), Var(v=0.1343, grad=0.2579), Var(v=-0.0775, grad=0.0000), Var(v=0.1020, grad=0.8820), Var(v=0.0165, grad=0.0000), Var(v=-0.0117, grad=0.0000), Var(v=-0.0034, grad=0.0000), Var(v=-0.0533, grad=0.0000), Var(v=-0.1895, grad=0.0000), Var(v=0.0014, grad=1.2053), Var(v=-0.1409, grad=0.0000), Var(v=-0.1967, grad=0.0000), Var(v=-0.0349, grad=-1.0957), Var(v=0.0398, grad=-0.0859), Var(v=0.0344, grad=0.5070), Var(v=0.1174, grad=-1.0079), Var(v=-0.0882, grad=0.5883), Var(v=0.0001, grad=0.4102), Var(v=-0.0191, grad=0.0000), Var(v=0.0081, grad=0.0000), Var(v=0.0461, grad=0.3958), Var(v=-0.0364, grad=0.0000), Var(v=0.2232, grad=0.8411), Var(v=-0.0086, grad=0.0000), Var(v=0.0002, grad=-0.1419), Var(v=0.0210, grad=0.0000), Var(v=-0.1037, grad=0.0000)], [Var(v=-0.0743, grad=0.0747), Var(v=0.0788, grad=0.0000), Var(v=0.0866, grad=-0.0071), Var(v=-0.1543, grad=0.0000), Var(v=-0.1655, grad=0.0000), Var(v=-0.1359, grad=-0.0299), Var(v=0.1256, grad=-0.0399), Var(v=0.1195, grad=0.0194), Var(v=-0.1562, grad=0.0062), Var(v=0.0787, grad=0.0788), Var(v=0.0384, grad=0.0000), Var(v=0.1795, grad=0.0082), Var(v=-0.0835, grad=-0.0116), Var(v=0.0175, grad=-0.0515), Var(v=-0.2536, grad=-0.0053), Var(v=0.0189, grad=-0.0130), Var(v=-0.0612, grad=0.0000), Var(v=-0.0507, grad=-0.0544), Var(v=0.0561, grad=-0.0368), Var(v=-0.1593, grad=0.0365), Var(v=-0.2095, grad=0.0000), Var(v=0.1521, grad=0.0229), Var(v=-0.0758, grad=0.0000), Var(v=-0.0213, grad=0.0000), Var(v=0.0107, grad=-0.0138), Var(v=-0.0774, grad=0.0000), Var(v=0.1269, grad=0.0000), Var(v=0.0940, grad=0.0682), Var(v=-0.0487, grad=0.0324), Var(v=0.0207, grad=0.0901), Var(v=-0.0689, grad=0.0000), Var(v=-0.0018, grad=0.0000), Var(v=0.0165, grad=-0.0645), Var(v=0.0687, grad=-0.0060), Var(v=-0.0662, grad=0.0000), Var(v=0.1069, grad=0.0586), Var(v=0.0205, grad=0.0046), Var(v=0.0395, grad=0.0000), Var(v=0.0407, grad=0.0539), Var(v=0.0977, grad=0.0000), Var(v=-0.1267, grad=-0.0219), Var(v=0.1429, grad=0.0000), Var(v=0.1219, grad=-0.0476), Var(v=0.2240, grad=-0.0212), Var(v=-0.1094, grad=0.0020), Var(v=-0.0070, grad=0.0000), Var(v=0.0694, grad=0.0000), Var(v=0.0531, grad=0.0076), Var(v=-0.0304, grad=0.0838), Var(v=0.0881, grad=0.0000)], [Var(v=0.0393, grad=-0.9761), Var(v=0.1228, grad=-0.3851), Var(v=-0.1173, grad=0.0928), Var(v=-0.1529, grad=0.0000), Var(v=0.1501, grad=0.3135), Var(v=0.0140, grad=0.3910), Var(v=-0.1133, grad=0.0000), Var(v=-0.2614, grad=-0.2536), Var(v=0.0777, grad=-0.0808), Var(v=0.0836, grad=-1.0305), Var(v=-0.0126, grad=-0.3184), Var(v=0.0211, grad=-0.1067), Var(v=-0.2404, grad=0.0000), Var(v=-0.0343, grad=0.0000), Var(v=-0.0610, grad=0.0000), Var(v=-0.0643, grad=0.0000), Var(v=-0.1561, grad=1.2020), Var(v=-0.1765, grad=0.0000), Var(v=-0.3106, grad=0.4809), Var(v=-0.1117, grad=0.0000), Var(v=0.0570, grad=0.0000), Var(v=0.0223, grad=0.0000), Var(v=-0.0177, grad=0.0000), Var(v=0.0368, grad=-0.4015), Var(v=0.0315, grad=0.1804), Var(v=0.1358, grad=0.0000), Var(v=0.1054, grad=0.6168), Var(v=-0.0621, grad=0.0000), Var(v=-0.0795, grad=0.0000), Var(v=0.0395, grad=0.0000), Var(v=0.2288, grad=0.0000), Var(v=0.0775, grad=0.0000), Var(v=-0.0653, grad=0.8429), Var(v=0.1052, grad=0.0000), Var(v=0.0297, grad=0.0000), Var(v=-0.0331, grad=-0.7662), Var(v=-0.0096, grad=-0.0600), Var(v=0.0991, grad=0.3545), Var(v=-0.0774, grad=-0.7049), Var(v=-0.0586, grad=0.4114), Var(v=0.0237, grad=0.2869), Var(v=-0.0052, grad=0.0000), Var(v=-0.0164, grad=0.0000), Var(v=0.1119, grad=0.2768), Var(v=0.0050, grad=0.0000), Var(v=0.1067, grad=0.5882), Var(v=0.0336, grad=0.0000), Var(v=0.0827, grad=-0.0992), Var(v=0.0095, grad=0.0000), Var(v=-0.0164, grad=0.0000)], [Var(v=0.0140, grad=-0.6306), Var(v=0.0933, grad=-0.2488), Var(v=0.0507, grad=0.0599), Var(v=0.0424, grad=0.0000), Var(v=0.0963, grad=0.2025), Var(v=-0.0610, grad=0.2526), Var(v=-0.0189, grad=0.0000), Var(v=0.0513, grad=-0.1638), Var(v=0.0997, grad=-0.0522), Var(v=0.1829, grad=-0.6657), Var(v=0.0196, grad=-0.2057), Var(v=0.1028, grad=-0.0690), Var(v=0.0392, grad=0.0000), Var(v=-0.0176, grad=0.0000), Var(v=-0.0523, grad=0.0000), Var(v=0.0198, grad=0.0000), Var(v=0.2192, grad=0.7765), Var(v=0.0922, grad=0.0000), Var(v=0.0478, grad=0.3107), Var(v=-0.0415, grad=0.0000), Var(v=-0.0221, grad=0.0000), Var(v=0.0045, grad=0.0000), Var(v=-0.0662, grad=0.0000), Var(v=0.0497, grad=-0.2594), Var(v=-0.0002, grad=0.1165), Var(v=0.0536, grad=0.0000), Var(v=0.1666, grad=0.3985), Var(v=-0.1840, grad=0.0000), Var(v=0.1454, grad=0.0000), Var(v=0.1325, grad=0.0000), Var(v=0.0588, grad=0.0000), Var(v=-0.0187, grad=0.0000), Var(v=0.0812, grad=0.5446), Var(v=0.0283, grad=0.0000), Var(v=-0.0464, grad=0.0000), Var(v=-0.0903, grad=-0.4950), Var(v=0.1027, grad=-0.0388), Var(v=0.0510, grad=0.2290), Var(v=0.0122, grad=-0.4554), Var(v=0.0604, grad=0.2658), Var(v=0.0558, grad=0.1853), Var(v=-0.0047, grad=0.0000), Var(v=-0.1752, grad=0.0000), Var(v=-0.0911, grad=0.1788), Var(v=-0.1276, grad=0.0000), Var(v=-0.1646, grad=0.3800), Var(v=0.0131, grad=0.0000), Var(v=-0.0940, grad=-0.0641), Var(v=0.0815, grad=0.0000), Var(v=-0.1586, grad=0.0000)], [Var(v=-0.0731, grad=-0.2162), Var(v=-0.0470, grad=-0.0853), Var(v=0.0342, grad=0.0206), Var(v=-0.0163, grad=0.0000), Var(v=-0.0187, grad=0.0694), Var(v=0.1808, grad=0.0866), Var(v=-0.0305, grad=0.0000), Var(v=0.0210, grad=-0.0562), Var(v=-0.0080, grad=-0.0179), Var(v=-0.0045, grad=-0.2283), Var(v=-0.0976, grad=-0.0705), Var(v=0.1459, grad=-0.0236), Var(v=0.0510, grad=0.0000), Var(v=-0.0316, grad=0.0000), Var(v=0.1852, grad=0.0000), Var(v=0.1603, grad=0.0000), Var(v=-0.0990, grad=0.2662), Var(v=0.1462, grad=0.0000), Var(v=-0.0297, grad=0.1065), Var(v=0.1171, grad=0.0000), Var(v=-0.0709, grad=0.0000), Var(v=-0.0321, grad=0.0000), Var(v=-0.0685, grad=0.0000), Var(v=0.1112, grad=-0.0889), Var(v=-0.0081, grad=0.0400), Var(v=-0.1726, grad=0.0000), Var(v=-0.1064, grad=0.1366), Var(v=0.0491, grad=0.0000), Var(v=-0.2394, grad=0.0000), Var(v=0.0770, grad=0.0000), Var(v=-0.0220, grad=0.0000), Var(v=-0.0052, grad=0.0000), Var(v=-0.0732, grad=0.1867), Var(v=0.0721, grad=0.0000), Var(v=-0.0590, grad=0.0000), Var(v=0.0796, grad=-0.1697), Var(v=0.0280, grad=-0.0133), Var(v=-0.0658, grad=0.0785), Var(v=-0.0683, grad=-0.1561), Var(v=0.0965, grad=0.0911), Var(v=0.1224, grad=0.0635), Var(v=0.0866, grad=0.0000), Var(v=0.0300, grad=0.0000), Var(v=-0.0579, grad=0.0613), Var(v=0.0954, grad=0.0000), Var(v=0.0278, grad=0.1303), Var(v=-0.1320, grad=0.0000), Var(v=0.0344, grad=-0.0220), Var(v=-0.0680, grad=0.0000), Var(v=-0.2212, grad=0.0000)], [Var(v=0.1113, grad=1.5231), Var(v=-0.0095, grad=0.0000), Var(v=0.0926, grad=-0.1448), Var(v=-0.0153, grad=0.0000), Var(v=-0.0717, grad=0.0000), Var(v=0.1300, grad=-0.6101), Var(v=-0.0643, grad=-0.8139), Var(v=0.0244, grad=0.3957), Var(v=0.2104, grad=0.1261), Var(v=0.0471, grad=1.6080), Var(v=-0.2134, grad=0.0000), Var(v=-0.0487, grad=0.1666), Var(v=0.1220, grad=-0.2366), Var(v=-0.0066, grad=-1.0502), Var(v=-0.0210, grad=-0.1087), Var(v=0.1235, grad=-0.2660), Var(v=-0.1603, grad=0.0000), Var(v=0.0411, grad=-1.1094), Var(v=0.0259, grad=-0.7504), Var(v=-0.0684, grad=0.7455), Var(v=0.1161, grad=0.0000), Var(v=-0.0047, grad=0.4679), Var(v=-0.1446, grad=0.0000), Var(v=0.0888, grad=0.0000), Var(v=-0.0052, grad=-0.2815), Var(v=0.1030, grad=0.0000), Var(v=-0.0598, grad=0.0000), Var(v=-0.1521, grad=1.3916), Var(v=0.1152, grad=0.6616), Var(v=0.1085, grad=1.8374), Var(v=-0.0002, grad=0.0000), Var(v=-0.1528, grad=0.0000), Var(v=0.1587, grad=-1.3153), Var(v=0.0192, grad=-0.1233), Var(v=-0.0681, grad=0.0000), Var(v=-0.0542, grad=1.1956), Var(v=0.0318, grad=0.0937), Var(v=0.0810, grad=0.0000), Var(v=0.0037, grad=1.0999), Var(v=-0.1526, grad=0.0000), Var(v=-0.0062, grad=-0.4476), Var(v=0.0385, grad=0.0000), Var(v=-0.1034, grad=-0.9715), Var(v=-0.1715, grad=-0.4319), Var(v=0.0255, grad=0.0401), Var(v=-0.1401, grad=0.0000), Var(v=-0.0175, grad=0.0000), Var(v=-0.0632, grad=0.1548), Var(v=0.0712, grad=1.7106), Var(v=0.0478, grad=0.0000)]] Biases: [Var(v=-0.0014, grad=0.1400), Var(v=0.0490, grad=-4.8980), Var(v=0.0001, grad=-0.0133), Var(v=0.0000, grad=0.0000), Var(v=-0.0399, grad=3.9875), Var(v=0.0006, grad=-0.0561), Var(v=0.0671, grad=-6.7100), Var(v=-0.0004, grad=0.0364), Var(v=-0.0001, grad=0.0116), Var(v=-0.0015, grad=0.1478), Var(v=0.0405, grad=-4.0496), Var(v=-0.0002, grad=0.0153), Var(v=0.0195, grad=-1.9508), Var(v=0.0866, grad=-8.6581), Var(v=0.0090, grad=-0.8964), Var(v=0.0219, grad=-2.1929), Var(v=-0.1529, grad=15.2897), Var(v=0.0915, grad=-9.1462), Var(v=0.0007, grad=-0.0690), Var(v=-0.0615, grad=6.1461), Var(v=0.0000, grad=0.0000), Var(v=-0.0386, grad=3.8576), Var(v=0.0000, grad=0.0000), Var(v=0.0511, grad=-5.1068), Var(v=0.0003, grad=-0.0259), Var(v=0.0000, grad=0.0000), Var(v=-0.0785, grad=7.8457), Var(v=-0.1147, grad=11.4719), Var(v=-0.0545, grad=5.4545), Var(v=-0.1515, grad=15.1470), Var(v=0.0000, grad=0.0000), Var(v=0.0000, grad=0.0000), Var(v=0.0012, grad=-0.1209), Var(v=0.0102, grad=-1.0163), Var(v=0.0000, grad=0.0000), Var(v=-0.0011, grad=0.1099), Var(v=-0.0001, grad=0.0086), Var(v=-0.0451, grad=4.5097), Var(v=-0.0010, grad=0.1011), Var(v=-0.0523, grad=5.2335), Var(v=0.0004, grad=-0.0411), Var(v=0.0000, grad=0.0000), Var(v=0.0801, grad=-8.0087), Var(v=0.0004, grad=-0.0397), Var(v=-0.0033, grad=0.3307), Var(v=-0.0748, grad=7.4822), Var(v=0.0000, grad=0.0000), Var(v=-0.0001, grad=0.0142), Var(v=-0.1410, grad=14.1019), Var(v=0.0000, grad=0.0000)]\n",
      "Layer 2 \n",
      " Weights: [[Var(v=-0.1280, grad=-1.3709)], [Var(v=-0.0725, grad=1.6615)], [Var(v=0.0272, grad=-1.3688)], [Var(v=-0.0076, grad=0.0000)], [Var(v=-0.0089, grad=5.4389)], [Var(v=0.0984, grad=-4.1624)], [Var(v=0.0820, grad=-0.6303)], [Var(v=-0.0053, grad=-3.1511)], [Var(v=0.0214, grad=-3.3089)], [Var(v=-0.1487, grad=-0.0900)], [Var(v=-0.0499, grad=0.3662)], [Var(v=-0.0126, grad=-0.2897)], [Var(v=0.1058, grad=-8.3749)], [Var(v=0.1022, grad=-0.4480)], [Var(v=0.0473, grad=-3.7215)], [Var(v=0.0416, grad=-1.6869)], [Var(v=0.1671, grad=0.7394)], [Var(v=0.1138, grad=-1.0574)], [Var(v=0.0780, grad=-0.8187)], [Var(v=-0.0363, grad=-3.3091)], [Var(v=-0.2144, grad=0.0000)], [Var(v=-0.0391, grad=-0.4373)], [Var(v=0.0042, grad=0.0000)], [Var(v=-0.0694, grad=1.1113)], [Var(v=0.0041, grad=2.2118)], [Var(v=0.0436, grad=0.0000)], [Var(v=0.0765, grad=1.2982)], [Var(v=-0.0917, grad=-3.7774)], [Var(v=-0.0150, grad=-4.6585)], [Var(v=-0.1466, grad=-2.4310)], [Var(v=0.0710, grad=0.0000)], [Var(v=0.0134, grad=0.0000)], [Var(v=0.1464, grad=-2.4089)], [Var(v=0.0142, grad=-0.2719)], [Var(v=-0.1405, grad=0.0000)], [Var(v=-0.1204, grad=0.9203)], [Var(v=0.0040, grad=-1.2682)], [Var(v=0.0393, grad=1.2171)], [Var(v=-0.0530, grad=-4.9285)], [Var(v=0.0527, grad=0.7008)], [Var(v=0.0431, grad=-0.1480)], [Var(v=0.2377, grad=0.0000)], [Var(v=0.1053, grad=-1.4928)], [Var(v=0.0469, grad=-0.6756)], [Var(v=0.0183, grad=-2.2024)], [Var(v=0.0852, grad=0.0179)], [Var(v=-0.0198, grad=0.0000)], [Var(v=0.0315, grad=-4.5897)], [Var(v=-0.1350, grad=-2.4078)], [Var(v=0.0680, grad=0.0000)]] Biases: [Var(v=0.0099, grad=-0.9882)]\n",
      "\n",
      "Network after zeroing gradients:\n",
      "Layer 0 \n",
      " Weights: [[Var(v=0.0738, grad=0.0000), Var(v=-0.0006, grad=0.0000), Var(v=0.0868, grad=0.0000), Var(v=0.1684, grad=0.0000), Var(v=0.0274, grad=0.0000), Var(v=-0.1431, grad=0.0000), Var(v=0.1598, grad=0.0000), Var(v=0.0796, grad=0.0000), Var(v=0.1292, grad=0.0000), Var(v=-0.1160, grad=0.0000), Var(v=-0.0057, grad=0.0000), Var(v=-0.0919, grad=0.0000), Var(v=-0.0152, grad=0.0000), Var(v=-0.0275, grad=0.0000), Var(v=0.0664, grad=0.0000)]] Biases: [Var(v=0.0409, grad=0.0000), Var(v=-0.0567, grad=0.0000), Var(v=0.0175, grad=0.0000), Var(v=0.0689, grad=0.0000), Var(v=-0.1014, grad=0.0000), Var(v=-0.0097, grad=0.0000), Var(v=-0.0249, grad=0.0000), Var(v=-0.0202, grad=0.0000), Var(v=0.0568, grad=0.0000), Var(v=0.0125, grad=0.0000), Var(v=-0.0093, grad=0.0000), Var(v=0.0186, grad=0.0000), Var(v=-0.0281, grad=0.0000), Var(v=0.0106, grad=0.0000), Var(v=-0.0325, grad=0.0000)]\n",
      "Layer 1 \n",
      " Weights: [[Var(v=0.2434, grad=0.0000), Var(v=0.1070, grad=0.0000), Var(v=-0.0054, grad=0.0000), Var(v=0.0499, grad=0.0000), Var(v=0.1386, grad=0.0000), Var(v=0.0059, grad=0.0000), Var(v=-0.1236, grad=0.0000), Var(v=-0.0525, grad=0.0000), Var(v=-0.0517, grad=0.0000), Var(v=-0.0010, grad=0.0000), Var(v=0.0480, grad=0.0000), Var(v=-0.0148, grad=0.0000), Var(v=0.0102, grad=0.0000), Var(v=-0.0328, grad=0.0000), Var(v=0.0196, grad=0.0000), Var(v=0.2259, grad=0.0000), Var(v=0.1448, grad=0.0000), Var(v=0.0507, grad=0.0000), Var(v=0.2722, grad=0.0000), Var(v=0.1138, grad=0.0000), Var(v=-0.1273, grad=0.0000), Var(v=-0.1401, grad=0.0000), Var(v=0.1968, grad=0.0000), Var(v=0.1928, grad=0.0000), Var(v=-0.0731, grad=0.0000), Var(v=-0.0222, grad=0.0000), Var(v=0.0846, grad=0.0000), Var(v=-0.1292, grad=0.0000), Var(v=0.0146, grad=0.0000), Var(v=-0.0829, grad=0.0000), Var(v=-0.1282, grad=0.0000), Var(v=0.0630, grad=0.0000), Var(v=0.1459, grad=0.0000), Var(v=-0.0487, grad=0.0000), Var(v=-0.0069, grad=0.0000), Var(v=0.0115, grad=0.0000), Var(v=0.0001, grad=0.0000), Var(v=-0.0389, grad=0.0000), Var(v=-0.0587, grad=0.0000), Var(v=-0.1266, grad=0.0000), Var(v=0.0917, grad=0.0000), Var(v=0.0568, grad=0.0000), Var(v=-0.0062, grad=0.0000), Var(v=-0.0513, grad=0.0000), Var(v=-0.0790, grad=0.0000), Var(v=-0.0292, grad=0.0000), Var(v=0.0362, grad=0.0000), Var(v=0.1103, grad=0.0000), Var(v=-0.1088, grad=0.0000), Var(v=-0.0975, grad=0.0000)], [Var(v=-0.0223, grad=0.0000), Var(v=0.0986, grad=0.0000), Var(v=-0.0368, grad=0.0000), Var(v=0.0096, grad=0.0000), Var(v=0.0290, grad=0.0000), Var(v=-0.1363, grad=0.0000), Var(v=-0.0872, grad=0.0000), Var(v=-0.0604, grad=0.0000), Var(v=0.0809, grad=0.0000), Var(v=-0.0093, grad=0.0000), Var(v=-0.0136, grad=0.0000), Var(v=0.1163, grad=0.0000), Var(v=-0.1125, grad=0.0000), Var(v=0.0737, grad=0.0000), Var(v=0.0268, grad=0.0000), Var(v=0.0524, grad=0.0000), Var(v=0.0625, grad=0.0000), Var(v=0.0466, grad=0.0000), Var(v=0.0816, grad=0.0000), Var(v=-0.0464, grad=0.0000), Var(v=-0.0729, grad=0.0000), Var(v=0.0654, grad=0.0000), Var(v=0.1341, grad=0.0000), Var(v=-0.1538, grad=0.0000), Var(v=0.0593, grad=0.0000), Var(v=0.0309, grad=0.0000), Var(v=0.0904, grad=0.0000), Var(v=0.0411, grad=0.0000), Var(v=0.0018, grad=0.0000), Var(v=-0.1181, grad=0.0000), Var(v=-0.0598, grad=0.0000), Var(v=-0.0160, grad=0.0000), Var(v=-0.0179, grad=0.0000), Var(v=0.0649, grad=0.0000), Var(v=0.1002, grad=0.0000), Var(v=-0.0731, grad=0.0000), Var(v=0.0451, grad=0.0000), Var(v=0.0786, grad=0.0000), Var(v=0.0014, grad=0.0000), Var(v=0.0735, grad=0.0000), Var(v=0.0692, grad=0.0000), Var(v=0.1697, grad=0.0000), Var(v=-0.0328, grad=0.0000), Var(v=0.0716, grad=0.0000), Var(v=0.0229, grad=0.0000), Var(v=0.1021, grad=0.0000), Var(v=-0.1053, grad=0.0000), Var(v=0.0434, grad=0.0000), Var(v=-0.0994, grad=0.0000), Var(v=0.2658, grad=0.0000)], [Var(v=-0.0604, grad=0.0000), Var(v=0.0467, grad=0.0000), Var(v=-0.0229, grad=0.0000), Var(v=0.0352, grad=0.0000), Var(v=0.0153, grad=0.0000), Var(v=0.0982, grad=0.0000), Var(v=0.1047, grad=0.0000), Var(v=-0.0707, grad=0.0000), Var(v=-0.0408, grad=0.0000), Var(v=-0.1609, grad=0.0000), Var(v=-0.0132, grad=0.0000), Var(v=0.0001, grad=0.0000), Var(v=-0.0017, grad=0.0000), Var(v=-0.0155, grad=0.0000), Var(v=-0.0661, grad=0.0000), Var(v=0.1382, grad=0.0000), Var(v=0.0189, grad=0.0000), Var(v=0.0743, grad=0.0000), Var(v=-0.1245, grad=0.0000), Var(v=-0.0233, grad=0.0000), Var(v=-0.2036, grad=0.0000), Var(v=-0.0152, grad=0.0000), Var(v=-0.2657, grad=0.0000), Var(v=-0.0891, grad=0.0000), Var(v=0.1190, grad=0.0000), Var(v=-0.1071, grad=0.0000), Var(v=-0.3021, grad=0.0000), Var(v=-0.0052, grad=0.0000), Var(v=0.1699, grad=0.0000), Var(v=0.0078, grad=0.0000), Var(v=-0.0299, grad=0.0000), Var(v=-0.0265, grad=0.0000), Var(v=-0.1153, grad=0.0000), Var(v=0.0681, grad=0.0000), Var(v=-0.0328, grad=0.0000), Var(v=-0.0305, grad=0.0000), Var(v=0.1001, grad=0.0000), Var(v=-0.0269, grad=0.0000), Var(v=-0.0387, grad=0.0000), Var(v=-0.0612, grad=0.0000), Var(v=-0.0400, grad=0.0000), Var(v=-0.0252, grad=0.0000), Var(v=0.0305, grad=0.0000), Var(v=0.0212, grad=0.0000), Var(v=-0.0048, grad=0.0000), Var(v=-0.0668, grad=0.0000), Var(v=0.0204, grad=0.0000), Var(v=0.0868, grad=0.0000), Var(v=0.0189, grad=0.0000), Var(v=0.0368, grad=0.0000)], [Var(v=-0.2706, grad=0.0000), Var(v=-0.0599, grad=0.0000), Var(v=0.1863, grad=0.0000), Var(v=-0.0625, grad=0.0000), Var(v=0.0005, grad=0.0000), Var(v=0.0228, grad=0.0000), Var(v=-0.1111, grad=0.0000), Var(v=0.0146, grad=0.0000), Var(v=0.0059, grad=0.0000), Var(v=-0.0718, grad=0.0000), Var(v=-0.1396, grad=0.0000), Var(v=-0.0127, grad=0.0000), Var(v=0.1288, grad=0.0000), Var(v=0.1372, grad=0.0000), Var(v=0.0840, grad=0.0000), Var(v=-0.0495, grad=0.0000), Var(v=0.0843, grad=0.0000), Var(v=-0.0089, grad=0.0000), Var(v=0.0676, grad=0.0000), Var(v=0.0533, grad=0.0000), Var(v=-0.2127, grad=0.0000), Var(v=-0.1504, grad=0.0000), Var(v=-0.0676, grad=0.0000), Var(v=-0.0312, grad=0.0000), Var(v=0.0187, grad=0.0000), Var(v=-0.0629, grad=0.0000), Var(v=0.0981, grad=0.0000), Var(v=-0.1120, grad=0.0000), Var(v=-0.0581, grad=0.0000), Var(v=-0.0865, grad=0.0000), Var(v=0.0436, grad=0.0000), Var(v=0.0086, grad=0.0000), Var(v=0.0389, grad=0.0000), Var(v=-0.2317, grad=0.0000), Var(v=-0.0067, grad=0.0000), Var(v=0.0112, grad=0.0000), Var(v=-0.1862, grad=0.0000), Var(v=-0.0377, grad=0.0000), Var(v=0.1323, grad=0.0000), Var(v=-0.0393, grad=0.0000), Var(v=0.0150, grad=0.0000), Var(v=-0.1053, grad=0.0000), Var(v=0.1570, grad=0.0000), Var(v=0.0170, grad=0.0000), Var(v=-0.0076, grad=0.0000), Var(v=0.0249, grad=0.0000), Var(v=-0.0343, grad=0.0000), Var(v=0.0784, grad=0.0000), Var(v=0.0392, grad=0.0000), Var(v=-0.0860, grad=0.0000)], [Var(v=0.0809, grad=0.0000), Var(v=-0.0425, grad=0.0000), Var(v=-0.0125, grad=0.0000), Var(v=0.0260, grad=0.0000), Var(v=-0.0578, grad=0.0000), Var(v=0.0924, grad=0.0000), Var(v=-0.0364, grad=0.0000), Var(v=0.0433, grad=0.0000), Var(v=0.1730, grad=0.0000), Var(v=0.1453, grad=0.0000), Var(v=0.0101, grad=0.0000), Var(v=0.2099, grad=0.0000), Var(v=0.0653, grad=0.0000), Var(v=0.0658, grad=0.0000), Var(v=0.0970, grad=0.0000), Var(v=-0.0585, grad=0.0000), Var(v=-0.1239, grad=0.0000), Var(v=-0.0203, grad=0.0000), Var(v=-0.0203, grad=0.0000), Var(v=-0.0690, grad=0.0000), Var(v=0.0322, grad=0.0000), Var(v=0.0148, grad=0.0000), Var(v=0.0287, grad=0.0000), Var(v=-0.1410, grad=0.0000), Var(v=0.0549, grad=0.0000), Var(v=-0.1155, grad=0.0000), Var(v=0.0248, grad=0.0000), Var(v=0.3518, grad=0.0000), Var(v=-0.0725, grad=0.0000), Var(v=-0.0150, grad=0.0000), Var(v=-0.0311, grad=0.0000), Var(v=-0.1163, grad=0.0000), Var(v=-0.0221, grad=0.0000), Var(v=0.0311, grad=0.0000), Var(v=-0.1762, grad=0.0000), Var(v=-0.0491, grad=0.0000), Var(v=0.0593, grad=0.0000), Var(v=0.0020, grad=0.0000), Var(v=0.0981, grad=0.0000), Var(v=-0.0628, grad=0.0000), Var(v=-0.0305, grad=0.0000), Var(v=-0.0345, grad=0.0000), Var(v=-0.0539, grad=0.0000), Var(v=0.1155, grad=0.0000), Var(v=0.0462, grad=0.0000), Var(v=-0.0816, grad=0.0000), Var(v=-0.1342, grad=0.0000), Var(v=0.1519, grad=0.0000), Var(v=0.0282, grad=0.0000), Var(v=-0.1336, grad=0.0000)], [Var(v=0.0436, grad=0.0000), Var(v=0.0088, grad=0.0000), Var(v=0.1820, grad=0.0000), Var(v=-0.0734, grad=0.0000), Var(v=0.1357, grad=0.0000), Var(v=0.1677, grad=0.0000), Var(v=0.0245, grad=0.0000), Var(v=0.1750, grad=0.0000), Var(v=0.1080, grad=0.0000), Var(v=-0.0193, grad=0.0000), Var(v=-0.0452, grad=0.0000), Var(v=0.0073, grad=0.0000), Var(v=0.0090, grad=0.0000), Var(v=0.0126, grad=0.0000), Var(v=0.0061, grad=0.0000), Var(v=-0.0108, grad=0.0000), Var(v=0.1121, grad=0.0000), Var(v=0.0699, grad=0.0000), Var(v=0.1471, grad=0.0000), Var(v=-0.0568, grad=0.0000), Var(v=-0.0157, grad=0.0000), Var(v=-0.0009, grad=0.0000), Var(v=-0.0056, grad=0.0000), Var(v=0.0725, grad=0.0000), Var(v=0.0474, grad=0.0000), Var(v=-0.0314, grad=0.0000), Var(v=-0.1308, grad=0.0000), Var(v=-0.0359, grad=0.0000), Var(v=-0.1341, grad=0.0000), Var(v=-0.0521, grad=0.0000), Var(v=-0.1027, grad=0.0000), Var(v=0.0144, grad=0.0000), Var(v=0.0301, grad=0.0000), Var(v=-0.0948, grad=0.0000), Var(v=0.0816, grad=0.0000), Var(v=0.1982, grad=0.0000), Var(v=-0.0574, grad=0.0000), Var(v=-0.0422, grad=0.0000), Var(v=0.0377, grad=0.0000), Var(v=0.0580, grad=0.0000), Var(v=0.0588, grad=0.0000), Var(v=-0.0854, grad=0.0000), Var(v=-0.0041, grad=0.0000), Var(v=0.0129, grad=0.0000), Var(v=-0.0290, grad=0.0000), Var(v=-0.2162, grad=0.0000), Var(v=0.0040, grad=0.0000), Var(v=0.0062, grad=0.0000), Var(v=-0.1626, grad=0.0000), Var(v=-0.1564, grad=0.0000)], [Var(v=0.0391, grad=0.0000), Var(v=-0.1752, grad=0.0000), Var(v=0.2053, grad=0.0000), Var(v=0.1471, grad=0.0000), Var(v=-0.0045, grad=0.0000), Var(v=0.1372, grad=0.0000), Var(v=0.0821, grad=0.0000), Var(v=0.2362, grad=0.0000), Var(v=0.0513, grad=0.0000), Var(v=-0.0756, grad=0.0000), Var(v=-0.0460, grad=0.0000), Var(v=-0.0479, grad=0.0000), Var(v=0.2206, grad=0.0000), Var(v=-0.0559, grad=0.0000), Var(v=0.0809, grad=0.0000), Var(v=0.0179, grad=0.0000), Var(v=0.0155, grad=0.0000), Var(v=0.0209, grad=0.0000), Var(v=0.0739, grad=0.0000), Var(v=0.1104, grad=0.0000), Var(v=-0.1398, grad=0.0000), Var(v=0.0457, grad=0.0000), Var(v=-0.0283, grad=0.0000), Var(v=-0.0742, grad=0.0000), Var(v=-0.0391, grad=0.0000), Var(v=0.0207, grad=0.0000), Var(v=-0.0680, grad=0.0000), Var(v=-0.0183, grad=0.0000), Var(v=0.1189, grad=0.0000), Var(v=-0.0303, grad=0.0000), Var(v=-0.1806, grad=0.0000), Var(v=-0.1920, grad=0.0000), Var(v=0.0470, grad=0.0000), Var(v=0.0908, grad=0.0000), Var(v=-0.1061, grad=0.0000), Var(v=0.1054, grad=0.0000), Var(v=-0.0070, grad=0.0000), Var(v=-0.2158, grad=0.0000), Var(v=0.0594, grad=0.0000), Var(v=-0.1386, grad=0.0000), Var(v=0.0207, grad=0.0000), Var(v=0.0267, grad=0.0000), Var(v=0.1749, grad=0.0000), Var(v=0.1180, grad=0.0000), Var(v=0.0193, grad=0.0000), Var(v=-0.0481, grad=0.0000), Var(v=-0.0989, grad=0.0000), Var(v=0.0831, grad=0.0000), Var(v=0.0476, grad=0.0000), Var(v=-0.1663, grad=0.0000)], [Var(v=-0.1093, grad=0.0000), Var(v=-0.0688, grad=0.0000), Var(v=-0.2760, grad=0.0000), Var(v=-0.2894, grad=0.0000), Var(v=-0.0021, grad=0.0000), Var(v=-0.0602, grad=0.0000), Var(v=0.0463, grad=0.0000), Var(v=-0.0865, grad=0.0000), Var(v=-0.0062, grad=0.0000), Var(v=0.0242, grad=0.0000), Var(v=0.1166, grad=0.0000), Var(v=-0.0379, grad=0.0000), Var(v=0.0859, grad=0.0000), Var(v=0.0412, grad=0.0000), Var(v=-0.0134, grad=0.0000), Var(v=0.0180, grad=0.0000), Var(v=-0.0195, grad=0.0000), Var(v=0.0075, grad=0.0000), Var(v=-0.0946, grad=0.0000), Var(v=0.0721, grad=0.0000), Var(v=0.0916, grad=0.0000), Var(v=0.0576, grad=0.0000), Var(v=-0.1685, grad=0.0000), Var(v=0.0048, grad=0.0000), Var(v=-0.0729, grad=0.0000), Var(v=-0.0411, grad=0.0000), Var(v=-0.0768, grad=0.0000), Var(v=0.0605, grad=0.0000), Var(v=0.0511, grad=0.0000), Var(v=0.1207, grad=0.0000), Var(v=0.1884, grad=0.0000), Var(v=0.0426, grad=0.0000), Var(v=0.1073, grad=0.0000), Var(v=-0.0066, grad=0.0000), Var(v=-0.0508, grad=0.0000), Var(v=-0.0133, grad=0.0000), Var(v=0.1135, grad=0.0000), Var(v=0.2442, grad=0.0000), Var(v=0.0467, grad=0.0000), Var(v=0.1586, grad=0.0000), Var(v=0.1638, grad=0.0000), Var(v=-0.0633, grad=0.0000), Var(v=-0.0207, grad=0.0000), Var(v=-0.0166, grad=0.0000), Var(v=0.0275, grad=0.0000), Var(v=0.0066, grad=0.0000), Var(v=-0.0327, grad=0.0000), Var(v=-0.0170, grad=0.0000), Var(v=-0.0946, grad=0.0000), Var(v=-0.0905, grad=0.0000)], [Var(v=0.0584, grad=0.0000), Var(v=-0.1213, grad=0.0000), Var(v=0.1666, grad=0.0000), Var(v=0.0131, grad=0.0000), Var(v=-0.0395, grad=0.0000), Var(v=0.0017, grad=0.0000), Var(v=0.1692, grad=0.0000), Var(v=0.1651, grad=0.0000), Var(v=0.0852, grad=0.0000), Var(v=-0.1395, grad=0.0000), Var(v=0.1703, grad=0.0000), Var(v=0.0402, grad=0.0000), Var(v=-0.0082, grad=0.0000), Var(v=0.0168, grad=0.0000), Var(v=0.1426, grad=0.0000), Var(v=-0.0261, grad=0.0000), Var(v=-0.0325, grad=0.0000), Var(v=0.1448, grad=0.0000), Var(v=0.0923, grad=0.0000), Var(v=0.1396, grad=0.0000), Var(v=0.0040, grad=0.0000), Var(v=0.0141, grad=0.0000), Var(v=0.0494, grad=0.0000), Var(v=-0.0479, grad=0.0000), Var(v=0.1120, grad=0.0000), Var(v=-0.0422, grad=0.0000), Var(v=-0.2755, grad=0.0000), Var(v=-0.0176, grad=0.0000), Var(v=0.0574, grad=0.0000), Var(v=0.0012, grad=0.0000), Var(v=0.0512, grad=0.0000), Var(v=-0.0229, grad=0.0000), Var(v=0.1414, grad=0.0000), Var(v=-0.0381, grad=0.0000), Var(v=-0.0177, grad=0.0000), Var(v=-0.2222, grad=0.0000), Var(v=0.0125, grad=0.0000), Var(v=-0.0286, grad=0.0000), Var(v=0.0969, grad=0.0000), Var(v=-0.0938, grad=0.0000), Var(v=0.1492, grad=0.0000), Var(v=-0.1869, grad=0.0000), Var(v=-0.0836, grad=0.0000), Var(v=0.0485, grad=0.0000), Var(v=0.1382, grad=0.0000), Var(v=0.2463, grad=0.0000), Var(v=0.0447, grad=0.0000), Var(v=0.0412, grad=0.0000), Var(v=-0.0755, grad=0.0000), Var(v=0.0280, grad=0.0000)], [Var(v=0.0064, grad=0.0000), Var(v=-0.0020, grad=0.0000), Var(v=0.1029, grad=0.0000), Var(v=0.1298, grad=0.0000), Var(v=0.1648, grad=0.0000), Var(v=-0.1101, grad=0.0000), Var(v=-0.0503, grad=0.0000), Var(v=0.1955, grad=0.0000), Var(v=-0.0306, grad=0.0000), Var(v=-0.0139, grad=0.0000), Var(v=0.1485, grad=0.0000), Var(v=-0.0219, grad=0.0000), Var(v=-0.0713, grad=0.0000), Var(v=-0.1305, grad=0.0000), Var(v=0.0115, grad=0.0000), Var(v=-0.0115, grad=0.0000), Var(v=-0.1817, grad=0.0000), Var(v=-0.1058, grad=0.0000), Var(v=-0.1009, grad=0.0000), Var(v=0.0043, grad=0.0000), Var(v=-0.1842, grad=0.0000), Var(v=-0.1988, grad=0.0000), Var(v=-0.0669, grad=0.0000), Var(v=0.0580, grad=0.0000), Var(v=0.1343, grad=0.0000), Var(v=-0.0775, grad=0.0000), Var(v=0.1020, grad=0.0000), Var(v=0.0165, grad=0.0000), Var(v=-0.0117, grad=0.0000), Var(v=-0.0034, grad=0.0000), Var(v=-0.0533, grad=0.0000), Var(v=-0.1895, grad=0.0000), Var(v=0.0014, grad=0.0000), Var(v=-0.1409, grad=0.0000), Var(v=-0.1967, grad=0.0000), Var(v=-0.0349, grad=0.0000), Var(v=0.0398, grad=0.0000), Var(v=0.0344, grad=0.0000), Var(v=0.1174, grad=0.0000), Var(v=-0.0882, grad=0.0000), Var(v=0.0001, grad=0.0000), Var(v=-0.0191, grad=0.0000), Var(v=0.0081, grad=0.0000), Var(v=0.0461, grad=0.0000), Var(v=-0.0364, grad=0.0000), Var(v=0.2232, grad=0.0000), Var(v=-0.0086, grad=0.0000), Var(v=0.0002, grad=0.0000), Var(v=0.0210, grad=0.0000), Var(v=-0.1037, grad=0.0000)], [Var(v=-0.0743, grad=0.0000), Var(v=0.0788, grad=0.0000), Var(v=0.0866, grad=0.0000), Var(v=-0.1543, grad=0.0000), Var(v=-0.1655, grad=0.0000), Var(v=-0.1359, grad=0.0000), Var(v=0.1256, grad=0.0000), Var(v=0.1195, grad=0.0000), Var(v=-0.1562, grad=0.0000), Var(v=0.0787, grad=0.0000), Var(v=0.0384, grad=0.0000), Var(v=0.1795, grad=0.0000), Var(v=-0.0835, grad=0.0000), Var(v=0.0175, grad=0.0000), Var(v=-0.2536, grad=0.0000), Var(v=0.0189, grad=0.0000), Var(v=-0.0612, grad=0.0000), Var(v=-0.0507, grad=0.0000), Var(v=0.0561, grad=0.0000), Var(v=-0.1593, grad=0.0000), Var(v=-0.2095, grad=0.0000), Var(v=0.1521, grad=0.0000), Var(v=-0.0758, grad=0.0000), Var(v=-0.0213, grad=0.0000), Var(v=0.0107, grad=0.0000), Var(v=-0.0774, grad=0.0000), Var(v=0.1269, grad=0.0000), Var(v=0.0940, grad=0.0000), Var(v=-0.0487, grad=0.0000), Var(v=0.0207, grad=0.0000), Var(v=-0.0689, grad=0.0000), Var(v=-0.0018, grad=0.0000), Var(v=0.0165, grad=0.0000), Var(v=0.0687, grad=0.0000), Var(v=-0.0662, grad=0.0000), Var(v=0.1069, grad=0.0000), Var(v=0.0205, grad=0.0000), Var(v=0.0395, grad=0.0000), Var(v=0.0407, grad=0.0000), Var(v=0.0977, grad=0.0000), Var(v=-0.1267, grad=0.0000), Var(v=0.1429, grad=0.0000), Var(v=0.1219, grad=0.0000), Var(v=0.2240, grad=0.0000), Var(v=-0.1094, grad=0.0000), Var(v=-0.0070, grad=0.0000), Var(v=0.0694, grad=0.0000), Var(v=0.0531, grad=0.0000), Var(v=-0.0304, grad=0.0000), Var(v=0.0881, grad=0.0000)], [Var(v=0.0393, grad=0.0000), Var(v=0.1228, grad=0.0000), Var(v=-0.1173, grad=0.0000), Var(v=-0.1529, grad=0.0000), Var(v=0.1501, grad=0.0000), Var(v=0.0140, grad=0.0000), Var(v=-0.1133, grad=0.0000), Var(v=-0.2614, grad=0.0000), Var(v=0.0777, grad=0.0000), Var(v=0.0836, grad=0.0000), Var(v=-0.0126, grad=0.0000), Var(v=0.0211, grad=0.0000), Var(v=-0.2404, grad=0.0000), Var(v=-0.0343, grad=0.0000), Var(v=-0.0610, grad=0.0000), Var(v=-0.0643, grad=0.0000), Var(v=-0.1561, grad=0.0000), Var(v=-0.1765, grad=0.0000), Var(v=-0.3106, grad=0.0000), Var(v=-0.1117, grad=0.0000), Var(v=0.0570, grad=0.0000), Var(v=0.0223, grad=0.0000), Var(v=-0.0177, grad=0.0000), Var(v=0.0368, grad=0.0000), Var(v=0.0315, grad=0.0000), Var(v=0.1358, grad=0.0000), Var(v=0.1054, grad=0.0000), Var(v=-0.0621, grad=0.0000), Var(v=-0.0795, grad=0.0000), Var(v=0.0395, grad=0.0000), Var(v=0.2288, grad=0.0000), Var(v=0.0775, grad=0.0000), Var(v=-0.0653, grad=0.0000), Var(v=0.1052, grad=0.0000), Var(v=0.0297, grad=0.0000), Var(v=-0.0331, grad=0.0000), Var(v=-0.0096, grad=0.0000), Var(v=0.0991, grad=0.0000), Var(v=-0.0774, grad=0.0000), Var(v=-0.0586, grad=0.0000), Var(v=0.0237, grad=0.0000), Var(v=-0.0052, grad=0.0000), Var(v=-0.0164, grad=0.0000), Var(v=0.1119, grad=0.0000), Var(v=0.0050, grad=0.0000), Var(v=0.1067, grad=0.0000), Var(v=0.0336, grad=0.0000), Var(v=0.0827, grad=0.0000), Var(v=0.0095, grad=0.0000), Var(v=-0.0164, grad=0.0000)], [Var(v=0.0140, grad=0.0000), Var(v=0.0933, grad=0.0000), Var(v=0.0507, grad=0.0000), Var(v=0.0424, grad=0.0000), Var(v=0.0963, grad=0.0000), Var(v=-0.0610, grad=0.0000), Var(v=-0.0189, grad=0.0000), Var(v=0.0513, grad=0.0000), Var(v=0.0997, grad=0.0000), Var(v=0.1829, grad=0.0000), Var(v=0.0196, grad=0.0000), Var(v=0.1028, grad=0.0000), Var(v=0.0392, grad=0.0000), Var(v=-0.0176, grad=0.0000), Var(v=-0.0523, grad=0.0000), Var(v=0.0198, grad=0.0000), Var(v=0.2192, grad=0.0000), Var(v=0.0922, grad=0.0000), Var(v=0.0478, grad=0.0000), Var(v=-0.0415, grad=0.0000), Var(v=-0.0221, grad=0.0000), Var(v=0.0045, grad=0.0000), Var(v=-0.0662, grad=0.0000), Var(v=0.0497, grad=0.0000), Var(v=-0.0002, grad=0.0000), Var(v=0.0536, grad=0.0000), Var(v=0.1666, grad=0.0000), Var(v=-0.1840, grad=0.0000), Var(v=0.1454, grad=0.0000), Var(v=0.1325, grad=0.0000), Var(v=0.0588, grad=0.0000), Var(v=-0.0187, grad=0.0000), Var(v=0.0812, grad=0.0000), Var(v=0.0283, grad=0.0000), Var(v=-0.0464, grad=0.0000), Var(v=-0.0903, grad=0.0000), Var(v=0.1027, grad=0.0000), Var(v=0.0510, grad=0.0000), Var(v=0.0122, grad=0.0000), Var(v=0.0604, grad=0.0000), Var(v=0.0558, grad=0.0000), Var(v=-0.0047, grad=0.0000), Var(v=-0.1752, grad=0.0000), Var(v=-0.0911, grad=0.0000), Var(v=-0.1276, grad=0.0000), Var(v=-0.1646, grad=0.0000), Var(v=0.0131, grad=0.0000), Var(v=-0.0940, grad=0.0000), Var(v=0.0815, grad=0.0000), Var(v=-0.1586, grad=0.0000)], [Var(v=-0.0731, grad=0.0000), Var(v=-0.0470, grad=0.0000), Var(v=0.0342, grad=0.0000), Var(v=-0.0163, grad=0.0000), Var(v=-0.0187, grad=0.0000), Var(v=0.1808, grad=0.0000), Var(v=-0.0305, grad=0.0000), Var(v=0.0210, grad=0.0000), Var(v=-0.0080, grad=0.0000), Var(v=-0.0045, grad=0.0000), Var(v=-0.0976, grad=0.0000), Var(v=0.1459, grad=0.0000), Var(v=0.0510, grad=0.0000), Var(v=-0.0316, grad=0.0000), Var(v=0.1852, grad=0.0000), Var(v=0.1603, grad=0.0000), Var(v=-0.0990, grad=0.0000), Var(v=0.1462, grad=0.0000), Var(v=-0.0297, grad=0.0000), Var(v=0.1171, grad=0.0000), Var(v=-0.0709, grad=0.0000), Var(v=-0.0321, grad=0.0000), Var(v=-0.0685, grad=0.0000), Var(v=0.1112, grad=0.0000), Var(v=-0.0081, grad=0.0000), Var(v=-0.1726, grad=0.0000), Var(v=-0.1064, grad=0.0000), Var(v=0.0491, grad=0.0000), Var(v=-0.2394, grad=0.0000), Var(v=0.0770, grad=0.0000), Var(v=-0.0220, grad=0.0000), Var(v=-0.0052, grad=0.0000), Var(v=-0.0732, grad=0.0000), Var(v=0.0721, grad=0.0000), Var(v=-0.0590, grad=0.0000), Var(v=0.0796, grad=0.0000), Var(v=0.0280, grad=0.0000), Var(v=-0.0658, grad=0.0000), Var(v=-0.0683, grad=0.0000), Var(v=0.0965, grad=0.0000), Var(v=0.1224, grad=0.0000), Var(v=0.0866, grad=0.0000), Var(v=0.0300, grad=0.0000), Var(v=-0.0579, grad=0.0000), Var(v=0.0954, grad=0.0000), Var(v=0.0278, grad=0.0000), Var(v=-0.1320, grad=0.0000), Var(v=0.0344, grad=0.0000), Var(v=-0.0680, grad=0.0000), Var(v=-0.2212, grad=0.0000)], [Var(v=0.1113, grad=0.0000), Var(v=-0.0095, grad=0.0000), Var(v=0.0926, grad=0.0000), Var(v=-0.0153, grad=0.0000), Var(v=-0.0717, grad=0.0000), Var(v=0.1300, grad=0.0000), Var(v=-0.0643, grad=0.0000), Var(v=0.0244, grad=0.0000), Var(v=0.2104, grad=0.0000), Var(v=0.0471, grad=0.0000), Var(v=-0.2134, grad=0.0000), Var(v=-0.0487, grad=0.0000), Var(v=0.1220, grad=0.0000), Var(v=-0.0066, grad=0.0000), Var(v=-0.0210, grad=0.0000), Var(v=0.1235, grad=0.0000), Var(v=-0.1603, grad=0.0000), Var(v=0.0411, grad=0.0000), Var(v=0.0259, grad=0.0000), Var(v=-0.0684, grad=0.0000), Var(v=0.1161, grad=0.0000), Var(v=-0.0047, grad=0.0000), Var(v=-0.1446, grad=0.0000), Var(v=0.0888, grad=0.0000), Var(v=-0.0052, grad=0.0000), Var(v=0.1030, grad=0.0000), Var(v=-0.0598, grad=0.0000), Var(v=-0.1521, grad=0.0000), Var(v=0.1152, grad=0.0000), Var(v=0.1085, grad=0.0000), Var(v=-0.0002, grad=0.0000), Var(v=-0.1528, grad=0.0000), Var(v=0.1587, grad=0.0000), Var(v=0.0192, grad=0.0000), Var(v=-0.0681, grad=0.0000), Var(v=-0.0542, grad=0.0000), Var(v=0.0318, grad=0.0000), Var(v=0.0810, grad=0.0000), Var(v=0.0037, grad=0.0000), Var(v=-0.1526, grad=0.0000), Var(v=-0.0062, grad=0.0000), Var(v=0.0385, grad=0.0000), Var(v=-0.1034, grad=0.0000), Var(v=-0.1715, grad=0.0000), Var(v=0.0255, grad=0.0000), Var(v=-0.1401, grad=0.0000), Var(v=-0.0175, grad=0.0000), Var(v=-0.0632, grad=0.0000), Var(v=0.0712, grad=0.0000), Var(v=0.0478, grad=0.0000)]] Biases: [Var(v=-0.0014, grad=0.0000), Var(v=0.0490, grad=0.0000), Var(v=0.0001, grad=0.0000), Var(v=0.0000, grad=0.0000), Var(v=-0.0399, grad=0.0000), Var(v=0.0006, grad=0.0000), Var(v=0.0671, grad=0.0000), Var(v=-0.0004, grad=0.0000), Var(v=-0.0001, grad=0.0000), Var(v=-0.0015, grad=0.0000), Var(v=0.0405, grad=0.0000), Var(v=-0.0002, grad=0.0000), Var(v=0.0195, grad=0.0000), Var(v=0.0866, grad=0.0000), Var(v=0.0090, grad=0.0000), Var(v=0.0219, grad=0.0000), Var(v=-0.1529, grad=0.0000), Var(v=0.0915, grad=0.0000), Var(v=0.0007, grad=0.0000), Var(v=-0.0615, grad=0.0000), Var(v=0.0000, grad=0.0000), Var(v=-0.0386, grad=0.0000), Var(v=0.0000, grad=0.0000), Var(v=0.0511, grad=0.0000), Var(v=0.0003, grad=0.0000), Var(v=0.0000, grad=0.0000), Var(v=-0.0785, grad=0.0000), Var(v=-0.1147, grad=0.0000), Var(v=-0.0545, grad=0.0000), Var(v=-0.1515, grad=0.0000), Var(v=0.0000, grad=0.0000), Var(v=0.0000, grad=0.0000), Var(v=0.0012, grad=0.0000), Var(v=0.0102, grad=0.0000), Var(v=0.0000, grad=0.0000), Var(v=-0.0011, grad=0.0000), Var(v=-0.0001, grad=0.0000), Var(v=-0.0451, grad=0.0000), Var(v=-0.0010, grad=0.0000), Var(v=-0.0523, grad=0.0000), Var(v=0.0004, grad=0.0000), Var(v=0.0000, grad=0.0000), Var(v=0.0801, grad=0.0000), Var(v=0.0004, grad=0.0000), Var(v=-0.0033, grad=0.0000), Var(v=-0.0748, grad=0.0000), Var(v=0.0000, grad=0.0000), Var(v=-0.0001, grad=0.0000), Var(v=-0.1410, grad=0.0000), Var(v=0.0000, grad=0.0000)]\n",
      "Layer 2 \n",
      " Weights: [[Var(v=-0.1280, grad=0.0000)], [Var(v=-0.0725, grad=0.0000)], [Var(v=0.0272, grad=0.0000)], [Var(v=-0.0076, grad=0.0000)], [Var(v=-0.0089, grad=0.0000)], [Var(v=0.0984, grad=0.0000)], [Var(v=0.0820, grad=0.0000)], [Var(v=-0.0053, grad=0.0000)], [Var(v=0.0214, grad=0.0000)], [Var(v=-0.1487, grad=0.0000)], [Var(v=-0.0499, grad=0.0000)], [Var(v=-0.0126, grad=0.0000)], [Var(v=0.1058, grad=0.0000)], [Var(v=0.1022, grad=0.0000)], [Var(v=0.0473, grad=0.0000)], [Var(v=0.0416, grad=0.0000)], [Var(v=0.1671, grad=0.0000)], [Var(v=0.1138, grad=0.0000)], [Var(v=0.0780, grad=0.0000)], [Var(v=-0.0363, grad=0.0000)], [Var(v=-0.2144, grad=0.0000)], [Var(v=-0.0391, grad=0.0000)], [Var(v=0.0042, grad=0.0000)], [Var(v=-0.0694, grad=0.0000)], [Var(v=0.0041, grad=0.0000)], [Var(v=0.0436, grad=0.0000)], [Var(v=0.0765, grad=0.0000)], [Var(v=-0.0917, grad=0.0000)], [Var(v=-0.0150, grad=0.0000)], [Var(v=-0.1466, grad=0.0000)], [Var(v=0.0710, grad=0.0000)], [Var(v=0.0134, grad=0.0000)], [Var(v=0.1464, grad=0.0000)], [Var(v=0.0142, grad=0.0000)], [Var(v=-0.1405, grad=0.0000)], [Var(v=-0.1204, grad=0.0000)], [Var(v=0.0040, grad=0.0000)], [Var(v=0.0393, grad=0.0000)], [Var(v=-0.0530, grad=0.0000)], [Var(v=0.0527, grad=0.0000)], [Var(v=0.0431, grad=0.0000)], [Var(v=0.2377, grad=0.0000)], [Var(v=0.1053, grad=0.0000)], [Var(v=0.0469, grad=0.0000)], [Var(v=0.0183, grad=0.0000)], [Var(v=0.0852, grad=0.0000)], [Var(v=-0.0198, grad=0.0000)], [Var(v=0.0315, grad=0.0000)], [Var(v=-0.1350, grad=0.0000)], [Var(v=0.0680, grad=0.0000)]] Biases: [Var(v=0.0099, grad=0.0000)]\n"
     ]
    },
    {
     "data": {
      "text/plain": [
       "[None, None, None]"
      ]
     },
     "execution_count": 99,
     "metadata": {},
     "output_type": "execute_result"
    }
   ],
   "source": [
    "print('Network before update:')\n",
    "[print('Layer', i, '\\n', NN[i]) for i in range(len(NN))] \n",
    "\n",
    "def parameters(network):\n",
    "  params = []\n",
    "  for layer in range(len(network)):\n",
    "    params += network[layer].parameters()\n",
    "  return params\n",
    "\n",
    "def update_parameters(params, learning_rate=0.01):\n",
    "  for p in params:\n",
    "    p.v -= learning_rate*p.grad\n",
    "\n",
    "def zero_gradients(params):\n",
    "  for p in params:\n",
    "    p.grad = 0.0\n",
    "\n",
    "update_parameters(parameters(NN))\n",
    "\n",
    "print('\\nNetwork after update:')\n",
    "[print('Layer', i, '\\n', NN[i]) for i in range(len(NN))] \n",
    "\n",
    "zero_gradients(parameters(NN))\n",
    "\n",
    "print('\\nNetwork after zeroing gradients:')\n",
    "[print('Layer', i, '\\n', NN[i]) for i in range(len(NN))] "
   ]
  },
  {
   "cell_type": "code",
   "execution_count": 100,
   "metadata": {
    "id": "woWYpdw6FtIO"
   },
   "outputs": [],
   "source": [
    "# Initialize an arbitrary neural network\n",
    "NN = [\n",
    "    DenseLayer(1, 8, lambda x: x.relu()),\n",
    "    DenseLayer(8, 1, lambda x: x.identity())\n",
    "]\n",
    "\n",
    "# Recommended hyper-parameters for 3-D: \n",
    "#NN = [\n",
    "#    DenseLayer(3, 16, lambda x: x.relu()),\n",
    "#    DenseLayer(16, 1, lambda x: x.identity())\n",
    "#]\n",
    "\n",
    "\n",
    "### Notice that, when we switch from tanh to relu activation, we decrease the learning rate. This is due the stability of the gradients \n",
    "## of the activation functions."
   ]
  },
  {
   "cell_type": "code",
   "execution_count": 101,
   "metadata": {
    "id": "mdqaqYBVFtIR"
   },
   "outputs": [],
   "source": [
    "# Initialize training hyperparameters\n",
    "EPOCHS = 200\n",
    "LEARN_R = 2e-3 "
   ]
  },
  {
   "cell_type": "code",
   "execution_count": 102,
   "metadata": {
    "colab": {
     "base_uri": "https://localhost:8080/"
    },
    "id": "5kfg76GMFtIW",
    "outputId": "e30cf68a-31f2-42b4-cc5e-860c297c0f04",
    "scrolled": true
   },
   "outputs": [
    {
     "name": "stdout",
     "output_type": "stream",
     "text": [
      "   0 ( 0.00%) Train loss: 108.180 \t Validation loss: 106.147\n",
      "  10 ( 5.00%) Train loss: 51.970 \t Validation loss: 39.528\n",
      "  20 (10.00%) Train loss: 18.854 \t Validation loss: 14.666\n",
      "  30 (15.00%) Train loss: 15.934 \t Validation loss: 11.649\n",
      "  40 (20.00%) Train loss: 12.850 \t Validation loss: 9.909\n",
      "  50 (25.00%) Train loss: 12.248 \t Validation loss: 9.441\n",
      "  60 (30.00%) Train loss: 12.149 \t Validation loss: 9.314\n",
      "  70 (35.00%) Train loss: 12.110 \t Validation loss: 9.256\n",
      "  80 (40.00%) Train loss: 12.083 \t Validation loss: 9.173\n",
      "  90 (45.00%) Train loss: 12.065 \t Validation loss: 9.136\n",
      " 100 (50.00%) Train loss: 12.047 \t Validation loss: 9.139\n",
      " 110 (55.00%) Train loss: 12.035 \t Validation loss: 9.083\n",
      " 120 (60.00%) Train loss: 12.021 \t Validation loss: 9.084\n",
      " 130 (65.00%) Train loss: 12.010 \t Validation loss: 9.067\n",
      " 140 (70.00%) Train loss: 12.001 \t Validation loss: 9.018\n",
      " 150 (75.00%) Train loss: 11.992 \t Validation loss: 9.008\n",
      " 160 (80.00%) Train loss: 11.985 \t Validation loss: 9.000\n",
      " 170 (85.00%) Train loss: 11.979 \t Validation loss: 8.992\n",
      " 180 (90.00%) Train loss: 11.974 \t Validation loss: 8.986\n",
      " 190 (95.00%) Train loss: 11.970 \t Validation loss: 8.983\n"
     ]
    }
   ],
   "source": [
    "train_loss = []\n",
    "val_loss = []\n",
    "\n",
    "for e in range(EPOCHS):\n",
    "     \n",
    "    # Forward pass and loss computation\n",
    "    Loss = squared_loss(y_train, forward(x_train, NN))\n",
    "\n",
    "    # Backward pass\n",
    "    Loss.backward()\n",
    "    \n",
    "    # gradient descent update\n",
    "    update_parameters(parameters(NN), LEARN_R)\n",
    "    zero_gradients(parameters(NN))\n",
    "    \n",
    "    # Training loss\n",
    "    train_loss.append(Loss.v)\n",
    "    \n",
    "    # Validation\n",
    "    Loss_validation = squared_loss(y_validation, forward(x_validation, NN))\n",
    "    val_loss.append(Loss_validation.v)\n",
    "    \n",
    "    if e%10==0:\n",
    "        print(\"{:4d}\".format(e),\n",
    "              \"({:5.2f}%)\".format(e/EPOCHS*100), \n",
    "              \"Train loss: {:4.3f} \\t Validation loss: {:4.3f}\".format(train_loss[-1], val_loss[-1]))\n",
    "        \n"
   ]
  },
  {
   "cell_type": "code",
   "execution_count": 103,
   "metadata": {
    "colab": {
     "base_uri": "https://localhost:8080/",
     "height": 265
    },
    "id": "VetyRWFwFtIY",
    "outputId": "344e490d-6d7d-455a-fa6f-88dd11eb957e"
   },
   "outputs": [
    {
     "data": {
      "image/png": "[encoded data removed]",
      "text/plain": [
       "<Figure size 640x480 with 1 Axes>"
      ]
     },
     "metadata": {},
     "output_type": "display_data"
    }
   ],
   "source": [
    "plt.plot(range(len(train_loss)), train_loss);\n",
    "plt.plot(range(len(val_loss)), val_loss);"
   ]
  },
  {
   "cell_type": "markdown",
   "metadata": {
    "id": "8OgmIrM9FtIb"
   },
   "source": [
    "# Testing\n",
    "\n",
    "We have kept the calculation of the test error separate in order to emphasize that you should not use the test set in optimization."
   ]
  },
  {
   "cell_type": "code",
   "execution_count": 104,
   "metadata": {
    "id": "HmNi7S-vFtIc"
   },
   "outputs": [],
   "source": [
    "output_test = forward(x_test, NN)"
   ]
  },
  {
   "cell_type": "code",
   "execution_count": 105,
   "metadata": {
    "colab": {
     "base_uri": "https://localhost:8080/",
     "height": 316
    },
    "id": "7mmJOTSEFtIf",
    "outputId": "e3264095-cefe-4aee-893d-bf152438e332"
   },
   "outputs": [
    {
     "name": "stdout",
     "output_type": "stream",
     "text": [
      "Test loss:  10.002\n"
     ]
    },
    {
     "data": {
      "image/png": "[encoded data removed]",
      "text/plain": [
       "<Figure size 640x480 with 1 Axes>"
      ]
     },
     "metadata": {},
     "output_type": "display_data"
    }
   ],
   "source": [
    "y_test_np = Var_to_nparray(y_test)\n",
    "plt.scatter(y_test_np, Var_to_nparray(output_test));\n",
    "plt.plot([np.min(y_test_np), np.max(y_test_np)], [np.min(y_test_np), np.max(y_test_np)], color='k');\n",
    "plt.xlabel(\"y\");\n",
    "plt.ylabel(\"$\\hat{y}$\");\n",
    "plt.title(\"Model prediction vs real in the test set, the close to the line the better\")\n",
    "plt.grid(True);\n",
    "plt.axis('equal');\n",
    "plt.tight_layout();\n",
    "\n",
    "Loss_test = squared_loss(y_test, forward(x_test, NN))\n",
    "\n",
    "print(\"Test loss:  {:4.3f}\".format(Loss_test.v))"
   ]
  },
  {
   "cell_type": "code",
   "execution_count": 106,
   "metadata": {
    "colab": {
     "base_uri": "https://localhost:8080/",
     "height": 279
    },
    "id": "ODi0WlmQFtIh",
    "outputId": "d1ab874f-0717-4987-87bf-1f0c7c8e7148"
   },
   "outputs": [
    {
     "data": {
      "image/png": "[encoded data removed]",
      "text/plain": [
       "<Figure size 640x480 with 1 Axes>"
      ]
     },
     "metadata": {},
     "output_type": "display_data"
    }
   ],
   "source": [
    "x_test_np = Var_to_nparray(x_test)\n",
    "x_train_np = Var_to_nparray(x_train)\n",
    "y_train_np = Var_to_nparray(y_train)\n",
    "if D1:\n",
    "    plt.scatter(x_train_np, y_train_np, label=\"train data\");\n",
    "    plt.scatter(x_test_np, Var_to_nparray(output_test), label=\"test prediction\");\n",
    "    plt.scatter(x_test_np, y_test_np, label=\"test data\");\n",
    "    plt.legend();\n",
    "    plt.xlabel(\"x\");\n",
    "    plt.ylabel(\"y\");\n",
    "else:\n",
    "    plt.scatter(x_train_np[:,1], y_train, label=\"train data\");\n",
    "    plt.scatter(x_test_np[:,1], Var_to_nparray(output_test), label=\"test data prediction\");\n",
    "    plt.scatter(x_test_np[:,1], y_test_np, label=\"test data\");\n",
    "    plt.legend();\n",
    "    plt.xlabel(\"x\");\n",
    "    plt.ylabel(\"y\");"
   ]
  },
  {
   "cell_type": "markdown",
   "metadata": {
    "id": "zTBAmjsAFtIk"
   },
   "source": [
    "## Exercise l) Show overfitting, underfitting and just right fitting\n",
    "\n",
    "Vary the architecture and other things to show clear signs of overfitting (=training loss significantly lower than test loss) and underfitting (=not fitting enoung to training data so that test performance is also hurt).\n",
    "\n",
    "See also if you can get a good compromise which leads to a low validation loss. \n",
    "\n",
    "For this problem do you see any big difference between validation and test loss? The answer here will probably be no. Discuss cases where it is important to keep the two separate.\n",
    "\n"
   ]
  },
  {
   "cell_type": "markdown",
   "metadata": {},
   "source": [
    "### Good fit\n",
    "Here I try to produce a good fit to the network by implementing a 3 layer deep neural network with 16 neurons in each layer, a intermediate amount of epochs and an intermediate learning rate. "
   ]
  },
  {
   "cell_type": "code",
   "execution_count": 124,
   "metadata": {
    "id": "tQZCn2dxFtIl"
   },
   "outputs": [
    {
     "name": "stdout",
     "output_type": "stream",
     "text": [
      "   0 ( 0.00%) Train loss: 106.093 \t Validation loss: 107.400\n",
      "  10 ( 2.00%) Train loss: 92.526 \t Validation loss: 90.774\n",
      "  20 ( 4.00%) Train loss: 14.693 \t Validation loss: 11.103\n",
      "  30 ( 6.00%) Train loss: 13.965 \t Validation loss: 10.757\n",
      "  40 ( 8.00%) Train loss: 22.569 \t Validation loss: 20.007\n",
      "  50 (10.00%) Train loss: 14.160 \t Validation loss: 10.974\n",
      "  60 (12.00%) Train loss: 15.868 \t Validation loss: 12.911\n",
      "  70 (14.00%) Train loss: 15.213 \t Validation loss: 11.976\n",
      "  80 (16.00%) Train loss: 13.866 \t Validation loss: 10.714\n",
      "  90 (18.00%) Train loss: 13.865 \t Validation loss: 10.740\n",
      " 100 (20.00%) Train loss: 13.650 \t Validation loss: 10.535\n",
      " 110 (22.00%) Train loss: 13.047 \t Validation loss: 9.916\n",
      " 120 (24.00%) Train loss: 12.795 \t Validation loss: 9.739\n",
      " 130 (26.00%) Train loss: 13.120 \t Validation loss: 10.091\n",
      " 140 (28.00%) Train loss: 13.177 \t Validation loss: 10.126\n",
      " 150 (30.00%) Train loss: 12.626 \t Validation loss: 9.587\n",
      " 160 (32.00%) Train loss: 12.597 \t Validation loss: 9.603\n",
      " 170 (34.00%) Train loss: 12.607 \t Validation loss: 9.619\n",
      " 180 (36.00%) Train loss: 12.624 \t Validation loss: 9.609\n",
      " 190 (38.00%) Train loss: 12.575 \t Validation loss: 9.572\n",
      " 200 (40.00%) Train loss: 12.520 \t Validation loss: 9.526\n",
      " 210 (42.00%) Train loss: 12.379 \t Validation loss: 9.401\n",
      " 220 (44.00%) Train loss: 12.219 \t Validation loss: 9.306\n",
      " 230 (46.00%) Train loss: 12.247 \t Validation loss: 9.300\n",
      " 240 (48.00%) Train loss: 12.258 \t Validation loss: 9.314\n",
      " 250 (50.00%) Train loss: 12.243 \t Validation loss: 9.303\n",
      " 260 (52.00%) Train loss: 12.182 \t Validation loss: 9.286\n",
      " 270 (54.00%) Train loss: 12.142 \t Validation loss: 9.227\n",
      " 280 (56.00%) Train loss: 12.085 \t Validation loss: 9.186\n",
      " 290 (58.00%) Train loss: 12.041 \t Validation loss: 9.182\n",
      " 300 (60.00%) Train loss: 12.037 \t Validation loss: 9.159\n",
      " 310 (62.00%) Train loss: 12.017 \t Validation loss: 9.147\n",
      " 320 (64.00%) Train loss: 11.991 \t Validation loss: 9.139\n",
      " 330 (66.00%) Train loss: 11.962 \t Validation loss: 9.124\n",
      " 340 (68.00%) Train loss: 11.937 \t Validation loss: 9.133\n",
      " 350 (70.00%) Train loss: 11.871 \t Validation loss: 9.092\n",
      " 360 (72.00%) Train loss: 11.795 \t Validation loss: 9.022\n",
      " 370 (74.00%) Train loss: 11.687 \t Validation loss: 8.958\n",
      " 380 (76.00%) Train loss: 11.602 \t Validation loss: 8.912\n",
      " 390 (78.00%) Train loss: 11.499 \t Validation loss: 8.858\n",
      " 400 (80.00%) Train loss: 11.421 \t Validation loss: 8.826\n",
      " 410 (82.00%) Train loss: 11.364 \t Validation loss: 8.806\n",
      " 420 (84.00%) Train loss: 11.298 \t Validation loss: 8.789\n",
      " 430 (86.00%) Train loss: 11.237 \t Validation loss: 8.780\n",
      " 440 (88.00%) Train loss: 11.190 \t Validation loss: 8.752\n",
      " 450 (90.00%) Train loss: 11.167 \t Validation loss: 8.745\n",
      " 460 (92.00%) Train loss: 11.154 \t Validation loss: 8.737\n",
      " 470 (94.00%) Train loss: 11.173 \t Validation loss: 8.753\n",
      " 480 (96.00%) Train loss: 11.206 \t Validation loss: 8.789\n",
      " 490 (98.00%) Train loss: 11.146 \t Validation loss: 8.765\n",
      "Test loss:  9.840\n"
     ]
    },
    {
     "data": {
      "image/png": "[encoded data removed]",
      "text/plain": [
       "<Figure size 640x480 with 1 Axes>"
      ]
     },
     "metadata": {},
     "output_type": "display_data"
    }
   ],
   "source": [
    "\n",
    "\n",
    "#For overfitting, we will use a very complex model with a lot of layers and nodes\n",
    "# Initialize an arbitrary neural network\n",
    "NN = [\n",
    "    DenseLayer(1, 16, lambda x: x.relu()),\n",
    "    DenseLayer(16, 16, lambda x: x.relu()),\n",
    "    DenseLayer(16, 1, lambda x: x.identity())\n",
    "]\n",
    "\n",
    "\n",
    "# Initialize training hyperparameters\n",
    "EPOCHS = 500\n",
    "LEARN_R = 2e-3 \n",
    "\n",
    "#training \n",
    "\n",
    "train_loss = []\n",
    "val_loss = []\n",
    "\n",
    "for e in range(EPOCHS):\n",
    "     \n",
    "    # Forward pass and loss computation\n",
    "    Loss = squared_loss(y_train, forward(x_train, NN))\n",
    "\n",
    "    # Backward pass\n",
    "    Loss.backward()\n",
    "    \n",
    "    # gradient descent update\n",
    "    update_parameters(parameters(NN), LEARN_R)\n",
    "    zero_gradients(parameters(NN))\n",
    "    \n",
    "    # Training loss\n",
    "    train_loss.append(Loss.v)\n",
    "    \n",
    "    # Validation\n",
    "    Loss_validation = squared_loss(y_validation, forward(x_validation, NN))\n",
    "    val_loss.append(Loss_validation.v)\n",
    "    \n",
    "    if e%10==0:\n",
    "        print(\"{:4d}\".format(e),\n",
    "              \"({:5.2f}%)\".format(e/EPOCHS*100), \n",
    "              \"Train loss: {:4.3f} \\t Validation loss: {:4.3f}\".format(train_loss[-1], val_loss[-1]))\n",
    "        \n",
    "# testing\n",
    "\n",
    "output_test = forward(x_test, NN)\n",
    "\n",
    "y_test_np = Var_to_nparray(y_test)\n",
    "plt.scatter(y_test_np, Var_to_nparray(output_test));\n",
    "plt.plot([np.min(y_test_np), np.max(y_test_np)], [np.min(y_test_np), np.max(y_test_np)], color='k');\n",
    "plt.xlabel(\"y\");\n",
    "plt.ylabel(\"$\\hat{y}$\");\n",
    "plt.title(\"Model prediction vs real in the test set, the close to the line the better\")\n",
    "plt.grid(True);\n",
    "plt.axis('equal');\n",
    "plt.tight_layout();\n",
    "\n",
    "Loss_test = squared_loss(y_test, forward(x_test, NN))\n",
    "\n",
    "print(\"Test loss:  {:4.3f}\".format(Loss_test.v))"
   ]
  },
  {
   "cell_type": "markdown",
   "metadata": {},
   "source": [
    "For the good network the validation loss is around 8.76 and the test loss is 9.84. This is not a great difference in the two errors and in this instance the validation error is a good substitute for a test loss.  "
   ]
  },
  {
   "cell_type": "code",
   "execution_count": 125,
   "metadata": {},
   "outputs": [
    {
     "data": {
      "image/png": "[encoded data removed]",
      "text/plain": [
       "<Figure size 640x480 with 1 Axes>"
      ]
     },
     "metadata": {},
     "output_type": "display_data"
    }
   ],
   "source": [
    "plt.plot(range(len(train_loss)), train_loss);\n",
    "plt.plot(range(len(val_loss)), val_loss);"
   ]
  },
  {
   "cell_type": "markdown",
   "metadata": {},
   "source": [
    "### Underfitting"
   ]
  },
  {
   "cell_type": "markdown",
   "metadata": {},
   "source": [
    "## Underfitting\n",
    "To demonstrate underfitting, we initialize a shallow network where:\n",
    "- The number of nodes is too low.\n",
    "- The network architecture is too simple (too few layers).\n",
    "- The number of training epochs is too small.\n",
    "\n",
    "This results in a model that is too simple to capture the underlying patterns in the data, leading to poor performance on both the training and validation sets.\n"
   ]
  },
  {
   "cell_type": "code",
   "execution_count": 137,
   "metadata": {},
   "outputs": [
    {
     "name": "stdout",
     "output_type": "stream",
     "text": [
      "   0 ( 0.00%) Train loss: 108.218 \t Validation loss: 109.361\n",
      "  10 (20.00%) Train loss: 92.081 \t Validation loss: 85.795\n",
      "  20 (40.00%) Train loss: 26.735 \t Validation loss: 21.380\n",
      "  30 (60.00%) Train loss: 20.222 \t Validation loss: 15.841\n",
      "  40 (80.00%) Train loss: 16.035 \t Validation loss: 12.558\n",
      "Test loss:  10.738\n"
     ]
    },
    {
     "data": {
      "image/png": "[encoded data removed]",
      "text/plain": [
       "<Figure size 640x480 with 1 Axes>"
      ]
     },
     "metadata": {},
     "output_type": "display_data"
    }
   ],
   "source": [
    "# Underfitting\n",
    "# Initialize an underfittet model by a shallow network where the number of nodes is too low, the network too shallow aand the epochs too low\n",
    "\n",
    "# Initialize an arbitrary neural network\n",
    "NN = [\n",
    "    DenseLayer(1, 2, lambda x: x.relu()),\n",
    "    DenseLayer(2, 1, lambda x: x.identity())\n",
    "]\n",
    "\n",
    "# Initialize training hyperparameters\n",
    "EPOCHS = 50\n",
    "LEARN_R = 2e-3\n",
    "\n",
    "#training \n",
    "\n",
    "train_loss = []\n",
    "val_loss = []\n",
    "\n",
    "for e in range(EPOCHS):\n",
    "     \n",
    "    # Forward pass and loss computation\n",
    "    Loss = squared_loss(y_train, forward(x_train, NN))\n",
    "\n",
    "    # Backward pass\n",
    "    Loss.backward()\n",
    "    \n",
    "    # gradient descent update\n",
    "    update_parameters(parameters(NN), LEARN_R)\n",
    "    zero_gradients(parameters(NN))\n",
    "    \n",
    "    # Training loss\n",
    "    train_loss.append(Loss.v)\n",
    "    \n",
    "    # Validation\n",
    "    Loss_validation = squared_loss(y_validation, forward(x_validation, NN))\n",
    "    val_loss.append(Loss_validation.v)\n",
    "    \n",
    "    if e%10==0:\n",
    "        print(\"{:4d}\".format(e),\n",
    "              \"({:5.2f}%)\".format(e/EPOCHS*100), \n",
    "              \"Train loss: {:4.3f} \\t Validation loss: {:4.3f}\".format(train_loss[-1], val_loss[-1]))\n",
    "        \n",
    "# testing\n",
    "\n",
    "output_test = forward(x_test, NN)\n",
    "\n",
    "y_test_np = Var_to_nparray(y_test)\n",
    "plt.scatter(y_test_np, Var_to_nparray(output_test));\n",
    "plt.plot([np.min(y_test_np), np.max(y_test_np)], [np.min(y_test_np), np.max(y_test_np)], color='k');\n",
    "plt.xlabel(\"y\");\n",
    "plt.ylabel(\"$\\hat{y}$\");\n",
    "plt.title(\"Model prediction vs real in the test set, the close to the line the better\")\n",
    "plt.grid(True);\n",
    "plt.axis('equal');\n",
    "plt.tight_layout();\n",
    "\n",
    "Loss_test = squared_loss(y_test, forward(x_test, NN))\n",
    "\n",
    "print(\"Test loss:  {:4.3f}\".format(Loss_test.v))"
   ]
  },
  {
   "cell_type": "code",
   "execution_count": 138,
   "metadata": {},
   "outputs": [
    {
     "data": {
      "image/png": "[encoded data removed]",
      "text/plain": [
       "<Figure size 640x480 with 1 Axes>"
      ]
     },
     "metadata": {},
     "output_type": "display_data"
    }
   ],
   "source": [
    "plt.plot(range(len(train_loss)), train_loss);\n",
    "plt.plot(range(len(val_loss)), val_loss);"
   ]
  },
  {
   "cell_type": "markdown",
   "metadata": {},
   "source": [
    "Here the underfitted network performs fairly well despise only having two hidden units. It had a validation loss around 12 and a test loss around 10.7. However it is underfitted in the sense that it have been trained for to few epoch meaning that it has not fully captured the information of the training set. Furthermore it is underfitted as I would theorize 2 hidden units is not enough to capture all the variety of the set. "
   ]
  },
  {
   "cell_type": "markdown",
   "metadata": {},
   "source": [
    "## Overfitting\n",
    "For overfitting, we will use a very complex model with:\n",
    "- 4 layers, each with 8 nodes.\n",
    "- A large number of training epochs.\n",
    "\n",
    "This setup makes the model too complex for the data, allowing it to overfit to the training set, capturing noise and irrelevant patterns, leading to poor generalization on the validation set.\n"
   ]
  },
  {
   "cell_type": "code",
   "execution_count": 141,
   "metadata": {},
   "outputs": [
    {
     "name": "stdout",
     "output_type": "stream",
     "text": [
      "   0 ( 0.00%) Train loss: 104.974 \t Validation loss: 107.647\n",
      "  10 ( 2.00%) Train loss: 104.851 \t Validation loss: 107.586\n",
      "  20 ( 4.00%) Train loss: 104.673 \t Validation loss: 107.369\n",
      "  30 ( 6.00%) Train loss: 104.302 \t Validation loss: 106.859\n",
      "  40 ( 8.00%) Train loss: 103.233 \t Validation loss: 105.621\n",
      "  50 (10.00%) Train loss: 98.022 \t Validation loss: 98.982\n",
      "  60 (12.00%) Train loss: 45.270 \t Validation loss: 31.073\n",
      "  70 (14.00%) Train loss: 72.648 \t Validation loss: 47.727\n",
      "  80 (16.00%) Train loss: 18.705 \t Validation loss: 17.081\n",
      "  90 (18.00%) Train loss: 27.325 \t Validation loss: 20.135\n",
      " 100 (20.00%) Train loss: 24.654 \t Validation loss: 19.365\n",
      " 110 (22.00%) Train loss: 24.972 \t Validation loss: 18.802\n",
      " 120 (24.00%) Train loss: 23.302 \t Validation loss: 18.115\n",
      " 130 (26.00%) Train loss: 21.734 \t Validation loss: 17.100\n",
      " 140 (28.00%) Train loss: 20.852 \t Validation loss: 16.383\n",
      " 150 (30.00%) Train loss: 20.244 \t Validation loss: 15.733\n",
      " 160 (32.00%) Train loss: 19.233 \t Validation loss: 14.920\n",
      " 170 (34.00%) Train loss: 18.479 \t Validation loss: 14.366\n",
      " 180 (36.00%) Train loss: 18.656 \t Validation loss: 14.479\n",
      " 190 (38.00%) Train loss: 17.831 \t Validation loss: 13.918\n",
      " 200 (40.00%) Train loss: 17.287 \t Validation loss: 13.413\n",
      " 210 (42.00%) Train loss: 16.965 \t Validation loss: 13.324\n",
      " 220 (44.00%) Train loss: 16.424 \t Validation loss: 12.797\n",
      " 230 (46.00%) Train loss: 16.469 \t Validation loss: 12.872\n",
      " 240 (48.00%) Train loss: 15.956 \t Validation loss: 12.498\n",
      " 250 (50.00%) Train loss: 15.599 \t Validation loss: 12.205\n",
      " 260 (52.00%) Train loss: 15.469 \t Validation loss: 12.090\n",
      " 270 (54.00%) Train loss: 15.171 \t Validation loss: 11.878\n",
      " 280 (56.00%) Train loss: 14.979 \t Validation loss: 11.730\n",
      " 290 (58.00%) Train loss: 14.708 \t Validation loss: 11.496\n",
      " 300 (60.00%) Train loss: 14.548 \t Validation loss: 11.372\n",
      " 310 (62.00%) Train loss: 14.352 \t Validation loss: 11.248\n",
      " 320 (64.00%) Train loss: 14.197 \t Validation loss: 11.095\n",
      " 330 (66.00%) Train loss: 13.952 \t Validation loss: 10.894\n",
      " 340 (68.00%) Train loss: 13.690 \t Validation loss: 10.638\n",
      " 350 (70.00%) Train loss: 13.287 \t Validation loss: 10.312\n",
      " 360 (72.00%) Train loss: 13.236 \t Validation loss: 10.273\n",
      " 370 (74.00%) Train loss: 13.217 \t Validation loss: 10.303\n",
      " 380 (76.00%) Train loss: 13.637 \t Validation loss: 10.697\n",
      " 390 (78.00%) Train loss: 13.699 \t Validation loss: 10.627\n",
      " 400 (80.00%) Train loss: 13.032 \t Validation loss: 10.110\n",
      " 410 (82.00%) Train loss: 12.962 \t Validation loss: 10.058\n",
      " 420 (84.00%) Train loss: 13.046 \t Validation loss: 10.136\n",
      " 430 (86.00%) Train loss: 13.033 \t Validation loss: 10.117\n",
      " 440 (88.00%) Train loss: 12.949 \t Validation loss: 10.044\n",
      " 450 (90.00%) Train loss: 12.886 \t Validation loss: 9.991\n",
      " 460 (92.00%) Train loss: 12.852 \t Validation loss: 9.963\n",
      " 470 (94.00%) Train loss: 12.787 \t Validation loss: 9.910\n",
      " 480 (96.00%) Train loss: 12.746 \t Validation loss: 9.852\n",
      " 490 (98.00%) Train loss: 12.666 \t Validation loss: 9.776\n",
      "Test loss:  10.028\n"
     ]
    },
    {
     "data": {
      "image/png": "[encoded data removed]",
      "text/plain": [
       "<Figure size 640x480 with 1 Axes>"
      ]
     },
     "metadata": {},
     "output_type": "display_data"
    }
   ],
   "source": [
    "\n",
    "#Trying to do a good fit\n",
    "# Initialize an arbitrary neural network\n",
    "NN = [\n",
    "    DenseLayer(1, 8, lambda x: x.relu()),\n",
    "    DenseLayer(8, 8, lambda x: x.relu()),\n",
    "    DenseLayer(8, 8, lambda x: x.relu()),\n",
    "    DenseLayer(8, 1, lambda x: x.identity())\n",
    "]\n",
    "\n",
    "\n",
    "# Initialize training hyperparameters\n",
    "EPOCHS = 500\n",
    "LEARN_R = 2e-3 \n",
    "\n",
    "#training \n",
    "\n",
    "train_loss = []\n",
    "val_loss = []\n",
    "\n",
    "for e in range(EPOCHS):\n",
    "     \n",
    "    # Forward pass and loss computation\n",
    "    Loss = squared_loss(y_train, forward(x_train, NN))\n",
    "\n",
    "    # Backward pass\n",
    "    Loss.backward()\n",
    "    \n",
    "    # gradient descent update\n",
    "    update_parameters(parameters(NN), LEARN_R)\n",
    "    zero_gradients(parameters(NN))\n",
    "    \n",
    "    # Training loss\n",
    "    train_loss.append(Loss.v)\n",
    "    \n",
    "    # Validation\n",
    "    Loss_validation = squared_loss(y_validation, forward(x_validation, NN))\n",
    "    val_loss.append(Loss_validation.v)\n",
    "    \n",
    "    if e%10==0:\n",
    "        print(\"{:4d}\".format(e),\n",
    "              \"({:5.2f}%)\".format(e/EPOCHS*100), \n",
    "              \"Train loss: {:4.3f} \\t Validation loss: {:4.3f}\".format(train_loss[-1], val_loss[-1]))\n",
    "        \n",
    "# testing\n",
    "\n",
    "output_test = forward(x_test, NN)\n",
    "\n",
    "y_test_np = Var_to_nparray(y_test)\n",
    "plt.scatter(y_test_np, Var_to_nparray(output_test));\n",
    "plt.plot([np.min(y_test_np), np.max(y_test_np)], [np.min(y_test_np), np.max(y_test_np)], color='k');\n",
    "plt.xlabel(\"y\");\n",
    "plt.ylabel(\"$\\hat{y}$\");\n",
    "plt.title(\"Model prediction vs real in the test set, the close to the line the better\")\n",
    "plt.grid(True);\n",
    "plt.axis('equal');\n",
    "plt.tight_layout();\n",
    "\n",
    "Loss_test = squared_loss(y_test, forward(x_test, NN))\n",
    "\n",
    "print(\"Test loss:  {:4.3f}\".format(Loss_test.v))"
   ]
  },
  {
   "cell_type": "markdown",
   "metadata": {},
   "source": [
    "For the overfitted network the validation loss of 10 is slightly better than the test lost at 9.776. This discrepancy might come from the fact that it has learned the training datas variability in the added noise. "
   ]
  },
  {
   "cell_type": "code",
   "execution_count": 112,
   "metadata": {},
   "outputs": [
    {
     "data": {
      "image/png": "[encoded data removed]",
      "text/plain": [
       "<Figure size 640x480 with 1 Axes>"
      ]
     },
     "metadata": {},
     "output_type": "display_data"
    }
   ],
   "source": [
    "plt.plot(range(len(train_loss)), train_loss);\n",
    "plt.plot(range(len(val_loss)), val_loss);"
   ]
  },
  {
   "cell_type": "markdown",
   "metadata": {},
   "source": [
    "### Discussion on validation loss vs test loss\n",
    "\n",
    "**For this problem do you see any big difference between validation and test loss? The answer here will probably be no. Discuss cases where it is important to keep the two separate.**\n"
   ]
  },
  {
   "cell_type": "markdown",
   "metadata": {},
   "source": [
    "In this problem, I noticed different behaviors when comparing validation and test losses across various models:\n",
    "\n",
    "- **Underfitted Network**: For the underfitted network, the validation loss was **12**, while the test loss was **10.7**. The relatively small difference suggests that the model has not fully captured the complexity of the training data. Although the losses are somewhat close, the model underfits the data, as evidenced by the simple architecture and low number of training epochs. This means the model hasn't fully learned the underlying patterns, but it shows some potential for improvement with more training or complexity.\n",
    "\n",
    "- **Overfitted Network**: In the case of the overfitted network, the validation loss was **9.776**, while the test loss came in at **10.36**. The small gap between the two values indicates that the model is overfitting slightly, likely capturing noise from the training set. Despite this, the model still generalizes reasonably well, as the difference between the validation and test losses remains small.\n",
    "\n",
    "- **Well-Fitted Network**: For the well-fitted network, the test loss was **9.84**, and the validation loss was **8.76**. The minimal difference between the two values suggests that the model is generalizing well and has captured the patterns in the data effectively. In this case, the validation loss is a reliable proxy for the test loss, indicating a balanced model that is neither underfitting nor overfitting.\n"
   ]
  },
  {
   "cell_type": "markdown",
   "metadata": {},
   "source": [
    "### Why It’s Important to Keep Validation and Test Sets Separate:\n",
    "\n",
    "While the validation and test losses were close for both the well-fitted and overfitted networks, suggesting that the validation loss was a good approximation of the test loss, I think it's still important to keep the two sets separate in certain situations:\n",
    "\n",
    "1. **Model Selection and Hyperparameter Tuning**: During the training process, I use validation data to tune hyperparameters and choose the best model architecture. If I were to use the test set for this, there’s a risk of overfitting to the test data, which could give an overly optimistic sense of the model’s performance. So, I believe it's a good practice to reserve the test set for final evaluation.\n",
    "\n",
    "2. **Avoiding Overfitting to the Validation Set**: If the validation set is heavily used during tuning, the model might start overfitting to it. This reduces its effectiveness as a measure of generalization. By keeping the test set separate, I can ensure that the final evaluation remains unbiased and truly reflects the model’s ability to handle unseen data.\n",
    "\n",
    "3. **High-Stakes Applications**: In situations like medical diagnostics or financial forecasting, where accuracy is critical, I think it's especially important to evaluate the model on data that hasn’t been involved in any part of the training or validation process. This helps prevent overestimating the model’s real-world performance and ensures it can generalize well in new, unseen scenarios.\n",
    "\n",
    "### Conclusion:\n",
    "In this problem, I found that for both the well-fitted and overfitted networks, the differences between validation and test losses were small, which suggests that the validation loss can be a reliable indicator of generalization performance. However, with the underfitted network, the large gap between the two losses shows that the model still has a lot of learning to do. Overall, I think it’s important to keep validation and test sets separate, especially in critical applications, to ensure that model evaluations are as accurate and unbiased as possible. \n"
   ]
  },
  {
   "cell_type": "markdown",
   "metadata": {
    "id": "fYPZP-eTFtIo"
   },
   "source": [
    "# Next steps - classification\n",
    "\n",
    "It is straight forward to extend what we have done to classification. \n",
    "\n",
    "For numerical stability it is better to make softmax and cross-entropy as one function so we write the cross entropy loss as a function of the logits we talked about last week. \n",
    "\n",
    "Next week we will see how to perform classification in PyTorch."
   ]
  },
  {
   "cell_type": "markdown",
   "metadata": {
    "id": "qsVPul3QFtIo"
   },
   "source": [
    "## Exercise m) optional - Implement backpropagation for classification\n",
    "\n",
    "Should be possible with very few lines of code. :-)"
   ]
  },
  {
   "cell_type": "code",
   "execution_count": 113,
   "metadata": {
    "id": "oC8QrI2tFtIp"
   },
   "outputs": [],
   "source": [
    "# Just add code."
   ]
  },
  {
   "cell_type": "markdown",
   "metadata": {
    "id": "APqhJv3tta1O"
   },
   "source": [
    "## Exercise n) optional - Introduce a NeuralNetwork class\n",
    "\n",
    "The functions we applied on the neural network (parameters, update_parameters and zero_gradients) can more naturally be included as methods in a NeuralNetwork class. Make such a class and modify the code to use it. "
   ]
  },
  {
   "cell_type": "code",
   "execution_count": 114,
   "metadata": {
    "id": "Dqfnor1ouMLq"
   },
   "outputs": [],
   "source": [
    "# just add some code"
   ]
  }
 ],
 "metadata": {
  "anaconda-cloud": {},
  "colab": {
   "collapsed_sections": [
    "U4057_ljNvWB",
    "p_8n_SKnIW2F",
    "oLrGJytZFtGm",
    "jpIZPBpNI0pO",
    "_79HOAXrFtHK",
    "mqeyab9qFtGs",
    "-XyXBD37FtHk",
    "SrwSJ2UWFtHu",
    "zTBAmjsAFtIk",
    "qsVPul3QFtIo",
    "APqhJv3tta1O"
   ],
   "name": "2.1-EXE-FNN-AutoDif-Nanograd.ipynb",
   "provenance": []
  },
  "kernelspec": {
   "display_name": "Python 3",
   "language": "python",
   "name": "python3"
  },
  "language_info": {
   "codemirror_mode": {
    "name": "ipython",
    "version": 3
   },
   "file_extension": ".py",
   "mimetype": "text/x-python",
   "name": "python",
   "nbconvert_exporter": "python",
   "pygments_lexer": "ipython3",
   "version": "3.11.9"
  }
 },
 "nbformat": 4,
 "nbformat_minor": 1
}
