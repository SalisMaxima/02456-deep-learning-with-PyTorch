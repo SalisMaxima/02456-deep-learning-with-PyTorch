{
 "cells": [
  {
   "cell_type": "markdown",
   "metadata": {
    "id": "HAva8TnYFtFu"
   },
   "source": [
    "# Contents and why we need this lab\n",
    "\n",
    "This lab is about implementing neural networks yourself before we start using other frameworks that hide some of the computation from you. It builds on the first lab, where you derived the equations for neural network forward and backward propagation and gradient descent parameter updates. \n",
    "\n",
    "All the frameworks for deep learning you will meet from now on use automatic differentiation (autodiff), so you do not have to code the backward step yourself. In this version of this lab, you will develop your own autodif implementation. We also have an optional [version](https://github.com/DeepLearningDTU/02456-deep-learning-with-PyTorch/blob/master/2_Feedforward_Python/2.2-FNN-NumPy.ipynb) of this lab where you have to code the backward pass explicitly in Numpy."
   ]
  },
  {
   "cell_type": "markdown",
   "metadata": {
    "id": "sCa7HzwpFtFy"
   },
   "source": [
    "# External sources of information\n",
    "\n",
    "1. Jupyter notebook. You can find more information about Jupyter notebooks [here](https://jupyter.org/). It will come as part of the [Anaconda](https://www.anaconda.com/) Python installation. \n",
    "2. [NumPy](https://numpy.org/). Part of Anaconda distribution.  If you already know how to program, most things about Python and NumPy can be found with Google searches.\n",
    "3. [Nanograd](https://github.com/rasmusbergpalm/nanograd) is a minimalistic version of autodiff developed by Rasmus Berg Palm that we use for our framework.\n"
   ]
  },
  {
   "cell_type": "markdown",
   "metadata": {
    "id": "1SjiIp-TFtF0"
   },
   "source": [
    "# This notebook will follow the next steps:\n",
    "\n",
    "1. Nanograd automatic differentiation framework\n",
    "2. Finite difference method\n",
    "3. Data generation\n",
    "4. Defining and initializing the network\n",
    "5. Forward pass\n",
    "6. Training loop \n",
    "7. Testing your model\n",
    "8. Further extensions"
   ]
  },
  {
   "cell_type": "markdown",
   "metadata": {
    "id": "OyXeAA-HuT7s"
   },
   "source": [
    "# Nanograd automatic differention framework"
   ]
  },
  {
   "cell_type": "markdown",
   "metadata": {
    "id": "k6UWKCLKubgA"
   },
   "source": [
    "The [Nanograd](https://github.com/rasmusbergpalm/nanograd) framework defines a class Var which both holds a value and gradient value that we can use to store the intermediate values when we apply the chain rule of differentiation."
   ]
  },
  {
   "cell_type": "code",
   "execution_count": 1,
   "metadata": {
    "id": "Jd4CoEBNzNWS"
   },
   "outputs": [],
   "source": [
    "# Copy and pasted from https://github.com/rasmusbergpalm/nanograd/blob/3a1bf9e9e724da813bfccf91a6f309abdade9f39/nanograd.py\n",
    "\n",
    "from math import exp, log\n",
    "\n",
    "class Var:\n",
    "    \"\"\"\n",
    "    A variable which holds a float and enables gradient computations.\n",
    "    \"\"\"\n",
    "\n",
    "    def __init__(self, val: float, grad_fn=lambda: []):\n",
    "        assert type(val) == float\n",
    "        self.v = val\n",
    "        self.grad_fn = grad_fn\n",
    "        self.grad = 0.0\n",
    "\n",
    "    def backprop(self, bp):\n",
    "        self.grad += bp\n",
    "        for input, grad in self.grad_fn():\n",
    "            input.backprop(grad * bp)\n",
    "\n",
    "    def backward(self):\n",
    "        self.backprop(1.0)\n",
    "\n",
    "    def __add__(self: 'Var', other: 'Var') -> 'Var':\n",
    "        return Var(self.v + other.v, lambda: [(self, 1.0), (other, 1.0)])\n",
    "\n",
    "    def __mul__(self: 'Var', other: 'Var') -> 'Var':\n",
    "        return Var(self.v * other.v, lambda: [(self, other.v), (other, self.v)])\n",
    "\n",
    "    def __pow__(self, power):\n",
    "        assert type(power) in {float, int}, \"power must be float or int\"\n",
    "        return Var(self.v ** power, lambda: [(self, power * self.v ** (power - 1))])\n",
    "\n",
    "    def __neg__(self: 'Var') -> 'Var':\n",
    "        return Var(-1.0) * self\n",
    "\n",
    "    def __sub__(self: 'Var', other: 'Var') -> 'Var':\n",
    "        return self + (-other)\n",
    "\n",
    "    def __truediv__(self: 'Var', other: 'Var') -> 'Var':\n",
    "        return self * other ** -1\n",
    "\n",
    "    def __repr__(self):\n",
    "        return \"Var(v=%.4f, grad=%.4f)\" % (self.v, self.grad)\n",
    "\n",
    "    def relu(self):\n",
    "        return Var(self.v if self.v > 0.0 else 0.0, lambda: [(self, 1.0 if self.v > 0.0 else 0.0)])"
   ]
  },
  {
   "cell_type": "markdown",
   "metadata": {
    "id": "yDX67D6jzcte"
   },
   "source": [
    "A few examples illustrate how we can use this:"
   ]
  },
  {
   "cell_type": "code",
   "execution_count": 2,
   "metadata": {
    "colab": {
     "base_uri": "https://localhost:8080/"
    },
    "id": "xk6PeLc3zwPT",
    "outputId": "47e431b2-07ba-4cb1-ea21-997769641c67"
   },
   "outputs": [
    {
     "name": "stdout",
     "output_type": "stream",
     "text": [
      "Var(v=3.0000, grad=5.0000)\n",
      "Var(v=5.0000, grad=3.0000)\n",
      "Var(v=15.0000, grad=1.0000)\n"
     ]
    }
   ],
   "source": [
    "a = Var(3.0)\n",
    "b = Var(5.0)\n",
    "f = a * b\n",
    "\n",
    "f.backward()\n",
    "\n",
    "for v in [a, b, f]:\n",
    "    print(v)"
   ]
  },
  {
   "cell_type": "code",
   "execution_count": 3,
   "metadata": {
    "colab": {
     "base_uri": "https://localhost:8080/"
    },
    "id": "JmKhYgsY0g_o",
    "outputId": "06c1b1df-c33c-40d3-922a-624612a591c7"
   },
   "outputs": [
    {
     "name": "stdout",
     "output_type": "stream",
     "text": [
      "Var(v=3.0000, grad=14.0000)\n",
      "Var(v=5.0000, grad=3.0000)\n",
      "Var(v=15.0000, grad=1.0000)\n",
      "Var(v=9.0000, grad=3.0000)\n",
      "Var(v=27.0000, grad=1.0000)\n",
      "Var(v=42.0000, grad=1.0000)\n"
     ]
    }
   ],
   "source": [
    "a = Var(3.0)\n",
    "b = Var(5.0)\n",
    "c = a * b\n",
    "d = Var(9.0)\n",
    "e = a * d\n",
    "f = c + e\n",
    "\n",
    "f.backward()\n",
    "\n",
    "for v in [a, b, c, d, e, f]:\n",
    "    print(v)"
   ]
  },
  {
   "cell_type": "markdown",
   "metadata": {
    "id": "Fe3B6uEH140p"
   },
   "source": [
    "## Exercise a) What is being calculated?\n",
    "\n",
    "Explain briefly the output of the code? What is the expression we differentiate and with respect to what variables?"
   ]
  },
  {
   "cell_type": "markdown",
   "metadata": {},
   "source": [
    "In the first example we have that $a = 3, b = 5$. We calculate:\n",
    "$$\n",
    "f = a \\cdot b = 3\\cdot 5 = 15 \n",
    "$$\n",
    "When backpropagation is called it then computes the partial derivatives with regards to the different variables and when the variabel is printed it will be returned along the partial derivative.\n",
    "The partial derivatives are computed as:\n",
    "$$\n",
    "\\begin{align}\n",
    "\n",
    "&a: \\frac{d f}{d a}=b=5.0 \\newline\n",
    "&b: \\frac{d f}{d b}=a=3.0 \\newline\n",
    "&f: \\frac{d f}{d f}= 1 \n",
    "\\end{align}\n",
    "$$\n",
    "\n"
   ]
  },
  {
   "cell_type": "markdown",
   "metadata": {},
   "source": [
    "For the second example it is a bit more complex. Here we have: \n",
    "$$\n",
    "\\begin{align}\n",
    "&a = 3 \\newline\n",
    "&b = 5 \\newline \n",
    "&c = a \\cdot b = 3\\cdot 5 = 15  \\newline\n",
    "&d = 9 \\newline \n",
    "&e = a \\cdot d = 3 \\cdot 9 = 27 \\newline \n",
    "&f = c + e = a \\cdot b + a\\cdot d = a \\cdot (b + d) = 3 \\cdot (5 + 9)= 3 \\cdot 14 = 15 + 27 = 42 \n",
    "\\end{align}\n",
    "$$\n"
   ]
  },
  {
   "cell_type": "markdown",
   "metadata": {},
   "source": [
    "The partial derivatives can then be computed as:\n",
    "$$\n",
    "\\begin{align}\n",
    "&a: \\frac{d f}{d a} =\\frac{d c}{d a} + \\frac{d e}{d a} = b + d = 5 + 9 = 14 \\newline\n",
    "&b: \\frac{d f}{d b} = \\frac{d c}{d b} = a = 3 \\newline\n",
    "&c: \\frac{d f}{d c} = 1 \\newline\n",
    "&d: \\frac{d f}{d d} = \\frac{d e}{d d} = a = 3 \\newline\n",
    "&e:  \\frac{d f}{d e} = 1 \\newline \n",
    "&f: \\frac{d f}{d f} = 1\n",
    "\\end{align}\n",
    "$$"
   ]
  },
  {
   "cell_type": "markdown",
   "metadata": {},
   "source": [
    "So to sum it up. Running f.backward() computes the partial derivatives for all defined variables in regards to f"
   ]
  },
  {
   "cell_type": "markdown",
   "metadata": {
    "id": "q8_Q0t2I3Ruj"
   },
   "source": [
    "## Exercise b) How does the backward function work?\n",
    "\n",
    "You need to understand how the backward function calculates the gradients. We can use the two examples above to help with that.\n",
    "\n",
    "Go through the following four steps and answer the questions on the way:\n",
    "\n",
    "1. We represent the two expressions as graphs as shown below. Fill in the missing expressions for the different derivatives.\n",
    "\n",
    "2. In the remainder consider the first expression. Make a schematic of the data structure which is generated when we define the expression for f. \n",
    "\n",
    "3. Then execute the backward function by hand to convince yourself that it indeed calculates the gradients with respect to the variables. \n",
    "\n",
    "4. Write down the sequence of calls to backprop."
   ]
  },
  {
   "cell_type": "code",
   "execution_count": 4,
   "metadata": {
    "id": "idGr71jYXl26"
   },
   "outputs": [
    {
     "name": "stdout",
     "output_type": "stream",
     "text": [
      "Requirement already satisfied: graphviz in c:\\users\\mathi\\.conda\\envs\\deeplearning\\lib\\site-packages (0.20.1)\n"
     ]
    },
    {
     "name": "stderr",
     "output_type": "stream",
     "text": [
      "\n",
      "[notice] A new release of pip is available: 24.0 -> 24.2\n",
      "[notice] To update, run: python.exe -m pip install --upgrade pip\n"
     ]
    }
   ],
   "source": [
    "# import logging\n",
    "!pip install graphviz\n",
    "import graphviz\n",
    "# configure graphviz \n",
    "\n",
    "\n",
    "#logging.basicConfig(format='[%(levelname)s@%(name)s] %(message)s', level=logging.DEBUG)\n",
    "\n",
    "#graphviz.__version__, graphviz.version()"
   ]
  },
  {
   "cell_type": "code",
   "execution_count": 5,
   "metadata": {
    "colab": {
     "base_uri": "https://localhost:8080/",
     "height": 152
    },
    "id": "KPe30Q2QXzeG",
    "outputId": "7fa002cd-a018-4dbb-ddf1-28ed5e99ee19"
   },
   "outputs": [
    {
     "data": {
      "image/svg+xml": [
       "<?xml version=\"1.0\" encoding=\"UTF-8\" standalone=\"no\"?>\n",
       "<!DOCTYPE svg PUBLIC \"-//W3C//DTD SVG 1.1//EN\"\n",
       " \"http://www.w3.org/Graphics/SVG/1.1/DTD/svg11.dtd\">\n",
       "<!-- Generated by graphviz version 2.50.0 (0)\n",
       " -->\n",
       "<!-- Title: first expression Pages: 1 -->\n",
       "<svg width=\"164pt\" height=\"98pt\"\n",
       " viewBox=\"0.00 0.00 164.00 98.00\" xmlns=\"http://www.w3.org/2000/svg\" xmlns:xlink=\"http://www.w3.org/1999/xlink\">\n",
       "<g id=\"graph0\" class=\"graph\" transform=\"scale(1 1) rotate(0) translate(4 94)\">\n",
       "<title>first expression</title>\n",
       "<polygon fill=\"white\" stroke=\"transparent\" points=\"-4,4 -4,-94 160,-94 160,4 -4,4\"/>\n",
       "<!-- a -->\n",
       "<g id=\"node1\" class=\"node\">\n",
       "<title>a</title>\n",
       "<ellipse fill=\"none\" stroke=\"black\" cx=\"18\" cy=\"-72\" rx=\"18\" ry=\"18\"/>\n",
       "<text text-anchor=\"middle\" x=\"18\" y=\"-68.3\" font-family=\"Times New Roman,serif\" font-size=\"14.00\">a</text>\n",
       "</g>\n",
       "<!-- f -->\n",
       "<g id=\"node2\" class=\"node\">\n",
       "<title>f</title>\n",
       "<ellipse fill=\"none\" stroke=\"black\" cx=\"138\" cy=\"-45\" rx=\"18\" ry=\"18\"/>\n",
       "<text text-anchor=\"middle\" x=\"138\" y=\"-41.3\" font-family=\"Times New Roman,serif\" font-size=\"14.00\">f</text>\n",
       "</g>\n",
       "<!-- a&#45;&gt;f -->\n",
       "<g id=\"edge1\" class=\"edge\">\n",
       "<title>a&#45;&gt;f</title>\n",
       "<path fill=\"none\" stroke=\"black\" d=\"M35.66,-68.19C55.05,-63.75 87.34,-56.36 110.26,-51.12\"/>\n",
       "<polygon fill=\"black\" stroke=\"black\" points=\"111.08,-54.52 120.05,-48.88 109.52,-47.7 111.08,-54.52\"/>\n",
       "<text text-anchor=\"middle\" x=\"78\" y=\"-66.8\" font-family=\"Times New Roman,serif\" font-size=\"14.00\">df/da= 5</text>\n",
       "</g>\n",
       "<!-- b -->\n",
       "<g id=\"node3\" class=\"node\">\n",
       "<title>b</title>\n",
       "<ellipse fill=\"none\" stroke=\"black\" cx=\"18\" cy=\"-18\" rx=\"18\" ry=\"18\"/>\n",
       "<text text-anchor=\"middle\" x=\"18\" y=\"-14.3\" font-family=\"Times New Roman,serif\" font-size=\"14.00\">b</text>\n",
       "</g>\n",
       "<!-- b&#45;&gt;f -->\n",
       "<g id=\"edge2\" class=\"edge\">\n",
       "<title>b&#45;&gt;f</title>\n",
       "<path fill=\"none\" stroke=\"black\" d=\"M35.97,-20.69C52.84,-23.5 79.38,-28.28 102,-34 104.89,-34.73 107.9,-35.56 110.89,-36.44\"/>\n",
       "<polygon fill=\"black\" stroke=\"black\" points=\"110.14,-39.87 120.73,-39.46 112.2,-33.18 110.14,-39.87\"/>\n",
       "<text text-anchor=\"middle\" x=\"78\" y=\"-37.8\" font-family=\"Times New Roman,serif\" font-size=\"14.00\">df/db= 3</text>\n",
       "</g>\n",
       "</g>\n",
       "</svg>\n"
      ],
      "text/plain": [
       "<graphviz.graphs.Digraph at 0x23859c5c190>"
      ]
     },
     "execution_count": 5,
     "metadata": {},
     "output_type": "execute_result"
    }
   ],
   "source": [
    "e1 = graphviz.Digraph('first expression', filename='fsm.gv')\n",
    "\n",
    "e1.attr(rankdir='LR', size='8,5')\n",
    "\n",
    "e1.attr('node', shape='circle')\n",
    "# Adding nodes\n",
    "e1.edge('a', 'f', label='df/da= 5') # including df/da as computed above df/da=5\n",
    "e1.edge('b', 'f', label='df/db= 3')\n",
    "\n",
    "e1"
   ]
  },
  {
   "cell_type": "code",
   "execution_count": 6,
   "metadata": {
    "colab": {
     "base_uri": "https://localhost:8080/",
     "height": 232
    },
    "id": "0nittR-mZFeX",
    "outputId": "fa3656a3-732c-4abe-8084-98a492b0d6be"
   },
   "outputs": [
    {
     "data": {
      "image/svg+xml": [
       "<?xml version=\"1.0\" encoding=\"UTF-8\" standalone=\"no\"?>\n",
       "<!DOCTYPE svg PUBLIC \"-//W3C//DTD SVG 1.1//EN\"\n",
       " \"http://www.w3.org/Graphics/SVG/1.1/DTD/svg11.dtd\">\n",
       "<!-- Generated by graphviz version 2.50.0 (0)\n",
       " -->\n",
       "<!-- Title: second expression Pages: 1 -->\n",
       "<svg width=\"280pt\" height=\"158pt\"\n",
       " viewBox=\"0.00 0.00 280.00 158.00\" xmlns=\"http://www.w3.org/2000/svg\" xmlns:xlink=\"http://www.w3.org/1999/xlink\">\n",
       "<g id=\"graph0\" class=\"graph\" transform=\"scale(1 1) rotate(0) translate(4 154)\">\n",
       "<title>second expression</title>\n",
       "<polygon fill=\"white\" stroke=\"transparent\" points=\"-4,4 -4,-154 276,-154 276,4 -4,4\"/>\n",
       "<!-- a -->\n",
       "<g id=\"node1\" class=\"node\">\n",
       "<title>a</title>\n",
       "<ellipse fill=\"none\" stroke=\"black\" cx=\"18\" cy=\"-75\" rx=\"18\" ry=\"18\"/>\n",
       "<text text-anchor=\"middle\" x=\"18\" y=\"-71.3\" font-family=\"Times New Roman,serif\" font-size=\"14.00\">a</text>\n",
       "</g>\n",
       "<!-- c -->\n",
       "<g id=\"node2\" class=\"node\">\n",
       "<title>c</title>\n",
       "<ellipse fill=\"none\" stroke=\"black\" cx=\"139\" cy=\"-102\" rx=\"18\" ry=\"18\"/>\n",
       "<text text-anchor=\"middle\" x=\"139\" y=\"-98.3\" font-family=\"Times New Roman,serif\" font-size=\"14.00\">c</text>\n",
       "</g>\n",
       "<!-- a&#45;&gt;c -->\n",
       "<g id=\"edge1\" class=\"edge\">\n",
       "<title>a&#45;&gt;c</title>\n",
       "<path fill=\"none\" stroke=\"black\" d=\"M35.8,-78.81C55.47,-83.27 88.29,-90.72 111.42,-95.97\"/>\n",
       "<polygon fill=\"black\" stroke=\"black\" points=\"110.76,-99.41 121.29,-98.21 112.31,-92.58 110.76,-99.41\"/>\n",
       "<text text-anchor=\"middle\" x=\"78.5\" y=\"-97.8\" font-family=\"Times New Roman,serif\" font-size=\"14.00\">dc/da= 5</text>\n",
       "</g>\n",
       "<!-- e -->\n",
       "<g id=\"node4\" class=\"node\">\n",
       "<title>e</title>\n",
       "<ellipse fill=\"none\" stroke=\"black\" cx=\"139\" cy=\"-48\" rx=\"18\" ry=\"18\"/>\n",
       "<text text-anchor=\"middle\" x=\"139\" y=\"-44.3\" font-family=\"Times New Roman,serif\" font-size=\"14.00\">e</text>\n",
       "</g>\n",
       "<!-- a&#45;&gt;e -->\n",
       "<g id=\"edge3\" class=\"edge\">\n",
       "<title>a&#45;&gt;e</title>\n",
       "<path fill=\"none\" stroke=\"black\" d=\"M35.22,-68.86C41.08,-66.79 47.78,-64.61 54,-63 72.82,-58.12 94.42,-54.3 111.01,-51.74\"/>\n",
       "<polygon fill=\"black\" stroke=\"black\" points=\"111.73,-55.17 121.1,-50.24 110.7,-48.25 111.73,-55.17\"/>\n",
       "<text text-anchor=\"middle\" x=\"78.5\" y=\"-66.8\" font-family=\"Times New Roman,serif\" font-size=\"14.00\">de/da=9</text>\n",
       "</g>\n",
       "<!-- f -->\n",
       "<g id=\"node6\" class=\"node\">\n",
       "<title>f</title>\n",
       "<ellipse fill=\"none\" stroke=\"black\" cx=\"254\" cy=\"-75\" rx=\"18\" ry=\"18\"/>\n",
       "<text text-anchor=\"middle\" x=\"254\" y=\"-71.3\" font-family=\"Times New Roman,serif\" font-size=\"14.00\">f</text>\n",
       "</g>\n",
       "<!-- c&#45;&gt;f -->\n",
       "<g id=\"edge5\" class=\"edge\">\n",
       "<title>c&#45;&gt;f</title>\n",
       "<path fill=\"none\" stroke=\"black\" d=\"M156.67,-98.02C175.03,-93.63 204.81,-86.51 226.4,-81.36\"/>\n",
       "<polygon fill=\"black\" stroke=\"black\" points=\"227.35,-84.73 236.26,-79 225.72,-77.92 227.35,-84.73\"/>\n",
       "<text text-anchor=\"middle\" x=\"196.5\" y=\"-96.8\" font-family=\"Times New Roman,serif\" font-size=\"14.00\">df/dc=1</text>\n",
       "</g>\n",
       "<!-- b -->\n",
       "<g id=\"node3\" class=\"node\">\n",
       "<title>b</title>\n",
       "<ellipse fill=\"none\" stroke=\"black\" cx=\"18\" cy=\"-132\" rx=\"18\" ry=\"18\"/>\n",
       "<text text-anchor=\"middle\" x=\"18\" y=\"-128.3\" font-family=\"Times New Roman,serif\" font-size=\"14.00\">b</text>\n",
       "</g>\n",
       "<!-- b&#45;&gt;c -->\n",
       "<g id=\"edge2\" class=\"edge\">\n",
       "<title>b&#45;&gt;c</title>\n",
       "<path fill=\"none\" stroke=\"black\" d=\"M35.55,-127.83C55.15,-122.89 88.08,-114.59 111.3,-108.73\"/>\n",
       "<polygon fill=\"black\" stroke=\"black\" points=\"112.37,-112.07 121.21,-106.23 110.66,-105.28 112.37,-112.07\"/>\n",
       "<text text-anchor=\"middle\" x=\"78.5\" y=\"-126.8\" font-family=\"Times New Roman,serif\" font-size=\"14.00\">dc/db=3</text>\n",
       "</g>\n",
       "<!-- e&#45;&gt;f -->\n",
       "<g id=\"edge6\" class=\"edge\">\n",
       "<title>e&#45;&gt;f</title>\n",
       "<path fill=\"none\" stroke=\"black\" d=\"M156.85,-50.94C172.73,-53.83 197.12,-58.59 218,-64 220.89,-64.75 223.9,-65.59 226.88,-66.47\"/>\n",
       "<polygon fill=\"black\" stroke=\"black\" points=\"226.13,-69.9 236.72,-69.5 228.19,-63.21 226.13,-69.9\"/>\n",
       "<text text-anchor=\"middle\" x=\"196.5\" y=\"-67.8\" font-family=\"Times New Roman,serif\" font-size=\"14.00\">df/de=1</text>\n",
       "</g>\n",
       "<!-- d -->\n",
       "<g id=\"node5\" class=\"node\">\n",
       "<title>d</title>\n",
       "<ellipse fill=\"none\" stroke=\"black\" cx=\"18\" cy=\"-18\" rx=\"18\" ry=\"18\"/>\n",
       "<text text-anchor=\"middle\" x=\"18\" y=\"-14.3\" font-family=\"Times New Roman,serif\" font-size=\"14.00\">d</text>\n",
       "</g>\n",
       "<!-- d&#45;&gt;e -->\n",
       "<g id=\"edge4\" class=\"edge\">\n",
       "<title>d&#45;&gt;e</title>\n",
       "<path fill=\"none\" stroke=\"black\" d=\"M35.96,-20.25C53.09,-22.75 80.2,-27.34 103,-34 106.2,-34.94 109.52,-36.06 112.78,-37.25\"/>\n",
       "<polygon fill=\"black\" stroke=\"black\" points=\"111.61,-40.55 122.2,-40.93 114.16,-34.03 111.61,-40.55\"/>\n",
       "<text text-anchor=\"middle\" x=\"78.5\" y=\"-37.8\" font-family=\"Times New Roman,serif\" font-size=\"14.00\">de/dd=3</text>\n",
       "</g>\n",
       "</g>\n",
       "</svg>\n"
      ],
      "text/plain": [
       "<graphviz.graphs.Digraph at 0x23859c68110>"
      ]
     },
     "execution_count": 6,
     "metadata": {},
     "output_type": "execute_result"
    }
   ],
   "source": [
    "e2 = graphviz.Digraph('second expression', filename='fsm.gv')\n",
    "\n",
    "e2.attr(rankdir='LR', size='8,5')\n",
    "\n",
    "e2.attr('node', shape='circle')\n",
    "e2.edge('a', 'c', label='dc/da= 5') # dc/da=5\n",
    "e2.edge('b', 'c', label='dc/db=3') # dc/db = 3\n",
    "e2.edge('a', 'e', label='de/da=9') # de/da=9\n",
    "e2.edge('d', 'e', label='de/dd=3') # de/dd=3\n",
    "e2.edge('c', 'f', label='df/dc=1') # df/dc=1\n",
    "e2.edge('e', 'f', label='df/de=1') # df/de=1\n",
    "\n",
    "e2"
   ]
  },
  {
   "cell_type": "markdown",
   "metadata": {},
   "source": [
    "### Schematic of the Data Structure for the First Expression\n",
    "\n",
    "When defining the expression $f = a \\cdot b$, the underlying data structure is a computational graph, where:\n",
    "\n",
    "- $a$ and $b$ are the **input variables** (leaf nodes).\n",
    "- $f = a \\cdot b$ is the **result node** that computes the product of $a$ and $b$.\n",
    "\n",
    "This structure is typically represented as a Directed Acyclic Graph (DAG), where nodes represent variables or operations, and edges represent dependencies.\n",
    "\n",
    "In this case, the graph looks like:\n",
    "\n",
    "$$\n",
    "a \\longrightarrow f\n",
    "$$\n",
    "$$\n",
    "b \\longrightarrow f\n",
    "$$\n",
    "\n",
    "- The input variables $a$ and $b$ are connected to the output $f$.\n",
    "- When the `backward()` function is called, gradients flow backward along the edges to compute the derivative of $f$ with respect to $a$ and $b$.\n",
    "\n",
    "The key information stored in this data structure includes:\n",
    "1. The **values** of the variables $a$, $b$, and $f$.\n",
    "2. The **operations** performed (in this case, multiplication).\n",
    "3. The **gradients** for each variable, which are used in the backward pass to calculate partial derivatives.\n"
   ]
  },
  {
   "cell_type": "markdown",
   "metadata": {},
   "source": [
    "### Manual Execution of the Backward Function\n",
    "\n",
    "Let's manually execute the `backward()` function for both examples to compute the gradients by hand.\n",
    "\n",
    "### First Example: $f = a \\cdot b$\n",
    "\n",
    "Given:\n",
    "- $a = 3$\n",
    "- $b = 5$\n",
    "\n",
    "We first compute the value of $f$:\n",
    "$$\n",
    "f = a \\cdot b = 3 \\cdot 5 = 15\n",
    "$$\n",
    "\n",
    "Now, let’s manually compute the partial derivatives using backpropagation:\n",
    "\n",
    "- The derivative of $f$ with respect to $a$ is:\n",
    "  $$\n",
    "  \\frac{\\partial f}{\\partial a} = b = 5\n",
    "  $$\n",
    "\n",
    "- The derivative of $f$ with respect to $b$ is:\n",
    "  $$\n",
    "  \\frac{\\partial f}{\\partial b} = a = 3\n",
    "  $$\n",
    "\n",
    "- Since $f$ is the output, its derivative with respect to itself is:\n",
    "  $$\n",
    "  \\frac{\\partial f}{\\partial f} = 1\n",
    "  $$\n",
    "\n",
    "Thus, the gradients are:\n",
    "- $\\frac{\\partial f}{\\partial a} = 5$\n",
    "- $\\frac{\\partial f}{\\partial b} = 3$\n",
    "\n",
    "These gradients will be stored in the respective variables $a$ and $b$ after calling `f.backward()`.\n",
    "\n",
    "### Second Example: $f = a \\cdot b + a \\cdot d$\n",
    "\n",
    "Given:\n",
    "- $a = 3$\n",
    "- $b = 5$\n",
    "- $d = 9$\n",
    "\n",
    "We first compute the intermediate results:\n",
    "- Compute $c$:\n",
    "  $$\n",
    "  c = a \\cdot b = 3 \\cdot 5 = 15\n",
    "  $$\n",
    "\n",
    "- Compute $e$:\n",
    "  $$\n",
    "  e = a \\cdot d = 3 \\cdot 9 = 27\n",
    "  $$\n",
    "\n",
    "- Finally, compute $f$:\n",
    "  $$\n",
    "  f = c + e = 15 + 27 = 42\n",
    "  $$\n",
    "\n",
    "Now, we calculate the partial derivatives using backpropagation:\n",
    "\n",
    "- The derivative of $f$ with respect to $a$ is:\n",
    "  $$\n",
    "  \\frac{\\partial f}{\\partial a} = \\frac{\\partial c}{\\partial a} + \\frac{\\partial e}{\\partial a} = b + d = 5 + 9 = 14\n",
    "  $$\n",
    "\n",
    "- The derivative of $f$ with respect to $b$ is:\n",
    "  $$\n",
    "  \\frac{\\partial f}{\\partial b} = \\frac{\\partial c}{\\partial b} = a = 3\n",
    "  $$\n",
    "\n",
    "- The derivative of $f$ with respect to $d$ is:\n",
    "  $$\n",
    "  \\frac{\\partial f}{\\partial d} = \\frac{\\partial e}{\\partial d} = a = 3\n",
    "  $$\n",
    "\n",
    "Thus, the gradients are:\n",
    "- $\\frac{\\partial f}{\\partial a} = 14$\n",
    "- $\\frac{\\partial f}{\\partial b} = 3$\n",
    "- $\\frac{\\partial f}{\\partial d} = 3$\n",
    "\n",
    "These gradients will be stored in the respective variables $a$, $b$, and $d$ after calling `f.backward()`.\n"
   ]
  },
  {
   "cell_type": "markdown",
   "metadata": {},
   "source": [
    "### Sequence of Calls to Backpropagation\n",
    "\n",
    "The `backward()` function works by applying the chain rule to compute the gradients for each variable in the computational graph. Below is the sequence of operations that occur during backpropagation for both examples.\n",
    "\n",
    "### First Example: $f = a \\cdot b$\n",
    "\n",
    "In this case, the sequence of calls during backpropagation is as follows:\n",
    "\n",
    "1. **Start at $f$**: Since $f$ is the output of the computation, its derivative with respect to itself is:\n",
    "   $$\n",
    "   \\frac{\\partial f}{\\partial f} = 1\n",
    "   $$\n",
    "\n",
    "2. **Compute $\\frac{\\partial f}{\\partial a}$**: The partial derivative of $f$ with respect to $a$ is:\n",
    "   $$\n",
    "   \\frac{\\partial f}{\\partial a} = b = 5\n",
    "   $$\n",
    "   This value is propagated back to $a$.\n",
    "\n",
    "3. **Compute $\\frac{\\partial f}{\\partial b}$**: The partial derivative of $f$ with respect to $b$ is:\n",
    "   $$\n",
    "   \\frac{\\partial f}{\\partial b} = a = 3\n",
    "   $$\n",
    "   This value is propagated back to $b$.\n",
    "\n",
    "4. **Store the gradients**: The gradients are now stored in $a$ and $b$.\n",
    "\n",
    "### Second Example: $f = a \\cdot b + a \\cdot d$\n",
    "\n",
    "The sequence of calls during backpropagation for this expression is more complex due to the presence of intermediate variables.\n",
    "\n",
    "1. **Start at $f$**: Since $f$ is the output, its derivative with respect to itself is:\n",
    "   $$\n",
    "   \\frac{\\partial f}{\\partial f} = 1\n",
    "   $$\n",
    "\n",
    "2. **Compute $\\frac{\\partial f}{\\partial c}$ and $\\frac{\\partial f}{\\partial e}$**: Since $f = c + e$, we compute the partial derivatives:\n",
    "   $$\n",
    "   \\frac{\\partial f}{\\partial c} = 1 \\quad \\text{and} \\quad \\frac{\\partial f}{\\partial e} = 1\n",
    "   $$\n",
    "\n",
    "3. **Compute $\\frac{\\partial c}{\\partial a}$ and $\\frac{\\partial c}{\\partial b}$**: Since $c = a \\cdot b$, we apply the chain rule:\n",
    "   $$\n",
    "   \\frac{\\partial c}{\\partial a} = b = 5 \\quad \\text{and} \\quad \\frac{\\partial c}{\\partial b} = a = 3\n",
    "   $$\n",
    "   These values are propagated back to $a$ and $b$.\n",
    "\n",
    "4. **Compute $\\frac{\\partial e}{\\partial a}$ and $\\frac{\\partial e}{\\partial d}$**: Since $e = a \\cdot d$, we compute:\n",
    "   $$\n",
    "   \\frac{\\partial e}{\\partial a} = d = 9 \\quad \\text{and} \\quad \\frac{\\partial e}{\\partial d} = a = 3\n",
    "   $$\n",
    "   These values are propagated back to $a$ and $d$.\n",
    "\n",
    "5. **Sum the contributions to $a$**: Since $a$ appears in both $c$ and $e$, the total gradient with respect to $a$ is:\n",
    "   $$\n",
    "   \\frac{\\partial f}{\\partial a} = \\frac{\\partial c}{\\partial a} + \\frac{\\partial e}{\\partial a} = b + d = 5 + 9 = 14\n",
    "   $$\n",
    "\n",
    "6. **Store the gradients**: The gradients are now stored in $a$, $b$, and $d$.\n",
    "\n",
    "### Summary of Gradients\n",
    "\n",
    "- In the first example, the gradients are $\\frac{\\partial f}{\\partial a} = 5$ and $\\frac{\\partial f}{\\partial b} = 3$.\n",
    "- In the second example, the gradients are $\\frac{\\partial f}{\\partial a} = 14$, $\\frac{\\partial f}{\\partial b} = 3$, and $\\frac{\\partial f}{\\partial d} = 3$.\n"
   ]
  },
  {
   "cell_type": "markdown",
   "metadata": {
    "id": "A5oi21W4gpeM"
   },
   "source": [
    "## Exercise c) What happens if we run backward again?\n",
    "\n",
    "Try to execute the code below. Explain what happens."
   ]
  },
  {
   "cell_type": "code",
   "execution_count": 7,
   "metadata": {
    "colab": {
     "base_uri": "https://localhost:8080/"
    },
    "id": "DCtpJyr-gyX1",
    "outputId": "d014bcfa-c9ae-49c3-d268-91cc6ca94ea5"
   },
   "outputs": [
    {
     "name": "stdout",
     "output_type": "stream",
     "text": [
      "Var(v=3.0000, grad=28.0000)\n",
      "Var(v=5.0000, grad=6.0000)\n",
      "Var(v=15.0000, grad=2.0000)\n",
      "Var(v=9.0000, grad=6.0000)\n",
      "Var(v=27.0000, grad=2.0000)\n",
      "Var(v=42.0000, grad=2.0000)\n"
     ]
    }
   ],
   "source": [
    "f.backward()\n",
    "\n",
    "for v in [a, b, c, d, e, f]:\n",
    "    print(v)"
   ]
  },
  {
   "cell_type": "markdown",
   "metadata": {},
   "source": [
    "When `f.backward()` is run a second time, the gradients accumulate. This means the new gradients are added to the already computed gradients from the first backward pass. Since no reset occurs between passes, calling `f.backward()` two time will double the gradient.\n",
    "\n",
    "#### Detailed Explanation:\n",
    "- After the first `f.backward()`:\n",
    "  - `a.grad = 14.0`\n",
    "  - `b.grad = 3.0`\n",
    "  - `c.grad = 2.0`\n",
    "  - `d.grad = 9.0`\n",
    "  - `e.grad = 2.0`\n",
    "  - `f.grad = 1.0`\n",
    "\n",
    "- After the second `f.backward()`:\n",
    "  - `a.grad = 28.0` (doubled)\n",
    "  - `b.grad = 6.0` (doubled)\n",
    "  - `c.grad = 4.0` (doubled)\n",
    "  - `d.grad = 18.0` (doubled)\n",
    "  - `e.grad = 4.0` (doubled)\n",
    "  - `f.grad = 2.0` (doubled)\n",
    "\n",
    "Thus I conclude that running `f.backward()` multiple times will cause the gradients to **double** each time, as they accumulate rather than reset after each backward pass."
   ]
  },
  {
   "cell_type": "markdown",
   "metadata": {
    "id": "e8bPVq2VhsP-"
   },
   "source": [
    "## Exercise d) Zero gradient\n",
    "\n",
    "We can zero the gradient by backpropagating a -1.0 as is shown in the example below. (If you have run backward multiple time then you also have to run the cell below an equal amount of times.) Explain what is going on."
   ]
  },
  {
   "cell_type": "code",
   "execution_count": 8,
   "metadata": {
    "colab": {
     "base_uri": "https://localhost:8080/"
    },
    "id": "OnyPDQx9lJe0",
    "outputId": "7a125fdc-60c4-4340-a580-8b82aea5b0db"
   },
   "outputs": [
    {
     "name": "stdout",
     "output_type": "stream",
     "text": [
      "Var(v=2.0000, grad=0.0000)\n",
      "Var(v=5.0000, grad=6.0000)\n",
      "Var(v=15.0000, grad=2.0000)\n",
      "Var(v=9.0000, grad=6.0000)\n",
      "Var(v=27.0000, grad=2.0000)\n",
      "Var(v=42.0000, grad=2.0000)\n",
      "Var(v=2.0000, grad=0.0000)\n",
      "Var(v=5.0000, grad=3.0000)\n",
      "Var(v=15.0000, grad=1.0000)\n",
      "Var(v=9.0000, grad=3.0000)\n",
      "Var(v=27.0000, grad=1.0000)\n",
      "Var(v=42.0000, grad=1.0000)\n"
     ]
    }
   ],
   "source": [
    "a = Var(2.0)\n",
    "\n",
    "for v in [a, b, c, d, e, f]:\n",
    "    print(v)\n",
    "\n",
    "f.backprop(-1.0)\n",
    "\n",
    "for v in [a, b, c, d, e, f]:\n",
    "    print(v)"
   ]
  },
  {
   "cell_type": "markdown",
   "metadata": {},
   "source": [
    "When you call `f.backprop(-1.0)`, it propagates a negative value through the computational graph, effectively subtracting the previously accumulated gradients.\n",
    "\n",
    "### What happens:\n",
    "- Initially, when you run `f.backward()` it is equivalent to running `f.backward(1)` , it accumulates gradients in all the variables according to an input of 1.\n",
    "- By running `f.backprop(-1.0)`, you're applying the reverse operation, reducing the gradients by the same amount they were originally increased by.\n",
    "- If you've run `f.backward()` multiple times, you must run `f.backprop(-1.0)` the same number of times to bring the gradients back to zero.\n"
   ]
  },
  {
   "cell_type": "markdown",
   "metadata": {
    "id": "U4057_ljNvWB"
   },
   "source": [
    "## Exercise e) Test correctness of derivatives with the finite difference method\n",
    "\n",
    "Write a small function that uses [the finite difference method](https://en.wikipedia.org/wiki/Finite_difference_method) to numerically test that backpropation implementation is working. In short we will use\n",
    "$$\n",
    "\\frac{\\partial f(a)}{\\partial a} \\approx \\frac{f(a+da)-f(a)}{da}\n",
    "$$\n",
    "for $da \\ll 1$.\n",
    "\n",
    "As an example, we could approximate the derivative of the function $f(a)=a^2$ in e.g. the value $a=4$ using the finite difference method. This amounts to inserting the relevant values and approximating the gradient $f'(4)$ with the fraction above. \n"
   ]
  },
  {
   "cell_type": "code",
   "execution_count": 9,
   "metadata": {
    "colab": {
     "base_uri": "https://localhost:8080/"
    },
    "id": "9TGil92lSXDN",
    "outputId": "7ef5489b-b525-4132-ab08-0b1109c07f4d"
   },
   "outputs": [
    {
     "name": "stdout",
     "output_type": "stream",
     "text": [
      "Var(v=4.0000, grad=5.0000)\n",
      "Var(v=5.0000, grad=4.0000)\n",
      "Var(v=20.0000, grad=1.0000)\n",
      "5.000018177270249\n",
      "Var(v=4.0000, grad=14.0000)\n",
      "Var(v=5.0000, grad=4.0000)\n",
      "Var(v=20.0000, grad=1.0000)\n",
      "Var(v=9.0000, grad=4.0000)\n",
      "Var(v=36.0000, grad=1.0000)\n",
      "Var(v=56.0000, grad=1.0000)\n",
      "14.000036685501982\n"
     ]
    }
   ],
   "source": [
    "# f function - try to change the code to test other types of functions as well (such as different polynomials etc.)\n",
    "def f_function(a):\n",
    "  a = Var(a)\n",
    "  b = Var(5.0)\n",
    "  f = a * b\n",
    "  f.backward()\n",
    "  return a,b,f\n",
    "\n",
    "for v in f_function(4.0):\n",
    "  print(v)\n",
    "\n",
    "# Insert your finite difference code here\n",
    "def finite_difference(da=1e-10 , a=4.0, f_function=f_function):\n",
    "    \"\"\"\n",
    "    This function compute the finite difference between\n",
    "    \n",
    "    Input:\n",
    "    da:          The finite difference                           (float)\n",
    "    \n",
    "    Output:\n",
    "    finite_difference: numerical approximation to the derivative (float) \n",
    "    \"\"\"\n",
    "    # Compute the finite difference here\n",
    "    fa_da = f_function(a + da)[-1].v\n",
    "    fa = f_function(a)[-1].v  \n",
    "\n",
    "    finite_difference = (fa_da - fa) / da\n",
    "    \n",
    "    return finite_difference\n",
    "  \n",
    "print(finite_difference())\n",
    "\n",
    "# Trying the finite difference on a different function\n",
    "def g_function(a):\n",
    "  a = Var(a)\n",
    "  b = Var(5.0)\n",
    "  c = a * b\n",
    "  d = Var(9.0)\n",
    "  e = a * d\n",
    "  f = c + e\n",
    "  f.backward()\n",
    "  return a,b,c,d,e,f\n",
    "\n",
    "for v in g_function(4.0):\n",
    "  print(v)\n",
    "\n",
    "print(finite_difference(da=1e-10, a=4.0, f_function=g_function))"
   ]
  },
  {
   "cell_type": "markdown",
   "metadata": {},
   "source": [
    "After comparing the finite difference derivatives with the backpropagation derivatives, it can be concluded that they agree up to the 5th decimal place when using a finite difference step size (da) of 10^-10. This indicates that the backpropagation implementation is correct and accurately computes the gradients."
   ]
  },
  {
   "cell_type": "markdown",
   "metadata": {
    "id": "6pZar5RKaUkg"
   },
   "source": [
    "# Create an artificial dataset to play with\n",
    "\n",
    "We create a non-linear 1d regression task. The generator supports various noise levels and it creates train, validation and test sets. You can modify it yourself if you want more or less challenging tasks."
   ]
  },
  {
   "cell_type": "code",
   "execution_count": 10,
   "metadata": {
    "id": "Y6yfMAQ8aduj"
   },
   "outputs": [
    {
     "name": "stderr",
     "output_type": "stream",
     "text": [
      "\n",
      "[notice] A new release of pip is available: 24.0 -> 24.2\n",
      "[notice] To update, run: python.exe -m pip install --upgrade pip\n"
     ]
    },
    {
     "name": "stdout",
     "output_type": "stream",
     "text": [
      "Requirement already satisfied: numpy in c:\\users\\mathi\\appdata\\roaming\\python\\python311\\site-packages (1.25.0)\n",
      "Requirement already satisfied: matplotlib in c:\\users\\mathi\\appdata\\roaming\\python\\python311\\site-packages (3.6.3)\n",
      "Requirement already satisfied: contourpy>=1.0.1 in c:\\users\\mathi\\appdata\\roaming\\python\\python311\\site-packages (from matplotlib) (1.1.0)\n",
      "Requirement already satisfied: cycler>=0.10 in c:\\users\\mathi\\appdata\\roaming\\python\\python311\\site-packages (from matplotlib) (0.11.0)\n",
      "Requirement already satisfied: fonttools>=4.22.0 in c:\\users\\mathi\\appdata\\roaming\\python\\python311\\site-packages (from matplotlib) (4.40.0)\n",
      "Requirement already satisfied: kiwisolver>=1.0.1 in c:\\users\\mathi\\appdata\\roaming\\python\\python311\\site-packages (from matplotlib) (1.4.4)\n",
      "Requirement already satisfied: packaging>=20.0 in c:\\users\\mathi\\appdata\\roaming\\python\\python311\\site-packages (from matplotlib) (23.1)\n",
      "Requirement already satisfied: pillow>=6.2.0 in c:\\users\\mathi\\appdata\\roaming\\python\\python311\\site-packages (from matplotlib) (9.5.0)\n",
      "Requirement already satisfied: pyparsing>=2.2.1 in c:\\users\\mathi\\appdata\\roaming\\python\\python311\\site-packages (from matplotlib) (3.1.0)\n",
      "Requirement already satisfied: python-dateutil>=2.7 in c:\\users\\mathi\\appdata\\roaming\\python\\python311\\site-packages (from matplotlib) (2.8.2)\n",
      "Requirement already satisfied: six>=1.5 in c:\\users\\mathi\\appdata\\roaming\\python\\python311\\site-packages (from python-dateutil>=2.7->matplotlib) (1.16.0)\n"
     ]
    }
   ],
   "source": [
    "!pip install numpy matplotlib\n",
    "import numpy as np\n",
    "import matplotlib.pyplot as plt\n",
    "\n",
    "np.random.seed(42)"
   ]
  },
  {
   "cell_type": "code",
   "execution_count": 11,
   "metadata": {
    "id": "4YabfD43ajNh"
   },
   "outputs": [],
   "source": [
    "def data_generator(noise=0.1, n_samples=300, D1=True):\n",
    "    # Create covariates and response variable\n",
    "    if D1:\n",
    "        X = np.linspace(-3, 3, num=n_samples).reshape(-1,1) # 1-D\n",
    "        np.random.shuffle(X)\n",
    "        y = np.random.normal((0.5*np.sin(X[:,0]*3) + X[:,0]), noise) # 1-D with trend\n",
    "    else:\n",
    "        X = np.random.multivariate_normal(np.zeros(3), noise*np.eye(3), size = n_samples) # 3-D\n",
    "        np.random.shuffle(X)    \n",
    "        y = np.sin(X[:,0]) - 5*(X[:,1]**2) + 0.5*X[:,2] # 3-D\n",
    "\n",
    "    # Stack them together vertically to split data set\n",
    "    data_set = np.vstack((X.T,y)).T\n",
    "    \n",
    "    train, validation, test = np.split(data_set, [int(0.35*n_samples), int(0.7*n_samples)], axis=0)\n",
    "    \n",
    "    # Standardization of the data, remember we do the standardization with the training set mean and standard deviation\n",
    "    train_mu = np.mean(train, axis=0)\n",
    "    train_sigma = np.std(train, axis=0)\n",
    "    \n",
    "    train = (train-train_mu)/train_sigma\n",
    "    validation = (validation-train_mu)/train_sigma\n",
    "    test = (test-train_mu)/train_sigma\n",
    "    \n",
    "    x_train, x_validation, x_test = train[:,:-1], validation[:,:-1], test[:,:-1]\n",
    "    y_train, y_validation, y_test = train[:,-1], validation[:,-1], test[:,-1]\n",
    "\n",
    "    return x_train, y_train,  x_validation, y_validation, x_test, y_test"
   ]
  },
  {
   "cell_type": "code",
   "execution_count": 12,
   "metadata": {
    "id": "u1oDngHLapIz"
   },
   "outputs": [],
   "source": [
    "D1 = True\n",
    "x_train, y_train,  x_validation, y_validation, x_test, y_test = data_generator(noise=0.5, D1=D1)"
   ]
  },
  {
   "cell_type": "code",
   "execution_count": 13,
   "metadata": {
    "colab": {
     "base_uri": "https://localhost:8080/",
     "height": 265
    },
    "id": "Ysfa3FsBavlm",
    "outputId": "399e5382-ae7d-48f6-9774-7ea4c73e7d95"
   },
   "outputs": [
    {
     "data": {
      "image/png": "[encoded data removed]",
      "text/plain": [
       "<Figure size 640x480 with 1 Axes>"
      ]
     },
     "metadata": {},
     "output_type": "display_data"
    }
   ],
   "source": [
    "if D1:\n",
    "    plt.scatter(x_train[:,0], y_train);\n",
    "    plt.scatter(x_validation[:,0], y_validation);\n",
    "    plt.scatter(x_test[:,0], y_test);\n",
    "else:\n",
    "    plt.scatter(x_train[:,1], y_train);\n",
    "    plt.scatter(x_validation[:,1], y_validation);\n",
    "    plt.scatter(x_test[:,1], y_test);\n",
    "plt.show()"
   ]
  },
  {
   "cell_type": "code",
   "execution_count": 14,
   "metadata": {
    "id": "zac2HHNlgbpm"
   },
   "outputs": [],
   "source": [
    "# convert from nparray to Var\n",
    "def nparray_to_Var(x):\n",
    "  if x.ndim==1:\n",
    "    y = [[Var(float(x[i]))] for i in range(x.shape[0])] # always work with list of list\n",
    "  else:\n",
    "    y = [[Var(float(x[i,j])) for j in range(x.shape[1])] for i in range(x.shape[0])]\n",
    "  return y\n",
    "   \n",
    "x_train = nparray_to_Var(x_train)\n",
    "y_train = nparray_to_Var(y_train)\n",
    "x_validation = nparray_to_Var(x_validation)\n",
    "y_validation = nparray_to_Var(y_validation)\n",
    "x_test = nparray_to_Var(x_test)\n",
    "y_test = nparray_to_Var(y_test)\n"
   ]
  },
  {
   "cell_type": "markdown",
   "metadata": {
    "id": "VbjrqcpVFtGe"
   },
   "source": [
    "# Defining and initializing the network\n",
    "\n",
    "The steps to create a feed forward neural network are the following:\n",
    "\n",
    "1. **Number of hidden layer and hidden units**. We have to define the number of hidden units in each layer. The number of features in X and the output dimensionality (the size of Y) are given but the numbers in between are set by the researcher. Remember that for each unit in each layer beside in the input has a bias term.\n",
    "2. **Activation functions** for each hidden layer. Each hidden layer in your list must have an activation function (it can also be the linear activation which is equivalent to identity function). The power of neural networks comes from non-linear activation functions that learn representations (features) from the data allowing us to learn from it. \n",
    "3. **Parameter initialization**. We will initialize the weights to have random values. This is done in practice by drawing pseudo random numbers from a Gaussian or uniform distribution. It turns out that for deeper models we have to be careful about how we scale the random numbers. This will be the topic of the exercise below. For now we will just use unit variance Gaussians.  \n",
    "\n",
    "In order to make life easier for ourselves we define a DenseLayer class that takes care of initialization and the forward pass. We can also extend it later with print and advanced initialization capabilities. For the latter we have introduced a Initializer class.\n",
    "\n",
    "Note that we use Sequence in the code below. A Sequence is an ordered list. This means the order we insert and access items are the same."
   ]
  },
  {
   "cell_type": "code",
   "execution_count": 15,
   "metadata": {
    "id": "ij_ieRsAt7Xt"
   },
   "outputs": [],
   "source": [
    "class Initializer:\n",
    "\n",
    "  def init_weights(self, n_in, n_out):\n",
    "    raise NotImplementedError\n",
    "\n",
    "  def init_bias(self, n_out):\n",
    "    raise NotImplementedError"
   ]
  },
  {
   "cell_type": "code",
   "execution_count": 16,
   "metadata": {
    "id": "eb18N5phuIha"
   },
   "outputs": [],
   "source": [
    "import random\n",
    "\n",
    "class NormalInitializer(Initializer):\n",
    "\n",
    "  def __init__(self, mean=0, std=0.1):\n",
    "    self.mean = mean\n",
    "    self.std = std\n",
    "\n",
    "  def init_weights(self, n_in, n_out):\n",
    "    return [[Var(random.gauss(self.mean, self.std)) for _ in range(n_out)] for _ in range(n_in)]\n",
    "\n",
    "  def init_bias(self, n_out):\n",
    "    return [Var(0.0) for _ in range(n_out)]\n",
    "\n",
    "class ConstantInitializer(Initializer):\n",
    "\n",
    "  def __init__(self, weight=1.0, bias=0.0):\n",
    "    self.weight = weight\n",
    "    self.bias = bias\n",
    "\n",
    "  def init_weights(self, n_in, n_out):\n",
    "    return [[Var(self.weight) for _ in range(n_out)] for _ in range(n_in)]\n",
    "\n",
    "  def init_bias(self, n_out):\n",
    "    return [Var(self.bias) for _ in range(n_out)]"
   ]
  },
  {
   "cell_type": "code",
   "execution_count": 17,
   "metadata": {
    "id": "jOLYGnZKuM6W"
   },
   "outputs": [],
   "source": [
    "from typing import Sequence\n",
    "\n",
    "class DenseLayer:\n",
    "    def __init__(self, n_in: int, n_out: int, act_fn, initializer = NormalInitializer()):\n",
    "        self.weights = initializer.init_weights(n_in, n_out)\n",
    "        self.bias = initializer.init_bias(n_out)\n",
    "        self.act_fn = act_fn\n",
    "    \n",
    "    def __repr__(self):    \n",
    "        return 'Weights: ' + repr(self.weights) + ' Biases: ' + repr(self.bias)\n",
    "\n",
    "    def parameters(self) -> Sequence[Var]:\n",
    "      params = []\n",
    "      for r in self.weights:\n",
    "        params += r\n",
    "\n",
    "      return params + self.bias\n",
    "\n",
    "    def forward(self, single_input: Sequence[Var]) -> Sequence[Var]:\n",
    "        # self.weights is a matrix with dimension n_in x n_out. We check that the dimensionality of the input \n",
    "        # to the current layer matches the number of nodes in the current layer\n",
    "        assert len(self.weights) == len(single_input), \"weights and single_input must match in first dimension\"\n",
    "        weights = self.weights\n",
    "        out = []\n",
    "        # For some given data point single_input, we now want to calculate the resulting value in each node in the current layer\n",
    "        # We therefore loop over the (number of) nodes in the current layer:\n",
    "        for j in range(len(weights[0])): \n",
    "            # Initialize the node value depending on its corresponding parameters.\n",
    "            node = Var(0.0) # <- Insert code\n",
    "            # We now finish the linear transformation corresponding to the parameters of the currently considered node.\n",
    "            for i in range(len(single_input)):\n",
    "                node += Var(0.0)  # <- Insert code\n",
    "            node = self.act_fn(node)\n",
    "            out.append(node)\n",
    "\n",
    "        return out"
   ]
  },
  {
   "cell_type": "markdown",
   "metadata": {
    "id": "jpIZPBpNI0pO"
   },
   "source": [
    "## Exercise f) Add more activation functions\n",
    "\n",
    "To have a full definition of the neural network, we must define an activation function for every layer. Several activation functions have been proposed and have different characteristics. In the Var class we have already defined the rectified linear init (relu). \n",
    " \n",
    "Implement the following activation functions in the Var class:\n",
    "\n",
    "* Identity: $$\\mathrm{identity}(x) = x$$\n",
    "* Hyperbolic tangent: $$\\tanh(x)$$\n",
    "* Sigmoid (or logistic function): $$\\mathrm{sigmoid}(x) = \\frac{1}{1.0 + \\exp(-x ) }$$  Hint: $\\mathrm{sigmoid}'(x)= \\mathrm{sigmoid}(x)(1-\\mathrm{sigmoid}(x))$.  \n",
    "\n",
    "Hint: You can seek inspiration in the relu method in the Var class."
   ]
  },
  {
   "cell_type": "markdown",
   "metadata": {},
   "source": [
    "I add the three activation functions to the class"
   ]
  },
  {
   "cell_type": "code",
   "execution_count": 18,
   "metadata": {},
   "outputs": [],
   "source": [
    "# Copy and pasted from https://github.com/rasmusbergpalm/nanograd/blob/3a1bf9e9e724da813bfccf91a6f309abdade9f39/nanograd.py\n",
    "\n",
    "from math import exp, log\n",
    "\n",
    "class Var:\n",
    "    \"\"\"\n",
    "    A variable which holds a float and enables gradient computations.\n",
    "    \"\"\"\n",
    "\n",
    "    def __init__(self, val: float, grad_fn=lambda: []):\n",
    "        assert type(val) == float\n",
    "        self.v = val\n",
    "        self.grad_fn = grad_fn\n",
    "        self.grad = 0.0\n",
    "\n",
    "    def backprop(self, bp):\n",
    "        self.grad += bp\n",
    "        for input, grad in self.grad_fn():\n",
    "            input.backprop(grad * bp)\n",
    "\n",
    "    def backward(self):\n",
    "        self.backprop(1.0)\n",
    "\n",
    "    def __add__(self: 'Var', other: 'Var') -> 'Var':\n",
    "        return Var(self.v + other.v, lambda: [(self, 1.0), (other, 1.0)])\n",
    "\n",
    "    def __mul__(self: 'Var', other: 'Var') -> 'Var':\n",
    "        return Var(self.v * other.v, lambda: [(self, other.v), (other, self.v)])\n",
    "\n",
    "    def __pow__(self, power):\n",
    "        assert type(power) in {float, int}, \"power must be float or int\"\n",
    "        return Var(self.v ** power, lambda: [(self, power * self.v ** (power - 1))])\n",
    "\n",
    "    def __neg__(self: 'Var') -> 'Var':\n",
    "        return Var(-1.0) * self\n",
    "\n",
    "    def __sub__(self: 'Var', other: 'Var') -> 'Var':\n",
    "        return self + (-other)\n",
    "\n",
    "    def __truediv__(self: 'Var', other: 'Var') -> 'Var':\n",
    "        return self * other ** -1\n",
    "\n",
    "    def __repr__(self):\n",
    "        return \"Var(v=%.4f, grad=%.4f)\" % (self.v, self.grad)\n",
    "\n",
    "    def relu(self):\n",
    "        return Var(self.v if self.v > 0.0 else 0.0, lambda: [(self, 1.0 if self.v > 0.0 else 0.0)]) \n",
    "    \n",
    "    # Sigmoid activation function\n",
    "    def sigmoid(self):\n",
    "        return Var(1/(1+exp(-self.v)), lambda: [(self, 1/(1+exp(-self.v))*(1-1/(1+exp(-self.v))))]) # Here is the implementation of the sigmoid activation function\n",
    "    \n",
    "    # Tanh activation function\n",
    "    def tanh(self):\n",
    "        return Var((exp(self.v)-exp(-self.v))/(exp(self.v)+exp(-self.v)), lambda: [(self, 4/(exp(self.v)+exp(-self.v))**2)]) # Here is the implementation of the tanh activation function\n",
    "    \n",
    "    # Identity activation function\n",
    "    def identity(self):\n",
    "        return Var(self.v, lambda: [(self, 1.0)]) # Here is the implementation of the identity activation function"
   ]
  },
  {
   "cell_type": "markdown",
   "metadata": {},
   "source": [
    "The newly implemented function are the bottom three definitions "
   ]
  },
  {
   "cell_type": "markdown",
   "metadata": {
    "id": "p_8n_SKnIW2F"
   },
   "source": [
    "## Exercise g) Complete the forward pass\n",
    "\n",
    "In the code below we initialize a 1-5-1 network and pass the training set through it. *The forward method in DenseLayer is **not** complete*. It just outputs zeros right now. The method forward should perform an [affine transformation](https://en.wikipedia.org/wiki/Affine_transformation) on the input followed by an application of the activation function."
   ]
  },
  {
   "cell_type": "markdown",
   "metadata": {},
   "source": [
    "To do this I need to change the DenseLayer Class"
   ]
  },
  {
   "cell_type": "code",
   "execution_count": 19,
   "metadata": {},
   "outputs": [],
   "source": [
    "from typing import Sequence\n",
    "\n",
    "class DenseLayer:\n",
    "    def __init__(self, n_in: int, n_out: int, act_fn, initializer = NormalInitializer()):\n",
    "        self.weights = initializer.init_weights(n_in, n_out)\n",
    "        self.bias = initializer.init_bias(n_out)\n",
    "        self.act_fn = act_fn\n",
    "    \n",
    "    def __repr__(self):    \n",
    "        return 'Weights: ' + repr(self.weights) + ' Biases: ' + repr(self.bias)\n",
    "\n",
    "    def parameters(self) -> Sequence[Var]:\n",
    "      params = []\n",
    "      for r in self.weights:\n",
    "        params += r\n",
    "\n",
    "      return params + self.bias\n",
    "\n",
    "    def forward(self, single_input: Sequence[Var]) -> Sequence[Var]:\n",
    "        # self.weights is a matrix with dimension n_in x n_out. We check that the dimensionality of the input \n",
    "        # to the current layer matches the number of nodes in the current layer\n",
    "        assert len(self.weights) == len(single_input), \"weights and single_input must match in first dimension\"\n",
    "        weights = self.weights\n",
    "        out = []\n",
    "        # For some given data point single_input, we now want to calculate the resulting value in each node in the current layer\n",
    "        # We therefore loop over the (number of) nodes in the current layer:\n",
    "        for j in range(len(weights[0])): \n",
    "            # Initialize the node value depending on its corresponding parameters.\n",
    "            node = self.bias[j]  # <-- Initialize node with bias\n",
    "\n",
    "            # We now finish the linear transformation corresponding to the parameters of the currently considered node.\n",
    "            for i in range(len(single_input)):\n",
    "                node += single_input[i] * self.weights[i][j]  # <-- Multiply input by weight and sum\n",
    "            \n",
    "            node = self.act_fn(node) # <-- Apply activation function\n",
    "            \n",
    "            out.append(node) # <-- Append node to the output list\n",
    "\n",
    "        return out"
   ]
  },
  {
   "cell_type": "code",
   "execution_count": 20,
   "metadata": {
    "colab": {
     "base_uri": "https://localhost:8080/",
     "height": 337
    },
    "id": "xDEjtePxE7Mv",
    "outputId": "753406cd-d8a1-4282-ce03-25ad959b0e11"
   },
   "outputs": [
    {
     "name": "stdout",
     "output_type": "stream",
     "text": [
      "[[Var(v=-0.0000, grad=0.0000)], [Var(v=-0.0000, grad=0.0000)], [Var(v=-0.0000, grad=0.0000)], [Var(v=0.0044, grad=0.0000)], [Var(v=-0.0000, grad=0.0000)], [Var(v=-0.0000, grad=0.0000)], [Var(v=-0.0000, grad=0.0000)], [Var(v=0.0010, grad=0.0000)], [Var(v=0.0045, grad=0.0000)], [Var(v=-0.0000, grad=0.0000)], [Var(v=-0.0000, grad=0.0000)], [Var(v=0.0028, grad=0.0000)], [Var(v=-0.0000, grad=0.0000)], [Var(v=0.0032, grad=0.0000)], [Var(v=-0.0000, grad=0.0000)], [Var(v=-0.0000, grad=0.0000)], [Var(v=-0.0000, grad=0.0000)], [Var(v=-0.0000, grad=0.0000)], [Var(v=-0.0000, grad=0.0000)], [Var(v=-0.0000, grad=0.0000)], [Var(v=0.0021, grad=0.0000)], [Var(v=0.0009, grad=0.0000)], [Var(v=-0.0000, grad=0.0000)], [Var(v=-0.0000, grad=0.0000)], [Var(v=0.0012, grad=0.0000)], [Var(v=0.0033, grad=0.0000)], [Var(v=-0.0000, grad=0.0000)], [Var(v=-0.0000, grad=0.0000)], [Var(v=-0.0000, grad=0.0000)], [Var(v=-0.0000, grad=0.0000)], [Var(v=0.0041, grad=0.0000)], [Var(v=-0.0000, grad=0.0000)], [Var(v=0.0036, grad=0.0000)], [Var(v=0.0039, grad=0.0000)], [Var(v=-0.0000, grad=0.0000)], [Var(v=0.0007, grad=0.0000)], [Var(v=0.0044, grad=0.0000)], [Var(v=0.0017, grad=0.0000)], [Var(v=0.0031, grad=0.0000)], [Var(v=0.0022, grad=0.0000)], [Var(v=0.0016, grad=0.0000)], [Var(v=0.0021, grad=0.0000)], [Var(v=-0.0000, grad=0.0000)], [Var(v=0.0027, grad=0.0000)], [Var(v=0.0021, grad=0.0000)], [Var(v=0.0026, grad=0.0000)], [Var(v=-0.0000, grad=0.0000)], [Var(v=-0.0000, grad=0.0000)], [Var(v=0.0010, grad=0.0000)], [Var(v=-0.0000, grad=0.0000)], [Var(v=-0.0000, grad=0.0000)], [Var(v=-0.0000, grad=0.0000)], [Var(v=-0.0000, grad=0.0000)], [Var(v=0.0022, grad=0.0000)], [Var(v=-0.0000, grad=0.0000)], [Var(v=-0.0000, grad=0.0000)], [Var(v=0.0014, grad=0.0000)], [Var(v=0.0016, grad=0.0000)], [Var(v=-0.0000, grad=0.0000)], [Var(v=0.0038, grad=0.0000)], [Var(v=-0.0000, grad=0.0000)], [Var(v=0.0027, grad=0.0000)], [Var(v=0.0045, grad=0.0000)], [Var(v=-0.0000, grad=0.0000)], [Var(v=-0.0000, grad=0.0000)], [Var(v=0.0037, grad=0.0000)], [Var(v=0.0039, grad=0.0000)], [Var(v=-0.0000, grad=0.0000)], [Var(v=0.0028, grad=0.0000)], [Var(v=-0.0000, grad=0.0000)], [Var(v=0.0011, grad=0.0000)], [Var(v=0.0005, grad=0.0000)], [Var(v=-0.0000, grad=0.0000)], [Var(v=-0.0000, grad=0.0000)], [Var(v=0.0004, grad=0.0000)], [Var(v=-0.0000, grad=0.0000)], [Var(v=0.0019, grad=0.0000)], [Var(v=0.0019, grad=0.0000)], [Var(v=0.0025, grad=0.0000)], [Var(v=-0.0000, grad=0.0000)], [Var(v=-0.0000, grad=0.0000)], [Var(v=-0.0000, grad=0.0000)], [Var(v=0.0040, grad=0.0000)], [Var(v=0.0006, grad=0.0000)], [Var(v=0.0020, grad=0.0000)], [Var(v=0.0009, grad=0.0000)], [Var(v=0.0008, grad=0.0000)], [Var(v=0.0023, grad=0.0000)], [Var(v=0.0042, grad=0.0000)], [Var(v=0.0043, grad=0.0000)], [Var(v=-0.0000, grad=0.0000)], [Var(v=0.0013, grad=0.0000)], [Var(v=0.0024, grad=0.0000)], [Var(v=-0.0000, grad=0.0000)], [Var(v=0.0034, grad=0.0000)], [Var(v=0.0041, grad=0.0000)], [Var(v=-0.0000, grad=0.0000)], [Var(v=-0.0000, grad=0.0000)], [Var(v=-0.0000, grad=0.0000)], [Var(v=0.0024, grad=0.0000)], [Var(v=-0.0000, grad=0.0000)], [Var(v=0.0024, grad=0.0000)], [Var(v=0.0036, grad=0.0000)], [Var(v=-0.0000, grad=0.0000)], [Var(v=-0.0000, grad=0.0000)]]\n"
     ]
    }
   ],
   "source": [
    "NN = [\n",
    "    DenseLayer(1, 5, lambda x: x.relu()),\n",
    "    DenseLayer(5, 1, lambda x: x.identity())\n",
    "]\n",
    "\n",
    "def forward(input, network):\n",
    "\n",
    "  def forward_single(x, network):\n",
    "    for layer in network:\n",
    "        x = layer.forward(x)\n",
    "    return x\n",
    "\n",
    "  output = [ forward_single(input[n], network) for n in range(len(input))]\n",
    "  return output\n",
    "\n",
    "print(forward(x_train, NN))\n"
   ]
  },
  {
   "cell_type": "markdown",
   "metadata": {
    "id": "oLrGJytZFtGm"
   },
   "source": [
    "## Exercise h) Print all network parameters\n",
    "\n",
    "Make a function that prints all the parameters of the network (weights and biases) with information about in which layer the appear. In the object oriented spirit you should introduce a method in the DenseLayer class to print the parameters of a layer. Hint: You can take inspiration from the corresponding method in Var. "
   ]
  },
  {
   "cell_type": "markdown",
   "metadata": {},
   "source": [
    "I modify the Denselayer class again"
   ]
  },
  {
   "cell_type": "code",
   "execution_count": 21,
   "metadata": {},
   "outputs": [],
   "source": [
    "from typing import Sequence\n",
    "\n",
    "class DenseLayer:\n",
    "    def __init__(self, n_in: int, n_out: int, act_fn, initializer = NormalInitializer()):\n",
    "        self.weights = initializer.init_weights(n_in, n_out)\n",
    "        self.bias = initializer.init_bias(n_out)\n",
    "        self.act_fn = act_fn\n",
    "    \n",
    "    def __repr__(self):    \n",
    "        return 'Weights: ' + repr(self.weights) + ' Biases: ' + repr(self.bias)\n",
    "\n",
    "    def parameters(self) -> Sequence[Var]:\n",
    "      params = []\n",
    "      for r in self.weights:\n",
    "        params += r\n",
    "\n",
    "      return params + self.bias\n",
    "  \n",
    "    # Method to print parameters of the layer\n",
    "    def print_parameters(self, layer_num: int):\n",
    "        print(f\"Layer {layer_num} - Weights:\")\n",
    "        for i, row in enumerate(self.weights):\n",
    "            print(f\"  Node {i} weights: {[w.v for w in row]}\")  # <-- Access the `v` attribute\n",
    "        print(f\"Layer {layer_num} - Biases:\")\n",
    "        print(f\"  Biases: {[b.v for b in self.bias]}\")  # <-- Access the `v` attribute\n",
    "\n",
    "    def forward(self, single_input: Sequence[Var]) -> Sequence[Var]:\n",
    "        # self.weights is a matrix with dimension n_in x n_out. We check that the dimensionality of the input \n",
    "        # to the current layer matches the number of nodes in the current layer\n",
    "        assert len(self.weights) == len(single_input), \"weights and single_input must match in first dimension\"\n",
    "        weights = self.weights\n",
    "        out = []\n",
    "        # For some given data point single_input, we now want to calculate the resulting value in each node in the current layer\n",
    "        # We therefore loop over the (number of) nodes in the current layer:\n",
    "        for j in range(len(weights[0])): \n",
    "            # Initialize the node value depending on its corresponding parameters.\n",
    "            node = self.bias[j]  # <-- Initialize node with bias\n",
    "\n",
    "            # We now finish the linear transformation corresponding to the parameters of the currently considered node.\n",
    "            for i in range(len(single_input)):\n",
    "                node += single_input[i] * self.weights[i][j]  # <-- Multiply input by weight and sum\n",
    "            \n",
    "            node = self.act_fn(node) # <-- Apply activation function\n",
    "            \n",
    "            out.append(node) # <-- Append node to the output list\n",
    "\n",
    "        return out"
   ]
  },
  {
   "cell_type": "markdown",
   "metadata": {},
   "source": [
    "Then I make a function to print all network parameters"
   ]
  },
  {
   "cell_type": "code",
   "execution_count": 22,
   "metadata": {
    "id": "iac-VwYGFtGm"
   },
   "outputs": [],
   "source": [
    "def print_network_parameters(network):\n",
    "    for idx, layer in enumerate(network):\n",
    "        layer.print_parameters(idx + 1)\n"
   ]
  },
  {
   "cell_type": "markdown",
   "metadata": {},
   "source": [
    "I call the function for a new network structure"
   ]
  },
  {
   "cell_type": "code",
   "execution_count": 23,
   "metadata": {},
   "outputs": [
    {
     "name": "stdout",
     "output_type": "stream",
     "text": [
      "Layer 1 - Weights:\n",
      "  Node 0 weights: [-0.0938069190291179, -0.06472045406844647, -0.025631241115246173, -0.010577768864180855, 0.019096611985643667]\n",
      "Layer 1 - Biases:\n",
      "  Biases: [0.0, 0.0, 0.0, 0.0, 0.0]\n",
      "Layer 2 - Weights:\n",
      "  Node 0 weights: [0.06120092760572963]\n",
      "  Node 1 weights: [0.16719483385346548]\n",
      "  Node 2 weights: [0.09484716844905033]\n",
      "  Node 3 weights: [-0.13173346107992037]\n",
      "  Node 4 weights: [0.03167796723563585]\n",
      "Layer 2 - Biases:\n",
      "  Biases: [0.0]\n"
     ]
    }
   ],
   "source": [
    "NN = [\n",
    "    DenseLayer(1, 5, lambda x: x.relu()),\n",
    "    DenseLayer(5, 1, lambda x: x.identity())\n",
    "]\n",
    "\n",
    "print_network_parameters(NN)"
   ]
  },
  {
   "cell_type": "markdown",
   "metadata": {
    "id": "_79HOAXrFtHK"
   },
   "source": [
    "## Visualization\n",
    "\n",
    "Now that we have defined our activation functions we can visualize them to see what they look like:"
   ]
  },
  {
   "cell_type": "code",
   "execution_count": 24,
   "metadata": {
    "id": "1FcylHqLTl-Z"
   },
   "outputs": [
    {
     "data": {
      "text/plain": [
       "[<matplotlib.lines.Line2D at 0x2380119d010>]"
      ]
     },
     "execution_count": 24,
     "metadata": {},
     "output_type": "execute_result"
    },
    {
     "data": {
      "image/png": "[encoded data removed]",
      "text/plain": [
       "<Figure size 640x480 with 1 Axes>"
      ]
     },
     "metadata": {},
     "output_type": "display_data"
    }
   ],
   "source": [
    "x = np.linspace(-6, 6, 100)\n",
    "\n",
    "# convert from Var to ndarray  \n",
    "def Var_to_nparray(x):\n",
    "  y = np.zeros((len(x),len(x[0])))\n",
    "  for i in range(len(x)):\n",
    "    for j in range(len(x[0])):\n",
    "      y[i,j] = x[i][j].v\n",
    "  return y\n",
    "\n",
    "# define 1-1 network with weight = 1 and relu activation \n",
    "NN = [ DenseLayer(1, 1, lambda x: x.relu(), initializer = ConstantInitializer(1.0)) ] \n",
    "y = Var_to_nparray(forward(nparray_to_Var(x), NN))\n",
    "\n",
    "#y = Var_to_nparray(relu(nparray_to_Var(x)))\n",
    "plt.plot(x,y)"
   ]
  },
  {
   "cell_type": "code",
   "execution_count": 25,
   "metadata": {
    "id": "oOL2UolJFtHL"
   },
   "outputs": [
    {
     "data": {
      "image/png": "[encoded data removed]",
      "text/plain": [
       "<Figure size 500x500 with 1 Axes>"
      ]
     },
     "metadata": {},
     "output_type": "display_data"
    }
   ],
   "source": [
    "# Testing all activation layers\n",
    "\n",
    "x = np.linspace(-6, 6, 100)\n",
    "units = {\n",
    "    \"identity\": lambda x: x.identity(),\n",
    "    \"sigmoid\": lambda x: x.sigmoid(),\n",
    "    \"relu\": lambda x: x.relu(),\n",
    "    \"tanh\": lambda x: x.tanh()\n",
    "}\n",
    "\n",
    "plt.figure(figsize=(5, 5))\n",
    "[plt.plot(x, Var_to_nparray(forward(nparray_to_Var(x), [DenseLayer(1, 1, unit, initializer = ConstantInitializer(1.0))]) ), label=unit_name, lw=2) for unit_name, unit in units.items()] # unit(nparray_to_Var(x))), label=unit_name, lw=2) for unit_name, unit in units.items()]\n",
    "plt.legend(loc=2, fontsize=16)\n",
    "plt.title('Our activation functions', fontsize=20)\n",
    "plt.ylim([-2, 5])\n",
    "plt.xlim([-6, 6])\n",
    "plt.show()"
   ]
  },
  {
   "cell_type": "markdown",
   "metadata": {
    "id": "b-jdEl-7FtGs"
   },
   "source": [
    "# Advanced initialization schemes\n",
    "\n",
    "If we are not careful with initialization, the signals we propagate forward ($a^{(l)}$, $l=1,\\ldots,L$) and backward ($\\delta^l$, $l=L,L-1,\\ldots,1$) can blow up or shrink to zero. A statistical analysis of the variance of the signals for different activation functions can be found in these two papers: [Glorot initialization](http://proceedings.mlr.press/v9/glorot10a/glorot10a.pdf) and [He initialization](https://arxiv.org/pdf/1502.01852v1.pdf). \n",
    "\n",
    "The result of the analyses are proposals for how to make the initialization such that the variance of the signals (forward and backward) are kept approxmimatly constant when propagating from layer to layer. The exact expressions depend upon the non-linear activation function used. In Glorot initialization, the aim is to keep both the forward and backward variances constant whereas He only aims at keeping the variance in the forward pass constant.\n",
    "\n",
    "We define $n_{in}$ and $n_{out}$ as the number of input units and output units of a particular layer. \n",
    "\n",
    "The Glorot initialization has the form: \n",
    "\n",
    "$$w_{ij} \\sim N \\bigg( 0, \\, \\frac{2 \\alpha }{n_{in} + n_{out}} \\bigg) \\ . $$\n",
    "\n",
    "where $N(\\mu,\\sigma^2)$ is a Gaussian distribution with mean $\\mu$ and variance $\\sigma^2$ and $\\alpha$ is a parameter that depends upon the activation function used. For $\\tanh$, $\\alpha=1$ and for Rectified Linear Unit (ReLU) activations, $\\alpha=2$. (It is also possible to use a uniform distribution for initialization, see [this blog post](https://mmuratarat.github.io/2019-02-25/xavier-glorot-he-weight-init).) \n",
    "\n",
    "The He initialization is very similar\n",
    "\n",
    "$$w_{ij} \\sim N \\bigg( 0, \\, \\frac{\\alpha}{n_{in}} \\bigg) \\ . $$"
   ]
  },
  {
   "cell_type": "markdown",
   "metadata": {
    "id": "mqeyab9qFtGs"
   },
   "source": [
    "## Exercise i) Glorot and He initialization\n",
    " \n",
    "Using the Initializer class, implement functions that implement Glorot and He \n",
    "\n",
    "Explain briefly how you would test numerically that these initializations have the sought after property. Hint: See plots in Glorot paper.\n",
    "\n",
    "Comment: If you want to be more advanced then try to make a universal initializer taking both the activation function and type (Glorot or He) as argument."
   ]
  },
  {
   "cell_type": "code",
   "execution_count": 26,
   "metadata": {
    "id": "Qyk01CgaFtGt"
   },
   "outputs": [],
   "source": [
    "## Glorot\n",
    "def DenseLayer_Glorot_tanh(n_in: int, n_out: int):\n",
    "  std = (2 * 1) / (n_in + n_out)  # α = 1 for tanh in glorot initialization : w_ij ~ N(0, 2 *alpha/(n_in + n_out))\n",
    "  return DenseLayer(n_in, n_out, lambda x: x.tanh(), initializer = NormalInitializer(std))\n",
    "\n",
    "## He\n",
    "def DenseLayer_He_relu(n_in: int, n_out: int):\n",
    "  std = std = 2 / n_in  # α = 2 for ReLU in He initialization : w_ij ~ N(0, alpha/n_in)\n",
    "  return DenseLayer(n_in, n_out, lambda x: x.relu(), initializer = NormalInitializer(std))"
   ]
  },
  {
   "cell_type": "markdown",
   "metadata": {
    "id": "-XyXBD37FtHk"
   },
   "source": [
    "## Exercise j) Forward pass unit test\n",
    "\n",
    "Write a bit of code to make a unit test that the forward pass works. This can be done by defining a simple network with for example all weights equal to one (using the ConstantInitializer method) and identity activation functions. \n",
    "\n",
    "Hints: Use the [assert](https://www.w3schools.com/python/ref_keyword_assert.asp), the nparray_to_Var and the Var_to_nparray commands. "
   ]
  },
  {
   "cell_type": "markdown",
   "metadata": {},
   "source": [
    "### Forward Pass Unit Test\n",
    "\n",
    "The forward pass unit test constructs a simple neural network with:\n",
    "\n",
    "- **3 input nodes**\n",
    "- **Identity activation function**\n",
    "- **2 output nodes**\n",
    "\n",
    "The weights are all initialized to 1, and the biases are initialized to 0. Therefore, the expected output for both output nodes can be calculated as follows:\n",
    "\n",
    "$$\n",
    "\\text{output}_0 = 1 \\times 1 + 1 \\times 1 + 1 \\times 1 + 0 = 3\n",
    "$$\n",
    "\n",
    "$$\n",
    "\\text{output}_1 = 1 \\times 1 + 1 \\times 1 + 1 \\times 1 + 0 = 3\n",
    "$$\n",
    "\n",
    "Hence, the expected output for both nodes is `[3, 3]`.\n"
   ]
  },
  {
   "cell_type": "code",
   "execution_count": 27,
   "metadata": {
    "id": "k0miqRUAFtHl"
   },
   "outputs": [
    {
     "name": "stdout",
     "output_type": "stream",
     "text": [
      "3.0 3.0\n",
      "3.0 3.0\n",
      "Forward pass unit test passed!\n"
     ]
    }
   ],
   "source": [
    "def forward_pass_unit_test():\n",
    "    # Create a DenseLayer with ConstantInitializer (all weights = 1, biases = 0)\n",
    "    n_in, n_out = 3, 2  # Example: 3 input nodes, 2 output nodes\n",
    "    layer = DenseLayer(n_in, n_out, lambda x: x.identity(), initializer=ConstantInitializer(weight=1.0, bias=0.0))\n",
    "\n",
    "    # Input: Vector of 1's\n",
    "    input_values = [Var(1.0), Var(1.0), Var(1.0)]  # Input has 3 values all set to 1\n",
    "\n",
    "    # Perform the forward pass\n",
    "    output = layer.forward(input_values)\n",
    "\n",
    "    # Convert the Var objects to their actual values for comparison\n",
    "    output_values = [o.v for o in output]\n",
    "\n",
    "    # Expected output:\n",
    "    # For each output node:\n",
    "    # output_j = sum(input_i * weight_ij) + bias_j\n",
    "    # Since all inputs and weights are 1, and bias is 0:\n",
    "    # output_0 = 1*1 + 1*1 + 1*1 + 0 = 3\n",
    "    # output_1 = 1*1 + 1*1 + 1*1 + 0 = 3\n",
    "    expected_output = [3.0, 3.0]\n",
    "\n",
    "    # Check if the output matches the expected output\n",
    "    for out, expected in zip(output_values, expected_output):\n",
    "        print(out, expected)\n",
    "        assert out == expected, f\"Expected {expected}, but got {out}\"\n",
    "\n",
    "    print(\"Forward pass unit test passed!\")\n",
    "\n",
    "# Run the unit test\n",
    "forward_pass_unit_test()"
   ]
  },
  {
   "cell_type": "markdown",
   "metadata": {
    "id": "faCxhfFnFtHp"
   },
   "source": [
    "# Loss functions\n",
    "\n",
    "We are only missing a loss function to we need to define a loss function and its derivative with respect to the output of the neural network $y$"
   ]
  },
  {
   "cell_type": "code",
   "execution_count": 28,
   "metadata": {
    "id": "I2eDYKvAFtHq"
   },
   "outputs": [],
   "source": [
    "def squared_loss(t, y):\n",
    "  \n",
    "  # add check that sizes agree \n",
    "  assert len(t) == len(y), \"t and y must have the same length\"\n",
    "    \n",
    "  def squared_loss_single(t, y):\n",
    "    Loss = Var(0.0)\n",
    "    for i in range(len(t)): # sum over outputs\n",
    "      Loss += (t[i]-y[i]) ** 2\n",
    "    return Loss\n",
    "\n",
    "  Loss = Var(0.0)\n",
    "  for n in range(len(t)): # sum over training data\n",
    "    Loss += squared_loss_single(t[n],y[n])\n",
    "  return Loss"
   ]
  },
  {
   "cell_type": "markdown",
   "metadata": {
    "id": "SrwSJ2UWFtHu"
   },
   "source": [
    "## Exercise k) Implement cross entropy loss\n",
    "\n",
    "Insert code below to implement cross-entropy loss for general dimensionality of $t$. Use a logits formulation:\n",
    "$$\n",
    "\\rm{Loss} = - \\sum_i t_i \\, log \\, p_i \n",
    "$$\n",
    "with $p$ given by the the softmax function in terms of the logits $h$:\n",
    "$$\n",
    "p_i = \\frac{\\exp(h_i)}{\\sum_{i'} \\exp(h_{i'})} .\n",
    "$$\n",
    "Inserting $p$ in the expression for the loss gives\n",
    "$$\n",
    "\\rm{Loss} = - \\sum_i t_i h_i + \\rm{LogSumExp}(h) \\ ,\n",
    "$$\n",
    "where \n",
    "$$\n",
    "\\rm{LogSumExp}(h) = \\log \\sum_i \\exp h_i \\ .\n",
    "$$\n",
    "This is true for $t$ being a one-hot vector. \n",
    "\n",
    "Call the function to convince yourself it works. \n",
    "\n",
    "In practice you want to implement a [numerically stable](https://leimao.github.io/blog/LogSumExp/) version of LogSumExp. But we will not bother about that here.\n",
    "\n",
    "Help: You can add these methods in the Var class:\n",
    "\n",
    "    def exp(self):\n",
    "        return Var(exp(self.v), lambda: [(self, exp(self.v))])\n",
    "    \n",
    "    def log(self):\n",
    "        return Var(log(self.v), lambda: [(self, self.v ** -1)])"
   ]
  },
  {
   "cell_type": "markdown",
   "metadata": {},
   "source": [
    "### First I add the exp and log method to var class"
   ]
  },
  {
   "cell_type": "code",
   "execution_count": 29,
   "metadata": {},
   "outputs": [],
   "source": [
    "# Copy and pasted from https://github.com/rasmusbergpalm/nanograd/blob/3a1bf9e9e724da813bfccf91a6f309abdade9f39/nanograd.py\n",
    "\n",
    "from math import exp, log\n",
    "\n",
    "class Var:\n",
    "    \"\"\"\n",
    "    A variable which holds a float and enables gradient computations.\n",
    "    \"\"\"\n",
    "\n",
    "    def __init__(self, val: float, grad_fn=lambda: []):\n",
    "        assert type(val) == float\n",
    "        self.v = val\n",
    "        self.grad_fn = grad_fn\n",
    "        self.grad = 0.0\n",
    "\n",
    "    def backprop(self, bp):\n",
    "        self.grad += bp\n",
    "        for input, grad in self.grad_fn():\n",
    "            input.backprop(grad * bp)\n",
    "\n",
    "    def backward(self):\n",
    "        self.backprop(1.0)\n",
    "\n",
    "    def __add__(self: 'Var', other: 'Var') -> 'Var':\n",
    "        return Var(self.v + other.v, lambda: [(self, 1.0), (other, 1.0)])\n",
    "\n",
    "    def __mul__(self: 'Var', other: 'Var') -> 'Var':\n",
    "        return Var(self.v * other.v, lambda: [(self, other.v), (other, self.v)])\n",
    "\n",
    "    def __pow__(self, power):\n",
    "        assert type(power) in {float, int}, \"power must be float or int\"\n",
    "        return Var(self.v ** power, lambda: [(self, power * self.v ** (power - 1))])\n",
    "\n",
    "    def __neg__(self: 'Var') -> 'Var':\n",
    "        return Var(-1.0) * self\n",
    "\n",
    "    def __sub__(self: 'Var', other: 'Var') -> 'Var':\n",
    "        return self + (-other)\n",
    "\n",
    "    def __truediv__(self: 'Var', other: 'Var') -> 'Var':\n",
    "        return self * other ** -1\n",
    "\n",
    "    def __repr__(self):\n",
    "        return \"Var(v=%.4f, grad=%.4f)\" % (self.v, self.grad)\n",
    "\n",
    "    def relu(self):\n",
    "        return Var(self.v if self.v > 0.0 else 0.0, lambda: [(self, 1.0 if self.v > 0.0 else 0.0)]) \n",
    "    \n",
    "    # Sigmoid activation function\n",
    "    def sigmoid(self):\n",
    "        return Var(1/(1+exp(-self.v)), lambda: [(self, 1/(1+exp(-self.v))*(1-1/(1+exp(-self.v))))]) # Here is the implementation of the sigmoid activation function\n",
    "    \n",
    "    # Tanh activation function\n",
    "    def tanh(self):\n",
    "        return Var((exp(self.v)-exp(-self.v))/(exp(self.v)+exp(-self.v)), lambda: [(self, 4/(exp(self.v)+exp(-self.v))**2)]) # Here is the implementation of the tanh activation function\n",
    "    \n",
    "    # Identity activation function\n",
    "    def identity(self):\n",
    "        return Var(self.v, lambda: [(self, 1.0)]) # Here is the implementation of the identity activation function\n",
    "    # exp\n",
    "    def exp(self):\n",
    "        return Var(exp(self.v), lambda: [(self, exp(self.v))])\n",
    "    # log\n",
    "    def log(self):\n",
    "        return Var(log(self.v), lambda: [(self, self.v ** -1)])"
   ]
  },
  {
   "cell_type": "markdown",
   "metadata": {},
   "source": [
    "### Then I add the LogSumExp function"
   ]
  },
  {
   "cell_type": "code",
   "execution_count": 44,
   "metadata": {},
   "outputs": [],
   "source": [
    "# LogSumExp(h) = log(sum_i' exp(h_i'))\n",
    "def log_sum_exp(h):\n",
    "    log_sum = Var(0.0)\n",
    "    for i in range(len(h)):\n",
    "        log_sum += h[i].exp()\n",
    "    return log_sum.log()\n"
   ]
  },
  {
   "cell_type": "markdown",
   "metadata": {},
   "source": [
    "### Finally I add the Cross entropy loss function "
   ]
  },
  {
   "cell_type": "code",
   "execution_count": 54,
   "metadata": {},
   "outputs": [],
   "source": [
    "def cross_entropy_loss(t_batch, h_batch):\n",
    "    \"\"\"\n",
    "    Cross-entropy loss for batches of data using the logits formulation.\n",
    "    \n",
    "    Args:\n",
    "    t_batch: batch of target vectors (one-hot encoded)\n",
    "    h_batch: batch of logits vectors (pre-softmax)\n",
    "    \n",
    "    Returns:\n",
    "    Cross-entropy loss value for the batch\n",
    "    \"\"\"\n",
    "    # Check that batch sizes agree\n",
    "    assert len(t_batch) == len(h_batch), \"t_batch and h_batch must have the same batch size\"\n",
    "    \n",
    "    # Initialize total loss for the batch\n",
    "    total_loss = Var(0.0)\n",
    "    \n",
    "    # Iterate over each element in the batch\n",
    "    for t, h in zip(t_batch, h_batch):\n",
    "        # Add check that sizes agree within each sample\n",
    "        assert len(t) == len(h), \"Each t and h must have the same length\"\n",
    "        \n",
    "        \n",
    "        # Compute the loss for a single sample: - sum_i t_i h_i + LogSumExp(h)\n",
    "        Loss = Var(0.0)\n",
    "        for i in range(len(t)):\n",
    "            Loss += -t[i] * h[i]  # t_i * h_i term\n",
    "\n",
    "        Loss += log_sum_exp(h)  # LogSumExp term\n",
    "        \n",
    "        # Accumulate the loss for the batch\n",
    "        total_loss += Loss\n",
    "    \n",
    "    # Optionally, return the average loss across the batch\n",
    "    return total_loss / Var(float(len(t_batch)))\n"
   ]
  },
  {
   "cell_type": "markdown",
   "metadata": {},
   "source": [
    "I test the cross entropy function  "
   ]
  },
  {
   "cell_type": "code",
   "execution_count": 57,
   "metadata": {},
   "outputs": [
    {
     "name": "stdout",
     "output_type": "stream",
     "text": [
      "0.3930055758395743 0.3930055758395743\n"
     ]
    }
   ],
   "source": [
    "# Example usage with a batch of Var objects for t_batch and h_batch\n",
    "t_batch = [[Var(1.0), Var(0.0), Var(0.0)], [Var(0.0), Var(1.0), Var(0.0)]]  # Example one-hot target batch\n",
    "h_batch = [[Var(2.0), Var(1.0), Var(0.1)], [Var(0.5), Var(2.0), Var(0.5)]]  # Example logits batch\n",
    "\n",
    "# Compute expected loss\n",
    "expected_loss = Var(0.0)\n",
    "for t, h in zip(t_batch, h_batch):\n",
    "    for i in range(len(t)):\n",
    "        expected_loss += -t[i] * h[i]\n",
    "    expected_loss += log_sum_exp(h)\n",
    "    \n",
    "expected_loss /= Var(float(len(t_batch)))\n",
    "\n",
    "\n",
    "# Compute the cross-entropy loss\n",
    "loss = cross_entropy_loss(t_batch, h_batch)\n",
    "\n",
    "# compare by printing\n",
    "print(loss.v, expected_loss.v)\n"
   ]
  },
  {
   "cell_type": "markdown",
   "metadata": {
    "id": "8fAF5ew4FtHy"
   },
   "source": [
    "# Backward pass\n",
    "\n",
    "Now the magic happens! We get the calculation of the gradients for free. Just do:"
   ]
  },
  {
   "cell_type": "code",
   "execution_count": 58,
   "metadata": {
    "id": "iHyfPPI9Qqwu"
   },
   "outputs": [],
   "source": [
    "NN = [\n",
    "    DenseLayer(1, 5, lambda x: x.relu()),\n",
    "    DenseLayer(5, 1, lambda x: x.identity())\n",
    "]\n",
    "\n",
    "output = forward(x_train, NN)\n",
    "\n",
    "Loss = squared_loss(y_train,output)\n",
    "Loss.backward()\n"
   ]
  },
  {
   "cell_type": "markdown",
   "metadata": {
    "id": "49biIAYKQ1oG"
   },
   "source": [
    "and the gradients will be calculated:"
   ]
  },
  {
   "cell_type": "code",
   "execution_count": 59,
   "metadata": {
    "id": "_rGt1bq_Q7uk"
   },
   "outputs": [
    {
     "name": "stdout",
     "output_type": "stream",
     "text": [
      "Layer 0 \n",
      " Weights: [[Var(v=0.1141, grad=-9.4716), Var(v=-0.0651, grad=-3.9815), Var(v=-0.1330, grad=19.7082), Var(v=-0.0135, grad=0.2499), Var(v=-0.0509, grad=6.7930)]] Biases: [Var(v=0.0000, grad=-8.1379), Var(v=0.0000, grad=3.6170), Var(v=0.0000, grad=-17.9039), Var(v=0.0000, grad=-0.2271), Var(v=0.0000, grad=-6.1712)]\n",
      "Layer 1 \n",
      " Weights: [[Var(v=0.0943, grad=-11.4545)], [Var(v=0.0428, grad=6.0588)], [Var(v=-0.2117, grad=12.3794)], [Var(v=-0.0027, grad=1.2590)], [Var(v=-0.0730, grad=4.7383)]] Biases: [Var(v=0.0000, grad=-1.7001)]\n"
     ]
    },
    {
     "data": {
      "text/plain": [
       "[None, None]"
      ]
     },
     "execution_count": 59,
     "metadata": {},
     "output_type": "execute_result"
    }
   ],
   "source": [
    "[print('Layer', i, '\\n', NN[i]) for i in range(len(NN))] "
   ]
  },
  {
   "cell_type": "markdown",
   "metadata": {},
   "source": [
    "Try with cross Entropy loss "
   ]
  },
  {
   "cell_type": "code",
   "execution_count": 60,
   "metadata": {},
   "outputs": [],
   "source": [
    "NN = [\n",
    "    DenseLayer(1, 5, lambda x: x.relu()),\n",
    "    DenseLayer(5, 1, lambda x: x.identity())\n",
    "]\n",
    "\n",
    "output = forward(x_train, NN)\n",
    "\n",
    "Loss = cross_entropy_loss(y_train,output)\n",
    "Loss.backward()\n"
   ]
  },
  {
   "cell_type": "code",
   "execution_count": 61,
   "metadata": {},
   "outputs": [
    {
     "name": "stdout",
     "output_type": "stream",
     "text": [
      "Layer 0 \n",
      " Weights: [[Var(v=0.0205, grad=-0.0080), Var(v=-0.0908, grad=0.0346), Var(v=0.2376, grad=-0.0059), Var(v=0.0300, grad=-0.0016), Var(v=-0.0528, grad=-0.0959)]] Biases: [Var(v=0.0000, grad=0.0150), Var(v=0.0000, grad=-0.0354), Var(v=0.0000, grad=0.0111), Var(v=0.0000, grad=0.0030), Var(v=0.0000, grad=0.0982)]\n",
      "Layer 1 \n",
      " Weights: [[Var(v=0.1879, grad=-0.0009)], [Var(v=-0.0385, grad=0.0816)], [Var(v=0.1389, grad=-0.0102)], [Var(v=0.0382, grad=-0.0013)], [Var(v=0.1067, grad=0.0474)]] Biases: [Var(v=0.0000, grad=1.0000)]\n"
     ]
    },
    {
     "data": {
      "text/plain": [
       "[None, None]"
      ]
     },
     "execution_count": 61,
     "metadata": {},
     "output_type": "execute_result"
    }
   ],
   "source": [
    "[print('Layer', i, '\\n', NN[i]) for i in range(len(NN))] "
   ]
  },
  {
   "cell_type": "markdown",
   "metadata": {},
   "source": [
    "Compare squared and Cross Entropy Loss"
   ]
  },
  {
   "cell_type": "code",
   "execution_count": 62,
   "metadata": {},
   "outputs": [
    {
     "name": "stdout",
     "output_type": "stream",
     "text": [
      "104.05830072416337 0.00016773013361172514\n"
     ]
    }
   ],
   "source": [
    "# Compare squared loss with cross entropy loss\n",
    "# squared loss\n",
    "NN = [\n",
    "    DenseLayer(1, 5, lambda x: x.relu()),\n",
    "    DenseLayer(5, 1, lambda x: x.identity())\n",
    "]\n",
    "\n",
    "output = forward(x_train, NN)\n",
    "\n",
    "sq_loss = squared_loss(y_train,output)\n",
    "\n",
    "# cross entropy loss\n",
    "ce_loss = cross_entropy_loss(y_train,output)\n",
    "\n",
    "print(sq_loss.v, ce_loss.v)"
   ]
  },
  {
   "cell_type": "markdown",
   "metadata": {
    "id": "D7d7qK0uFtH9"
   },
   "source": [
    "# Backward pass unit test\n",
    "\n",
    "Above we used finite differences to test that Nanograd is actually doing what it is supposed to do. We can in principle try the same for the neural network. But we will trust that the test above is enough."
   ]
  },
  {
   "cell_type": "markdown",
   "metadata": {
    "id": "WgBi8GOSFtIN"
   },
   "source": [
    "# Training and validation\n",
    "\n",
    "We are ready to train some neural networks!\n",
    "\n",
    "We initialize again:"
   ]
  },
  {
   "cell_type": "code",
   "execution_count": 65,
   "metadata": {
    "id": "01ePmzBzRtdh"
   },
   "outputs": [],
   "source": [
    "NN = [\n",
    "    DenseLayer(1, 15, lambda x: x.relu()),\n",
    "    DenseLayer(15, 50, lambda x: x.relu()),\n",
    "    DenseLayer(50, 1, lambda x: x.identity())\n",
    "]\n",
    "\n",
    "output = forward(x_train, NN)\n",
    "\n",
    "Loss = squared_loss(y_train,output)\n",
    "Loss.backward()"
   ]
  },
  {
   "cell_type": "markdown",
   "metadata": {
    "id": "10iRPiQ1ISHw"
   },
   "source": [
    "and make an update:\n",
    "\n",
    "We introduce a help function parameters to have a handle in all parameters in the network."
   ]
  },
  {
   "cell_type": "code",
   "execution_count": 66,
   "metadata": {
    "id": "dhAI7eyeznia"
   },
   "outputs": [
    {
     "name": "stdout",
     "output_type": "stream",
     "text": [
      "Network before update:\n",
      "Layer 0 \n",
      " Weights: [[Var(v=0.0069, grad=3.6153), Var(v=-0.0851, grad=-3.3792), Var(v=0.0207, grad=-0.0139), Var(v=0.1017, grad=-11.8204), Var(v=-0.0094, grad=4.5636), Var(v=-0.1467, grad=0.5580), Var(v=0.0300, grad=0.4470), Var(v=-0.1082, grad=1.3759), Var(v=-0.0778, grad=-1.5813), Var(v=0.0431, grad=-0.6491), Var(v=-0.0007, grad=0.3490), Var(v=0.1082, grad=-5.2454), Var(v=-0.0199, grad=4.7147), Var(v=0.1245, grad=-2.2826), Var(v=-0.1386, grad=1.0477)]] Biases: [Var(v=0.0000, grad=3.1069), Var(v=0.0000, grad=3.0715), Var(v=0.0000, grad=-0.0120), Var(v=0.0000, grad=-10.1580), Var(v=0.0000, grad=-4.1480), Var(v=0.0000, grad=-0.5072), Var(v=0.0000, grad=0.3841), Var(v=0.0000, grad=-1.2506), Var(v=0.0000, grad=1.4373), Var(v=0.0000, grad=-0.5578), Var(v=0.0000, grad=-0.3172), Var(v=0.0000, grad=-4.5077), Var(v=0.0000, grad=-4.2854), Var(v=0.0000, grad=-1.9616), Var(v=0.0000, grad=-0.9523)]\n",
      "Layer 1 \n",
      " Weights: [[Var(v=-0.0284, grad=0.0000), Var(v=-0.0451, grad=0.0000), Var(v=-0.0282, grad=0.0000), Var(v=-0.1517, grad=0.0000), Var(v=0.0709, grad=-0.0220), Var(v=-0.0993, grad=0.0000), Var(v=-0.1056, grad=0.0000), Var(v=0.0154, grad=0.0482), Var(v=0.0302, grad=0.0347), Var(v=0.0954, grad=-0.0889), Var(v=-0.0085, grad=-0.0603), Var(v=-0.1395, grad=0.0480), Var(v=-0.2199, grad=0.0000), Var(v=-0.0427, grad=-0.1428), Var(v=-0.0343, grad=0.0000), Var(v=-0.0189, grad=0.0000), Var(v=0.0988, grad=0.0000), Var(v=0.0370, grad=0.0000), Var(v=0.0027, grad=0.0000), Var(v=-0.0140, grad=0.0880), Var(v=-0.0294, grad=0.0000), Var(v=-0.1360, grad=0.0000), Var(v=0.0430, grad=-0.0659), Var(v=-0.0799, grad=0.0000), Var(v=-0.1520, grad=0.0000), Var(v=-0.1223, grad=-0.2137), Var(v=-0.0073, grad=-0.0415), Var(v=-0.0422, grad=-0.0144), Var(v=0.1394, grad=-0.0092), Var(v=0.0739, grad=0.0594), Var(v=0.0870, grad=-0.0544), Var(v=0.0413, grad=-0.0764), Var(v=-0.0194, grad=0.0000), Var(v=-0.1312, grad=0.0000), Var(v=0.0558, grad=-0.1240), Var(v=-0.0541, grad=-0.0999), Var(v=0.0720, grad=0.0000), Var(v=-0.1370, grad=-0.1285), Var(v=0.1500, grad=-0.0017), Var(v=-0.2520, grad=0.0000), Var(v=-0.0914, grad=0.0348), Var(v=0.0154, grad=0.0000), Var(v=0.0664, grad=0.0000), Var(v=0.0004, grad=0.0052), Var(v=-0.0588, grad=-0.1304), Var(v=-0.0480, grad=0.1036), Var(v=0.0009, grad=0.0000), Var(v=-0.0405, grad=0.0000), Var(v=0.1185, grad=0.0000), Var(v=-0.0098, grad=0.0436)], [Var(v=-0.0842, grad=0.0000), Var(v=0.0662, grad=-0.5698), Var(v=0.1284, grad=0.0000), Var(v=-0.0763, grad=0.0000), Var(v=0.0690, grad=0.2629), Var(v=0.0671, grad=0.0000), Var(v=-0.0659, grad=0.0000), Var(v=-0.1368, grad=0.0000), Var(v=-0.1252, grad=0.0000), Var(v=-0.0537, grad=1.0644), Var(v=0.1073, grad=0.7226), Var(v=0.0041, grad=-0.5744), Var(v=0.0427, grad=0.4771), Var(v=-0.0822, grad=1.7101), Var(v=-0.0479, grad=0.0000), Var(v=-0.0741, grad=0.0000), Var(v=0.1017, grad=0.0000), Var(v=-0.1040, grad=-0.9909), Var(v=0.1326, grad=1.5470), Var(v=0.0367, grad=0.0000), Var(v=0.1181, grad=1.0854), Var(v=-0.1178, grad=0.0000), Var(v=0.0045, grad=0.0000), Var(v=-0.0556, grad=0.0000), Var(v=0.0434, grad=-0.4295), Var(v=-0.0773, grad=0.0000), Var(v=-0.0202, grad=0.4974), Var(v=-0.1551, grad=0.0000), Var(v=-0.0735, grad=0.1098), Var(v=-0.0455, grad=-0.7119), Var(v=-0.0312, grad=0.0000), Var(v=0.0954, grad=0.0000), Var(v=-0.0841, grad=-0.5743), Var(v=-0.1013, grad=0.0000), Var(v=-0.1080, grad=0.0000), Var(v=-0.0690, grad=0.0000), Var(v=0.1413, grad=0.0000), Var(v=-0.0472, grad=0.0000), Var(v=-0.0244, grad=0.0207), Var(v=0.1308, grad=-0.7307), Var(v=-0.1938, grad=-0.4172), Var(v=-0.0643, grad=0.1838), Var(v=0.0408, grad=0.0000), Var(v=-0.0952, grad=0.0000), Var(v=-0.0418, grad=0.0000), Var(v=0.0364, grad=-1.2407), Var(v=-0.2256, grad=0.0000), Var(v=0.0311, grad=0.0000), Var(v=0.0380, grad=0.0341), Var(v=-0.1798, grad=0.0000)], [Var(v=-0.0586, grad=0.0000), Var(v=0.0046, grad=0.0000), Var(v=-0.1906, grad=0.0000), Var(v=0.0534, grad=0.0000), Var(v=0.0681, grad=-0.0661), Var(v=-0.0914, grad=0.0000), Var(v=-0.0737, grad=0.0000), Var(v=-0.0336, grad=0.1453), Var(v=0.0610, grad=0.1046), Var(v=0.0245, grad=-0.2677), Var(v=0.0545, grad=-0.1817), Var(v=-0.0044, grad=0.1444), Var(v=0.1639, grad=0.0000), Var(v=-0.0625, grad=-0.4300), Var(v=-0.1954, grad=0.0000), Var(v=-0.1245, grad=0.0000), Var(v=0.0357, grad=0.0000), Var(v=0.0042, grad=0.0000), Var(v=-0.0541, grad=0.0000), Var(v=0.0647, grad=0.2649), Var(v=-0.1201, grad=0.0000), Var(v=-0.1433, grad=0.0000), Var(v=0.1323, grad=-0.1984), Var(v=0.0242, grad=0.0000), Var(v=0.0036, grad=0.0000), Var(v=0.0188, grad=-0.6438), Var(v=-0.0705, grad=-0.1251), Var(v=-0.0399, grad=-0.0434), Var(v=-0.0489, grad=-0.0276), Var(v=0.0114, grad=0.1790), Var(v=0.0259, grad=-0.1639), Var(v=0.0084, grad=-0.2301), Var(v=0.1146, grad=0.0000), Var(v=-0.1477, grad=0.0000), Var(v=0.0763, grad=-0.3735), Var(v=0.0209, grad=-0.3007), Var(v=-0.0399, grad=0.0000), Var(v=0.1029, grad=-0.3870), Var(v=-0.0523, grad=-0.0052), Var(v=0.0428, grad=0.0000), Var(v=0.0244, grad=0.1049), Var(v=-0.0483, grad=0.0000), Var(v=0.1363, grad=0.0000), Var(v=0.0199, grad=0.0155), Var(v=-0.0819, grad=-0.3926), Var(v=0.0647, grad=0.3120), Var(v=0.0702, grad=0.0000), Var(v=0.0013, grad=0.0000), Var(v=-0.1376, grad=0.0000), Var(v=0.1941, grad=0.1315)], [Var(v=0.0465, grad=0.0000), Var(v=-0.0655, grad=0.0000), Var(v=-0.0830, grad=0.0000), Var(v=0.0159, grad=0.0000), Var(v=-0.0679, grad=-0.3255), Var(v=-0.0387, grad=0.0000), Var(v=-0.0915, grad=0.0000), Var(v=-0.0808, grad=0.7154), Var(v=0.1018, grad=0.5151), Var(v=0.0249, grad=-1.3176), Var(v=-0.0056, grad=-0.8945), Var(v=0.0221, grad=0.7111), Var(v=-0.1225, grad=0.0000), Var(v=-0.0259, grad=-2.1169), Var(v=0.0679, grad=0.0000), Var(v=-0.0116, grad=0.0000), Var(v=-0.0428, grad=0.0000), Var(v=-0.0633, grad=0.0000), Var(v=-0.2358, grad=0.0000), Var(v=0.0804, grad=1.3041), Var(v=-0.0409, grad=0.0000), Var(v=0.0105, grad=0.0000), Var(v=0.1725, grad=-0.9766), Var(v=-0.0493, grad=0.0000), Var(v=0.0775, grad=0.0000), Var(v=0.0715, grad=-3.1691), Var(v=0.1509, grad=-0.6157), Var(v=0.0650, grad=-0.2138), Var(v=-0.1509, grad=-0.1360), Var(v=0.0716, grad=0.8813), Var(v=0.1337, grad=-0.8070), Var(v=-0.0025, grad=-1.1329), Var(v=-0.0101, grad=0.0000), Var(v=0.0797, grad=0.0000), Var(v=0.1463, grad=-1.8384), Var(v=0.1429, grad=-1.4805), Var(v=-0.0194, grad=0.0000), Var(v=0.0972, grad=-1.9049), Var(v=0.0535, grad=-0.0256), Var(v=-0.1392, grad=0.0000), Var(v=-0.0387, grad=0.5165), Var(v=-0.0539, grad=0.0000), Var(v=-0.1517, grad=0.0000), Var(v=0.0849, grad=0.0764), Var(v=0.2063, grad=-1.9326), Var(v=0.0948, grad=1.5359), Var(v=0.1264, grad=0.0000), Var(v=0.1464, grad=0.0000), Var(v=-0.1671, grad=0.0000), Var(v=0.1403, grad=0.6471)], [Var(v=-0.0752, grad=0.0000), Var(v=0.0537, grad=-0.0629), Var(v=-0.0160, grad=0.0000), Var(v=-0.0275, grad=0.0000), Var(v=0.0704, grad=0.0290), Var(v=-0.0240, grad=0.0000), Var(v=0.0074, grad=0.0000), Var(v=0.0424, grad=0.0000), Var(v=-0.0549, grad=0.0000), Var(v=-0.1162, grad=0.1176), Var(v=0.0888, grad=0.0798), Var(v=0.0412, grad=-0.0635), Var(v=-0.0223, grad=0.0527), Var(v=0.0182, grad=0.1889), Var(v=0.1760, grad=0.0000), Var(v=-0.0942, grad=0.0000), Var(v=0.1486, grad=0.0000), Var(v=0.1063, grad=-0.1095), Var(v=-0.0301, grad=0.1709), Var(v=0.1200, grad=0.0000), Var(v=0.0058, grad=0.1199), Var(v=-0.0121, grad=0.0000), Var(v=-0.1697, grad=0.0000), Var(v=-0.0917, grad=0.0000), Var(v=0.0871, grad=-0.0474), Var(v=0.0681, grad=0.0000), Var(v=-0.0282, grad=0.0549), Var(v=-0.0502, grad=0.0000), Var(v=0.0265, grad=0.0121), Var(v=0.1721, grad=-0.0786), Var(v=-0.0212, grad=0.0000), Var(v=0.1259, grad=0.0000), Var(v=0.1301, grad=-0.0634), Var(v=0.0504, grad=0.0000), Var(v=0.0556, grad=0.0000), Var(v=0.0586, grad=0.0000), Var(v=0.0574, grad=0.0000), Var(v=0.0026, grad=0.0000), Var(v=-0.1030, grad=0.0023), Var(v=-0.1488, grad=-0.0807), Var(v=0.0854, grad=-0.0461), Var(v=-0.0215, grad=0.0203), Var(v=-0.0397, grad=0.0000), Var(v=-0.0506, grad=0.0000), Var(v=0.0365, grad=0.0000), Var(v=-0.0103, grad=-0.1371), Var(v=0.0018, grad=0.0000), Var(v=-0.0342, grad=0.0000), Var(v=-0.0573, grad=0.0038), Var(v=-0.0754, grad=0.0000)], [Var(v=-0.0907, grad=0.0000), Var(v=-0.0153, grad=-0.9824), Var(v=-0.0553, grad=0.0000), Var(v=-0.1098, grad=0.0000), Var(v=0.0803, grad=0.4533), Var(v=-0.0819, grad=0.0000), Var(v=-0.1012, grad=0.0000), Var(v=-0.0937, grad=0.0000), Var(v=-0.1798, grad=0.0000), Var(v=-0.0187, grad=1.8351), Var(v=-0.0028, grad=1.2458), Var(v=-0.1218, grad=-0.9903), Var(v=0.0450, grad=0.8226), Var(v=0.2336, grad=2.9483), Var(v=0.0065, grad=0.0000), Var(v=-0.0586, grad=0.0000), Var(v=-0.1652, grad=0.0000), Var(v=-0.0454, grad=-1.7084), Var(v=-0.1133, grad=2.6672), Var(v=0.0067, grad=0.0000), Var(v=-0.0238, grad=1.8714), Var(v=0.0497, grad=0.0000), Var(v=0.0075, grad=0.0000), Var(v=-0.0708, grad=0.0000), Var(v=0.0039, grad=-0.7406), Var(v=0.0688, grad=0.0000), Var(v=-0.0280, grad=0.8575), Var(v=0.0626, grad=0.0000), Var(v=-0.0708, grad=0.1894), Var(v=0.1453, grad=-1.2274), Var(v=0.0539, grad=0.0000), Var(v=-0.1987, grad=0.0000), Var(v=0.1042, grad=-0.9902), Var(v=0.0524, grad=0.0000), Var(v=-0.0950, grad=0.0000), Var(v=0.0286, grad=0.0000), Var(v=-0.0640, grad=0.0000), Var(v=-0.0653, grad=0.0000), Var(v=0.0239, grad=0.0357), Var(v=0.0876, grad=-1.2598), Var(v=0.1402, grad=-0.7193), Var(v=0.0768, grad=0.3168), Var(v=-0.0567, grad=0.0000), Var(v=-0.0769, grad=0.0000), Var(v=-0.0042, grad=0.0000), Var(v=0.0806, grad=-2.1391), Var(v=-0.2596, grad=0.0000), Var(v=-0.0570, grad=0.0000), Var(v=0.1276, grad=0.0588), Var(v=0.1126, grad=0.0000)], [Var(v=0.0340, grad=0.0000), Var(v=-0.1670, grad=0.0000), Var(v=0.0121, grad=0.0000), Var(v=0.1151, grad=0.0000), Var(v=0.0230, grad=-0.0960), Var(v=-0.0175, grad=0.0000), Var(v=-0.0129, grad=0.0000), Var(v=0.0536, grad=0.2109), Var(v=-0.1044, grad=0.1519), Var(v=0.0400, grad=-0.3885), Var(v=-0.0041, grad=-0.2638), Var(v=0.1009, grad=0.2097), Var(v=-0.1038, grad=0.0000), Var(v=0.0773, grad=-0.6242), Var(v=-0.0402, grad=0.0000), Var(v=0.2817, grad=0.0000), Var(v=-0.0904, grad=0.0000), Var(v=-0.1723, grad=0.0000), Var(v=-0.0804, grad=0.0000), Var(v=0.0264, grad=0.3845), Var(v=-0.1411, grad=0.0000), Var(v=0.0039, grad=0.0000), Var(v=0.0639, grad=-0.2880), Var(v=-0.1965, grad=0.0000), Var(v=-0.2746, grad=0.0000), Var(v=-0.1892, grad=-0.9344), Var(v=0.0290, grad=-0.1815), Var(v=-0.0301, grad=-0.0630), Var(v=-0.0026, grad=-0.0401), Var(v=0.0630, grad=0.2599), Var(v=-0.1606, grad=-0.2380), Var(v=0.0552, grad=-0.3341), Var(v=0.0566, grad=0.0000), Var(v=-0.1381, grad=0.0000), Var(v=0.0572, grad=-0.5421), Var(v=0.1720, grad=-0.4365), Var(v=-0.0775, grad=0.0000), Var(v=0.0390, grad=-0.5617), Var(v=0.0193, grad=-0.0076), Var(v=0.0143, grad=0.0000), Var(v=-0.0111, grad=0.1523), Var(v=-0.0030, grad=0.0000), Var(v=0.0268, grad=0.0000), Var(v=-0.0205, grad=0.0225), Var(v=0.0136, grad=-0.5699), Var(v=-0.0296, grad=0.4529), Var(v=-0.0743, grad=0.0000), Var(v=-0.2635, grad=0.0000), Var(v=0.0045, grad=0.0000), Var(v=0.0616, grad=0.1908)], [Var(v=0.1521, grad=0.0000), Var(v=0.0710, grad=-0.7243), Var(v=-0.1607, grad=0.0000), Var(v=-0.0050, grad=0.0000), Var(v=-0.0694, grad=0.3342), Var(v=-0.0825, grad=0.0000), Var(v=-0.0388, grad=0.0000), Var(v=0.0467, grad=0.0000), Var(v=0.0185, grad=0.0000), Var(v=-0.0123, grad=1.3529), Var(v=-0.0716, grad=0.9185), Var(v=0.0882, grad=-0.7301), Var(v=0.2178, grad=0.6065), Var(v=-0.1246, grad=2.1736), Var(v=-0.0104, grad=0.0000), Var(v=0.0721, grad=0.0000), Var(v=-0.0300, grad=0.0000), Var(v=0.0512, grad=-1.2596), Var(v=0.0576, grad=1.9664), Var(v=-0.0483, grad=0.0000), Var(v=0.1008, grad=1.3797), Var(v=-0.0198, grad=0.0000), Var(v=0.0275, grad=0.0000), Var(v=0.0674, grad=0.0000), Var(v=-0.0882, grad=-0.5460), Var(v=-0.0994, grad=0.0000), Var(v=0.0400, grad=0.6322), Var(v=-0.0802, grad=0.0000), Var(v=-0.0225, grad=0.1396), Var(v=0.0938, grad=-0.9049), Var(v=-0.0252, grad=0.0000), Var(v=0.0915, grad=0.0000), Var(v=-0.0622, grad=-0.7300), Var(v=-0.1806, grad=0.0000), Var(v=-0.0215, grad=0.0000), Var(v=-0.0280, grad=0.0000), Var(v=-0.1471, grad=0.0000), Var(v=-0.0209, grad=0.0000), Var(v=0.0082, grad=0.0263), Var(v=-0.0523, grad=-0.9288), Var(v=0.0791, grad=-0.5303), Var(v=-0.0724, grad=0.2336), Var(v=-0.0868, grad=0.0000), Var(v=0.0353, grad=0.0000), Var(v=-0.0746, grad=0.0000), Var(v=0.0030, grad=-1.5770), Var(v=0.0275, grad=0.0000), Var(v=-0.0056, grad=0.0000), Var(v=0.1713, grad=0.0434), Var(v=-0.0242, grad=0.0000)], [Var(v=-0.0361, grad=0.0000), Var(v=-0.1089, grad=-0.5211), Var(v=-0.0079, grad=0.0000), Var(v=-0.1735, grad=0.0000), Var(v=0.1066, grad=0.2404), Var(v=-0.1501, grad=0.0000), Var(v=0.0472, grad=0.0000), Var(v=0.1286, grad=0.0000), Var(v=-0.0506, grad=0.0000), Var(v=0.0820, grad=0.9733), Var(v=-0.0184, grad=0.6608), Var(v=-0.0172, grad=-0.5253), Var(v=0.1642, grad=0.4363), Var(v=0.1242, grad=1.5638), Var(v=-0.0543, grad=0.0000), Var(v=-0.0398, grad=0.0000), Var(v=-0.0234, grad=0.0000), Var(v=-0.0608, grad=-0.9062), Var(v=-0.0281, grad=1.4147), Var(v=-0.0640, grad=0.0000), Var(v=-0.0591, grad=0.9926), Var(v=-0.0125, grad=0.0000), Var(v=-0.0358, grad=0.0000), Var(v=-0.2301, grad=0.0000), Var(v=0.0405, grad=-0.3928), Var(v=-0.0051, grad=0.0000), Var(v=0.0704, grad=0.4548), Var(v=-0.2597, grad=0.0000), Var(v=0.1861, grad=0.1004), Var(v=0.0120, grad=-0.6510), Var(v=-0.0295, grad=0.0000), Var(v=0.0512, grad=0.0000), Var(v=0.0611, grad=-0.5252), Var(v=0.0298, grad=0.0000), Var(v=-0.0062, grad=0.0000), Var(v=0.0164, grad=0.0000), Var(v=-0.0143, grad=0.0000), Var(v=0.2240, grad=0.0000), Var(v=0.0954, grad=0.0189), Var(v=0.1947, grad=-0.6682), Var(v=0.0208, grad=-0.3815), Var(v=-0.0605, grad=0.1680), Var(v=-0.0731, grad=0.0000), Var(v=-0.0134, grad=0.0000), Var(v=-0.0362, grad=0.0000), Var(v=0.0906, grad=-1.1346), Var(v=0.0548, grad=0.0000), Var(v=-0.0537, grad=0.0000), Var(v=-0.1351, grad=0.0312), Var(v=0.0887, grad=0.0000)], [Var(v=-0.1382, grad=0.0000), Var(v=-0.1670, grad=0.0000), Var(v=0.0630, grad=0.0000), Var(v=-0.0743, grad=0.0000), Var(v=0.1479, grad=-0.1378), Var(v=0.0013, grad=0.0000), Var(v=0.1146, grad=0.0000), Var(v=-0.1330, grad=0.3029), Var(v=-0.0147, grad=0.2181), Var(v=-0.0858, grad=-0.5579), Var(v=-0.0016, grad=-0.3787), Var(v=0.0706, grad=0.3011), Var(v=-0.0341, grad=0.0000), Var(v=0.1420, grad=-0.8963), Var(v=0.1433, grad=0.0000), Var(v=0.0307, grad=0.0000), Var(v=0.1910, grad=0.0000), Var(v=0.1309, grad=0.0000), Var(v=0.0489, grad=0.0000), Var(v=-0.1989, grad=0.5522), Var(v=-0.0122, grad=0.0000), Var(v=0.0070, grad=0.0000), Var(v=-0.0522, grad=-0.4135), Var(v=0.0544, grad=0.0000), Var(v=-0.0784, grad=0.0000), Var(v=-0.0185, grad=-1.3418), Var(v=0.0460, grad=-0.2607), Var(v=-0.0258, grad=-0.0905), Var(v=-0.0912, grad=-0.0576), Var(v=0.1044, grad=0.3731), Var(v=0.0911, grad=-0.3417), Var(v=0.0936, grad=-0.4797), Var(v=0.0471, grad=0.0000), Var(v=-0.0771, grad=0.0000), Var(v=-0.0821, grad=-0.7784), Var(v=0.0688, grad=-0.6268), Var(v=0.0174, grad=0.0000), Var(v=-0.0456, grad=-0.8065), Var(v=0.0648, grad=-0.0109), Var(v=-0.1507, grad=0.0000), Var(v=0.1363, grad=0.2187), Var(v=-0.0530, grad=0.0000), Var(v=0.1008, grad=0.0000), Var(v=0.0037, grad=0.0324), Var(v=-0.0433, grad=-0.8183), Var(v=0.0529, grad=0.6503), Var(v=-0.1210, grad=0.0000), Var(v=0.1917, grad=0.0000), Var(v=0.0101, grad=0.0000), Var(v=0.1520, grad=0.2740)], [Var(v=-0.1422, grad=0.0000), Var(v=-0.0179, grad=-0.0046), Var(v=-0.0079, grad=0.0000), Var(v=0.0221, grad=0.0000), Var(v=0.1820, grad=0.0021), Var(v=0.0768, grad=0.0000), Var(v=-0.0259, grad=0.0000), Var(v=-0.0399, grad=0.0000), Var(v=-0.0232, grad=0.0000), Var(v=-0.0565, grad=0.0085), Var(v=-0.1189, grad=0.0058), Var(v=-0.2021, grad=-0.0046), Var(v=0.0519, grad=0.0038), Var(v=-0.0757, grad=0.0137), Var(v=0.1656, grad=0.0000), Var(v=0.0403, grad=0.0000), Var(v=0.0674, grad=0.0000), Var(v=-0.0724, grad=-0.0079), Var(v=-0.0743, grad=0.0124), Var(v=0.0894, grad=0.0000), Var(v=-0.0056, grad=0.0087), Var(v=0.1492, grad=0.0000), Var(v=0.0504, grad=0.0000), Var(v=-0.1746, grad=0.0000), Var(v=0.1039, grad=-0.0034), Var(v=0.0377, grad=0.0000), Var(v=0.0973, grad=0.0040), Var(v=-0.0569, grad=0.0000), Var(v=-0.2231, grad=0.0009), Var(v=0.0263, grad=-0.0057), Var(v=-0.0271, grad=0.0000), Var(v=-0.0125, grad=0.0000), Var(v=-0.0416, grad=-0.0046), Var(v=-0.1314, grad=0.0000), Var(v=0.1148, grad=0.0000), Var(v=-0.2030, grad=0.0000), Var(v=0.2125, grad=0.0000), Var(v=0.0379, grad=0.0000), Var(v=0.0631, grad=0.0002), Var(v=-0.1042, grad=-0.0058), Var(v=-0.0006, grad=-0.0033), Var(v=-0.0669, grad=0.0015), Var(v=0.1349, grad=0.0000), Var(v=-0.2107, grad=0.0000), Var(v=-0.0879, grad=0.0000), Var(v=-0.0349, grad=-0.0099), Var(v=0.0337, grad=0.0000), Var(v=-0.1027, grad=0.0000), Var(v=0.0893, grad=0.0003), Var(v=-0.0207, grad=0.0000)], [Var(v=-0.0421, grad=0.0000), Var(v=0.0014, grad=0.0000), Var(v=-0.0779, grad=0.0000), Var(v=-0.1149, grad=0.0000), Var(v=0.1153, grad=-0.3462), Var(v=0.1231, grad=0.0000), Var(v=0.0549, grad=0.0000), Var(v=0.1011, grad=0.7609), Var(v=-0.0851, grad=0.5479), Var(v=0.0429, grad=-1.4016), Var(v=0.1563, grad=-0.9515), Var(v=0.0808, grad=0.7564), Var(v=0.0604, grad=0.0000), Var(v=0.0376, grad=-2.2519), Var(v=0.0407, grad=0.0000), Var(v=0.0579, grad=0.0000), Var(v=-0.1436, grad=0.0000), Var(v=-0.0418, grad=0.0000), Var(v=0.0199, grad=0.0000), Var(v=0.0592, grad=1.3872), Var(v=-0.0425, grad=0.0000), Var(v=0.0370, grad=0.0000), Var(v=0.0358, grad=-1.0388), Var(v=0.1083, grad=0.0000), Var(v=0.0323, grad=0.0000), Var(v=0.0390, grad=-3.3711), Var(v=-0.0552, grad=-0.6549), Var(v=0.1717, grad=-0.2274), Var(v=0.3583, grad=-0.1446), Var(v=-0.0527, grad=0.9375), Var(v=-0.0501, grad=-0.8585), Var(v=0.0327, grad=-1.2051), Var(v=-0.1162, grad=0.0000), Var(v=-0.0773, grad=0.0000), Var(v=0.3543, grad=-1.9556), Var(v=0.0389, grad=-1.5749), Var(v=0.0783, grad=0.0000), Var(v=-0.0383, grad=-2.0263), Var(v=0.1162, grad=-0.0273), Var(v=0.0734, grad=0.0000), Var(v=0.1720, grad=0.5494), Var(v=-0.1484, grad=0.0000), Var(v=0.0113, grad=0.0000), Var(v=-0.0539, grad=0.0813), Var(v=-0.0138, grad=-2.0558), Var(v=0.1909, grad=1.6338), Var(v=-0.1609, grad=0.0000), Var(v=-0.1164, grad=0.0000), Var(v=-0.0565, grad=0.0000), Var(v=0.1614, grad=0.6884)], [Var(v=-0.1253, grad=0.0000), Var(v=0.1651, grad=-0.1335), Var(v=-0.0427, grad=0.0000), Var(v=-0.0593, grad=0.0000), Var(v=0.0067, grad=0.0616), Var(v=0.0466, grad=0.0000), Var(v=0.0482, grad=0.0000), Var(v=-0.0576, grad=0.0000), Var(v=-0.0535, grad=0.0000), Var(v=0.0319, grad=0.2493), Var(v=-0.1546, grad=0.1693), Var(v=0.0490, grad=-0.1346), Var(v=0.0734, grad=0.1118), Var(v=0.0448, grad=0.4006), Var(v=-0.0992, grad=0.0000), Var(v=-0.0361, grad=0.0000), Var(v=0.0755, grad=0.0000), Var(v=-0.1404, grad=-0.2321), Var(v=-0.0929, grad=0.3624), Var(v=0.0220, grad=0.0000), Var(v=-0.1282, grad=0.2543), Var(v=-0.0176, grad=0.0000), Var(v=-0.0417, grad=0.0000), Var(v=0.0310, grad=0.0000), Var(v=0.1972, grad=-0.1006), Var(v=0.0423, grad=0.0000), Var(v=0.1968, grad=0.1165), Var(v=-0.0979, grad=0.0000), Var(v=-0.0647, grad=0.0257), Var(v=0.1980, grad=-0.1668), Var(v=0.0992, grad=0.0000), Var(v=0.0294, grad=0.0000), Var(v=0.0653, grad=-0.1345), Var(v=-0.0149, grad=0.0000), Var(v=-0.0585, grad=0.0000), Var(v=-0.1858, grad=0.0000), Var(v=-0.0260, grad=0.0000), Var(v=0.0334, grad=0.0000), Var(v=0.0804, grad=0.0049), Var(v=0.0661, grad=-0.1712), Var(v=-0.0994, grad=-0.0977), Var(v=0.2417, grad=0.0430), Var(v=-0.0340, grad=0.0000), Var(v=0.0475, grad=0.0000), Var(v=-0.1280, grad=0.0000), Var(v=0.0269, grad=-0.2906), Var(v=-0.0441, grad=0.0000), Var(v=0.0822, grad=0.0000), Var(v=-0.1248, grad=0.0080), Var(v=-0.0890, grad=0.0000)], [Var(v=-0.1190, grad=0.0000), Var(v=-0.0354, grad=0.0000), Var(v=-0.0351, grad=0.0000), Var(v=-0.0598, grad=0.0000), Var(v=0.1006, grad=-0.3983), Var(v=-0.0949, grad=0.0000), Var(v=0.0069, grad=0.0000), Var(v=0.1196, grad=0.8755), Var(v=0.1456, grad=0.6304), Var(v=-0.0226, grad=-1.6126), Var(v=-0.0670, grad=-1.0948), Var(v=0.0233, grad=0.8703), Var(v=-0.1419, grad=0.0000), Var(v=0.0653, grad=-2.5908), Var(v=-0.1217, grad=0.0000), Var(v=-0.1221, grad=0.0000), Var(v=0.0868, grad=0.0000), Var(v=0.0212, grad=0.0000), Var(v=-0.0125, grad=0.0000), Var(v=0.1766, grad=1.5960), Var(v=-0.0071, grad=0.0000), Var(v=-0.0471, grad=0.0000), Var(v=-0.0542, grad=-1.1952), Var(v=-0.0535, grad=0.0000), Var(v=-0.2665, grad=0.0000), Var(v=0.1406, grad=-3.8785), Var(v=-0.0357, grad=-0.7535), Var(v=0.0553, grad=-0.2616), Var(v=0.0340, grad=-0.1664), Var(v=0.1036, grad=1.0786), Var(v=0.0083, grad=-0.9877), Var(v=0.0965, grad=-1.3865), Var(v=-0.0375, grad=0.0000), Var(v=-0.0267, grad=0.0000), Var(v=-0.0497, grad=-2.2500), Var(v=-0.1158, grad=-1.8119), Var(v=-0.0706, grad=0.0000), Var(v=0.1230, grad=-2.3313), Var(v=-0.0738, grad=-0.0314), Var(v=-0.1285, grad=0.0000), Var(v=-0.0150, grad=0.6321), Var(v=-0.2281, grad=0.0000), Var(v=-0.0153, grad=0.0000), Var(v=0.0331, grad=0.0935), Var(v=0.0855, grad=-2.3652), Var(v=0.0396, grad=1.8797), Var(v=0.0714, grad=0.0000), Var(v=-0.0544, grad=0.0000), Var(v=0.0029, grad=0.0000), Var(v=-0.1041, grad=0.7920)], [Var(v=-0.1192, grad=0.0000), Var(v=0.0592, grad=-0.9280), Var(v=-0.0151, grad=0.0000), Var(v=-0.0576, grad=0.0000), Var(v=-0.0130, grad=0.4282), Var(v=0.0035, grad=0.0000), Var(v=0.1368, grad=0.0000), Var(v=-0.0489, grad=0.0000), Var(v=0.0191, grad=0.0000), Var(v=0.1046, grad=1.7334), Var(v=0.1220, grad=1.1768), Var(v=0.0892, grad=-0.9355), Var(v=0.0663, grad=0.7770), Var(v=-0.0162, grad=2.7849), Var(v=0.0076, grad=0.0000), Var(v=-0.0787, grad=0.0000), Var(v=-0.0575, grad=0.0000), Var(v=0.1206, grad=-1.6138), Var(v=0.0531, grad=2.5195), Var(v=0.0253, grad=0.0000), Var(v=0.0231, grad=1.7677), Var(v=-0.0048, grad=0.0000), Var(v=-0.1007, grad=0.0000), Var(v=0.0581, grad=0.0000), Var(v=0.0056, grad=-0.6995), Var(v=-0.0046, grad=0.0000), Var(v=-0.0053, grad=0.8100), Var(v=-0.1747, grad=0.0000), Var(v=0.0716, grad=0.1789), Var(v=-0.0177, grad=-1.1594), Var(v=-0.1577, grad=0.0000), Var(v=0.0138, grad=0.0000), Var(v=0.0779, grad=-0.9353), Var(v=0.1109, grad=0.0000), Var(v=-0.0602, grad=0.0000), Var(v=-0.0169, grad=0.0000), Var(v=-0.0589, grad=0.0000), Var(v=-0.0997, grad=0.0000), Var(v=0.0416, grad=0.0337), Var(v=0.1971, grad=-1.1900), Var(v=-0.0501, grad=-0.6794), Var(v=0.0770, grad=0.2993), Var(v=-0.0753, grad=0.0000), Var(v=-0.0777, grad=0.0000), Var(v=0.1118, grad=0.0000), Var(v=0.0423, grad=-2.0206), Var(v=-0.0608, grad=0.0000), Var(v=-0.2892, grad=0.0000), Var(v=-0.0624, grad=0.0555), Var(v=-0.1132, grad=0.0000)]] Biases: [Var(v=0.0000, grad=0.0000), Var(v=0.0000, grad=-6.0865), Var(v=0.0000, grad=0.0000), Var(v=0.0000, grad=0.0000), Var(v=0.0000, grad=0.0582), Var(v=0.0000, grad=0.0000), Var(v=0.0000, grad=0.0000), Var(v=0.0000, grad=6.0442), Var(v=0.0000, grad=4.3522), Var(v=0.0000, grad=0.2356), Var(v=0.0000, grad=0.1600), Var(v=0.0000, grad=-0.1272), Var(v=0.0000, grad=5.0962), Var(v=0.0000, grad=0.3786), Var(v=0.0000, grad=0.0000), Var(v=0.0000, grad=0.0000), Var(v=0.0000, grad=0.0000), Var(v=0.0000, grad=-10.5842), Var(v=0.0000, grad=16.5241), Var(v=0.0000, grad=11.0187), Var(v=0.0000, grad=11.5936), Var(v=0.0000, grad=0.0000), Var(v=0.0000, grad=-8.2516), Var(v=0.0000, grad=0.0000), Var(v=0.0000, grad=-4.5880), Var(v=0.0000, grad=-26.7765), Var(v=0.0000, grad=0.1101), Var(v=0.0000, grad=-1.8062), Var(v=0.0000, grad=0.0243), Var(v=0.0000, grad=-0.1576), Var(v=0.0000, grad=-6.8187), Var(v=0.0000, grad=-9.5725), Var(v=0.0000, grad=-6.1344), Var(v=0.0000, grad=0.0000), Var(v=0.0000, grad=-15.5334), Var(v=0.0000, grad=-12.5091), Var(v=0.0000, grad=0.0000), Var(v=0.0000, grad=-16.0949), Var(v=0.0000, grad=0.0046), Var(v=0.0000, grad=-7.8045), Var(v=0.0000, grad=-0.0924), Var(v=0.0000, grad=1.9627), Var(v=0.0000, grad=0.0000), Var(v=0.0000, grad=0.6456), Var(v=0.0000, grad=-16.3292), Var(v=0.0000, grad=-0.2747), Var(v=0.0000, grad=0.0000), Var(v=0.0000, grad=0.0000), Var(v=0.0000, grad=0.3643), Var(v=0.0000, grad=5.4678)]\n",
      "Layer 2 \n",
      " Weights: [[Var(v=0.0427, grad=0.0000)], [Var(v=-0.0698, grad=1.3986)], [Var(v=0.2019, grad=0.0000)], [Var(v=0.1055, grad=0.0000)], [Var(v=0.0322, grad=-1.0031)], [Var(v=-0.0274, grad=0.0000)], [Var(v=-0.0505, grad=0.0000)], [Var(v=-0.0708, grad=-1.2827)], [Var(v=-0.0510, grad=-1.6849)], [Var(v=0.1304, grad=0.8250)], [Var(v=0.0885, grad=0.4737)], [Var(v=-0.0704, grad=-1.4663)], [Var(v=0.0585, grad=5.4710)], [Var(v=0.2095, grad=0.5017)], [Var(v=0.0593, grad=0.0000)], [Var(v=0.0216, grad=0.0000)], [Var(v=0.0351, grad=0.0000)], [Var(v=-0.1214, grad=0.0149)], [Var(v=0.1896, grad=0.3732)], [Var(v=-0.1291, grad=-2.9827)], [Var(v=0.1330, grad=1.3008)], [Var(v=-0.0112, grad=0.0000)], [Var(v=0.0967, grad=-1.7254)], [Var(v=-0.2465, grad=0.0000)], [Var(v=-0.0526, grad=0.3325)], [Var(v=0.3137, grad=-2.1924)], [Var(v=0.0609, grad=0.0444)], [Var(v=0.0212, grad=-2.8744)], [Var(v=0.0135, grad=-1.9458)], [Var(v=-0.0872, grad=0.8904)], [Var(v=0.0799, grad=-0.9386)], [Var(v=0.1121, grad=-2.1300)], [Var(v=-0.0704, grad=1.8651)], [Var(v=0.0890, grad=0.0000)], [Var(v=0.1820, grad=-4.6843)], [Var(v=0.1465, grad=-1.2437)], [Var(v=-0.0318, grad=0.0000)], [Var(v=0.1885, grad=-2.1310)], [Var(v=0.0025, grad=0.3459)], [Var(v=-0.0895, grad=5.8151)], [Var(v=-0.0511, grad=-1.2207)], [Var(v=0.0225, grad=0.8151)], [Var(v=-0.0706, grad=0.0000)], [Var(v=-0.0076, grad=-0.6838)], [Var(v=0.1913, grad=-2.6404)], [Var(v=-0.1520, grad=-0.9957)], [Var(v=0.0533, grad=0.0000)], [Var(v=-0.0876, grad=0.0000)], [Var(v=0.0042, grad=1.7605)], [Var(v=-0.0641, grad=-3.0909)]] Biases: [Var(v=0.0000, grad=1.8068)]\n",
      "\n",
      "Network after update:\n",
      "Layer 0 \n",
      " Weights: [[Var(v=-0.0293, grad=3.6153), Var(v=-0.0513, grad=-3.3792), Var(v=0.0208, grad=-0.0139), Var(v=0.2199, grad=-11.8204), Var(v=-0.0550, grad=4.5636), Var(v=-0.1523, grad=0.5580), Var(v=0.0255, grad=0.4470), Var(v=-0.1219, grad=1.3759), Var(v=-0.0620, grad=-1.5813), Var(v=0.0496, grad=-0.6491), Var(v=-0.0042, grad=0.3490), Var(v=0.1606, grad=-5.2454), Var(v=-0.0671, grad=4.7147), Var(v=0.1473, grad=-2.2826), Var(v=-0.1491, grad=1.0477)]] Biases: [Var(v=-0.0311, grad=3.1069), Var(v=-0.0307, grad=3.0715), Var(v=0.0001, grad=-0.0120), Var(v=0.1016, grad=-10.1580), Var(v=0.0415, grad=-4.1480), Var(v=0.0051, grad=-0.5072), Var(v=-0.0038, grad=0.3841), Var(v=0.0125, grad=-1.2506), Var(v=-0.0144, grad=1.4373), Var(v=0.0056, grad=-0.5578), Var(v=0.0032, grad=-0.3172), Var(v=0.0451, grad=-4.5077), Var(v=0.0429, grad=-4.2854), Var(v=0.0196, grad=-1.9616), Var(v=0.0095, grad=-0.9523)]\n",
      "Layer 1 \n",
      " Weights: [[Var(v=-0.0284, grad=0.0000), Var(v=-0.0451, grad=0.0000), Var(v=-0.0282, grad=0.0000), Var(v=-0.1517, grad=0.0000), Var(v=0.0711, grad=-0.0220), Var(v=-0.0993, grad=0.0000), Var(v=-0.1056, grad=0.0000), Var(v=0.0149, grad=0.0482), Var(v=0.0298, grad=0.0347), Var(v=0.0963, grad=-0.0889), Var(v=-0.0079, grad=-0.0603), Var(v=-0.1400, grad=0.0480), Var(v=-0.2199, grad=0.0000), Var(v=-0.0413, grad=-0.1428), Var(v=-0.0343, grad=0.0000), Var(v=-0.0189, grad=0.0000), Var(v=0.0988, grad=0.0000), Var(v=0.0370, grad=0.0000), Var(v=0.0027, grad=0.0000), Var(v=-0.0149, grad=0.0880), Var(v=-0.0294, grad=0.0000), Var(v=-0.1360, grad=0.0000), Var(v=0.0436, grad=-0.0659), Var(v=-0.0799, grad=0.0000), Var(v=-0.1520, grad=0.0000), Var(v=-0.1202, grad=-0.2137), Var(v=-0.0069, grad=-0.0415), Var(v=-0.0421, grad=-0.0144), Var(v=0.1395, grad=-0.0092), Var(v=0.0733, grad=0.0594), Var(v=0.0876, grad=-0.0544), Var(v=0.0421, grad=-0.0764), Var(v=-0.0194, grad=0.0000), Var(v=-0.1312, grad=0.0000), Var(v=0.0571, grad=-0.1240), Var(v=-0.0531, grad=-0.0999), Var(v=0.0720, grad=0.0000), Var(v=-0.1357, grad=-0.1285), Var(v=0.1500, grad=-0.0017), Var(v=-0.2520, grad=0.0000), Var(v=-0.0918, grad=0.0348), Var(v=0.0154, grad=0.0000), Var(v=0.0664, grad=0.0000), Var(v=0.0004, grad=0.0052), Var(v=-0.0575, grad=-0.1304), Var(v=-0.0490, grad=0.1036), Var(v=0.0009, grad=0.0000), Var(v=-0.0405, grad=0.0000), Var(v=0.1185, grad=0.0000), Var(v=-0.0103, grad=0.0436)], [Var(v=-0.0842, grad=0.0000), Var(v=0.0719, grad=-0.5698), Var(v=0.1284, grad=0.0000), Var(v=-0.0763, grad=0.0000), Var(v=0.0664, grad=0.2629), Var(v=0.0671, grad=0.0000), Var(v=-0.0659, grad=0.0000), Var(v=-0.1368, grad=0.0000), Var(v=-0.1252, grad=0.0000), Var(v=-0.0643, grad=1.0644), Var(v=0.1001, grad=0.7226), Var(v=0.0099, grad=-0.5744), Var(v=0.0379, grad=0.4771), Var(v=-0.0993, grad=1.7101), Var(v=-0.0479, grad=0.0000), Var(v=-0.0741, grad=0.0000), Var(v=0.1017, grad=0.0000), Var(v=-0.0941, grad=-0.9909), Var(v=0.1172, grad=1.5470), Var(v=0.0367, grad=0.0000), Var(v=0.1072, grad=1.0854), Var(v=-0.1178, grad=0.0000), Var(v=0.0045, grad=0.0000), Var(v=-0.0556, grad=0.0000), Var(v=0.0477, grad=-0.4295), Var(v=-0.0773, grad=0.0000), Var(v=-0.0252, grad=0.4974), Var(v=-0.1551, grad=0.0000), Var(v=-0.0746, grad=0.1098), Var(v=-0.0383, grad=-0.7119), Var(v=-0.0312, grad=0.0000), Var(v=0.0954, grad=0.0000), Var(v=-0.0783, grad=-0.5743), Var(v=-0.1013, grad=0.0000), Var(v=-0.1080, grad=0.0000), Var(v=-0.0690, grad=0.0000), Var(v=0.1413, grad=0.0000), Var(v=-0.0472, grad=0.0000), Var(v=-0.0246, grad=0.0207), Var(v=0.1381, grad=-0.7307), Var(v=-0.1896, grad=-0.4172), Var(v=-0.0661, grad=0.1838), Var(v=0.0408, grad=0.0000), Var(v=-0.0952, grad=0.0000), Var(v=-0.0418, grad=0.0000), Var(v=0.0488, grad=-1.2407), Var(v=-0.2256, grad=0.0000), Var(v=0.0311, grad=0.0000), Var(v=0.0376, grad=0.0341), Var(v=-0.1798, grad=0.0000)], [Var(v=-0.0586, grad=0.0000), Var(v=0.0046, grad=0.0000), Var(v=-0.1906, grad=0.0000), Var(v=0.0534, grad=0.0000), Var(v=0.0688, grad=-0.0661), Var(v=-0.0914, grad=0.0000), Var(v=-0.0737, grad=0.0000), Var(v=-0.0350, grad=0.1453), Var(v=0.0599, grad=0.1046), Var(v=0.0271, grad=-0.2677), Var(v=0.0563, grad=-0.1817), Var(v=-0.0058, grad=0.1444), Var(v=0.1639, grad=0.0000), Var(v=-0.0582, grad=-0.4300), Var(v=-0.1954, grad=0.0000), Var(v=-0.1245, grad=0.0000), Var(v=0.0357, grad=0.0000), Var(v=0.0042, grad=0.0000), Var(v=-0.0541, grad=0.0000), Var(v=0.0620, grad=0.2649), Var(v=-0.1201, grad=0.0000), Var(v=-0.1433, grad=0.0000), Var(v=0.1342, grad=-0.1984), Var(v=0.0242, grad=0.0000), Var(v=0.0036, grad=0.0000), Var(v=0.0252, grad=-0.6438), Var(v=-0.0692, grad=-0.1251), Var(v=-0.0395, grad=-0.0434), Var(v=-0.0486, grad=-0.0276), Var(v=0.0096, grad=0.1790), Var(v=0.0275, grad=-0.1639), Var(v=0.0107, grad=-0.2301), Var(v=0.1146, grad=0.0000), Var(v=-0.1477, grad=0.0000), Var(v=0.0801, grad=-0.3735), Var(v=0.0239, grad=-0.3007), Var(v=-0.0399, grad=0.0000), Var(v=0.1068, grad=-0.3870), Var(v=-0.0522, grad=-0.0052), Var(v=0.0428, grad=0.0000), Var(v=0.0234, grad=0.1049), Var(v=-0.0483, grad=0.0000), Var(v=0.1363, grad=0.0000), Var(v=0.0197, grad=0.0155), Var(v=-0.0780, grad=-0.3926), Var(v=0.0615, grad=0.3120), Var(v=0.0702, grad=0.0000), Var(v=0.0013, grad=0.0000), Var(v=-0.1376, grad=0.0000), Var(v=0.1928, grad=0.1315)], [Var(v=0.0465, grad=0.0000), Var(v=-0.0655, grad=0.0000), Var(v=-0.0830, grad=0.0000), Var(v=0.0159, grad=0.0000), Var(v=-0.0647, grad=-0.3255), Var(v=-0.0387, grad=0.0000), Var(v=-0.0915, grad=0.0000), Var(v=-0.0879, grad=0.7154), Var(v=0.0966, grad=0.5151), Var(v=0.0381, grad=-1.3176), Var(v=0.0033, grad=-0.8945), Var(v=0.0149, grad=0.7111), Var(v=-0.1225, grad=0.0000), Var(v=-0.0047, grad=-2.1169), Var(v=0.0679, grad=0.0000), Var(v=-0.0116, grad=0.0000), Var(v=-0.0428, grad=0.0000), Var(v=-0.0633, grad=0.0000), Var(v=-0.2358, grad=0.0000), Var(v=0.0674, grad=1.3041), Var(v=-0.0409, grad=0.0000), Var(v=0.0105, grad=0.0000), Var(v=0.1823, grad=-0.9766), Var(v=-0.0493, grad=0.0000), Var(v=0.0775, grad=0.0000), Var(v=0.1032, grad=-3.1691), Var(v=0.1571, grad=-0.6157), Var(v=0.0672, grad=-0.2138), Var(v=-0.1495, grad=-0.1360), Var(v=0.0627, grad=0.8813), Var(v=0.1418, grad=-0.8070), Var(v=0.0088, grad=-1.1329), Var(v=-0.0101, grad=0.0000), Var(v=0.0797, grad=0.0000), Var(v=0.1647, grad=-1.8384), Var(v=0.1577, grad=-1.4805), Var(v=-0.0194, grad=0.0000), Var(v=0.1163, grad=-1.9049), Var(v=0.0538, grad=-0.0256), Var(v=-0.1392, grad=0.0000), Var(v=-0.0439, grad=0.5165), Var(v=-0.0539, grad=0.0000), Var(v=-0.1517, grad=0.0000), Var(v=0.0842, grad=0.0764), Var(v=0.2257, grad=-1.9326), Var(v=0.0794, grad=1.5359), Var(v=0.1264, grad=0.0000), Var(v=0.1464, grad=0.0000), Var(v=-0.1671, grad=0.0000), Var(v=0.1338, grad=0.6471)], [Var(v=-0.0752, grad=0.0000), Var(v=0.0543, grad=-0.0629), Var(v=-0.0160, grad=0.0000), Var(v=-0.0275, grad=0.0000), Var(v=0.0701, grad=0.0290), Var(v=-0.0240, grad=0.0000), Var(v=0.0074, grad=0.0000), Var(v=0.0424, grad=0.0000), Var(v=-0.0549, grad=0.0000), Var(v=-0.1174, grad=0.1176), Var(v=0.0880, grad=0.0798), Var(v=0.0418, grad=-0.0635), Var(v=-0.0228, grad=0.0527), Var(v=0.0163, grad=0.1889), Var(v=0.1760, grad=0.0000), Var(v=-0.0942, grad=0.0000), Var(v=0.1486, grad=0.0000), Var(v=0.1074, grad=-0.1095), Var(v=-0.0318, grad=0.1709), Var(v=0.1200, grad=0.0000), Var(v=0.0046, grad=0.1199), Var(v=-0.0121, grad=0.0000), Var(v=-0.1697, grad=0.0000), Var(v=-0.0917, grad=0.0000), Var(v=0.0876, grad=-0.0474), Var(v=0.0681, grad=0.0000), Var(v=-0.0288, grad=0.0549), Var(v=-0.0502, grad=0.0000), Var(v=0.0264, grad=0.0121), Var(v=0.1729, grad=-0.0786), Var(v=-0.0212, grad=0.0000), Var(v=0.1259, grad=0.0000), Var(v=0.1307, grad=-0.0634), Var(v=0.0504, grad=0.0000), Var(v=0.0556, grad=0.0000), Var(v=0.0586, grad=0.0000), Var(v=0.0574, grad=0.0000), Var(v=0.0026, grad=0.0000), Var(v=-0.1030, grad=0.0023), Var(v=-0.1480, grad=-0.0807), Var(v=0.0858, grad=-0.0461), Var(v=-0.0217, grad=0.0203), Var(v=-0.0397, grad=0.0000), Var(v=-0.0506, grad=0.0000), Var(v=0.0365, grad=0.0000), Var(v=-0.0089, grad=-0.1371), Var(v=0.0018, grad=0.0000), Var(v=-0.0342, grad=0.0000), Var(v=-0.0574, grad=0.0038), Var(v=-0.0754, grad=0.0000)], [Var(v=-0.0907, grad=0.0000), Var(v=-0.0055, grad=-0.9824), Var(v=-0.0553, grad=0.0000), Var(v=-0.1098, grad=0.0000), Var(v=0.0757, grad=0.4533), Var(v=-0.0819, grad=0.0000), Var(v=-0.1012, grad=0.0000), Var(v=-0.0937, grad=0.0000), Var(v=-0.1798, grad=0.0000), Var(v=-0.0371, grad=1.8351), Var(v=-0.0152, grad=1.2458), Var(v=-0.1119, grad=-0.9903), Var(v=0.0368, grad=0.8226), Var(v=0.2041, grad=2.9483), Var(v=0.0065, grad=0.0000), Var(v=-0.0586, grad=0.0000), Var(v=-0.1652, grad=0.0000), Var(v=-0.0283, grad=-1.7084), Var(v=-0.1400, grad=2.6672), Var(v=0.0067, grad=0.0000), Var(v=-0.0425, grad=1.8714), Var(v=0.0497, grad=0.0000), Var(v=0.0075, grad=0.0000), Var(v=-0.0708, grad=0.0000), Var(v=0.0113, grad=-0.7406), Var(v=0.0688, grad=0.0000), Var(v=-0.0366, grad=0.8575), Var(v=0.0626, grad=0.0000), Var(v=-0.0727, grad=0.1894), Var(v=0.1576, grad=-1.2274), Var(v=0.0539, grad=0.0000), Var(v=-0.1987, grad=0.0000), Var(v=0.1141, grad=-0.9902), Var(v=0.0524, grad=0.0000), Var(v=-0.0950, grad=0.0000), Var(v=0.0286, grad=0.0000), Var(v=-0.0640, grad=0.0000), Var(v=-0.0653, grad=0.0000), Var(v=0.0235, grad=0.0357), Var(v=0.1002, grad=-1.2598), Var(v=0.1474, grad=-0.7193), Var(v=0.0736, grad=0.3168), Var(v=-0.0567, grad=0.0000), Var(v=-0.0769, grad=0.0000), Var(v=-0.0042, grad=0.0000), Var(v=0.1020, grad=-2.1391), Var(v=-0.2596, grad=0.0000), Var(v=-0.0570, grad=0.0000), Var(v=0.1270, grad=0.0588), Var(v=0.1126, grad=0.0000)], [Var(v=0.0340, grad=0.0000), Var(v=-0.1670, grad=0.0000), Var(v=0.0121, grad=0.0000), Var(v=0.1151, grad=0.0000), Var(v=0.0240, grad=-0.0960), Var(v=-0.0175, grad=0.0000), Var(v=-0.0129, grad=0.0000), Var(v=0.0515, grad=0.2109), Var(v=-0.1059, grad=0.1519), Var(v=0.0438, grad=-0.3885), Var(v=-0.0015, grad=-0.2638), Var(v=0.0988, grad=0.2097), Var(v=-0.1038, grad=0.0000), Var(v=0.0836, grad=-0.6242), Var(v=-0.0402, grad=0.0000), Var(v=0.2817, grad=0.0000), Var(v=-0.0904, grad=0.0000), Var(v=-0.1723, grad=0.0000), Var(v=-0.0804, grad=0.0000), Var(v=0.0225, grad=0.3845), Var(v=-0.1411, grad=0.0000), Var(v=0.0039, grad=0.0000), Var(v=0.0668, grad=-0.2880), Var(v=-0.1965, grad=0.0000), Var(v=-0.2746, grad=0.0000), Var(v=-0.1799, grad=-0.9344), Var(v=0.0308, grad=-0.1815), Var(v=-0.0295, grad=-0.0630), Var(v=-0.0022, grad=-0.0401), Var(v=0.0604, grad=0.2599), Var(v=-0.1583, grad=-0.2380), Var(v=0.0585, grad=-0.3341), Var(v=0.0566, grad=0.0000), Var(v=-0.1381, grad=0.0000), Var(v=0.0626, grad=-0.5421), Var(v=0.1764, grad=-0.4365), Var(v=-0.0775, grad=0.0000), Var(v=0.0447, grad=-0.5617), Var(v=0.0194, grad=-0.0076), Var(v=0.0143, grad=0.0000), Var(v=-0.0127, grad=0.1523), Var(v=-0.0030, grad=0.0000), Var(v=0.0268, grad=0.0000), Var(v=-0.0208, grad=0.0225), Var(v=0.0193, grad=-0.5699), Var(v=-0.0341, grad=0.4529), Var(v=-0.0743, grad=0.0000), Var(v=-0.2635, grad=0.0000), Var(v=0.0045, grad=0.0000), Var(v=0.0597, grad=0.1908)], [Var(v=0.1521, grad=0.0000), Var(v=0.0783, grad=-0.7243), Var(v=-0.1607, grad=0.0000), Var(v=-0.0050, grad=0.0000), Var(v=-0.0728, grad=0.3342), Var(v=-0.0825, grad=0.0000), Var(v=-0.0388, grad=0.0000), Var(v=0.0467, grad=0.0000), Var(v=0.0185, grad=0.0000), Var(v=-0.0259, grad=1.3529), Var(v=-0.0808, grad=0.9185), Var(v=0.0955, grad=-0.7301), Var(v=0.2117, grad=0.6065), Var(v=-0.1463, grad=2.1736), Var(v=-0.0104, grad=0.0000), Var(v=0.0721, grad=0.0000), Var(v=-0.0300, grad=0.0000), Var(v=0.0638, grad=-1.2596), Var(v=0.0380, grad=1.9664), Var(v=-0.0483, grad=0.0000), Var(v=0.0870, grad=1.3797), Var(v=-0.0198, grad=0.0000), Var(v=0.0275, grad=0.0000), Var(v=0.0674, grad=0.0000), Var(v=-0.0828, grad=-0.5460), Var(v=-0.0994, grad=0.0000), Var(v=0.0337, grad=0.6322), Var(v=-0.0802, grad=0.0000), Var(v=-0.0239, grad=0.1396), Var(v=0.1029, grad=-0.9049), Var(v=-0.0252, grad=0.0000), Var(v=0.0915, grad=0.0000), Var(v=-0.0549, grad=-0.7300), Var(v=-0.1806, grad=0.0000), Var(v=-0.0215, grad=0.0000), Var(v=-0.0280, grad=0.0000), Var(v=-0.1471, grad=0.0000), Var(v=-0.0209, grad=0.0000), Var(v=0.0080, grad=0.0263), Var(v=-0.0430, grad=-0.9288), Var(v=0.0844, grad=-0.5303), Var(v=-0.0747, grad=0.2336), Var(v=-0.0868, grad=0.0000), Var(v=0.0353, grad=0.0000), Var(v=-0.0746, grad=0.0000), Var(v=0.0187, grad=-1.5770), Var(v=0.0275, grad=0.0000), Var(v=-0.0056, grad=0.0000), Var(v=0.1709, grad=0.0434), Var(v=-0.0242, grad=0.0000)], [Var(v=-0.0361, grad=0.0000), Var(v=-0.1037, grad=-0.5211), Var(v=-0.0079, grad=0.0000), Var(v=-0.1735, grad=0.0000), Var(v=0.1042, grad=0.2404), Var(v=-0.1501, grad=0.0000), Var(v=0.0472, grad=0.0000), Var(v=0.1286, grad=0.0000), Var(v=-0.0506, grad=0.0000), Var(v=0.0722, grad=0.9733), Var(v=-0.0250, grad=0.6608), Var(v=-0.0120, grad=-0.5253), Var(v=0.1598, grad=0.4363), Var(v=0.1086, grad=1.5638), Var(v=-0.0543, grad=0.0000), Var(v=-0.0398, grad=0.0000), Var(v=-0.0234, grad=0.0000), Var(v=-0.0517, grad=-0.9062), Var(v=-0.0422, grad=1.4147), Var(v=-0.0640, grad=0.0000), Var(v=-0.0691, grad=0.9926), Var(v=-0.0125, grad=0.0000), Var(v=-0.0358, grad=0.0000), Var(v=-0.2301, grad=0.0000), Var(v=0.0444, grad=-0.3928), Var(v=-0.0051, grad=0.0000), Var(v=0.0658, grad=0.4548), Var(v=-0.2597, grad=0.0000), Var(v=0.1851, grad=0.1004), Var(v=0.0185, grad=-0.6510), Var(v=-0.0295, grad=0.0000), Var(v=0.0512, grad=0.0000), Var(v=0.0664, grad=-0.5252), Var(v=0.0298, grad=0.0000), Var(v=-0.0062, grad=0.0000), Var(v=0.0164, grad=0.0000), Var(v=-0.0143, grad=0.0000), Var(v=0.2240, grad=0.0000), Var(v=0.0952, grad=0.0189), Var(v=0.2014, grad=-0.6682), Var(v=0.0246, grad=-0.3815), Var(v=-0.0622, grad=0.1680), Var(v=-0.0731, grad=0.0000), Var(v=-0.0134, grad=0.0000), Var(v=-0.0362, grad=0.0000), Var(v=0.1020, grad=-1.1346), Var(v=0.0548, grad=0.0000), Var(v=-0.0537, grad=0.0000), Var(v=-0.1354, grad=0.0312), Var(v=0.0887, grad=0.0000)], [Var(v=-0.1382, grad=0.0000), Var(v=-0.1670, grad=0.0000), Var(v=0.0630, grad=0.0000), Var(v=-0.0743, grad=0.0000), Var(v=0.1493, grad=-0.1378), Var(v=0.0013, grad=0.0000), Var(v=0.1146, grad=0.0000), Var(v=-0.1360, grad=0.3029), Var(v=-0.0169, grad=0.2181), Var(v=-0.0802, grad=-0.5579), Var(v=0.0022, grad=-0.3787), Var(v=0.0676, grad=0.3011), Var(v=-0.0341, grad=0.0000), Var(v=0.1510, grad=-0.8963), Var(v=0.1433, grad=0.0000), Var(v=0.0307, grad=0.0000), Var(v=0.1910, grad=0.0000), Var(v=0.1309, grad=0.0000), Var(v=0.0489, grad=0.0000), Var(v=-0.2044, grad=0.5522), Var(v=-0.0122, grad=0.0000), Var(v=0.0070, grad=0.0000), Var(v=-0.0481, grad=-0.4135), Var(v=0.0544, grad=0.0000), Var(v=-0.0784, grad=0.0000), Var(v=-0.0051, grad=-1.3418), Var(v=0.0486, grad=-0.2607), Var(v=-0.0248, grad=-0.0905), Var(v=-0.0906, grad=-0.0576), Var(v=0.1007, grad=0.3731), Var(v=0.0946, grad=-0.3417), Var(v=0.0984, grad=-0.4797), Var(v=0.0471, grad=0.0000), Var(v=-0.0771, grad=0.0000), Var(v=-0.0743, grad=-0.7784), Var(v=0.0751, grad=-0.6268), Var(v=0.0174, grad=0.0000), Var(v=-0.0376, grad=-0.8065), Var(v=0.0649, grad=-0.0109), Var(v=-0.1507, grad=0.0000), Var(v=0.1341, grad=0.2187), Var(v=-0.0530, grad=0.0000), Var(v=0.1008, grad=0.0000), Var(v=0.0033, grad=0.0324), Var(v=-0.0351, grad=-0.8183), Var(v=0.0464, grad=0.6503), Var(v=-0.1210, grad=0.0000), Var(v=0.1917, grad=0.0000), Var(v=0.0101, grad=0.0000), Var(v=0.1493, grad=0.2740)], [Var(v=-0.1422, grad=0.0000), Var(v=-0.0178, grad=-0.0046), Var(v=-0.0079, grad=0.0000), Var(v=0.0221, grad=0.0000), Var(v=0.1819, grad=0.0021), Var(v=0.0768, grad=0.0000), Var(v=-0.0259, grad=0.0000), Var(v=-0.0399, grad=0.0000), Var(v=-0.0232, grad=0.0000), Var(v=-0.0566, grad=0.0085), Var(v=-0.1190, grad=0.0058), Var(v=-0.2021, grad=-0.0046), Var(v=0.0519, grad=0.0038), Var(v=-0.0758, grad=0.0137), Var(v=0.1656, grad=0.0000), Var(v=0.0403, grad=0.0000), Var(v=0.0674, grad=0.0000), Var(v=-0.0723, grad=-0.0079), Var(v=-0.0745, grad=0.0124), Var(v=0.0894, grad=0.0000), Var(v=-0.0056, grad=0.0087), Var(v=0.1492, grad=0.0000), Var(v=0.0504, grad=0.0000), Var(v=-0.1746, grad=0.0000), Var(v=0.1040, grad=-0.0034), Var(v=0.0377, grad=0.0000), Var(v=0.0973, grad=0.0040), Var(v=-0.0569, grad=0.0000), Var(v=-0.2232, grad=0.0009), Var(v=0.0264, grad=-0.0057), Var(v=-0.0271, grad=0.0000), Var(v=-0.0125, grad=0.0000), Var(v=-0.0416, grad=-0.0046), Var(v=-0.1314, grad=0.0000), Var(v=0.1148, grad=0.0000), Var(v=-0.2030, grad=0.0000), Var(v=0.2125, grad=0.0000), Var(v=0.0379, grad=0.0000), Var(v=0.0631, grad=0.0002), Var(v=-0.1042, grad=-0.0058), Var(v=-0.0005, grad=-0.0033), Var(v=-0.0669, grad=0.0015), Var(v=0.1349, grad=0.0000), Var(v=-0.2107, grad=0.0000), Var(v=-0.0879, grad=0.0000), Var(v=-0.0348, grad=-0.0099), Var(v=0.0337, grad=0.0000), Var(v=-0.1027, grad=0.0000), Var(v=0.0893, grad=0.0003), Var(v=-0.0207, grad=0.0000)], [Var(v=-0.0421, grad=0.0000), Var(v=0.0014, grad=0.0000), Var(v=-0.0779, grad=0.0000), Var(v=-0.1149, grad=0.0000), Var(v=0.1188, grad=-0.3462), Var(v=0.1231, grad=0.0000), Var(v=0.0549, grad=0.0000), Var(v=0.0935, grad=0.7609), Var(v=-0.0906, grad=0.5479), Var(v=0.0569, grad=-1.4016), Var(v=0.1658, grad=-0.9515), Var(v=0.0732, grad=0.7564), Var(v=0.0604, grad=0.0000), Var(v=0.0601, grad=-2.2519), Var(v=0.0407, grad=0.0000), Var(v=0.0579, grad=0.0000), Var(v=-0.1436, grad=0.0000), Var(v=-0.0418, grad=0.0000), Var(v=0.0199, grad=0.0000), Var(v=0.0453, grad=1.3872), Var(v=-0.0425, grad=0.0000), Var(v=0.0370, grad=0.0000), Var(v=0.0462, grad=-1.0388), Var(v=0.1083, grad=0.0000), Var(v=0.0323, grad=0.0000), Var(v=0.0728, grad=-3.3711), Var(v=-0.0487, grad=-0.6549), Var(v=0.1739, grad=-0.2274), Var(v=0.3598, grad=-0.1446), Var(v=-0.0620, grad=0.9375), Var(v=-0.0415, grad=-0.8585), Var(v=0.0448, grad=-1.2051), Var(v=-0.1162, grad=0.0000), Var(v=-0.0773, grad=0.0000), Var(v=0.3738, grad=-1.9556), Var(v=0.0547, grad=-1.5749), Var(v=0.0783, grad=0.0000), Var(v=-0.0180, grad=-2.0263), Var(v=0.1165, grad=-0.0273), Var(v=0.0734, grad=0.0000), Var(v=0.1665, grad=0.5494), Var(v=-0.1484, grad=0.0000), Var(v=0.0113, grad=0.0000), Var(v=-0.0547, grad=0.0813), Var(v=0.0068, grad=-2.0558), Var(v=0.1745, grad=1.6338), Var(v=-0.1609, grad=0.0000), Var(v=-0.1164, grad=0.0000), Var(v=-0.0565, grad=0.0000), Var(v=0.1546, grad=0.6884)], [Var(v=-0.1253, grad=0.0000), Var(v=0.1665, grad=-0.1335), Var(v=-0.0427, grad=0.0000), Var(v=-0.0593, grad=0.0000), Var(v=0.0061, grad=0.0616), Var(v=0.0466, grad=0.0000), Var(v=0.0482, grad=0.0000), Var(v=-0.0576, grad=0.0000), Var(v=-0.0535, grad=0.0000), Var(v=0.0294, grad=0.2493), Var(v=-0.1563, grad=0.1693), Var(v=0.0503, grad=-0.1346), Var(v=0.0722, grad=0.1118), Var(v=0.0408, grad=0.4006), Var(v=-0.0992, grad=0.0000), Var(v=-0.0361, grad=0.0000), Var(v=0.0755, grad=0.0000), Var(v=-0.1381, grad=-0.2321), Var(v=-0.0965, grad=0.3624), Var(v=0.0220, grad=0.0000), Var(v=-0.1308, grad=0.2543), Var(v=-0.0176, grad=0.0000), Var(v=-0.0417, grad=0.0000), Var(v=0.0310, grad=0.0000), Var(v=0.1982, grad=-0.1006), Var(v=0.0423, grad=0.0000), Var(v=0.1956, grad=0.1165), Var(v=-0.0979, grad=0.0000), Var(v=-0.0650, grad=0.0257), Var(v=0.1997, grad=-0.1668), Var(v=0.0992, grad=0.0000), Var(v=0.0294, grad=0.0000), Var(v=0.0667, grad=-0.1345), Var(v=-0.0149, grad=0.0000), Var(v=-0.0585, grad=0.0000), Var(v=-0.1858, grad=0.0000), Var(v=-0.0260, grad=0.0000), Var(v=0.0334, grad=0.0000), Var(v=0.0803, grad=0.0049), Var(v=0.0678, grad=-0.1712), Var(v=-0.0984, grad=-0.0977), Var(v=0.2413, grad=0.0430), Var(v=-0.0340, grad=0.0000), Var(v=0.0475, grad=0.0000), Var(v=-0.1280, grad=0.0000), Var(v=0.0298, grad=-0.2906), Var(v=-0.0441, grad=0.0000), Var(v=0.0822, grad=0.0000), Var(v=-0.1249, grad=0.0080), Var(v=-0.0890, grad=0.0000)], [Var(v=-0.1190, grad=0.0000), Var(v=-0.0354, grad=0.0000), Var(v=-0.0351, grad=0.0000), Var(v=-0.0598, grad=0.0000), Var(v=0.1046, grad=-0.3983), Var(v=-0.0949, grad=0.0000), Var(v=0.0069, grad=0.0000), Var(v=0.1109, grad=0.8755), Var(v=0.1393, grad=0.6304), Var(v=-0.0064, grad=-1.6126), Var(v=-0.0561, grad=-1.0948), Var(v=0.0146, grad=0.8703), Var(v=-0.1419, grad=0.0000), Var(v=0.0912, grad=-2.5908), Var(v=-0.1217, grad=0.0000), Var(v=-0.1221, grad=0.0000), Var(v=0.0868, grad=0.0000), Var(v=0.0212, grad=0.0000), Var(v=-0.0125, grad=0.0000), Var(v=0.1606, grad=1.5960), Var(v=-0.0071, grad=0.0000), Var(v=-0.0471, grad=0.0000), Var(v=-0.0423, grad=-1.1952), Var(v=-0.0535, grad=0.0000), Var(v=-0.2665, grad=0.0000), Var(v=0.1793, grad=-3.8785), Var(v=-0.0282, grad=-0.7535), Var(v=0.0579, grad=-0.2616), Var(v=0.0356, grad=-0.1664), Var(v=0.0928, grad=1.0786), Var(v=0.0181, grad=-0.9877), Var(v=0.1103, grad=-1.3865), Var(v=-0.0375, grad=0.0000), Var(v=-0.0267, grad=0.0000), Var(v=-0.0272, grad=-2.2500), Var(v=-0.0977, grad=-1.8119), Var(v=-0.0706, grad=0.0000), Var(v=0.1463, grad=-2.3313), Var(v=-0.0735, grad=-0.0314), Var(v=-0.1285, grad=0.0000), Var(v=-0.0213, grad=0.6321), Var(v=-0.2281, grad=0.0000), Var(v=-0.0153, grad=0.0000), Var(v=0.0322, grad=0.0935), Var(v=0.1091, grad=-2.3652), Var(v=0.0208, grad=1.8797), Var(v=0.0714, grad=0.0000), Var(v=-0.0544, grad=0.0000), Var(v=0.0029, grad=0.0000), Var(v=-0.1120, grad=0.7920)], [Var(v=-0.1192, grad=0.0000), Var(v=0.0685, grad=-0.9280), Var(v=-0.0151, grad=0.0000), Var(v=-0.0576, grad=0.0000), Var(v=-0.0172, grad=0.4282), Var(v=0.0035, grad=0.0000), Var(v=0.1368, grad=0.0000), Var(v=-0.0489, grad=0.0000), Var(v=0.0191, grad=0.0000), Var(v=0.0873, grad=1.7334), Var(v=0.1102, grad=1.1768), Var(v=0.0986, grad=-0.9355), Var(v=0.0585, grad=0.7770), Var(v=-0.0441, grad=2.7849), Var(v=0.0076, grad=0.0000), Var(v=-0.0787, grad=0.0000), Var(v=-0.0575, grad=0.0000), Var(v=0.1367, grad=-1.6138), Var(v=0.0280, grad=2.5195), Var(v=0.0253, grad=0.0000), Var(v=0.0054, grad=1.7677), Var(v=-0.0048, grad=0.0000), Var(v=-0.1007, grad=0.0000), Var(v=0.0581, grad=0.0000), Var(v=0.0126, grad=-0.6995), Var(v=-0.0046, grad=0.0000), Var(v=-0.0134, grad=0.8100), Var(v=-0.1747, grad=0.0000), Var(v=0.0698, grad=0.1789), Var(v=-0.0061, grad=-1.1594), Var(v=-0.1577, grad=0.0000), Var(v=0.0138, grad=0.0000), Var(v=0.0872, grad=-0.9353), Var(v=0.1109, grad=0.0000), Var(v=-0.0602, grad=0.0000), Var(v=-0.0169, grad=0.0000), Var(v=-0.0589, grad=0.0000), Var(v=-0.0997, grad=0.0000), Var(v=0.0413, grad=0.0337), Var(v=0.2090, grad=-1.1900), Var(v=-0.0433, grad=-0.6794), Var(v=0.0740, grad=0.2993), Var(v=-0.0753, grad=0.0000), Var(v=-0.0777, grad=0.0000), Var(v=0.1118, grad=0.0000), Var(v=0.0625, grad=-2.0206), Var(v=-0.0608, grad=0.0000), Var(v=-0.2892, grad=0.0000), Var(v=-0.0630, grad=0.0555), Var(v=-0.1132, grad=0.0000)]] Biases: [Var(v=0.0000, grad=0.0000), Var(v=0.0609, grad=-6.0865), Var(v=0.0000, grad=0.0000), Var(v=0.0000, grad=0.0000), Var(v=-0.0006, grad=0.0582), Var(v=0.0000, grad=0.0000), Var(v=0.0000, grad=0.0000), Var(v=-0.0604, grad=6.0442), Var(v=-0.0435, grad=4.3522), Var(v=-0.0024, grad=0.2356), Var(v=-0.0016, grad=0.1600), Var(v=0.0013, grad=-0.1272), Var(v=-0.0510, grad=5.0962), Var(v=-0.0038, grad=0.3786), Var(v=0.0000, grad=0.0000), Var(v=0.0000, grad=0.0000), Var(v=0.0000, grad=0.0000), Var(v=0.1058, grad=-10.5842), Var(v=-0.1652, grad=16.5241), Var(v=-0.1102, grad=11.0187), Var(v=-0.1159, grad=11.5936), Var(v=0.0000, grad=0.0000), Var(v=0.0825, grad=-8.2516), Var(v=0.0000, grad=0.0000), Var(v=0.0459, grad=-4.5880), Var(v=0.2678, grad=-26.7765), Var(v=-0.0011, grad=0.1101), Var(v=0.0181, grad=-1.8062), Var(v=-0.0002, grad=0.0243), Var(v=0.0016, grad=-0.1576), Var(v=0.0682, grad=-6.8187), Var(v=0.0957, grad=-9.5725), Var(v=0.0613, grad=-6.1344), Var(v=0.0000, grad=0.0000), Var(v=0.1553, grad=-15.5334), Var(v=0.1251, grad=-12.5091), Var(v=0.0000, grad=0.0000), Var(v=0.1609, grad=-16.0949), Var(v=-0.0000, grad=0.0046), Var(v=0.0780, grad=-7.8045), Var(v=0.0009, grad=-0.0924), Var(v=-0.0196, grad=1.9627), Var(v=0.0000, grad=0.0000), Var(v=-0.0065, grad=0.6456), Var(v=0.1633, grad=-16.3292), Var(v=0.0027, grad=-0.2747), Var(v=0.0000, grad=0.0000), Var(v=0.0000, grad=0.0000), Var(v=-0.0036, grad=0.3643), Var(v=-0.0547, grad=5.4678)]\n",
      "Layer 2 \n",
      " Weights: [[Var(v=0.0427, grad=0.0000)], [Var(v=-0.0838, grad=1.3986)], [Var(v=0.2019, grad=0.0000)], [Var(v=0.1055, grad=0.0000)], [Var(v=0.0422, grad=-1.0031)], [Var(v=-0.0274, grad=0.0000)], [Var(v=-0.0505, grad=0.0000)], [Var(v=-0.0580, grad=-1.2827)], [Var(v=-0.0341, grad=-1.6849)], [Var(v=0.1222, grad=0.8250)], [Var(v=0.0838, grad=0.4737)], [Var(v=-0.0557, grad=-1.4663)], [Var(v=0.0038, grad=5.4710)], [Var(v=0.2045, grad=0.5017)], [Var(v=0.0593, grad=0.0000)], [Var(v=0.0216, grad=0.0000)], [Var(v=0.0351, grad=0.0000)], [Var(v=-0.1216, grad=0.0149)], [Var(v=0.1858, grad=0.3732)], [Var(v=-0.0993, grad=-2.9827)], [Var(v=0.1200, grad=1.3008)], [Var(v=-0.0112, grad=0.0000)], [Var(v=0.1139, grad=-1.7254)], [Var(v=-0.2465, grad=0.0000)], [Var(v=-0.0560, grad=0.3325)], [Var(v=0.3356, grad=-2.1924)], [Var(v=0.0605, grad=0.0444)], [Var(v=0.0499, grad=-2.8744)], [Var(v=0.0329, grad=-1.9458)], [Var(v=-0.0961, grad=0.8904)], [Var(v=0.0893, grad=-0.9386)], [Var(v=0.1334, grad=-2.1300)], [Var(v=-0.0890, grad=1.8651)], [Var(v=0.0890, grad=0.0000)], [Var(v=0.2288, grad=-4.6843)], [Var(v=0.1590, grad=-1.2437)], [Var(v=-0.0318, grad=0.0000)], [Var(v=0.2099, grad=-2.1310)], [Var(v=-0.0009, grad=0.3459)], [Var(v=-0.1477, grad=5.8151)], [Var(v=-0.0389, grad=-1.2207)], [Var(v=0.0144, grad=0.8151)], [Var(v=-0.0706, grad=0.0000)], [Var(v=-0.0007, grad=-0.6838)], [Var(v=0.2177, grad=-2.6404)], [Var(v=-0.1421, grad=-0.9957)], [Var(v=0.0533, grad=0.0000)], [Var(v=-0.0876, grad=0.0000)], [Var(v=-0.0134, grad=1.7605)], [Var(v=-0.0331, grad=-3.0909)]] Biases: [Var(v=-0.0181, grad=1.8068)]\n",
      "\n",
      "Network after zeroing gradients:\n",
      "Layer 0 \n",
      " Weights: [[Var(v=-0.0293, grad=0.0000), Var(v=-0.0513, grad=0.0000), Var(v=0.0208, grad=0.0000), Var(v=0.2199, grad=0.0000), Var(v=-0.0550, grad=0.0000), Var(v=-0.1523, grad=0.0000), Var(v=0.0255, grad=0.0000), Var(v=-0.1219, grad=0.0000), Var(v=-0.0620, grad=0.0000), Var(v=0.0496, grad=0.0000), Var(v=-0.0042, grad=0.0000), Var(v=0.1606, grad=0.0000), Var(v=-0.0671, grad=0.0000), Var(v=0.1473, grad=0.0000), Var(v=-0.1491, grad=0.0000)]] Biases: [Var(v=-0.0311, grad=0.0000), Var(v=-0.0307, grad=0.0000), Var(v=0.0001, grad=0.0000), Var(v=0.1016, grad=0.0000), Var(v=0.0415, grad=0.0000), Var(v=0.0051, grad=0.0000), Var(v=-0.0038, grad=0.0000), Var(v=0.0125, grad=0.0000), Var(v=-0.0144, grad=0.0000), Var(v=0.0056, grad=0.0000), Var(v=0.0032, grad=0.0000), Var(v=0.0451, grad=0.0000), Var(v=0.0429, grad=0.0000), Var(v=0.0196, grad=0.0000), Var(v=0.0095, grad=0.0000)]\n",
      "Layer 1 \n",
      " Weights: [[Var(v=-0.0284, grad=0.0000), Var(v=-0.0451, grad=0.0000), Var(v=-0.0282, grad=0.0000), Var(v=-0.1517, grad=0.0000), Var(v=0.0711, grad=0.0000), Var(v=-0.0993, grad=0.0000), Var(v=-0.1056, grad=0.0000), Var(v=0.0149, grad=0.0000), Var(v=0.0298, grad=0.0000), Var(v=0.0963, grad=0.0000), Var(v=-0.0079, grad=0.0000), Var(v=-0.1400, grad=0.0000), Var(v=-0.2199, grad=0.0000), Var(v=-0.0413, grad=0.0000), Var(v=-0.0343, grad=0.0000), Var(v=-0.0189, grad=0.0000), Var(v=0.0988, grad=0.0000), Var(v=0.0370, grad=0.0000), Var(v=0.0027, grad=0.0000), Var(v=-0.0149, grad=0.0000), Var(v=-0.0294, grad=0.0000), Var(v=-0.1360, grad=0.0000), Var(v=0.0436, grad=0.0000), Var(v=-0.0799, grad=0.0000), Var(v=-0.1520, grad=0.0000), Var(v=-0.1202, grad=0.0000), Var(v=-0.0069, grad=0.0000), Var(v=-0.0421, grad=0.0000), Var(v=0.1395, grad=0.0000), Var(v=0.0733, grad=0.0000), Var(v=0.0876, grad=0.0000), Var(v=0.0421, grad=0.0000), Var(v=-0.0194, grad=0.0000), Var(v=-0.1312, grad=0.0000), Var(v=0.0571, grad=0.0000), Var(v=-0.0531, grad=0.0000), Var(v=0.0720, grad=0.0000), Var(v=-0.1357, grad=0.0000), Var(v=0.1500, grad=0.0000), Var(v=-0.2520, grad=0.0000), Var(v=-0.0918, grad=0.0000), Var(v=0.0154, grad=0.0000), Var(v=0.0664, grad=0.0000), Var(v=0.0004, grad=0.0000), Var(v=-0.0575, grad=0.0000), Var(v=-0.0490, grad=0.0000), Var(v=0.0009, grad=0.0000), Var(v=-0.0405, grad=0.0000), Var(v=0.1185, grad=0.0000), Var(v=-0.0103, grad=0.0000)], [Var(v=-0.0842, grad=0.0000), Var(v=0.0719, grad=0.0000), Var(v=0.1284, grad=0.0000), Var(v=-0.0763, grad=0.0000), Var(v=0.0664, grad=0.0000), Var(v=0.0671, grad=0.0000), Var(v=-0.0659, grad=0.0000), Var(v=-0.1368, grad=0.0000), Var(v=-0.1252, grad=0.0000), Var(v=-0.0643, grad=0.0000), Var(v=0.1001, grad=0.0000), Var(v=0.0099, grad=0.0000), Var(v=0.0379, grad=0.0000), Var(v=-0.0993, grad=0.0000), Var(v=-0.0479, grad=0.0000), Var(v=-0.0741, grad=0.0000), Var(v=0.1017, grad=0.0000), Var(v=-0.0941, grad=0.0000), Var(v=0.1172, grad=0.0000), Var(v=0.0367, grad=0.0000), Var(v=0.1072, grad=0.0000), Var(v=-0.1178, grad=0.0000), Var(v=0.0045, grad=0.0000), Var(v=-0.0556, grad=0.0000), Var(v=0.0477, grad=0.0000), Var(v=-0.0773, grad=0.0000), Var(v=-0.0252, grad=0.0000), Var(v=-0.1551, grad=0.0000), Var(v=-0.0746, grad=0.0000), Var(v=-0.0383, grad=0.0000), Var(v=-0.0312, grad=0.0000), Var(v=0.0954, grad=0.0000), Var(v=-0.0783, grad=0.0000), Var(v=-0.1013, grad=0.0000), Var(v=-0.1080, grad=0.0000), Var(v=-0.0690, grad=0.0000), Var(v=0.1413, grad=0.0000), Var(v=-0.0472, grad=0.0000), Var(v=-0.0246, grad=0.0000), Var(v=0.1381, grad=0.0000), Var(v=-0.1896, grad=0.0000), Var(v=-0.0661, grad=0.0000), Var(v=0.0408, grad=0.0000), Var(v=-0.0952, grad=0.0000), Var(v=-0.0418, grad=0.0000), Var(v=0.0488, grad=0.0000), Var(v=-0.2256, grad=0.0000), Var(v=0.0311, grad=0.0000), Var(v=0.0376, grad=0.0000), Var(v=-0.1798, grad=0.0000)], [Var(v=-0.0586, grad=0.0000), Var(v=0.0046, grad=0.0000), Var(v=-0.1906, grad=0.0000), Var(v=0.0534, grad=0.0000), Var(v=0.0688, grad=0.0000), Var(v=-0.0914, grad=0.0000), Var(v=-0.0737, grad=0.0000), Var(v=-0.0350, grad=0.0000), Var(v=0.0599, grad=0.0000), Var(v=0.0271, grad=0.0000), Var(v=0.0563, grad=0.0000), Var(v=-0.0058, grad=0.0000), Var(v=0.1639, grad=0.0000), Var(v=-0.0582, grad=0.0000), Var(v=-0.1954, grad=0.0000), Var(v=-0.1245, grad=0.0000), Var(v=0.0357, grad=0.0000), Var(v=0.0042, grad=0.0000), Var(v=-0.0541, grad=0.0000), Var(v=0.0620, grad=0.0000), Var(v=-0.1201, grad=0.0000), Var(v=-0.1433, grad=0.0000), Var(v=0.1342, grad=0.0000), Var(v=0.0242, grad=0.0000), Var(v=0.0036, grad=0.0000), Var(v=0.0252, grad=0.0000), Var(v=-0.0692, grad=0.0000), Var(v=-0.0395, grad=0.0000), Var(v=-0.0486, grad=0.0000), Var(v=0.0096, grad=0.0000), Var(v=0.0275, grad=0.0000), Var(v=0.0107, grad=0.0000), Var(v=0.1146, grad=0.0000), Var(v=-0.1477, grad=0.0000), Var(v=0.0801, grad=0.0000), Var(v=0.0239, grad=0.0000), Var(v=-0.0399, grad=0.0000), Var(v=0.1068, grad=0.0000), Var(v=-0.0522, grad=0.0000), Var(v=0.0428, grad=0.0000), Var(v=0.0234, grad=0.0000), Var(v=-0.0483, grad=0.0000), Var(v=0.1363, grad=0.0000), Var(v=0.0197, grad=0.0000), Var(v=-0.0780, grad=0.0000), Var(v=0.0615, grad=0.0000), Var(v=0.0702, grad=0.0000), Var(v=0.0013, grad=0.0000), Var(v=-0.1376, grad=0.0000), Var(v=0.1928, grad=0.0000)], [Var(v=0.0465, grad=0.0000), Var(v=-0.0655, grad=0.0000), Var(v=-0.0830, grad=0.0000), Var(v=0.0159, grad=0.0000), Var(v=-0.0647, grad=0.0000), Var(v=-0.0387, grad=0.0000), Var(v=-0.0915, grad=0.0000), Var(v=-0.0879, grad=0.0000), Var(v=0.0966, grad=0.0000), Var(v=0.0381, grad=0.0000), Var(v=0.0033, grad=0.0000), Var(v=0.0149, grad=0.0000), Var(v=-0.1225, grad=0.0000), Var(v=-0.0047, grad=0.0000), Var(v=0.0679, grad=0.0000), Var(v=-0.0116, grad=0.0000), Var(v=-0.0428, grad=0.0000), Var(v=-0.0633, grad=0.0000), Var(v=-0.2358, grad=0.0000), Var(v=0.0674, grad=0.0000), Var(v=-0.0409, grad=0.0000), Var(v=0.0105, grad=0.0000), Var(v=0.1823, grad=0.0000), Var(v=-0.0493, grad=0.0000), Var(v=0.0775, grad=0.0000), Var(v=0.1032, grad=0.0000), Var(v=0.1571, grad=0.0000), Var(v=0.0672, grad=0.0000), Var(v=-0.1495, grad=0.0000), Var(v=0.0627, grad=0.0000), Var(v=0.1418, grad=0.0000), Var(v=0.0088, grad=0.0000), Var(v=-0.0101, grad=0.0000), Var(v=0.0797, grad=0.0000), Var(v=0.1647, grad=0.0000), Var(v=0.1577, grad=0.0000), Var(v=-0.0194, grad=0.0000), Var(v=0.1163, grad=0.0000), Var(v=0.0538, grad=0.0000), Var(v=-0.1392, grad=0.0000), Var(v=-0.0439, grad=0.0000), Var(v=-0.0539, grad=0.0000), Var(v=-0.1517, grad=0.0000), Var(v=0.0842, grad=0.0000), Var(v=0.2257, grad=0.0000), Var(v=0.0794, grad=0.0000), Var(v=0.1264, grad=0.0000), Var(v=0.1464, grad=0.0000), Var(v=-0.1671, grad=0.0000), Var(v=0.1338, grad=0.0000)], [Var(v=-0.0752, grad=0.0000), Var(v=0.0543, grad=0.0000), Var(v=-0.0160, grad=0.0000), Var(v=-0.0275, grad=0.0000), Var(v=0.0701, grad=0.0000), Var(v=-0.0240, grad=0.0000), Var(v=0.0074, grad=0.0000), Var(v=0.0424, grad=0.0000), Var(v=-0.0549, grad=0.0000), Var(v=-0.1174, grad=0.0000), Var(v=0.0880, grad=0.0000), Var(v=0.0418, grad=0.0000), Var(v=-0.0228, grad=0.0000), Var(v=0.0163, grad=0.0000), Var(v=0.1760, grad=0.0000), Var(v=-0.0942, grad=0.0000), Var(v=0.1486, grad=0.0000), Var(v=0.1074, grad=0.0000), Var(v=-0.0318, grad=0.0000), Var(v=0.1200, grad=0.0000), Var(v=0.0046, grad=0.0000), Var(v=-0.0121, grad=0.0000), Var(v=-0.1697, grad=0.0000), Var(v=-0.0917, grad=0.0000), Var(v=0.0876, grad=0.0000), Var(v=0.0681, grad=0.0000), Var(v=-0.0288, grad=0.0000), Var(v=-0.0502, grad=0.0000), Var(v=0.0264, grad=0.0000), Var(v=0.1729, grad=0.0000), Var(v=-0.0212, grad=0.0000), Var(v=0.1259, grad=0.0000), Var(v=0.1307, grad=0.0000), Var(v=0.0504, grad=0.0000), Var(v=0.0556, grad=0.0000), Var(v=0.0586, grad=0.0000), Var(v=0.0574, grad=0.0000), Var(v=0.0026, grad=0.0000), Var(v=-0.1030, grad=0.0000), Var(v=-0.1480, grad=0.0000), Var(v=0.0858, grad=0.0000), Var(v=-0.0217, grad=0.0000), Var(v=-0.0397, grad=0.0000), Var(v=-0.0506, grad=0.0000), Var(v=0.0365, grad=0.0000), Var(v=-0.0089, grad=0.0000), Var(v=0.0018, grad=0.0000), Var(v=-0.0342, grad=0.0000), Var(v=-0.0574, grad=0.0000), Var(v=-0.0754, grad=0.0000)], [Var(v=-0.0907, grad=0.0000), Var(v=-0.0055, grad=0.0000), Var(v=-0.0553, grad=0.0000), Var(v=-0.1098, grad=0.0000), Var(v=0.0757, grad=0.0000), Var(v=-0.0819, grad=0.0000), Var(v=-0.1012, grad=0.0000), Var(v=-0.0937, grad=0.0000), Var(v=-0.1798, grad=0.0000), Var(v=-0.0371, grad=0.0000), Var(v=-0.0152, grad=0.0000), Var(v=-0.1119, grad=0.0000), Var(v=0.0368, grad=0.0000), Var(v=0.2041, grad=0.0000), Var(v=0.0065, grad=0.0000), Var(v=-0.0586, grad=0.0000), Var(v=-0.1652, grad=0.0000), Var(v=-0.0283, grad=0.0000), Var(v=-0.1400, grad=0.0000), Var(v=0.0067, grad=0.0000), Var(v=-0.0425, grad=0.0000), Var(v=0.0497, grad=0.0000), Var(v=0.0075, grad=0.0000), Var(v=-0.0708, grad=0.0000), Var(v=0.0113, grad=0.0000), Var(v=0.0688, grad=0.0000), Var(v=-0.0366, grad=0.0000), Var(v=0.0626, grad=0.0000), Var(v=-0.0727, grad=0.0000), Var(v=0.1576, grad=0.0000), Var(v=0.0539, grad=0.0000), Var(v=-0.1987, grad=0.0000), Var(v=0.1141, grad=0.0000), Var(v=0.0524, grad=0.0000), Var(v=-0.0950, grad=0.0000), Var(v=0.0286, grad=0.0000), Var(v=-0.0640, grad=0.0000), Var(v=-0.0653, grad=0.0000), Var(v=0.0235, grad=0.0000), Var(v=0.1002, grad=0.0000), Var(v=0.1474, grad=0.0000), Var(v=0.0736, grad=0.0000), Var(v=-0.0567, grad=0.0000), Var(v=-0.0769, grad=0.0000), Var(v=-0.0042, grad=0.0000), Var(v=0.1020, grad=0.0000), Var(v=-0.2596, grad=0.0000), Var(v=-0.0570, grad=0.0000), Var(v=0.1270, grad=0.0000), Var(v=0.1126, grad=0.0000)], [Var(v=0.0340, grad=0.0000), Var(v=-0.1670, grad=0.0000), Var(v=0.0121, grad=0.0000), Var(v=0.1151, grad=0.0000), Var(v=0.0240, grad=0.0000), Var(v=-0.0175, grad=0.0000), Var(v=-0.0129, grad=0.0000), Var(v=0.0515, grad=0.0000), Var(v=-0.1059, grad=0.0000), Var(v=0.0438, grad=0.0000), Var(v=-0.0015, grad=0.0000), Var(v=0.0988, grad=0.0000), Var(v=-0.1038, grad=0.0000), Var(v=0.0836, grad=0.0000), Var(v=-0.0402, grad=0.0000), Var(v=0.2817, grad=0.0000), Var(v=-0.0904, grad=0.0000), Var(v=-0.1723, grad=0.0000), Var(v=-0.0804, grad=0.0000), Var(v=0.0225, grad=0.0000), Var(v=-0.1411, grad=0.0000), Var(v=0.0039, grad=0.0000), Var(v=0.0668, grad=0.0000), Var(v=-0.1965, grad=0.0000), Var(v=-0.2746, grad=0.0000), Var(v=-0.1799, grad=0.0000), Var(v=0.0308, grad=0.0000), Var(v=-0.0295, grad=0.0000), Var(v=-0.0022, grad=0.0000), Var(v=0.0604, grad=0.0000), Var(v=-0.1583, grad=0.0000), Var(v=0.0585, grad=0.0000), Var(v=0.0566, grad=0.0000), Var(v=-0.1381, grad=0.0000), Var(v=0.0626, grad=0.0000), Var(v=0.1764, grad=0.0000), Var(v=-0.0775, grad=0.0000), Var(v=0.0447, grad=0.0000), Var(v=0.0194, grad=0.0000), Var(v=0.0143, grad=0.0000), Var(v=-0.0127, grad=0.0000), Var(v=-0.0030, grad=0.0000), Var(v=0.0268, grad=0.0000), Var(v=-0.0208, grad=0.0000), Var(v=0.0193, grad=0.0000), Var(v=-0.0341, grad=0.0000), Var(v=-0.0743, grad=0.0000), Var(v=-0.2635, grad=0.0000), Var(v=0.0045, grad=0.0000), Var(v=0.0597, grad=0.0000)], [Var(v=0.1521, grad=0.0000), Var(v=0.0783, grad=0.0000), Var(v=-0.1607, grad=0.0000), Var(v=-0.0050, grad=0.0000), Var(v=-0.0728, grad=0.0000), Var(v=-0.0825, grad=0.0000), Var(v=-0.0388, grad=0.0000), Var(v=0.0467, grad=0.0000), Var(v=0.0185, grad=0.0000), Var(v=-0.0259, grad=0.0000), Var(v=-0.0808, grad=0.0000), Var(v=0.0955, grad=0.0000), Var(v=0.2117, grad=0.0000), Var(v=-0.1463, grad=0.0000), Var(v=-0.0104, grad=0.0000), Var(v=0.0721, grad=0.0000), Var(v=-0.0300, grad=0.0000), Var(v=0.0638, grad=0.0000), Var(v=0.0380, grad=0.0000), Var(v=-0.0483, grad=0.0000), Var(v=0.0870, grad=0.0000), Var(v=-0.0198, grad=0.0000), Var(v=0.0275, grad=0.0000), Var(v=0.0674, grad=0.0000), Var(v=-0.0828, grad=0.0000), Var(v=-0.0994, grad=0.0000), Var(v=0.0337, grad=0.0000), Var(v=-0.0802, grad=0.0000), Var(v=-0.0239, grad=0.0000), Var(v=0.1029, grad=0.0000), Var(v=-0.0252, grad=0.0000), Var(v=0.0915, grad=0.0000), Var(v=-0.0549, grad=0.0000), Var(v=-0.1806, grad=0.0000), Var(v=-0.0215, grad=0.0000), Var(v=-0.0280, grad=0.0000), Var(v=-0.1471, grad=0.0000), Var(v=-0.0209, grad=0.0000), Var(v=0.0080, grad=0.0000), Var(v=-0.0430, grad=0.0000), Var(v=0.0844, grad=0.0000), Var(v=-0.0747, grad=0.0000), Var(v=-0.0868, grad=0.0000), Var(v=0.0353, grad=0.0000), Var(v=-0.0746, grad=0.0000), Var(v=0.0187, grad=0.0000), Var(v=0.0275, grad=0.0000), Var(v=-0.0056, grad=0.0000), Var(v=0.1709, grad=0.0000), Var(v=-0.0242, grad=0.0000)], [Var(v=-0.0361, grad=0.0000), Var(v=-0.1037, grad=0.0000), Var(v=-0.0079, grad=0.0000), Var(v=-0.1735, grad=0.0000), Var(v=0.1042, grad=0.0000), Var(v=-0.1501, grad=0.0000), Var(v=0.0472, grad=0.0000), Var(v=0.1286, grad=0.0000), Var(v=-0.0506, grad=0.0000), Var(v=0.0722, grad=0.0000), Var(v=-0.0250, grad=0.0000), Var(v=-0.0120, grad=0.0000), Var(v=0.1598, grad=0.0000), Var(v=0.1086, grad=0.0000), Var(v=-0.0543, grad=0.0000), Var(v=-0.0398, grad=0.0000), Var(v=-0.0234, grad=0.0000), Var(v=-0.0517, grad=0.0000), Var(v=-0.0422, grad=0.0000), Var(v=-0.0640, grad=0.0000), Var(v=-0.0691, grad=0.0000), Var(v=-0.0125, grad=0.0000), Var(v=-0.0358, grad=0.0000), Var(v=-0.2301, grad=0.0000), Var(v=0.0444, grad=0.0000), Var(v=-0.0051, grad=0.0000), Var(v=0.0658, grad=0.0000), Var(v=-0.2597, grad=0.0000), Var(v=0.1851, grad=0.0000), Var(v=0.0185, grad=0.0000), Var(v=-0.0295, grad=0.0000), Var(v=0.0512, grad=0.0000), Var(v=0.0664, grad=0.0000), Var(v=0.0298, grad=0.0000), Var(v=-0.0062, grad=0.0000), Var(v=0.0164, grad=0.0000), Var(v=-0.0143, grad=0.0000), Var(v=0.2240, grad=0.0000), Var(v=0.0952, grad=0.0000), Var(v=0.2014, grad=0.0000), Var(v=0.0246, grad=0.0000), Var(v=-0.0622, grad=0.0000), Var(v=-0.0731, grad=0.0000), Var(v=-0.0134, grad=0.0000), Var(v=-0.0362, grad=0.0000), Var(v=0.1020, grad=0.0000), Var(v=0.0548, grad=0.0000), Var(v=-0.0537, grad=0.0000), Var(v=-0.1354, grad=0.0000), Var(v=0.0887, grad=0.0000)], [Var(v=-0.1382, grad=0.0000), Var(v=-0.1670, grad=0.0000), Var(v=0.0630, grad=0.0000), Var(v=-0.0743, grad=0.0000), Var(v=0.1493, grad=0.0000), Var(v=0.0013, grad=0.0000), Var(v=0.1146, grad=0.0000), Var(v=-0.1360, grad=0.0000), Var(v=-0.0169, grad=0.0000), Var(v=-0.0802, grad=0.0000), Var(v=0.0022, grad=0.0000), Var(v=0.0676, grad=0.0000), Var(v=-0.0341, grad=0.0000), Var(v=0.1510, grad=0.0000), Var(v=0.1433, grad=0.0000), Var(v=0.0307, grad=0.0000), Var(v=0.1910, grad=0.0000), Var(v=0.1309, grad=0.0000), Var(v=0.0489, grad=0.0000), Var(v=-0.2044, grad=0.0000), Var(v=-0.0122, grad=0.0000), Var(v=0.0070, grad=0.0000), Var(v=-0.0481, grad=0.0000), Var(v=0.0544, grad=0.0000), Var(v=-0.0784, grad=0.0000), Var(v=-0.0051, grad=0.0000), Var(v=0.0486, grad=0.0000), Var(v=-0.0248, grad=0.0000), Var(v=-0.0906, grad=0.0000), Var(v=0.1007, grad=0.0000), Var(v=0.0946, grad=0.0000), Var(v=0.0984, grad=0.0000), Var(v=0.0471, grad=0.0000), Var(v=-0.0771, grad=0.0000), Var(v=-0.0743, grad=0.0000), Var(v=0.0751, grad=0.0000), Var(v=0.0174, grad=0.0000), Var(v=-0.0376, grad=0.0000), Var(v=0.0649, grad=0.0000), Var(v=-0.1507, grad=0.0000), Var(v=0.1341, grad=0.0000), Var(v=-0.0530, grad=0.0000), Var(v=0.1008, grad=0.0000), Var(v=0.0033, grad=0.0000), Var(v=-0.0351, grad=0.0000), Var(v=0.0464, grad=0.0000), Var(v=-0.1210, grad=0.0000), Var(v=0.1917, grad=0.0000), Var(v=0.0101, grad=0.0000), Var(v=0.1493, grad=0.0000)], [Var(v=-0.1422, grad=0.0000), Var(v=-0.0178, grad=0.0000), Var(v=-0.0079, grad=0.0000), Var(v=0.0221, grad=0.0000), Var(v=0.1819, grad=0.0000), Var(v=0.0768, grad=0.0000), Var(v=-0.0259, grad=0.0000), Var(v=-0.0399, grad=0.0000), Var(v=-0.0232, grad=0.0000), Var(v=-0.0566, grad=0.0000), Var(v=-0.1190, grad=0.0000), Var(v=-0.2021, grad=0.0000), Var(v=0.0519, grad=0.0000), Var(v=-0.0758, grad=0.0000), Var(v=0.1656, grad=0.0000), Var(v=0.0403, grad=0.0000), Var(v=0.0674, grad=0.0000), Var(v=-0.0723, grad=0.0000), Var(v=-0.0745, grad=0.0000), Var(v=0.0894, grad=0.0000), Var(v=-0.0056, grad=0.0000), Var(v=0.1492, grad=0.0000), Var(v=0.0504, grad=0.0000), Var(v=-0.1746, grad=0.0000), Var(v=0.1040, grad=0.0000), Var(v=0.0377, grad=0.0000), Var(v=0.0973, grad=0.0000), Var(v=-0.0569, grad=0.0000), Var(v=-0.2232, grad=0.0000), Var(v=0.0264, grad=0.0000), Var(v=-0.0271, grad=0.0000), Var(v=-0.0125, grad=0.0000), Var(v=-0.0416, grad=0.0000), Var(v=-0.1314, grad=0.0000), Var(v=0.1148, grad=0.0000), Var(v=-0.2030, grad=0.0000), Var(v=0.2125, grad=0.0000), Var(v=0.0379, grad=0.0000), Var(v=0.0631, grad=0.0000), Var(v=-0.1042, grad=0.0000), Var(v=-0.0005, grad=0.0000), Var(v=-0.0669, grad=0.0000), Var(v=0.1349, grad=0.0000), Var(v=-0.2107, grad=0.0000), Var(v=-0.0879, grad=0.0000), Var(v=-0.0348, grad=0.0000), Var(v=0.0337, grad=0.0000), Var(v=-0.1027, grad=0.0000), Var(v=0.0893, grad=0.0000), Var(v=-0.0207, grad=0.0000)], [Var(v=-0.0421, grad=0.0000), Var(v=0.0014, grad=0.0000), Var(v=-0.0779, grad=0.0000), Var(v=-0.1149, grad=0.0000), Var(v=0.1188, grad=0.0000), Var(v=0.1231, grad=0.0000), Var(v=0.0549, grad=0.0000), Var(v=0.0935, grad=0.0000), Var(v=-0.0906, grad=0.0000), Var(v=0.0569, grad=0.0000), Var(v=0.1658, grad=0.0000), Var(v=0.0732, grad=0.0000), Var(v=0.0604, grad=0.0000), Var(v=0.0601, grad=0.0000), Var(v=0.0407, grad=0.0000), Var(v=0.0579, grad=0.0000), Var(v=-0.1436, grad=0.0000), Var(v=-0.0418, grad=0.0000), Var(v=0.0199, grad=0.0000), Var(v=0.0453, grad=0.0000), Var(v=-0.0425, grad=0.0000), Var(v=0.0370, grad=0.0000), Var(v=0.0462, grad=0.0000), Var(v=0.1083, grad=0.0000), Var(v=0.0323, grad=0.0000), Var(v=0.0728, grad=0.0000), Var(v=-0.0487, grad=0.0000), Var(v=0.1739, grad=0.0000), Var(v=0.3598, grad=0.0000), Var(v=-0.0620, grad=0.0000), Var(v=-0.0415, grad=0.0000), Var(v=0.0448, grad=0.0000), Var(v=-0.1162, grad=0.0000), Var(v=-0.0773, grad=0.0000), Var(v=0.3738, grad=0.0000), Var(v=0.0547, grad=0.0000), Var(v=0.0783, grad=0.0000), Var(v=-0.0180, grad=0.0000), Var(v=0.1165, grad=0.0000), Var(v=0.0734, grad=0.0000), Var(v=0.1665, grad=0.0000), Var(v=-0.1484, grad=0.0000), Var(v=0.0113, grad=0.0000), Var(v=-0.0547, grad=0.0000), Var(v=0.0068, grad=0.0000), Var(v=0.1745, grad=0.0000), Var(v=-0.1609, grad=0.0000), Var(v=-0.1164, grad=0.0000), Var(v=-0.0565, grad=0.0000), Var(v=0.1546, grad=0.0000)], [Var(v=-0.1253, grad=0.0000), Var(v=0.1665, grad=0.0000), Var(v=-0.0427, grad=0.0000), Var(v=-0.0593, grad=0.0000), Var(v=0.0061, grad=0.0000), Var(v=0.0466, grad=0.0000), Var(v=0.0482, grad=0.0000), Var(v=-0.0576, grad=0.0000), Var(v=-0.0535, grad=0.0000), Var(v=0.0294, grad=0.0000), Var(v=-0.1563, grad=0.0000), Var(v=0.0503, grad=0.0000), Var(v=0.0722, grad=0.0000), Var(v=0.0408, grad=0.0000), Var(v=-0.0992, grad=0.0000), Var(v=-0.0361, grad=0.0000), Var(v=0.0755, grad=0.0000), Var(v=-0.1381, grad=0.0000), Var(v=-0.0965, grad=0.0000), Var(v=0.0220, grad=0.0000), Var(v=-0.1308, grad=0.0000), Var(v=-0.0176, grad=0.0000), Var(v=-0.0417, grad=0.0000), Var(v=0.0310, grad=0.0000), Var(v=0.1982, grad=0.0000), Var(v=0.0423, grad=0.0000), Var(v=0.1956, grad=0.0000), Var(v=-0.0979, grad=0.0000), Var(v=-0.0650, grad=0.0000), Var(v=0.1997, grad=0.0000), Var(v=0.0992, grad=0.0000), Var(v=0.0294, grad=0.0000), Var(v=0.0667, grad=0.0000), Var(v=-0.0149, grad=0.0000), Var(v=-0.0585, grad=0.0000), Var(v=-0.1858, grad=0.0000), Var(v=-0.0260, grad=0.0000), Var(v=0.0334, grad=0.0000), Var(v=0.0803, grad=0.0000), Var(v=0.0678, grad=0.0000), Var(v=-0.0984, grad=0.0000), Var(v=0.2413, grad=0.0000), Var(v=-0.0340, grad=0.0000), Var(v=0.0475, grad=0.0000), Var(v=-0.1280, grad=0.0000), Var(v=0.0298, grad=0.0000), Var(v=-0.0441, grad=0.0000), Var(v=0.0822, grad=0.0000), Var(v=-0.1249, grad=0.0000), Var(v=-0.0890, grad=0.0000)], [Var(v=-0.1190, grad=0.0000), Var(v=-0.0354, grad=0.0000), Var(v=-0.0351, grad=0.0000), Var(v=-0.0598, grad=0.0000), Var(v=0.1046, grad=0.0000), Var(v=-0.0949, grad=0.0000), Var(v=0.0069, grad=0.0000), Var(v=0.1109, grad=0.0000), Var(v=0.1393, grad=0.0000), Var(v=-0.0064, grad=0.0000), Var(v=-0.0561, grad=0.0000), Var(v=0.0146, grad=0.0000), Var(v=-0.1419, grad=0.0000), Var(v=0.0912, grad=0.0000), Var(v=-0.1217, grad=0.0000), Var(v=-0.1221, grad=0.0000), Var(v=0.0868, grad=0.0000), Var(v=0.0212, grad=0.0000), Var(v=-0.0125, grad=0.0000), Var(v=0.1606, grad=0.0000), Var(v=-0.0071, grad=0.0000), Var(v=-0.0471, grad=0.0000), Var(v=-0.0423, grad=0.0000), Var(v=-0.0535, grad=0.0000), Var(v=-0.2665, grad=0.0000), Var(v=0.1793, grad=0.0000), Var(v=-0.0282, grad=0.0000), Var(v=0.0579, grad=0.0000), Var(v=0.0356, grad=0.0000), Var(v=0.0928, grad=0.0000), Var(v=0.0181, grad=0.0000), Var(v=0.1103, grad=0.0000), Var(v=-0.0375, grad=0.0000), Var(v=-0.0267, grad=0.0000), Var(v=-0.0272, grad=0.0000), Var(v=-0.0977, grad=0.0000), Var(v=-0.0706, grad=0.0000), Var(v=0.1463, grad=0.0000), Var(v=-0.0735, grad=0.0000), Var(v=-0.1285, grad=0.0000), Var(v=-0.0213, grad=0.0000), Var(v=-0.2281, grad=0.0000), Var(v=-0.0153, grad=0.0000), Var(v=0.0322, grad=0.0000), Var(v=0.1091, grad=0.0000), Var(v=0.0208, grad=0.0000), Var(v=0.0714, grad=0.0000), Var(v=-0.0544, grad=0.0000), Var(v=0.0029, grad=0.0000), Var(v=-0.1120, grad=0.0000)], [Var(v=-0.1192, grad=0.0000), Var(v=0.0685, grad=0.0000), Var(v=-0.0151, grad=0.0000), Var(v=-0.0576, grad=0.0000), Var(v=-0.0172, grad=0.0000), Var(v=0.0035, grad=0.0000), Var(v=0.1368, grad=0.0000), Var(v=-0.0489, grad=0.0000), Var(v=0.0191, grad=0.0000), Var(v=0.0873, grad=0.0000), Var(v=0.1102, grad=0.0000), Var(v=0.0986, grad=0.0000), Var(v=0.0585, grad=0.0000), Var(v=-0.0441, grad=0.0000), Var(v=0.0076, grad=0.0000), Var(v=-0.0787, grad=0.0000), Var(v=-0.0575, grad=0.0000), Var(v=0.1367, grad=0.0000), Var(v=0.0280, grad=0.0000), Var(v=0.0253, grad=0.0000), Var(v=0.0054, grad=0.0000), Var(v=-0.0048, grad=0.0000), Var(v=-0.1007, grad=0.0000), Var(v=0.0581, grad=0.0000), Var(v=0.0126, grad=0.0000), Var(v=-0.0046, grad=0.0000), Var(v=-0.0134, grad=0.0000), Var(v=-0.1747, grad=0.0000), Var(v=0.0698, grad=0.0000), Var(v=-0.0061, grad=0.0000), Var(v=-0.1577, grad=0.0000), Var(v=0.0138, grad=0.0000), Var(v=0.0872, grad=0.0000), Var(v=0.1109, grad=0.0000), Var(v=-0.0602, grad=0.0000), Var(v=-0.0169, grad=0.0000), Var(v=-0.0589, grad=0.0000), Var(v=-0.0997, grad=0.0000), Var(v=0.0413, grad=0.0000), Var(v=0.2090, grad=0.0000), Var(v=-0.0433, grad=0.0000), Var(v=0.0740, grad=0.0000), Var(v=-0.0753, grad=0.0000), Var(v=-0.0777, grad=0.0000), Var(v=0.1118, grad=0.0000), Var(v=0.0625, grad=0.0000), Var(v=-0.0608, grad=0.0000), Var(v=-0.2892, grad=0.0000), Var(v=-0.0630, grad=0.0000), Var(v=-0.1132, grad=0.0000)]] Biases: [Var(v=0.0000, grad=0.0000), Var(v=0.0609, grad=0.0000), Var(v=0.0000, grad=0.0000), Var(v=0.0000, grad=0.0000), Var(v=-0.0006, grad=0.0000), Var(v=0.0000, grad=0.0000), Var(v=0.0000, grad=0.0000), Var(v=-0.0604, grad=0.0000), Var(v=-0.0435, grad=0.0000), Var(v=-0.0024, grad=0.0000), Var(v=-0.0016, grad=0.0000), Var(v=0.0013, grad=0.0000), Var(v=-0.0510, grad=0.0000), Var(v=-0.0038, grad=0.0000), Var(v=0.0000, grad=0.0000), Var(v=0.0000, grad=0.0000), Var(v=0.0000, grad=0.0000), Var(v=0.1058, grad=0.0000), Var(v=-0.1652, grad=0.0000), Var(v=-0.1102, grad=0.0000), Var(v=-0.1159, grad=0.0000), Var(v=0.0000, grad=0.0000), Var(v=0.0825, grad=0.0000), Var(v=0.0000, grad=0.0000), Var(v=0.0459, grad=0.0000), Var(v=0.2678, grad=0.0000), Var(v=-0.0011, grad=0.0000), Var(v=0.0181, grad=0.0000), Var(v=-0.0002, grad=0.0000), Var(v=0.0016, grad=0.0000), Var(v=0.0682, grad=0.0000), Var(v=0.0957, grad=0.0000), Var(v=0.0613, grad=0.0000), Var(v=0.0000, grad=0.0000), Var(v=0.1553, grad=0.0000), Var(v=0.1251, grad=0.0000), Var(v=0.0000, grad=0.0000), Var(v=0.1609, grad=0.0000), Var(v=-0.0000, grad=0.0000), Var(v=0.0780, grad=0.0000), Var(v=0.0009, grad=0.0000), Var(v=-0.0196, grad=0.0000), Var(v=0.0000, grad=0.0000), Var(v=-0.0065, grad=0.0000), Var(v=0.1633, grad=0.0000), Var(v=0.0027, grad=0.0000), Var(v=0.0000, grad=0.0000), Var(v=0.0000, grad=0.0000), Var(v=-0.0036, grad=0.0000), Var(v=-0.0547, grad=0.0000)]\n",
      "Layer 2 \n",
      " Weights: [[Var(v=0.0427, grad=0.0000)], [Var(v=-0.0838, grad=0.0000)], [Var(v=0.2019, grad=0.0000)], [Var(v=0.1055, grad=0.0000)], [Var(v=0.0422, grad=0.0000)], [Var(v=-0.0274, grad=0.0000)], [Var(v=-0.0505, grad=0.0000)], [Var(v=-0.0580, grad=0.0000)], [Var(v=-0.0341, grad=0.0000)], [Var(v=0.1222, grad=0.0000)], [Var(v=0.0838, grad=0.0000)], [Var(v=-0.0557, grad=0.0000)], [Var(v=0.0038, grad=0.0000)], [Var(v=0.2045, grad=0.0000)], [Var(v=0.0593, grad=0.0000)], [Var(v=0.0216, grad=0.0000)], [Var(v=0.0351, grad=0.0000)], [Var(v=-0.1216, grad=0.0000)], [Var(v=0.1858, grad=0.0000)], [Var(v=-0.0993, grad=0.0000)], [Var(v=0.1200, grad=0.0000)], [Var(v=-0.0112, grad=0.0000)], [Var(v=0.1139, grad=0.0000)], [Var(v=-0.2465, grad=0.0000)], [Var(v=-0.0560, grad=0.0000)], [Var(v=0.3356, grad=0.0000)], [Var(v=0.0605, grad=0.0000)], [Var(v=0.0499, grad=0.0000)], [Var(v=0.0329, grad=0.0000)], [Var(v=-0.0961, grad=0.0000)], [Var(v=0.0893, grad=0.0000)], [Var(v=0.1334, grad=0.0000)], [Var(v=-0.0890, grad=0.0000)], [Var(v=0.0890, grad=0.0000)], [Var(v=0.2288, grad=0.0000)], [Var(v=0.1590, grad=0.0000)], [Var(v=-0.0318, grad=0.0000)], [Var(v=0.2099, grad=0.0000)], [Var(v=-0.0009, grad=0.0000)], [Var(v=-0.1477, grad=0.0000)], [Var(v=-0.0389, grad=0.0000)], [Var(v=0.0144, grad=0.0000)], [Var(v=-0.0706, grad=0.0000)], [Var(v=-0.0007, grad=0.0000)], [Var(v=0.2177, grad=0.0000)], [Var(v=-0.1421, grad=0.0000)], [Var(v=0.0533, grad=0.0000)], [Var(v=-0.0876, grad=0.0000)], [Var(v=-0.0134, grad=0.0000)], [Var(v=-0.0331, grad=0.0000)]] Biases: [Var(v=-0.0181, grad=0.0000)]\n"
     ]
    },
    {
     "data": {
      "text/plain": [
       "[None, None, None]"
      ]
     },
     "execution_count": 66,
     "metadata": {},
     "output_type": "execute_result"
    }
   ],
   "source": [
    "print('Network before update:')\n",
    "[print('Layer', i, '\\n', NN[i]) for i in range(len(NN))] \n",
    "\n",
    "def parameters(network):\n",
    "  params = []\n",
    "  for layer in range(len(network)):\n",
    "    params += network[layer].parameters()\n",
    "  return params\n",
    "\n",
    "def update_parameters(params, learning_rate=0.01):\n",
    "  for p in params:\n",
    "    p.v -= learning_rate*p.grad\n",
    "\n",
    "def zero_gradients(params):\n",
    "  for p in params:\n",
    "    p.grad = 0.0\n",
    "\n",
    "update_parameters(parameters(NN))\n",
    "\n",
    "print('\\nNetwork after update:')\n",
    "[print('Layer', i, '\\n', NN[i]) for i in range(len(NN))] \n",
    "\n",
    "zero_gradients(parameters(NN))\n",
    "\n",
    "print('\\nNetwork after zeroing gradients:')\n",
    "[print('Layer', i, '\\n', NN[i]) for i in range(len(NN))] "
   ]
  },
  {
   "cell_type": "code",
   "execution_count": 67,
   "metadata": {
    "id": "woWYpdw6FtIO"
   },
   "outputs": [],
   "source": [
    "# Initialize an arbitrary neural network\n",
    "NN = [\n",
    "    DenseLayer(1, 8, lambda x: x.relu()),\n",
    "    DenseLayer(8, 1, lambda x: x.identity())\n",
    "]\n",
    "\n",
    "# Recommended hyper-parameters for 3-D: \n",
    "#NN = [\n",
    "#    DenseLayer(3, 16, lambda x: x.relu()),\n",
    "#    DenseLayer(16, 1, lambda x: x.identity())\n",
    "#]\n",
    "\n",
    "\n",
    "### Notice that, when we switch from tanh to relu activation, we decrease the learning rate. This is due the stability of the gradients \n",
    "## of the activation functions."
   ]
  },
  {
   "cell_type": "code",
   "execution_count": 68,
   "metadata": {
    "id": "mdqaqYBVFtIR"
   },
   "outputs": [],
   "source": [
    "# Initialize training hyperparameters\n",
    "EPOCHS = 200\n",
    "LEARN_R = 2e-3 "
   ]
  },
  {
   "cell_type": "code",
   "execution_count": 69,
   "metadata": {
    "colab": {
     "base_uri": "https://localhost:8080/"
    },
    "id": "5kfg76GMFtIW",
    "outputId": "e30cf68a-31f2-42b4-cc5e-860c297c0f04",
    "scrolled": true
   },
   "outputs": [
    {
     "name": "stdout",
     "output_type": "stream",
     "text": [
      "   0 ( 0.00%) Train loss: 110.528 \t Validation loss: 108.271\n",
      "  10 ( 5.00%) Train loss: 36.195 \t Validation loss: 25.009\n",
      "  20 (10.00%) Train loss: 14.503 \t Validation loss: 10.781\n",
      "  30 (15.00%) Train loss: 14.087 \t Validation loss: 10.483\n",
      "  40 (20.00%) Train loss: 13.778 \t Validation loss: 10.314\n",
      "  50 (25.00%) Train loss: 13.437 \t Validation loss: 10.086\n",
      "  60 (30.00%) Train loss: 12.977 \t Validation loss: 9.800\n",
      "  70 (35.00%) Train loss: 12.534 \t Validation loss: 9.509\n",
      "  80 (40.00%) Train loss: 12.295 \t Validation loss: 9.332\n",
      "  90 (45.00%) Train loss: 12.159 \t Validation loss: 9.257\n",
      " 100 (50.00%) Train loss: 12.042 \t Validation loss: 9.213\n",
      " 110 (55.00%) Train loss: 11.972 \t Validation loss: 9.199\n",
      " 120 (60.00%) Train loss: 11.936 \t Validation loss: 9.182\n",
      " 130 (65.00%) Train loss: 11.916 \t Validation loss: 9.160\n",
      " 140 (70.00%) Train loss: 11.905 \t Validation loss: 9.141\n",
      " 150 (75.00%) Train loss: 11.899 \t Validation loss: 9.122\n",
      " 160 (80.00%) Train loss: 11.896 \t Validation loss: 9.109\n",
      " 170 (85.00%) Train loss: 11.894 \t Validation loss: 9.097\n",
      " 180 (90.00%) Train loss: 11.893 \t Validation loss: 9.088\n",
      " 190 (95.00%) Train loss: 11.893 \t Validation loss: 9.081\n"
     ]
    }
   ],
   "source": [
    "train_loss = []\n",
    "val_loss = []\n",
    "\n",
    "for e in range(EPOCHS):\n",
    "     \n",
    "    # Forward pass and loss computation\n",
    "    Loss = squared_loss(y_train, forward(x_train, NN))\n",
    "\n",
    "    # Backward pass\n",
    "    Loss.backward()\n",
    "    \n",
    "    # gradient descent update\n",
    "    update_parameters(parameters(NN), LEARN_R)\n",
    "    zero_gradients(parameters(NN))\n",
    "    \n",
    "    # Training loss\n",
    "    train_loss.append(Loss.v)\n",
    "    \n",
    "    # Validation\n",
    "    Loss_validation = squared_loss(y_validation, forward(x_validation, NN))\n",
    "    val_loss.append(Loss_validation.v)\n",
    "    \n",
    "    if e%10==0:\n",
    "        print(\"{:4d}\".format(e),\n",
    "              \"({:5.2f}%)\".format(e/EPOCHS*100), \n",
    "              \"Train loss: {:4.3f} \\t Validation loss: {:4.3f}\".format(train_loss[-1], val_loss[-1]))\n",
    "        \n"
   ]
  },
  {
   "cell_type": "code",
   "execution_count": 70,
   "metadata": {
    "colab": {
     "base_uri": "https://localhost:8080/",
     "height": 265
    },
    "id": "VetyRWFwFtIY",
    "outputId": "344e490d-6d7d-455a-fa6f-88dd11eb957e"
   },
   "outputs": [
    {
     "data": {
      "image/png": "[encoded data removed]",
      "text/plain": [
       "<Figure size 640x480 with 1 Axes>"
      ]
     },
     "metadata": {},
     "output_type": "display_data"
    }
   ],
   "source": [
    "plt.plot(range(len(train_loss)), train_loss);\n",
    "plt.plot(range(len(val_loss)), val_loss);"
   ]
  },
  {
   "cell_type": "markdown",
   "metadata": {
    "id": "8OgmIrM9FtIb"
   },
   "source": [
    "# Testing\n",
    "\n",
    "We have kept the calculation of the test error separate in order to emphasize that you should not use the test set in optimization."
   ]
  },
  {
   "cell_type": "code",
   "execution_count": 71,
   "metadata": {
    "id": "HmNi7S-vFtIc"
   },
   "outputs": [],
   "source": [
    "output_test = forward(x_test, NN)"
   ]
  },
  {
   "cell_type": "code",
   "execution_count": 72,
   "metadata": {
    "colab": {
     "base_uri": "https://localhost:8080/",
     "height": 316
    },
    "id": "7mmJOTSEFtIf",
    "outputId": "e3264095-cefe-4aee-893d-bf152438e332"
   },
   "outputs": [
    {
     "name": "stdout",
     "output_type": "stream",
     "text": [
      "Test loss:  9.854\n"
     ]
    },
    {
     "data": {
      "image/png": "[encoded data removed]",
      "text/plain": [
       "<Figure size 640x480 with 1 Axes>"
      ]
     },
     "metadata": {},
     "output_type": "display_data"
    }
   ],
   "source": [
    "y_test_np = Var_to_nparray(y_test)\n",
    "plt.scatter(y_test_np, Var_to_nparray(output_test));\n",
    "plt.plot([np.min(y_test_np), np.max(y_test_np)], [np.min(y_test_np), np.max(y_test_np)], color='k');\n",
    "plt.xlabel(\"y\");\n",
    "plt.ylabel(\"$\\hat{y}$\");\n",
    "plt.title(\"Model prediction vs real in the test set, the close to the line the better\")\n",
    "plt.grid(True);\n",
    "plt.axis('equal');\n",
    "plt.tight_layout();\n",
    "\n",
    "Loss_test = squared_loss(y_test, forward(x_test, NN))\n",
    "\n",
    "print(\"Test loss:  {:4.3f}\".format(Loss_test.v))"
   ]
  },
  {
   "cell_type": "code",
   "execution_count": 73,
   "metadata": {
    "colab": {
     "base_uri": "https://localhost:8080/",
     "height": 279
    },
    "id": "ODi0WlmQFtIh",
    "outputId": "d1ab874f-0717-4987-87bf-1f0c7c8e7148"
   },
   "outputs": [
    {
     "data": {
      "image/png": "[encoded data removed]",
      "text/plain": [
       "<Figure size 640x480 with 1 Axes>"
      ]
     },
     "metadata": {},
     "output_type": "display_data"
    }
   ],
   "source": [
    "x_test_np = Var_to_nparray(x_test)\n",
    "x_train_np = Var_to_nparray(x_train)\n",
    "y_train_np = Var_to_nparray(y_train)\n",
    "if D1:\n",
    "    plt.scatter(x_train_np, y_train_np, label=\"train data\");\n",
    "    plt.scatter(x_test_np, Var_to_nparray(output_test), label=\"test prediction\");\n",
    "    plt.scatter(x_test_np, y_test_np, label=\"test data\");\n",
    "    plt.legend();\n",
    "    plt.xlabel(\"x\");\n",
    "    plt.ylabel(\"y\");\n",
    "else:\n",
    "    plt.scatter(x_train_np[:,1], y_train, label=\"train data\");\n",
    "    plt.scatter(x_test_np[:,1], Var_to_nparray(output_test), label=\"test data prediction\");\n",
    "    plt.scatter(x_test_np[:,1], y_test_np, label=\"test data\");\n",
    "    plt.legend();\n",
    "    plt.xlabel(\"x\");\n",
    "    plt.ylabel(\"y\");"
   ]
  },
  {
   "cell_type": "markdown",
   "metadata": {
    "id": "zTBAmjsAFtIk"
   },
   "source": [
    "## Exercise l) Show overfitting, underfitting and just right fitting\n",
    "\n",
    "Vary the architecture and other things to show clear signs of overfitting (=training loss significantly lower than test loss) and underfitting (=not fitting enoung to training data so that test performance is also hurt).\n",
    "\n",
    "See also if you can get a good compromise which leads to a low validation loss. \n",
    "\n",
    "For this problem do you see any big difference between validation and test loss? The answer here will probably be no. Discuss cases where it is important to keep the two separate.\n",
    "\n"
   ]
  },
  {
   "cell_type": "markdown",
   "metadata": {},
   "source": [
    "## Overfitting\n",
    "For overfitting, we will use a very complex model with:\n",
    "- 4 layers, each with 8 nodes.\n",
    "- A large number of training epochs.\n",
    "\n",
    "This setup makes the model too complex for the data, allowing it to overfit to the training set, capturing noise and irrelevant patterns, leading to poor generalization on the validation set.\n"
   ]
  },
  {
   "cell_type": "code",
   "execution_count": 76,
   "metadata": {
    "id": "tQZCn2dxFtIl"
   },
   "outputs": [
    {
     "name": "stdout",
     "output_type": "stream",
     "text": [
      "   0 ( 0.00%) Train loss: 105.002 \t Validation loss: 107.734\n",
      "  10 ( 2.00%) Train loss: 104.916 \t Validation loss: 107.672\n",
      "  20 ( 4.00%) Train loss: 104.831 \t Validation loss: 107.582\n",
      "  30 ( 6.00%) Train loss: 104.695 \t Validation loss: 107.440\n",
      "  40 ( 8.00%) Train loss: 104.396 \t Validation loss: 107.113\n",
      "  50 (10.00%) Train loss: 103.536 \t Validation loss: 106.137\n",
      "  60 (12.00%) Train loss: 99.561 \t Validation loss: 101.494\n",
      "  70 (14.00%) Train loss: 56.219 \t Validation loss: 48.861\n",
      "  80 (16.00%) Train loss: 138.750 \t Validation loss: 49.783\n",
      "  90 (18.00%) Train loss: 18.050 \t Validation loss: 15.344\n",
      " 100 (20.00%) Train loss: 17.419 \t Validation loss: 14.113\n",
      " 110 (22.00%) Train loss: 37.820 \t Validation loss: 22.705\n",
      " 120 (24.00%) Train loss: 28.792 \t Validation loss: 18.858\n",
      " 130 (26.00%) Train loss: 27.703 \t Validation loss: 18.521\n",
      " 140 (28.00%) Train loss: 26.697 \t Validation loss: 17.931\n",
      " 150 (30.00%) Train loss: 26.344 \t Validation loss: 17.578\n",
      " 160 (32.00%) Train loss: 25.833 \t Validation loss: 17.125\n",
      " 170 (34.00%) Train loss: 24.291 \t Validation loss: 16.369\n",
      " 180 (36.00%) Train loss: 24.198 \t Validation loss: 16.303\n",
      " 190 (38.00%) Train loss: 23.303 \t Validation loss: 15.754\n",
      " 200 (40.00%) Train loss: 22.586 \t Validation loss: 15.403\n",
      " 210 (42.00%) Train loss: 22.123 \t Validation loss: 15.046\n",
      " 220 (44.00%) Train loss: 20.292 \t Validation loss: 14.199\n",
      " 230 (46.00%) Train loss: 20.727 \t Validation loss: 14.463\n",
      " 240 (48.00%) Train loss: 19.989 \t Validation loss: 13.923\n",
      " 250 (50.00%) Train loss: 19.214 \t Validation loss: 13.194\n",
      " 260 (52.00%) Train loss: 17.852 \t Validation loss: 12.467\n",
      " 270 (54.00%) Train loss: 17.167 \t Validation loss: 12.077\n",
      " 280 (56.00%) Train loss: 16.167 \t Validation loss: 11.686\n",
      " 290 (58.00%) Train loss: 16.485 \t Validation loss: 12.229\n",
      " 300 (60.00%) Train loss: 16.504 \t Validation loss: 12.649\n",
      " 310 (62.00%) Train loss: 16.672 \t Validation loss: 13.063\n",
      " 320 (64.00%) Train loss: 16.412 \t Validation loss: 12.824\n",
      " 330 (66.00%) Train loss: 15.562 \t Validation loss: 12.072\n",
      " 340 (68.00%) Train loss: 14.639 \t Validation loss: 11.503\n",
      " 350 (70.00%) Train loss: 14.302 \t Validation loss: 11.259\n",
      " 360 (72.00%) Train loss: 13.515 \t Validation loss: 10.794\n",
      " 370 (74.00%) Train loss: 13.556 \t Validation loss: 10.851\n",
      " 380 (76.00%) Train loss: 12.890 \t Validation loss: 10.325\n",
      " 390 (78.00%) Train loss: 11.787 \t Validation loss: 9.496\n",
      " 400 (80.00%) Train loss: 11.472 \t Validation loss: 9.380\n",
      " 410 (82.00%) Train loss: 11.075 \t Validation loss: 8.999\n",
      " 420 (84.00%) Train loss: 10.717 \t Validation loss: 8.885\n",
      " 430 (86.00%) Train loss: 10.795 \t Validation loss: 8.885\n",
      " 440 (88.00%) Train loss: 10.719 \t Validation loss: 8.887\n",
      " 450 (90.00%) Train loss: 10.755 \t Validation loss: 8.963\n",
      " 460 (92.00%) Train loss: 10.568 \t Validation loss: 8.827\n",
      " 470 (94.00%) Train loss: 10.045 \t Validation loss: 8.358\n",
      " 480 (96.00%) Train loss: 9.615 \t Validation loss: 8.038\n",
      " 490 (98.00%) Train loss: 9.443 \t Validation loss: 8.058\n",
      "Test loss:  10.346\n"
     ]
    },
    {
     "data": {
      "image/png": "[encoded data removed]",
      "text/plain": [
       "<Figure size 640x480 with 1 Axes>"
      ]
     },
     "metadata": {},
     "output_type": "display_data"
    }
   ],
   "source": [
    "\n",
    "\n",
    "#For overfitting, we will use a very complex model with a lot of layers and nodes\n",
    "# Initialize an arbitrary neural network\n",
    "NN = [\n",
    "    DenseLayer(1, 8, lambda x: x.relu()),\n",
    "    DenseLayer(8, 8, lambda x: x.relu()),\n",
    "    DenseLayer(8, 8, lambda x: x.relu()),\n",
    "    DenseLayer(8, 1, lambda x: x.identity())\n",
    "]\n",
    "\n",
    "\n",
    "# Initialize training hyperparameters\n",
    "EPOCHS = 500\n",
    "LEARN_R = 2e-3 \n",
    "\n",
    "#training \n",
    "\n",
    "train_loss = []\n",
    "val_loss = []\n",
    "\n",
    "for e in range(EPOCHS):\n",
    "     \n",
    "    # Forward pass and loss computation\n",
    "    Loss = squared_loss(y_train, forward(x_train, NN))\n",
    "\n",
    "    # Backward pass\n",
    "    Loss.backward()\n",
    "    \n",
    "    # gradient descent update\n",
    "    update_parameters(parameters(NN), LEARN_R)\n",
    "    zero_gradients(parameters(NN))\n",
    "    \n",
    "    # Training loss\n",
    "    train_loss.append(Loss.v)\n",
    "    \n",
    "    # Validation\n",
    "    Loss_validation = squared_loss(y_validation, forward(x_validation, NN))\n",
    "    val_loss.append(Loss_validation.v)\n",
    "    \n",
    "    if e%10==0:\n",
    "        print(\"{:4d}\".format(e),\n",
    "              \"({:5.2f}%)\".format(e/EPOCHS*100), \n",
    "              \"Train loss: {:4.3f} \\t Validation loss: {:4.3f}\".format(train_loss[-1], val_loss[-1]))\n",
    "        \n",
    "# testing\n",
    "\n",
    "output_test = forward(x_test, NN)\n",
    "\n",
    "y_test_np = Var_to_nparray(y_test)\n",
    "plt.scatter(y_test_np, Var_to_nparray(output_test));\n",
    "plt.plot([np.min(y_test_np), np.max(y_test_np)], [np.min(y_test_np), np.max(y_test_np)], color='k');\n",
    "plt.xlabel(\"y\");\n",
    "plt.ylabel(\"$\\hat{y}$\");\n",
    "plt.title(\"Model prediction vs real in the test set, the close to the line the better\")\n",
    "plt.grid(True);\n",
    "plt.axis('equal');\n",
    "plt.tight_layout();\n",
    "\n",
    "Loss_test = squared_loss(y_test, forward(x_test, NN))\n",
    "\n",
    "print(\"Test loss:  {:4.3f}\".format(Loss_test.v))"
   ]
  },
  {
   "cell_type": "markdown",
   "metadata": {},
   "source": [
    "For the overfittet network the validation loss is around 8 and the test loss is 10.36. This is not a great difference in the two errors and in this instance the validation error is a good substitute for a test loss. "
   ]
  },
  {
   "cell_type": "code",
   "execution_count": 77,
   "metadata": {},
   "outputs": [
    {
     "data": {
      "image/png": "[encoded data removed]",
      "text/plain": [
       "<Figure size 640x480 with 1 Axes>"
      ]
     },
     "metadata": {},
     "output_type": "display_data"
    }
   ],
   "source": [
    "plt.plot(range(len(train_loss)), train_loss);\n",
    "plt.plot(range(len(val_loss)), val_loss);"
   ]
  },
  {
   "cell_type": "markdown",
   "metadata": {},
   "source": [
    "### Underfitting"
   ]
  },
  {
   "cell_type": "markdown",
   "metadata": {},
   "source": [
    "## Underfitting\n",
    "To demonstrate underfitting, we initialize a shallow network where:\n",
    "- The number of nodes is too low.\n",
    "- The network architecture is too simple (too few layers).\n",
    "- The number of training epochs is too small.\n",
    "\n",
    "This results in a model that is too simple to capture the underlying patterns in the data, leading to poor performance on both the training and validation sets.\n"
   ]
  },
  {
   "cell_type": "code",
   "execution_count": 108,
   "metadata": {},
   "outputs": [
    {
     "name": "stdout",
     "output_type": "stream",
     "text": [
      "   0 ( 0.00%) Train loss: 103.178 \t Validation loss: 102.459\n",
      "Test loss:  17.572\n"
     ]
    },
    {
     "data": {
      "image/png": "[encoded data removed]",
      "text/plain": [
       "<Figure size 640x480 with 1 Axes>"
      ]
     },
     "metadata": {},
     "output_type": "display_data"
    }
   ],
   "source": [
    "# Underfitting\n",
    "# Initialize an underfittet model by a shallow network where the number of nodes is too low, the network too shallow aand the epochs too low\n",
    "\n",
    "# Initialize an arbitrary neural network\n",
    "NN = [\n",
    "    DenseLayer(1, 4, lambda x: x.relu()),\n",
    "    DenseLayer(4, 1, lambda x: x.identity())\n",
    "]\n",
    "\n",
    "# Initialize training hyperparameters\n",
    "EPOCHS = 10\n",
    "LEARN_R = 2e-3\n",
    "\n",
    "#training \n",
    "\n",
    "train_loss = []\n",
    "val_loss = []\n",
    "\n",
    "for e in range(EPOCHS):\n",
    "     \n",
    "    # Forward pass and loss computation\n",
    "    Loss = squared_loss(y_train, forward(x_train, NN))\n",
    "\n",
    "    # Backward pass\n",
    "    Loss.backward()\n",
    "    \n",
    "    # gradient descent update\n",
    "    update_parameters(parameters(NN), LEARN_R)\n",
    "    zero_gradients(parameters(NN))\n",
    "    \n",
    "    # Training loss\n",
    "    train_loss.append(Loss.v)\n",
    "    \n",
    "    # Validation\n",
    "    Loss_validation = squared_loss(y_validation, forward(x_validation, NN))\n",
    "    val_loss.append(Loss_validation.v)\n",
    "    \n",
    "    if e%10==0:\n",
    "        print(\"{:4d}\".format(e),\n",
    "              \"({:5.2f}%)\".format(e/EPOCHS*100), \n",
    "              \"Train loss: {:4.3f} \\t Validation loss: {:4.3f}\".format(train_loss[-1], val_loss[-1]))\n",
    "        \n",
    "# testing\n",
    "\n",
    "output_test = forward(x_test, NN)\n",
    "\n",
    "y_test_np = Var_to_nparray(y_test)\n",
    "plt.scatter(y_test_np, Var_to_nparray(output_test));\n",
    "plt.plot([np.min(y_test_np), np.max(y_test_np)], [np.min(y_test_np), np.max(y_test_np)], color='k');\n",
    "plt.xlabel(\"y\");\n",
    "plt.ylabel(\"$\\hat{y}$\");\n",
    "plt.title(\"Model prediction vs real in the test set, the close to the line the better\")\n",
    "plt.grid(True);\n",
    "plt.axis('equal');\n",
    "plt.tight_layout();\n",
    "\n",
    "Loss_test = squared_loss(y_test, forward(x_test, NN))\n",
    "\n",
    "print(\"Test loss:  {:4.3f}\".format(Loss_test.v))"
   ]
  },
  {
   "cell_type": "markdown",
   "metadata": {},
   "source": [
    "In the underfitted network the validation loss is 102.459 and the test loss is 17.572. It is seen that there is large difference between the two which can be seen as the network having a lot of potential learning to do. "
   ]
  },
  {
   "cell_type": "code",
   "execution_count": 92,
   "metadata": {},
   "outputs": [
    {
     "data": {
      "image/png": "[encoded data removed]",
      "text/plain": [
       "<Figure size 640x480 with 1 Axes>"
      ]
     },
     "metadata": {},
     "output_type": "display_data"
    }
   ],
   "source": [
    "plt.plot(range(len(train_loss)), train_loss);\n",
    "plt.plot(range(len(val_loss)), val_loss);"
   ]
  },
  {
   "cell_type": "markdown",
   "metadata": {},
   "source": [
    "### Good fit\n",
    "Here I try to produce a good fit to the network by implementing a 3 layer deep neural network with 3 neurons in each layer, a intermediate amount of epochs and an intermediate learning rate. "
   ]
  },
  {
   "cell_type": "code",
   "execution_count": 109,
   "metadata": {},
   "outputs": [
    {
     "name": "stdout",
     "output_type": "stream",
     "text": [
      "   0 ( 0.00%) Train loss: 105.012 \t Validation loss: 107.761\n",
      "  10 ( 3.33%) Train loss: 104.986 \t Validation loss: 107.737\n",
      "  20 ( 6.67%) Train loss: 104.959 \t Validation loss: 107.708\n",
      "  30 (10.00%) Train loss: 104.923 \t Validation loss: 107.669\n",
      "  40 (13.33%) Train loss: 104.871 \t Validation loss: 107.602\n",
      "  50 (16.67%) Train loss: 104.783 \t Validation loss: 107.510\n",
      "  60 (20.00%) Train loss: 104.603 \t Validation loss: 107.292\n",
      "  70 (23.33%) Train loss: 104.206 \t Validation loss: 106.828\n",
      "  80 (26.67%) Train loss: 103.211 \t Validation loss: 105.613\n",
      "  90 (30.00%) Train loss: 99.949 \t Validation loss: 101.407\n",
      " 100 (33.33%) Train loss: 84.823 \t Validation loss: 81.035\n",
      " 110 (36.67%) Train loss: 39.520 \t Validation loss: 32.145\n",
      " 120 (40.00%) Train loss: 23.431 \t Validation loss: 19.120\n",
      " 130 (43.33%) Train loss: 20.497 \t Validation loss: 16.407\n",
      " 140 (46.67%) Train loss: 18.372 \t Validation loss: 14.329\n",
      " 150 (50.00%) Train loss: 15.788 \t Validation loss: 12.502\n",
      " 160 (53.33%) Train loss: 13.940 \t Validation loss: 11.113\n",
      " 170 (56.67%) Train loss: 13.088 \t Validation loss: 10.272\n",
      " 180 (60.00%) Train loss: 12.620 \t Validation loss: 9.864\n",
      " 190 (63.33%) Train loss: 12.378 \t Validation loss: 9.583\n",
      " 200 (66.67%) Train loss: 12.232 \t Validation loss: 9.411\n",
      " 210 (70.00%) Train loss: 12.156 \t Validation loss: 9.277\n",
      " 220 (73.33%) Train loss: 12.103 \t Validation loss: 9.209\n",
      " 230 (76.67%) Train loss: 12.069 \t Validation loss: 9.161\n",
      " 240 (80.00%) Train loss: 12.054 \t Validation loss: 9.094\n",
      " 250 (83.33%) Train loss: 12.048 \t Validation loss: 9.076\n",
      " 260 (86.67%) Train loss: 12.045 \t Validation loss: 9.056\n",
      " 270 (90.00%) Train loss: 12.043 \t Validation loss: 9.051\n",
      " 280 (93.33%) Train loss: 12.042 \t Validation loss: 9.048\n",
      " 290 (96.67%) Train loss: 12.040 \t Validation loss: 9.045\n",
      "Test loss:  9.333\n"
     ]
    },
    {
     "data": {
      "image/png": "[encoded data removed]",
      "text/plain": [
       "<Figure size 640x480 with 1 Axes>"
      ]
     },
     "metadata": {},
     "output_type": "display_data"
    }
   ],
   "source": [
    "# Initialize an arbitrary neural network\n",
    "NN = [\n",
    "    DenseLayer(1, 3, lambda x: x.relu()),\n",
    "    DenseLayer(3, 3, lambda x: x.relu()),\n",
    "    DenseLayer(3, 1, lambda x: x.identity())\n",
    "]\n",
    "\n",
    "# Initialize training hyperparameters\n",
    "EPOCHS = 300\n",
    "LEARN_R = 1e-3\n",
    "\n",
    "#training \n",
    "\n",
    "train_loss = []\n",
    "val_loss = []\n",
    "\n",
    "for e in range(EPOCHS):\n",
    "     \n",
    "    # Forward pass and loss computation\n",
    "    Loss = squared_loss(y_train, forward(x_train, NN))\n",
    "\n",
    "    # Backward pass\n",
    "    Loss.backward()\n",
    "    \n",
    "    # gradient descent update\n",
    "    update_parameters(parameters(NN), LEARN_R)\n",
    "    zero_gradients(parameters(NN))\n",
    "    \n",
    "    # Training loss\n",
    "    train_loss.append(Loss.v)\n",
    "    \n",
    "    # Validation\n",
    "    Loss_validation = squared_loss(y_validation, forward(x_validation, NN))\n",
    "    val_loss.append(Loss_validation.v)\n",
    "    \n",
    "    if e%10==0:\n",
    "        print(\"{:4d}\".format(e),\n",
    "              \"({:5.2f}%)\".format(e/EPOCHS*100), \n",
    "              \"Train loss: {:4.3f} \\t Validation loss: {:4.3f}\".format(train_loss[-1], val_loss[-1]))\n",
    "        \n",
    "# testing\n",
    "\n",
    "output_test = forward(x_test, NN)\n",
    "\n",
    "y_test_np = Var_to_nparray(y_test)\n",
    "plt.scatter(y_test_np, Var_to_nparray(output_test));\n",
    "plt.plot([np.min(y_test_np), np.max(y_test_np)], [np.min(y_test_np), np.max(y_test_np)], color='k');\n",
    "plt.xlabel(\"y\");\n",
    "plt.ylabel(\"$\\hat{y}$\");\n",
    "plt.title(\"Model prediction vs real in the test set, the close to the line the better\")\n",
    "plt.grid(True);\n",
    "plt.axis('equal');\n",
    "plt.tight_layout();\n",
    "\n",
    "Loss_test = squared_loss(y_test, forward(x_test, NN))\n",
    "\n",
    "print(\"Test loss:  {:4.3f}\".format(Loss_test.v))"
   ]
  },
  {
   "cell_type": "markdown",
   "metadata": {},
   "source": [
    "Here the test loss is 9.333 and the validation loss is 9.045. The closes differences between the two which indicates a good fit. "
   ]
  },
  {
   "cell_type": "code",
   "execution_count": 110,
   "metadata": {},
   "outputs": [
    {
     "data": {
      "image/png": "[encoded data removed]",
      "text/plain": [
       "<Figure size 640x480 with 1 Axes>"
      ]
     },
     "metadata": {},
     "output_type": "display_data"
    }
   ],
   "source": [
    "plt.plot(range(len(train_loss)), train_loss);\n",
    "plt.plot(range(len(val_loss)), val_loss);"
   ]
  },
  {
   "cell_type": "markdown",
   "metadata": {},
   "source": [
    "### Discussion on validation loss vs test loss\n",
    "\n",
    "**For this problem do you see any big difference between validation and test loss? The answer here will probably be no. Discuss cases where it is important to keep the two separate.**\n"
   ]
  },
  {
   "cell_type": "markdown",
   "metadata": {},
   "source": [
    "In this problem, I noticed different behaviors when comparing validation and test losses across various models:\n",
    "\n",
    "- **Underfitted Network**: For the underfitted network, the validation loss was **102.459**, while the test loss was **17.572**. This significant difference suggests that the model hasn’t effectively learned the underlying patterns, which is why the validation error is so high. The much lower test loss indicates that the model has potential for improvement but, at the moment, isn’t generalizing well to either the validation or test sets.\n",
    "\n",
    "- **Overfitted Network**: In the case of the overfitted network, the validation loss hovered around **8**, while the test loss came in at **10.36**. The gap between these two is small, meaning that the validation error gives a reasonable estimate of the test loss. This indicates that, while the model may be slightly overfitting to the training data, it still generalizes fairly well to unseen data.\n",
    "\n",
    "- **Well-Fitted Network**: For the network that I tried to optimize for a good fit, the test loss was **9.333**, and the validation loss was **9.045**. The difference between these two values is minimal, which shows that the model is generalizing well to new data. In this case, the validation loss is a close replacement for the test loss, indicating that the model is neither underfitting nor overfitting.\n",
    "\n"
   ]
  },
  {
   "cell_type": "markdown",
   "metadata": {},
   "source": [
    "### Why It’s Important to Keep Validation and Test Sets Separate:\n",
    "\n",
    "While the validation and test losses were close for both the well-fitted and overfitted networks, suggesting that the validation loss was a good approximation of the test loss, I think it's still important to keep the two sets separate in certain situations:\n",
    "\n",
    "1. **Model Selection and Hyperparameter Tuning**: During the training process, I use validation data to tune hyperparameters and choose the best model architecture. If I were to use the test set for this, there’s a risk of overfitting to the test data, which could give an overly optimistic sense of the model’s performance. So, I believe it's a good practice to reserve the test set for final evaluation.\n",
    "\n",
    "2. **Avoiding Overfitting to the Validation Set**: If the validation set is heavily used during tuning, the model might start overfitting to it. This reduces its effectiveness as a measure of generalization. By keeping the test set separate, I can ensure that the final evaluation remains unbiased and truly reflects the model’s ability to handle unseen data.\n",
    "\n",
    "3. **High-Stakes Applications**: In situations like medical diagnostics or financial forecasting, where accuracy is critical, I think it's especially important to evaluate the model on data that hasn’t been involved in any part of the training or validation process. This helps prevent overestimating the model’s real-world performance and ensures it can generalize well in new, unseen scenarios.\n",
    "\n",
    "### Conclusion:\n",
    "In this problem, I found that for both the well-fitted and overfitted networks, the differences between validation and test losses were small, which suggests that the validation loss can be a reliable indicator of generalization performance. However, with the underfitted network, the large gap between the two losses shows that the model still has a lot of learning to do. Overall, I think it’s important to keep validation and test sets separate, especially in critical applications, to ensure that model evaluations are as accurate and unbiased as possible. \n"
   ]
  },
  {
   "cell_type": "markdown",
   "metadata": {
    "id": "fYPZP-eTFtIo"
   },
   "source": [
    "# Next steps - classification\n",
    "\n",
    "It is straight forward to extend what we have done to classification. \n",
    "\n",
    "For numerical stability it is better to make softmax and cross-entropy as one function so we write the cross entropy loss as a function of the logits we talked about last week. \n",
    "\n",
    "Next week we will see how to perform classification in PyTorch."
   ]
  },
  {
   "cell_type": "markdown",
   "metadata": {
    "id": "qsVPul3QFtIo"
   },
   "source": [
    "## Exercise m) optional - Implement backpropagation for classification\n",
    "\n",
    "Should be possible with very few lines of code. :-)"
   ]
  },
  {
   "cell_type": "code",
   "execution_count": 92,
   "metadata": {
    "id": "oC8QrI2tFtIp"
   },
   "outputs": [],
   "source": [
    "# Just add code."
   ]
  },
  {
   "cell_type": "markdown",
   "metadata": {
    "id": "APqhJv3tta1O"
   },
   "source": [
    "## Exercise n) optional - Introduce a NeuralNetwork class\n",
    "\n",
    "The functions we applied on the neural network (parameters, update_parameters and zero_gradients) can more naturally be included as methods in a NeuralNetwork class. Make such a class and modify the code to use it. "
   ]
  },
  {
   "cell_type": "code",
   "execution_count": 93,
   "metadata": {
    "id": "Dqfnor1ouMLq"
   },
   "outputs": [],
   "source": [
    "# just add some code"
   ]
  }
 ],
 "metadata": {
  "anaconda-cloud": {},
  "colab": {
   "collapsed_sections": [
    "U4057_ljNvWB",
    "p_8n_SKnIW2F",
    "oLrGJytZFtGm",
    "jpIZPBpNI0pO",
    "_79HOAXrFtHK",
    "mqeyab9qFtGs",
    "-XyXBD37FtHk",
    "SrwSJ2UWFtHu",
    "zTBAmjsAFtIk",
    "qsVPul3QFtIo",
    "APqhJv3tta1O"
   ],
   "name": "2.1-EXE-FNN-AutoDif-Nanograd.ipynb",
   "provenance": []
  },
  "kernelspec": {
   "display_name": "Python 3",
   "language": "python",
   "name": "python3"
  },
  "language_info": {
   "codemirror_mode": {
    "name": "ipython",
    "version": 3
   },
   "file_extension": ".py",
   "mimetype": "text/x-python",
   "name": "python",
   "nbconvert_exporter": "python",
   "pygments_lexer": "ipython3",
   "version": "3.11.9"
  }
 },
 "nbformat": 4,
 "nbformat_minor": 1
}
